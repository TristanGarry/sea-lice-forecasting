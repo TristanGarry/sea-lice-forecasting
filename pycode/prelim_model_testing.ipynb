{
 "cells": [
  {
   "cell_type": "markdown",
   "metadata": {},
   "source": [
    "# Top-level imports"
   ]
  },
  {
   "cell_type": "code",
   "execution_count": 1,
   "metadata": {
    "scrolled": true
   },
   "outputs": [
    {
     "name": "stdout",
     "output_type": "stream",
     "text": [
      "The tensorboard module is not an IPython extension.\n"
     ]
    }
   ],
   "source": [
    "%load_ext autoreload\n",
    "%autoreload 2\n",
    "%load_ext tensorboard"
   ]
  },
  {
   "cell_type": "markdown",
   "metadata": {},
   "source": [
    "#### import packages - setup"
   ]
  },
  {
   "cell_type": "code",
   "execution_count": 2,
   "metadata": {},
   "outputs": [
    {
     "name": "stderr",
     "output_type": "stream",
     "text": [
      "/opt/anaconda3/envs/EEB498/lib/python3.6/site-packages/tensorflow/python/framework/dtypes.py:526: FutureWarning: Passing (type, 1) or '1type' as a synonym of type is deprecated; in a future version of numpy, it will be understood as (type, (1,)) / '(1,)type'.\n",
      "  _np_qint8 = np.dtype([(\"qint8\", np.int8, 1)])\n",
      "/opt/anaconda3/envs/EEB498/lib/python3.6/site-packages/tensorflow/python/framework/dtypes.py:527: FutureWarning: Passing (type, 1) or '1type' as a synonym of type is deprecated; in a future version of numpy, it will be understood as (type, (1,)) / '(1,)type'.\n",
      "  _np_quint8 = np.dtype([(\"quint8\", np.uint8, 1)])\n",
      "/opt/anaconda3/envs/EEB498/lib/python3.6/site-packages/tensorflow/python/framework/dtypes.py:528: FutureWarning: Passing (type, 1) or '1type' as a synonym of type is deprecated; in a future version of numpy, it will be understood as (type, (1,)) / '(1,)type'.\n",
      "  _np_qint16 = np.dtype([(\"qint16\", np.int16, 1)])\n",
      "/opt/anaconda3/envs/EEB498/lib/python3.6/site-packages/tensorflow/python/framework/dtypes.py:529: FutureWarning: Passing (type, 1) or '1type' as a synonym of type is deprecated; in a future version of numpy, it will be understood as (type, (1,)) / '(1,)type'.\n",
      "  _np_quint16 = np.dtype([(\"quint16\", np.uint16, 1)])\n",
      "/opt/anaconda3/envs/EEB498/lib/python3.6/site-packages/tensorflow/python/framework/dtypes.py:530: FutureWarning: Passing (type, 1) or '1type' as a synonym of type is deprecated; in a future version of numpy, it will be understood as (type, (1,)) / '(1,)type'.\n",
      "  _np_qint32 = np.dtype([(\"qint32\", np.int32, 1)])\n",
      "/opt/anaconda3/envs/EEB498/lib/python3.6/site-packages/tensorflow/python/framework/dtypes.py:535: FutureWarning: Passing (type, 1) or '1type' as a synonym of type is deprecated; in a future version of numpy, it will be understood as (type, (1,)) / '(1,)type'.\n",
      "  np_resource = np.dtype([(\"resource\", np.ubyte, 1)])\n"
     ]
    }
   ],
   "source": [
    "import os \n",
    "import pandas as pd\n",
    "import numpy as np\n",
    "import matplotlib.pyplot as plt\n",
    "import datetime\n",
    "from scipy import stats\n",
    "from sklearn import metrics\n",
    "import datetime\n",
    "import tensorflow as tf"
   ]
  },
  {
   "cell_type": "code",
   "execution_count": 3,
   "metadata": {},
   "outputs": [],
   "source": [
    "plt.style.use('fivethirtyeight')"
   ]
  },
  {
   "cell_type": "code",
   "execution_count": 4,
   "metadata": {},
   "outputs": [],
   "source": [
    "data_dir = '../data/'"
   ]
  },
  {
   "cell_type": "code",
   "execution_count": 5,
   "metadata": {},
   "outputs": [
    {
     "data": {
      "text/plain": [
       "['BroughtonSeaLice_fishData.csv',\n",
       " 'BroughtonSeaLice_fishInfo.csv',\n",
       " 'BroughtonSeaLice_siteData.csv',\n",
       " 'BroughtonSeaLice_siteInfo.csv',\n",
       " 'DFOSeaLice_Data.csv',\n",
       " 'DFOSeaLice_Info.csv',\n",
       " 'IndustrySeaLice_Data.csv',\n",
       " 'IndustrySeaLice_Info.csv',\n",
       " 'README.md']"
      ]
     },
     "execution_count": 5,
     "metadata": {},
     "output_type": "execute_result"
    }
   ],
   "source": [
    "data_files = os.listdir(data_dir)\n",
    "data_files.sort()\n",
    "data_files"
   ]
  },
  {
   "cell_type": "markdown",
   "metadata": {},
   "source": [
    "#### Wild data"
   ]
  },
  {
   "cell_type": "code",
   "execution_count": 6,
   "metadata": {},
   "outputs": [
    {
     "name": "stderr",
     "output_type": "stream",
     "text": [
      "/opt/anaconda3/envs/EEB498/lib/python3.6/site-packages/IPython/core/interactiveshell.py:3058: DtypeWarning: Columns (31,32) have mixed types. Specify dtype option on import or set low_memory=False.\n",
      "  interactivity=interactivity, compiler=compiler, result=result)\n"
     ]
    }
   ],
   "source": [
    "fish_data = pd.read_csv(f'{data_dir}BroughtonSeaLice_fishData.csv', encoding='ISO-8859-1')\n",
    "site_data = pd.read_csv(f'{data_dir}BroughtonSeaLice_siteData.csv', encoding='ISO-8859-1')"
   ]
  },
  {
   "cell_type": "code",
   "execution_count": 7,
   "metadata": {},
   "outputs": [],
   "source": [
    "fish_info = pd.read_csv(f'{data_dir}BroughtonSeaLice_fishInfo.csv', encoding='ISO-8859-1')\n",
    "site_info = pd.read_csv(f'{data_dir}BroughtonSeaLice_siteInfo.csv', encoding='ISO-8859-1')"
   ]
  },
  {
   "cell_type": "markdown",
   "metadata": {},
   "source": [
    "#### Farm data"
   ]
  },
  {
   "cell_type": "code",
   "execution_count": 8,
   "metadata": {},
   "outputs": [],
   "source": [
    "dfo_data = pd.read_csv(f'{data_dir}DFOSeaLice_Data.csv')\n",
    "dfo_info = pd.read_csv(f'{data_dir}DFOSeaLice_Info.csv')"
   ]
  },
  {
   "cell_type": "code",
   "execution_count": 9,
   "metadata": {},
   "outputs": [],
   "source": [
    "industry_data = pd.read_csv(f'{data_dir}IndustrySeaLice_Data.csv', encoding='ISO-8859-1', low_memory=False)\n",
    "industry_info = pd.read_csv(f'{data_dir}IndustrySeaLice_Info.csv', encoding='ISO-8859-1', low_memory=False)"
   ]
  },
  {
   "cell_type": "markdown",
   "metadata": {},
   "source": [
    "##### Data/Feature Engineering"
   ]
  },
  {
   "cell_type": "markdown",
   "metadata": {},
   "source": [
    "Possible input scenarios\n",
    "- 2001-2018: We have to trust that the model can work with the large amounts of NaN values in earlier years, both in wild data and no farmed data until 2011 \n",
    "- 2003-2018: 2003 is the first year we have data starting in March\n"
   ]
  },
  {
   "cell_type": "markdown",
   "metadata": {},
   "source": [
    "## Setting overall constants"
   ]
  },
  {
   "cell_type": "markdown",
   "metadata": {},
   "source": [
    "Things to set here \n",
    "- Years to analyse\n",
    "- Within-season date range\n",
    "- Accepted ranges\n",
    "- Resampling dates"
   ]
  },
  {
   "cell_type": "code",
   "execution_count": 10,
   "metadata": {},
   "outputs": [],
   "source": [
    "analysis_years = list(range(2003, 2018))"
   ]
  },
  {
   "cell_type": "code",
   "execution_count": 11,
   "metadata": {},
   "outputs": [],
   "source": [
    "analysis_months = list(range(3, 7))"
   ]
  },
  {
   "cell_type": "code",
   "execution_count": 12,
   "metadata": {},
   "outputs": [],
   "source": [
    "dow_dict = {\n",
    "    1: 'MON',\n",
    "    2: 'TUE',\n",
    "    3: 'WED',\n",
    "    4: 'THU', \n",
    "    5: 'FRI', \n",
    "    6: 'SAT', \n",
    "    7: 'SUN'\n",
    "}\n",
    "\n",
    "def get_dow(dt_obj):\n",
    "    dow_text = dt_obj.isoweekday()\n",
    "    return(dow_dict[dow_text])"
   ]
  },
  {
   "cell_type": "code",
   "execution_count": 13,
   "metadata": {},
   "outputs": [],
   "source": [
    "wild_locations = site_data['location'].unique()"
   ]
  },
  {
   "cell_type": "markdown",
   "metadata": {},
   "source": [
    "## Setting up response"
   ]
  },
  {
   "cell_type": "markdown",
   "metadata": {},
   "source": [
    "### Unified adult count\n",
    "This is one possible response"
   ]
  },
  {
   "cell_type": "code",
   "execution_count": 14,
   "metadata": {},
   "outputs": [],
   "source": [
    "adult = fish_data[['Lep_PAmale', 'Lep_PAfemale', \n",
    "                   'Lep_male', 'Lep_gravid',\n",
    "                   'Lep_nongravid', 'unid_PA',\n",
    "                   'unid_adult']].sum(axis=1)"
   ]
  },
  {
   "cell_type": "code",
   "execution_count": 15,
   "metadata": {},
   "outputs": [],
   "source": [
    "fish_data_date = pd.to_datetime(fish_data[['year', 'day', 'month']])"
   ]
  },
  {
   "cell_type": "code",
   "execution_count": 16,
   "metadata": {},
   "outputs": [],
   "source": [
    "response = pd.DataFrame({'count':adult.values, \n",
    "                         'location':fish_data['location'].values,\n",
    "                         'datetime': fish_data_date})"
   ]
  },
  {
   "cell_type": "code",
   "execution_count": 17,
   "metadata": {},
   "outputs": [],
   "source": [
    "response_glacier = response[response['location'] == 'Glacier']"
   ]
  },
  {
   "cell_type": "code",
   "execution_count": null,
   "metadata": {},
   "outputs": [],
   "source": []
  },
  {
   "cell_type": "code",
   "execution_count": 18,
   "metadata": {},
   "outputs": [
    {
     "name": "stderr",
     "output_type": "stream",
     "text": [
      "/opt/anaconda3/envs/EEB498/lib/python3.6/site-packages/pandas/core/indexing.py:205: SettingWithCopyWarning: \n",
      "A value is trying to be set on a copy of a slice from a DataFrame\n",
      "\n",
      "See the caveats in the documentation: http://pandas.pydata.org/pandas-docs/stable/user_guide/indexing.html#returning-a-view-versus-a-copy\n",
      "  self._setitem_with_indexer(indexer, value)\n",
      "/opt/anaconda3/envs/EEB498/lib/python3.6/site-packages/pandas/core/indexing.py:494: SettingWithCopyWarning: \n",
      "A value is trying to be set on a copy of a slice from a DataFrame.\n",
      "Try using .loc[row_indexer,col_indexer] = value instead\n",
      "\n",
      "See the caveats in the documentation: http://pandas.pydata.org/pandas-docs/stable/user_guide/indexing.html#returning-a-view-versus-a-copy\n",
      "  self.obj[item] = s\n",
      "/opt/anaconda3/envs/EEB498/lib/python3.6/site-packages/ipykernel_launcher.py:8: SettingWithCopyWarning: \n",
      "A value is trying to be set on a copy of a slice from a DataFrame\n",
      "\n",
      "See the caveats in the documentation: http://pandas.pydata.org/pandas-docs/stable/user_guide/indexing.html#returning-a-view-versus-a-copy\n",
      "  \n"
     ]
    }
   ],
   "source": [
    "year_df_list = []\n",
    "for year in analysis_years:\n",
    "    subset = response_glacier[response_glacier['datetime'].dt.year == year]\n",
    "    subset.loc[0] = np.nan\n",
    "    subset.loc[0, 'datetime'] = datetime.datetime(year, 1, 1)\n",
    "    subset.loc[1] = np.nan\n",
    "    subset.loc[1, 'datetime'] = datetime.datetime(year, 12, 31)\n",
    "    subset.sort_values('datetime', inplace=True)\n",
    "    subset_resampled = subset.resample(f'W-{get_dow(datetime.datetime(year, 1, 1))}',\n",
    "                                       on='datetime', label='left').apply(np.nanmean).interpolate(methods='linear')\n",
    "    year_df_list.append(subset_resampled)\n",
    "Y_glacier = pd.concat(year_df_list)"
   ]
  },
  {
   "cell_type": "code",
   "execution_count": 19,
   "metadata": {},
   "outputs": [
    {
     "data": {
      "text/html": [
       "<div>\n",
       "<style scoped>\n",
       "    .dataframe tbody tr th:only-of-type {\n",
       "        vertical-align: middle;\n",
       "    }\n",
       "\n",
       "    .dataframe tbody tr th {\n",
       "        vertical-align: top;\n",
       "    }\n",
       "\n",
       "    .dataframe thead th {\n",
       "        text-align: right;\n",
       "    }\n",
       "</style>\n",
       "<table border=\"1\" class=\"dataframe\">\n",
       "  <thead>\n",
       "    <tr style=\"text-align: right;\">\n",
       "      <th></th>\n",
       "      <th>count</th>\n",
       "    </tr>\n",
       "    <tr>\n",
       "      <th>datetime</th>\n",
       "      <th></th>\n",
       "    </tr>\n",
       "  </thead>\n",
       "  <tbody>\n",
       "    <tr>\n",
       "      <th>2002-12-25</th>\n",
       "      <td>NaN</td>\n",
       "    </tr>\n",
       "    <tr>\n",
       "      <th>2003-01-01</th>\n",
       "      <td>NaN</td>\n",
       "    </tr>\n",
       "    <tr>\n",
       "      <th>2003-01-08</th>\n",
       "      <td>NaN</td>\n",
       "    </tr>\n",
       "    <tr>\n",
       "      <th>2003-01-15</th>\n",
       "      <td>NaN</td>\n",
       "    </tr>\n",
       "    <tr>\n",
       "      <th>2003-01-22</th>\n",
       "      <td>NaN</td>\n",
       "    </tr>\n",
       "    <tr>\n",
       "      <th>...</th>\n",
       "      <td>...</td>\n",
       "    </tr>\n",
       "    <tr>\n",
       "      <th>2017-11-26</th>\n",
       "      <td>0.0</td>\n",
       "    </tr>\n",
       "    <tr>\n",
       "      <th>2017-12-03</th>\n",
       "      <td>0.0</td>\n",
       "    </tr>\n",
       "    <tr>\n",
       "      <th>2017-12-10</th>\n",
       "      <td>0.0</td>\n",
       "    </tr>\n",
       "    <tr>\n",
       "      <th>2017-12-17</th>\n",
       "      <td>0.0</td>\n",
       "    </tr>\n",
       "    <tr>\n",
       "      <th>2017-12-24</th>\n",
       "      <td>0.0</td>\n",
       "    </tr>\n",
       "  </tbody>\n",
       "</table>\n",
       "<p>799 rows × 1 columns</p>\n",
       "</div>"
      ],
      "text/plain": [
       "            count\n",
       "datetime         \n",
       "2002-12-25    NaN\n",
       "2003-01-01    NaN\n",
       "2003-01-08    NaN\n",
       "2003-01-15    NaN\n",
       "2003-01-22    NaN\n",
       "...           ...\n",
       "2017-11-26    0.0\n",
       "2017-12-03    0.0\n",
       "2017-12-10    0.0\n",
       "2017-12-17    0.0\n",
       "2017-12-24    0.0\n",
       "\n",
       "[799 rows x 1 columns]"
      ]
     },
     "execution_count": 19,
     "metadata": {},
     "output_type": "execute_result"
    }
   ],
   "source": [
    "Y_glacier"
   ]
  },
  {
   "cell_type": "markdown",
   "metadata": {},
   "source": [
    "resample by week for average\n",
    "\n",
    "This is the code I was formerly using for the resampling, it's pretty inconsistent\n",
    "\n",
    "Y_glacier = response_glacier.resample('W', on='datetime', label='left').apply(np.nanmean)\n",
    "\n",
    "## Setting up inputs - wild data"
   ]
  },
  {
   "cell_type": "markdown",
   "metadata": {},
   "source": [
    "## Setting up inputs - wild data"
   ]
  },
  {
   "cell_type": "code",
   "execution_count": 20,
   "metadata": {},
   "outputs": [],
   "source": [
    "# non-motile lice\n",
    "juvenile = pd.DataFrame(fish_data[['Lep_cope', 'chalA',\n",
    "                      'chalB', 'Caligus_cope',\n",
    "                      'unid_cope', 'chal_unid']].sum(axis=1)).rename({0: 'count'}, axis=1)\n",
    "juvenile['datetime'] = fish_data_date\n",
    "juvenile['location'] = fish_data['location']"
   ]
  },
  {
   "cell_type": "code",
   "execution_count": 21,
   "metadata": {},
   "outputs": [],
   "source": [
    "year_juv_list = []\n",
    "for year in analysis_years:\n",
    "    subset = juvenile[juvenile['datetime'].dt.year == year]\n",
    "    for loc in wild_locations:\n",
    "        subset = subset.append({\n",
    "            'datetime': datetime.datetime(year, 1 , 1),\n",
    "            'location': loc,\n",
    "            'count': np.nan\n",
    "        }, ignore_index=True)\n",
    "        subset = subset.append({\n",
    "            'datetime': datetime.datetime(year, 12 , 31),\n",
    "            'location': loc,\n",
    "            'count': np.nan\n",
    "        }, ignore_index=True)\n",
    "    subset.sort_values('datetime', inplace=True)\n",
    "    subset_resample = subset.groupby('location').resample(f'W-{get_dow(datetime.datetime(year, 1, 1))}',\n",
    "                                                          on='datetime', label='left').apply(np.nanmean).interpolate(methods='linear')\n",
    "    year_juv_list.append(subset_resample)\n",
    "X_wild_juv = pd.concat(year_juv_list)"
   ]
  },
  {
   "cell_type": "markdown",
   "metadata": {},
   "source": [
    "This is the code I was previously using to resample the juvenile counts, now outdated\n",
    "\n",
    "X_wild_juv = juvenile.groupby('location').resample('W', on='datetime', label='left').apply(np.nanmean)"
   ]
  },
  {
   "cell_type": "markdown",
   "metadata": {},
   "source": [
    "Reducing dimensionality - averaging is probably okay"
   ]
  },
  {
   "cell_type": "code",
   "execution_count": null,
   "metadata": {},
   "outputs": [],
   "source": []
  },
  {
   "cell_type": "code",
   "execution_count": 22,
   "metadata": {},
   "outputs": [],
   "source": [
    "site_data['datetime'] = pd.to_datetime(site_data[['year', 'month', 'day']])"
   ]
  },
  {
   "cell_type": "code",
   "execution_count": 23,
   "metadata": {},
   "outputs": [],
   "source": [
    "year_temp_list = []\n",
    "for year in analysis_years:\n",
    "    subset = site_data.loc[(site_data['datetime'].dt.year == year), ['datetime', 'temp', 'location']]\n",
    "    for loc in wild_locations:\n",
    "        subset = subset.append({\n",
    "            'datetime': datetime.datetime(year, 1 , 1),\n",
    "            'location': loc,\n",
    "            'temp': np.nan\n",
    "        }, ignore_index=True)\n",
    "        subset = subset.append({\n",
    "            'datetime': datetime.datetime(year, 12 , 31),\n",
    "            'location': loc,\n",
    "            'temp': np.nan\n",
    "        }, ignore_index=True)\n",
    "    subset.sort_values('datetime', inplace=True)\n",
    "    subset.sort_values('datetime', inplace=True)\n",
    "    subset_resample = subset.groupby('location').resample(f'W-{get_dow(datetime.datetime(year, 1, 1))}',\n",
    "                                                          on='datetime', label='left').apply(np.nanmean).interpolate(methods='linear')\n",
    "    year_temp_list.append(subset_resample)\n",
    "X_wild_temp = pd.concat(year_temp_list)"
   ]
  },
  {
   "cell_type": "code",
   "execution_count": null,
   "metadata": {},
   "outputs": [],
   "source": []
  },
  {
   "cell_type": "code",
   "execution_count": null,
   "metadata": {},
   "outputs": [],
   "source": []
  },
  {
   "cell_type": "markdown",
   "metadata": {},
   "source": [
    "This is how I used to get these inputs, now outdated\n",
    "\n",
    "X_wild_temp = site_data[['datetime', 'temp', 'location']]\n",
    "X_wild_temp = X_wild_temp.groupby('location').resample('w', on='datetime', label='left').apply(np.nanmean)"
   ]
  },
  {
   "cell_type": "code",
   "execution_count": null,
   "metadata": {},
   "outputs": [],
   "source": []
  },
  {
   "cell_type": "code",
   "execution_count": 24,
   "metadata": {},
   "outputs": [],
   "source": [
    "year_sal_list = []\n",
    "for year in analysis_years:\n",
    "    subset = site_data.loc[(site_data['datetime'].dt.year == year), ['datetime', 'salt', 'location']]\n",
    "    for loc in wild_locations:\n",
    "        subset = subset.append({\n",
    "            'datetime': datetime.datetime(year, 1 , 1),\n",
    "            'location': loc,\n",
    "            'salt': np.nan\n",
    "        }, ignore_index=True)\n",
    "        subset = subset.append({\n",
    "            'datetime': datetime.datetime(year, 12 , 31),\n",
    "            'location': loc,\n",
    "            'salt': np.nan\n",
    "        }, ignore_index=True)\n",
    "    subset.sort_values('datetime', inplace=True)\n",
    "    subset_resample = subset.groupby('location').resample(f'W-{get_dow(datetime.datetime(year, 1, 1))}',\n",
    "                                                          on='datetime', label='left').apply(np.nanmean).interpolate(method='linear')\n",
    "    year_sal_list.append(subset_resample)\n",
    "X_wild_sal = pd.concat(year_sal_list)"
   ]
  },
  {
   "cell_type": "markdown",
   "metadata": {},
   "source": [
    "How I used to get these inputs, now outdated\n",
    "\n",
    "X_wild_sal = site_data[['datetime', 'salt', 'location']]\n",
    "X_wild_sal = X_wild_sal.groupby('location').resample('w', on='datetime', label='left').apply(np.nanmean)"
   ]
  },
  {
   "cell_type": "markdown",
   "metadata": {},
   "source": [
    "## Setting up inputs - farm data"
   ]
  },
  {
   "cell_type": "markdown",
   "metadata": {},
   "source": [
    "- There are of course concerns with using the industry counts as they *may* be of very low quality (I need to look much more extensively into this data)\n",
    "    - Should look into what kind of predictive differences including/excluding these has "
   ]
  },
  {
   "cell_type": "markdown",
   "metadata": {},
   "source": [
    "Inputs that we want\n",
    "\n",
    "44 - Sargeunts Pass\n",
    "\n",
    "41 - Doctor Islet\n",
    "\n",
    "45 - Humphrey Rock\n",
    "\n",
    "56 - Glacier Falls\n",
    "\n",
    "54 - Simoom Sound\n",
    "\n",
    "50 - Burdwood Islands\n",
    "\n",
    "53 - Sir Edmond Bay\n",
    "\n",
    "49 - Wicklow Point "
   ]
  },
  {
   "cell_type": "code",
   "execution_count": 25,
   "metadata": {
    "scrolled": false
   },
   "outputs": [
    {
     "data": {
      "text/plain": [
       "array(['Sir Edmund Bay'], dtype=object)"
      ]
     },
     "execution_count": 25,
     "metadata": {},
     "output_type": "execute_result"
    }
   ],
   "source": [
    "industry_data[industry_data['Site Common Name'].str.contains('Sir')]['Site Common Name'].unique()\n",
    "# Can't find Simoom Sound??"
   ]
  },
  {
   "cell_type": "code",
   "execution_count": null,
   "metadata": {},
   "outputs": [],
   "source": []
  },
  {
   "cell_type": "markdown",
   "metadata": {},
   "source": [
    "To reduce dimensionality:\n",
    "\n",
    "Sum farm data, implementing # of fish for some sort of area infection indicator"
   ]
  },
  {
   "cell_type": "code",
   "execution_count": null,
   "metadata": {},
   "outputs": [],
   "source": []
  },
  {
   "cell_type": "code",
   "execution_count": 26,
   "metadata": {},
   "outputs": [],
   "source": [
    "relevant_farms = ['Sargeaunt Pass',\n",
    "                  'Doctor Islets',\n",
    "                  'Humphrey Rock',\n",
    "                  'Simoom Sound*',\n",
    "                  'Burdwood',\n",
    "                  'Glacier Falls',\n",
    "                  'Sir Edmund Bay',\n",
    "                  'Wicklow Point'\n",
    "                 ]\n",
    "relevant_farms_iterable = ['Sargeaunt Pass',\n",
    "                           'Doctor Islets',\n",
    "                           'Humphrey Rock',\n",
    "                           'Burdwood',\n",
    "                           'Glacier Falls',\n",
    "                           'Sir Edmund Bay',\n",
    "                           'Wicklow Point'\n",
    "                          ]\n"
   ]
  },
  {
   "cell_type": "code",
   "execution_count": 27,
   "metadata": {
    "scrolled": true
   },
   "outputs": [
    {
     "data": {
      "text/plain": [
       "array(['Burdwood', 'Sir Edmund Bay', 'Doctor Islets', 'Glacier Falls',\n",
       "       'Wicklow Point', 'Sargeaunt Pass', 'Humphrey Rock',\n",
       "       'Wicklow Point - post treatment', 'Wicklow Point - pre treatment',\n",
       "       'Wicklow Point - post-treatment', 'Wicklow Point - pre-treatment'],\n",
       "      dtype=object)"
      ]
     },
     "execution_count": 27,
     "metadata": {},
     "output_type": "execute_result"
    }
   ],
   "source": [
    "industry_data[industry_data['Site Common Name'].str.contains('|'.join(relevant_farms))]['Site Common Name'].unique()"
   ]
  },
  {
   "cell_type": "markdown",
   "metadata": {},
   "source": [
    "From what I can tell - most of these farms don't actually have a treatment indicator\n",
    "\n",
    "Wondering if this is significant? \n",
    "\n",
    "I also can't find Simoom Sound, maybe it's here under a different name? "
   ]
  },
  {
   "cell_type": "code",
   "execution_count": 28,
   "metadata": {},
   "outputs": [],
   "source": [
    "comments_examples = industry_data[industry_data['Site Common Name'] == 'Burdwood']['Comments'].unique()"
   ]
  },
  {
   "cell_type": "markdown",
   "metadata": {},
   "source": [
    "This is how I was resampling the industry data before\n",
    "\n",
    "X_industry = relevant_farm_data[['datetime',\n",
    "                            'Site Common Name',\n",
    "                            'Average L. salmonis motiles per fish',\n",
    "                            'Average chalimus per fish']]\n",
    "X_industry = X_industry.groupby('Site Common Name').resample('W', on='datetime', label='left').mean()"
   ]
  },
  {
   "cell_type": "code",
   "execution_count": null,
   "metadata": {},
   "outputs": [],
   "source": []
  },
  {
   "cell_type": "markdown",
   "metadata": {},
   "source": [
    "The \"Recent failure to control sea louse...\" paper should have all the data I need until 2015"
   ]
  },
  {
   "cell_type": "code",
   "execution_count": null,
   "metadata": {},
   "outputs": [],
   "source": []
  },
  {
   "cell_type": "code",
   "execution_count": 29,
   "metadata": {
    "scrolled": true
   },
   "outputs": [
    {
     "name": "stderr",
     "output_type": "stream",
     "text": [
      "/opt/anaconda3/envs/EEB498/lib/python3.6/site-packages/ipykernel_launcher.py:3: SettingWithCopyWarning: \n",
      "A value is trying to be set on a copy of a slice from a DataFrame.\n",
      "Try using .loc[row_indexer,col_indexer] = value instead\n",
      "\n",
      "See the caveats in the documentation: http://pandas.pydata.org/pandas-docs/stable/user_guide/indexing.html#returning-a-view-versus-a-copy\n",
      "  This is separate from the ipykernel package so we can avoid doing imports until\n",
      "/opt/anaconda3/envs/EEB498/lib/python3.6/site-packages/ipykernel_launcher.py:18: SettingWithCopyWarning: \n",
      "A value is trying to be set on a copy of a slice from a DataFrame.\n",
      "Try using .loc[row_indexer,col_indexer] = value instead\n",
      "\n",
      "See the caveats in the documentation: http://pandas.pydata.org/pandas-docs/stable/user_guide/indexing.html#returning-a-view-versus-a-copy\n",
      "/opt/anaconda3/envs/EEB498/lib/python3.6/site-packages/ipykernel_launcher.py:19: SettingWithCopyWarning: \n",
      "A value is trying to be set on a copy of a slice from a DataFrame.\n",
      "Try using .loc[row_indexer,col_indexer] = value instead\n",
      "\n",
      "See the caveats in the documentation: http://pandas.pydata.org/pandas-docs/stable/user_guide/indexing.html#returning-a-view-versus-a-copy\n"
     ]
    }
   ],
   "source": [
    "relevant_farm_data = industry_data[industry_data['Site Common Name'].str.contains('|'.join(relevant_farms))]\n",
    "\n",
    "relevant_farm_data['Day'] = 1\n",
    "month_map = {\n",
    "    'January': 1,\n",
    "    'February': 2,\n",
    "    'March': 3,\n",
    "    'April': 4,\n",
    "    'May': 5,\n",
    "    'June': 6,\n",
    "    'July': 7,\n",
    "    'August': 8,\n",
    "    'September': 9,\n",
    "    'October': 10,\n",
    "    'November': 11,\n",
    "    'December': 12\n",
    "}\n",
    "relevant_farm_data['month'] = relevant_farm_data['Month'].map(month_map)\n",
    "relevant_farm_data['datetime'] = pd.to_datetime(relevant_farm_data[['Year', 'month', 'Day']])\n",
    "\n",
    "relevant_farm_data = relevant_farm_data[relevant_farm_data['datetime'].dt.year.isin(analysis_years)]\n",
    "\n",
    "year_industry_list = []\n",
    "for year in analysis_years:\n",
    "    subset = relevant_farm_data.loc[(relevant_farm_data['datetime'].dt.year == year), \n",
    "                                   ['datetime', 'Site Common Name', 'Average L. salmonis motiles per fish']]\n",
    "    \n",
    "    for i, farm in enumerate(relevant_farms_iterable):\n",
    "        subset = subset.append({\n",
    "            'datetime': datetime.datetime(year, 1 , 1),\n",
    "            'Site Common Name': farm,\n",
    "            'Average L. salmonis motiles per fish': np.nan\n",
    "        }, ignore_index=True)\n",
    "        subset = subset.append({\n",
    "            'datetime': datetime.datetime(year, 12 , 31),\n",
    "            'Site Common Name': farm,\n",
    "            'Average L. salmonis motiles per fish': np.nan\n",
    "        }, ignore_index=True)\n",
    "            \n",
    "    subset.sort_values('datetime', inplace=True)\n",
    "    subset_resample = subset.groupby('Site Common Name').resample(f'W-{get_dow(datetime.datetime(year, 1, 1))}',\n",
    "                                                                 on='datetime', label='left').apply(np.nanmean).interpolate(methods='linear')\n",
    "    year_industry_list.append(subset_resample)\n",
    "X_industry = pd.concat(year_industry_list)\n"
   ]
  },
  {
   "cell_type": "markdown",
   "metadata": {},
   "source": [
    "### Forming array for model input"
   ]
  },
  {
   "cell_type": "code",
   "execution_count": 53,
   "metadata": {},
   "outputs": [
    {
     "name": "stderr",
     "output_type": "stream",
     "text": [
      "/opt/anaconda3/envs/EEB498/lib/python3.6/site-packages/ipykernel_launcher.py:11: RuntimeWarning: Mean of empty slice\n",
      "  # This is added back by InteractiveShellApp.init_path()\n"
     ]
    }
   ],
   "source": [
    "arrays_to_stack = []\n",
    "\n",
    "for year in analysis_years:\n",
    "    juv_sub = np.nanmean(X_wild_juv[(X_wild_juv.index.get_level_values(1).year == year) & \n",
    "                         X_wild_juv.index.get_level_values(1).month.isin(analysis_months)].unstack().T.values, axis=1)\n",
    "    temp_sub = np.nanmean(X_wild_temp[(X_wild_temp.index.get_level_values(1).year == year) & \n",
    "                           X_wild_temp.index.get_level_values(1).month.isin(analysis_months)].unstack().T.values, axis=1)\n",
    "    sal_sub = np.nanmean(X_wild_sal[(X_wild_sal.index.get_level_values(1).year == year) & \n",
    "                         X_wild_sal.index.get_level_values(1).month.isin(analysis_months)].unstack().T.values, axis=1)\n",
    "    ind_sub = np.nanmean(X_industry[(X_industry.index.get_level_values(1).year == year) & \n",
    "                         X_industry.index.get_level_values(1).month.isin(analysis_months)].unstack().T.values, axis=1)\n",
    "    \n",
    "    year_array = np.column_stack((juv_sub, temp_sub, sal_sub, ind_sub))\n",
    "    arrays_to_stack.append(year_array)\n",
    "    \n",
    "X = np.stack(arrays_to_stack, axis=0)"
   ]
  },
  {
   "cell_type": "code",
   "execution_count": 54,
   "metadata": {},
   "outputs": [
    {
     "data": {
      "text/plain": [
       "(15, 17, 4)"
      ]
     },
     "execution_count": 54,
     "metadata": {},
     "output_type": "execute_result"
    }
   ],
   "source": [
    "X.shape"
   ]
  },
  {
   "cell_type": "code",
   "execution_count": 55,
   "metadata": {},
   "outputs": [],
   "source": [
    "arrays_to_stack = []\n",
    "\n",
    "for year in analysis_years:\n",
    "    year_Y = Y_glacier[(Y_glacier.index.year == year) & \n",
    "                       Y_glacier.index.month.isin(analysis_months)].values\n",
    "#     if year_Y.shape[0] == 21:\n",
    "#         year_Y = np.append(year_Y, np.nan)\n",
    "#         year_Y = year_Y.reshape(22, 1)\n",
    "    arrays_to_stack.append(year_Y)\n",
    "    \n",
    "Y = np.stack(arrays_to_stack, axis=0)"
   ]
  },
  {
   "cell_type": "code",
   "execution_count": 56,
   "metadata": {},
   "outputs": [
    {
     "data": {
      "text/plain": [
       "(15, 17, 1)"
      ]
     },
     "execution_count": 56,
     "metadata": {},
     "output_type": "execute_result"
    }
   ],
   "source": [
    "Y.shape"
   ]
  },
  {
   "cell_type": "markdown",
   "metadata": {},
   "source": [
    "Saving the data to be sent to R, this is to ensure that I'm using the same data for both analyses"
   ]
  },
  {
   "cell_type": "markdown",
   "metadata": {},
   "source": [
    "# Experimenting with models"
   ]
  },
  {
   "cell_type": "markdown",
   "metadata": {},
   "source": [
    "## Import packages and set up functions"
   ]
  },
  {
   "cell_type": "markdown",
   "metadata": {},
   "source": [
    "Write normalising functions here (let's go with MinMaxScaling for future implementations)"
   ]
  },
  {
   "cell_type": "markdown",
   "metadata": {},
   "source": [
    "## Setup Data"
   ]
  },
  {
   "cell_type": "markdown",
   "metadata": {},
   "source": [
    "### Normalise and fill NAs"
   ]
  },
  {
   "cell_type": "code",
   "execution_count": 58,
   "metadata": {},
   "outputs": [],
   "source": [
    "from sklearn.preprocessing import MinMaxScaler"
   ]
  },
  {
   "cell_type": "code",
   "execution_count": 66,
   "metadata": {},
   "outputs": [],
   "source": [
    "X_scale = np.copy(X)\n",
    "scalers_x = {}\n",
    "for i in range(X.shape[1]):\n",
    "    scalers_x[i] = MinMaxScaler(feature_range=(-1, 1))\n",
    "    X_scale[:, i, :] = scalers[i].fit_transform(X[:, i, :])\n",
    "X_scale = np.nan_to_num(X_scale)\n",
    "\n",
    "Y_scale = np.copy(Y)\n",
    "scalers_y = {}\n",
    "for i in range(Y.shape[1]):\n",
    "    scalers_y[i] = MinMaxScaler(feature_range=(-1, 1))\n",
    "    Y_scale[:, i, :] = scalers[i].fit_transform(Y[:, i, :]) \n",
    "Y_scale = np.nan_to_num(Y_scale)"
   ]
  },
  {
   "cell_type": "markdown",
   "metadata": {},
   "source": [
    "### Split into train and test"
   ]
  },
  {
   "cell_type": "code",
   "execution_count": 67,
   "metadata": {},
   "outputs": [],
   "source": [
    "train_X = X_scale[:-3]\n",
    "train_Y = Y_scale[:-3]\n",
    "\n",
    "test_X = X_scale[-3:]\n",
    "test_Y = Y_scale[-3:]"
   ]
  },
  {
   "cell_type": "code",
   "execution_count": null,
   "metadata": {},
   "outputs": [],
   "source": []
  },
  {
   "cell_type": "markdown",
   "metadata": {},
   "source": [
    "## Baseline"
   ]
  },
  {
   "cell_type": "markdown",
   "metadata": {},
   "source": [
    "### Overall Avg"
   ]
  },
  {
   "cell_type": "code",
   "execution_count": null,
   "metadata": {},
   "outputs": [],
   "source": []
  },
  {
   "cell_type": "code",
   "execution_count": null,
   "metadata": {},
   "outputs": [],
   "source": []
  },
  {
   "cell_type": "markdown",
   "metadata": {},
   "source": [
    "### Naive seasonal"
   ]
  },
  {
   "cell_type": "code",
   "execution_count": 68,
   "metadata": {},
   "outputs": [],
   "source": [
    "def naive_seasonal(year: int, reference_data: pd.DataFrame):\n",
    "    '''\n",
    "    Naive seasonal model\n",
    "    This model takes a year to be predicted in and returns the last known year's values\n",
    "    \n",
    "    year: Year to be predicted\n",
    "    reference_data: Pandas dataframe of the test/input Y data, must have a DatetimeIndex index\n",
    "    '''\n",
    "    \n",
    "    \n",
    "    pred_subset = reference_data[reference_data.index.year == year]\n",
    "    preds = pred_subset[pred_subset.index.month.isin(analysis_months)]\n",
    "    \n",
    "    return(np.array(preds))"
   ]
  },
  {
   "cell_type": "code",
   "execution_count": null,
   "metadata": {},
   "outputs": [],
   "source": []
  },
  {
   "cell_type": "markdown",
   "metadata": {},
   "source": [
    "### ARIMA"
   ]
  },
  {
   "cell_type": "code",
   "execution_count": null,
   "metadata": {},
   "outputs": [],
   "source": []
  },
  {
   "cell_type": "code",
   "execution_count": null,
   "metadata": {},
   "outputs": [],
   "source": []
  },
  {
   "cell_type": "markdown",
   "metadata": {},
   "source": [
    "## Non-parametric"
   ]
  },
  {
   "cell_type": "code",
   "execution_count": null,
   "metadata": {},
   "outputs": [],
   "source": []
  },
  {
   "cell_type": "markdown",
   "metadata": {},
   "source": [
    "Some high level notes\n",
    "- This analysis is very rough and is in no way final!!!\n",
    "- The normalising, feature engineering, etc. is probably the roughest part of all of this. I don't expect it to have an effect on model choice but by no means should the input/output data be taken verbatim as what I intend to use\n",
    "- Optimizers: some reading has shown that RMSprop is the suggested optimiser for RNNs, this also coincides with François Chollet's use of optimisers so for now I am going with this one for RNNs and ADAM as the default for all others. This requires further research!\n",
    "- Reference points: \n",
    "     - ARIMA\n",
    "     - Mean & SD"
   ]
  },
  {
   "cell_type": "code",
   "execution_count": null,
   "metadata": {},
   "outputs": [],
   "source": []
  },
  {
   "cell_type": "markdown",
   "metadata": {},
   "source": [
    "### Setting up tensorboard logs"
   ]
  },
  {
   "cell_type": "code",
   "execution_count": null,
   "metadata": {},
   "outputs": [],
   "source": []
  },
  {
   "cell_type": "markdown",
   "metadata": {},
   "source": [
    "### LSTM"
   ]
  },
  {
   "cell_type": "markdown",
   "metadata": {},
   "source": [
    "Notes on LSTM"
   ]
  },
  {
   "cell_type": "code",
   "execution_count": 69,
   "metadata": {},
   "outputs": [],
   "source": [
    "!rm -rf ./logs/ \n",
    "log_dir=\"logs/fit/\" + datetime.datetime.now().strftime(\"%Y%m%d-%H%M%S\")\n",
    "tensorboard_callback = tf.keras.callbacks.TensorBoard(log_dir=log_dir, histogram_freq=1)"
   ]
  },
  {
   "cell_type": "code",
   "execution_count": 74,
   "metadata": {},
   "outputs": [
    {
     "name": "stdout",
     "output_type": "stream",
     "text": [
      "Train on 9 samples, validate on 3 samples\n",
      "Epoch 1/500\n",
      "9/9 [==============================] - 2s 187ms/sample - loss: 0.7447 - acc: 0.1307 - val_loss: 0.6653 - val_acc: 0.2353\n",
      "Epoch 2/500\n",
      "9/9 [==============================] - 0s 3ms/sample - loss: 0.7176 - acc: 0.1307 - val_loss: 0.6309 - val_acc: 0.2353\n",
      "Epoch 3/500\n",
      "9/9 [==============================] - 0s 4ms/sample - loss: 0.6829 - acc: 0.1307 - val_loss: 0.5974 - val_acc: 0.2353\n",
      "Epoch 4/500\n",
      "9/9 [==============================] - 0s 4ms/sample - loss: 0.6637 - acc: 0.1307 - val_loss: 0.5620 - val_acc: 0.2353\n",
      "Epoch 5/500\n",
      "9/9 [==============================] - 0s 4ms/sample - loss: 0.6255 - acc: 0.1307 - val_loss: 0.5240 - val_acc: 0.2353\n",
      "Epoch 6/500\n",
      "9/9 [==============================] - 0s 4ms/sample - loss: 0.6029 - acc: 0.1307 - val_loss: 0.4836 - val_acc: 0.2353\n",
      "Epoch 7/500\n",
      "9/9 [==============================] - 0s 4ms/sample - loss: 0.5869 - acc: 0.1307 - val_loss: 0.4408 - val_acc: 0.2353\n",
      "Epoch 8/500\n",
      "9/9 [==============================] - 0s 4ms/sample - loss: 0.5635 - acc: 0.1307 - val_loss: 0.3959 - val_acc: 0.2353\n",
      "Epoch 9/500\n",
      "9/9 [==============================] - 0s 4ms/sample - loss: 0.5246 - acc: 0.1307 - val_loss: 0.3486 - val_acc: 0.2353\n",
      "Epoch 10/500\n",
      "9/9 [==============================] - 0s 4ms/sample - loss: 0.4964 - acc: 0.1307 - val_loss: 0.2992 - val_acc: 0.2353\n",
      "Epoch 11/500\n",
      "9/9 [==============================] - 0s 4ms/sample - loss: 0.4664 - acc: 0.1307 - val_loss: 0.2485 - val_acc: 0.2353\n",
      "Epoch 12/500\n",
      "9/9 [==============================] - 0s 4ms/sample - loss: 0.4185 - acc: 0.1307 - val_loss: 0.1979 - val_acc: 0.2353\n",
      "Epoch 13/500\n",
      "9/9 [==============================] - 0s 4ms/sample - loss: 0.4013 - acc: 0.1307 - val_loss: 0.1494 - val_acc: 0.2353\n",
      "Epoch 14/500\n",
      "9/9 [==============================] - 0s 4ms/sample - loss: 0.3725 - acc: 0.1307 - val_loss: 0.1081 - val_acc: 0.2353\n",
      "Epoch 15/500\n",
      "9/9 [==============================] - 0s 4ms/sample - loss: 0.3394 - acc: 0.1307 - val_loss: 0.0811 - val_acc: 0.2353\n",
      "Epoch 16/500\n",
      "9/9 [==============================] - 0s 4ms/sample - loss: 0.3413 - acc: 0.1307 - val_loss: 0.0785 - val_acc: 0.2353\n",
      "Epoch 17/500\n",
      "9/9 [==============================] - 0s 4ms/sample - loss: 0.3498 - acc: 0.1307 - val_loss: 0.1020 - val_acc: 0.2353\n",
      "Epoch 18/500\n",
      "9/9 [==============================] - 0s 4ms/sample - loss: 0.3276 - acc: 0.1307 - val_loss: 0.1278 - val_acc: 0.2353\n",
      "Epoch 19/500\n",
      "9/9 [==============================] - 0s 4ms/sample - loss: 0.3256 - acc: 0.1307 - val_loss: 0.1373 - val_acc: 0.2353\n",
      "Epoch 20/500\n",
      "9/9 [==============================] - 0s 4ms/sample - loss: 0.3604 - acc: 0.1307 - val_loss: 0.1228 - val_acc: 0.2353\n",
      "Epoch 21/500\n",
      "9/9 [==============================] - 0s 4ms/sample - loss: 0.3558 - acc: 0.1307 - val_loss: 0.0986 - val_acc: 0.2353\n",
      "Epoch 22/500\n",
      "9/9 [==============================] - 0s 4ms/sample - loss: 0.3185 - acc: 0.1307 - val_loss: 0.0798 - val_acc: 0.2353\n",
      "Epoch 23/500\n",
      "9/9 [==============================] - 0s 4ms/sample - loss: 0.3246 - acc: 0.1307 - val_loss: 0.0687 - val_acc: 0.2353\n",
      "Epoch 24/500\n",
      "9/9 [==============================] - 0s 4ms/sample - loss: 0.3098 - acc: 0.1307 - val_loss: 0.0658 - val_acc: 0.2353\n",
      "Epoch 25/500\n",
      "9/9 [==============================] - 0s 4ms/sample - loss: 0.2821 - acc: 0.1307 - val_loss: 0.0680 - val_acc: 0.2353\n",
      "Epoch 26/500\n",
      "9/9 [==============================] - 0s 4ms/sample - loss: 0.2837 - acc: 0.1307 - val_loss: 0.0724 - val_acc: 0.2353\n",
      "Epoch 27/500\n",
      "9/9 [==============================] - 0s 4ms/sample - loss: 0.2820 - acc: 0.1307 - val_loss: 0.0766 - val_acc: 0.2353\n",
      "Epoch 28/500\n",
      "9/9 [==============================] - 0s 4ms/sample - loss: 0.2747 - acc: 0.1307 - val_loss: 0.0795 - val_acc: 0.2353\n",
      "Epoch 29/500\n",
      "9/9 [==============================] - 0s 4ms/sample - loss: 0.2775 - acc: 0.1438 - val_loss: 0.0806 - val_acc: 0.2353\n",
      "Epoch 30/500\n",
      "9/9 [==============================] - 0s 4ms/sample - loss: 0.2780 - acc: 0.1438 - val_loss: 0.0797 - val_acc: 0.2353\n",
      "Epoch 31/500\n",
      "9/9 [==============================] - 0s 4ms/sample - loss: 0.2894 - acc: 0.1569 - val_loss: 0.0774 - val_acc: 0.2353\n",
      "Epoch 32/500\n",
      "9/9 [==============================] - 0s 4ms/sample - loss: 0.2763 - acc: 0.1699 - val_loss: 0.0743 - val_acc: 0.2353\n",
      "Epoch 33/500\n",
      "9/9 [==============================] - 0s 4ms/sample - loss: 0.2636 - acc: 0.1699 - val_loss: 0.0710 - val_acc: 0.2353\n",
      "Epoch 34/500\n",
      "9/9 [==============================] - 0s 3ms/sample - loss: 0.2786 - acc: 0.1699 - val_loss: 0.0681 - val_acc: 0.2353\n",
      "Epoch 35/500\n",
      "9/9 [==============================] - 0s 3ms/sample - loss: 0.2583 - acc: 0.1830 - val_loss: 0.0664 - val_acc: 0.2353\n",
      "Epoch 36/500\n",
      "9/9 [==============================] - 0s 3ms/sample - loss: 0.2497 - acc: 0.1634 - val_loss: 0.0663 - val_acc: 0.2353\n",
      "Epoch 37/500\n",
      "9/9 [==============================] - 0s 3ms/sample - loss: 0.2493 - acc: 0.1699 - val_loss: 0.0677 - val_acc: 0.2353\n",
      "Epoch 38/500\n",
      "9/9 [==============================] - 0s 3ms/sample - loss: 0.2524 - acc: 0.1765 - val_loss: 0.0700 - val_acc: 0.2353\n",
      "Epoch 39/500\n",
      "9/9 [==============================] - 0s 4ms/sample - loss: 0.2531 - acc: 0.1699 - val_loss: 0.0727 - val_acc: 0.2353\n",
      "Epoch 40/500\n",
      "9/9 [==============================] - 0s 3ms/sample - loss: 0.2404 - acc: 0.1634 - val_loss: 0.0753 - val_acc: 0.2353\n",
      "Epoch 41/500\n",
      "9/9 [==============================] - 0s 4ms/sample - loss: 0.2529 - acc: 0.1634 - val_loss: 0.0767 - val_acc: 0.2353\n",
      "Epoch 42/500\n",
      "9/9 [==============================] - 0s 3ms/sample - loss: 0.2341 - acc: 0.1569 - val_loss: 0.0772 - val_acc: 0.2353\n",
      "Epoch 43/500\n",
      "9/9 [==============================] - 0s 3ms/sample - loss: 0.2590 - acc: 0.1569 - val_loss: 0.0761 - val_acc: 0.2353\n",
      "Epoch 44/500\n",
      "9/9 [==============================] - 0s 3ms/sample - loss: 0.2421 - acc: 0.1634 - val_loss: 0.0744 - val_acc: 0.2353\n",
      "Epoch 45/500\n",
      "9/9 [==============================] - 0s 3ms/sample - loss: 0.2273 - acc: 0.1765 - val_loss: 0.0727 - val_acc: 0.2353\n",
      "Epoch 46/500\n",
      "9/9 [==============================] - 0s 3ms/sample - loss: 0.2422 - acc: 0.1569 - val_loss: 0.0715 - val_acc: 0.2353\n",
      "Epoch 47/500\n",
      "9/9 [==============================] - 0s 4ms/sample - loss: 0.2534 - acc: 0.1503 - val_loss: 0.0709 - val_acc: 0.2353\n",
      "Epoch 48/500\n",
      "9/9 [==============================] - 0s 3ms/sample - loss: 0.2369 - acc: 0.1699 - val_loss: 0.0708 - val_acc: 0.2353\n",
      "Epoch 49/500\n",
      "9/9 [==============================] - 0s 4ms/sample - loss: 0.2262 - acc: 0.1699 - val_loss: 0.0712 - val_acc: 0.2353\n",
      "Epoch 50/500\n",
      "9/9 [==============================] - 0s 4ms/sample - loss: 0.2261 - acc: 0.1765 - val_loss: 0.0717 - val_acc: 0.2353\n",
      "Epoch 51/500\n",
      "9/9 [==============================] - 0s 4ms/sample - loss: 0.2310 - acc: 0.1634 - val_loss: 0.0721 - val_acc: 0.2353\n",
      "Epoch 52/500\n",
      "9/9 [==============================] - 0s 4ms/sample - loss: 0.2255 - acc: 0.1634 - val_loss: 0.0723 - val_acc: 0.2353\n",
      "Epoch 53/500\n",
      "9/9 [==============================] - 0s 3ms/sample - loss: 0.2177 - acc: 0.1895 - val_loss: 0.0724 - val_acc: 0.2353\n",
      "Epoch 54/500\n",
      "9/9 [==============================] - 0s 4ms/sample - loss: 0.2280 - acc: 0.1830 - val_loss: 0.0725 - val_acc: 0.2353\n",
      "Epoch 55/500\n",
      "9/9 [==============================] - 0s 4ms/sample - loss: 0.2215 - acc: 0.1830 - val_loss: 0.0728 - val_acc: 0.2353\n",
      "Epoch 56/500\n",
      "9/9 [==============================] - 0s 3ms/sample - loss: 0.2220 - acc: 0.1830 - val_loss: 0.0736 - val_acc: 0.2353\n",
      "Epoch 57/500\n",
      "9/9 [==============================] - 0s 3ms/sample - loss: 0.2312 - acc: 0.1830 - val_loss: 0.0748 - val_acc: 0.2353\n",
      "Epoch 58/500\n",
      "9/9 [==============================] - 0s 3ms/sample - loss: 0.2184 - acc: 0.1830 - val_loss: 0.0763 - val_acc: 0.2353\n",
      "Epoch 59/500\n",
      "9/9 [==============================] - 0s 3ms/sample - loss: 0.2230 - acc: 0.1765 - val_loss: 0.0774 - val_acc: 0.2353\n",
      "Epoch 60/500\n",
      "9/9 [==============================] - 0s 3ms/sample - loss: 0.2127 - acc: 0.1634 - val_loss: 0.0785 - val_acc: 0.2353\n",
      "Epoch 61/500\n",
      "9/9 [==============================] - 0s 3ms/sample - loss: 0.2172 - acc: 0.1699 - val_loss: 0.0795 - val_acc: 0.2353\n",
      "Epoch 62/500\n",
      "9/9 [==============================] - 0s 4ms/sample - loss: 0.2105 - acc: 0.1765 - val_loss: 0.0801 - val_acc: 0.2353\n"
     ]
    },
    {
     "name": "stdout",
     "output_type": "stream",
     "text": [
      "Epoch 63/500\n",
      "9/9 [==============================] - 0s 3ms/sample - loss: 0.1929 - acc: 0.1765 - val_loss: 0.0808 - val_acc: 0.2353\n",
      "Epoch 64/500\n",
      "9/9 [==============================] - 0s 3ms/sample - loss: 0.2199 - acc: 0.1634 - val_loss: 0.0813 - val_acc: 0.2353\n",
      "Epoch 65/500\n",
      "9/9 [==============================] - 0s 4ms/sample - loss: 0.2174 - acc: 0.1830 - val_loss: 0.0817 - val_acc: 0.2353\n",
      "Epoch 66/500\n",
      "9/9 [==============================] - 0s 3ms/sample - loss: 0.2149 - acc: 0.1699 - val_loss: 0.0818 - val_acc: 0.2353\n",
      "Epoch 67/500\n",
      "9/9 [==============================] - 0s 4ms/sample - loss: 0.2207 - acc: 0.1569 - val_loss: 0.0816 - val_acc: 0.2353\n",
      "Epoch 68/500\n",
      "9/9 [==============================] - 0s 3ms/sample - loss: 0.2134 - acc: 0.1765 - val_loss: 0.0812 - val_acc: 0.2353\n",
      "Epoch 69/500\n",
      "9/9 [==============================] - 0s 4ms/sample - loss: 0.2139 - acc: 0.1699 - val_loss: 0.0811 - val_acc: 0.2353\n",
      "Epoch 70/500\n",
      "9/9 [==============================] - 0s 4ms/sample - loss: 0.2067 - acc: 0.1895 - val_loss: 0.0814 - val_acc: 0.2353\n",
      "Epoch 71/500\n",
      "9/9 [==============================] - 0s 3ms/sample - loss: 0.2041 - acc: 0.1830 - val_loss: 0.0818 - val_acc: 0.2353\n",
      "Epoch 72/500\n",
      "9/9 [==============================] - 0s 4ms/sample - loss: 0.2182 - acc: 0.1830 - val_loss: 0.0822 - val_acc: 0.2353\n",
      "Epoch 73/500\n",
      "9/9 [==============================] - 0s 3ms/sample - loss: 0.2052 - acc: 0.1830 - val_loss: 0.0832 - val_acc: 0.2353\n",
      "Epoch 74/500\n",
      "9/9 [==============================] - 0s 3ms/sample - loss: 0.2152 - acc: 0.1699 - val_loss: 0.0845 - val_acc: 0.2353\n",
      "Epoch 75/500\n",
      "9/9 [==============================] - 0s 4ms/sample - loss: 0.2156 - acc: 0.1895 - val_loss: 0.0860 - val_acc: 0.2353\n",
      "Epoch 76/500\n",
      "9/9 [==============================] - 0s 4ms/sample - loss: 0.1964 - acc: 0.1895 - val_loss: 0.0880 - val_acc: 0.2353\n",
      "Epoch 77/500\n",
      "9/9 [==============================] - 0s 3ms/sample - loss: 0.1850 - acc: 0.1830 - val_loss: 0.0906 - val_acc: 0.2353\n",
      "Epoch 78/500\n",
      "9/9 [==============================] - 0s 4ms/sample - loss: 0.1959 - acc: 0.1699 - val_loss: 0.0937 - val_acc: 0.2353\n",
      "Epoch 79/500\n",
      "9/9 [==============================] - 0s 3ms/sample - loss: 0.1907 - acc: 0.1895 - val_loss: 0.0971 - val_acc: 0.2353\n",
      "Epoch 80/500\n",
      "9/9 [==============================] - 0s 4ms/sample - loss: 0.2011 - acc: 0.1830 - val_loss: 0.0984 - val_acc: 0.2353\n",
      "Epoch 81/500\n",
      "9/9 [==============================] - 0s 3ms/sample - loss: 0.2020 - acc: 0.1765 - val_loss: 0.0985 - val_acc: 0.2353\n",
      "Epoch 82/500\n",
      "9/9 [==============================] - 0s 4ms/sample - loss: 0.2024 - acc: 0.1895 - val_loss: 0.0981 - val_acc: 0.2353\n",
      "Epoch 83/500\n",
      "9/9 [==============================] - 0s 4ms/sample - loss: 0.1818 - acc: 0.1830 - val_loss: 0.0974 - val_acc: 0.2353\n",
      "Epoch 84/500\n",
      "9/9 [==============================] - 0s 4ms/sample - loss: 0.1941 - acc: 0.1895 - val_loss: 0.0961 - val_acc: 0.2353\n",
      "Epoch 85/500\n",
      "9/9 [==============================] - 0s 3ms/sample - loss: 0.1961 - acc: 0.1830 - val_loss: 0.0956 - val_acc: 0.2353\n",
      "Epoch 86/500\n",
      "9/9 [==============================] - 0s 3ms/sample - loss: 0.1986 - acc: 0.1830 - val_loss: 0.0962 - val_acc: 0.2353\n",
      "Epoch 87/500\n",
      "9/9 [==============================] - 0s 3ms/sample - loss: 0.1930 - acc: 0.1895 - val_loss: 0.0982 - val_acc: 0.2353\n",
      "Epoch 88/500\n",
      "9/9 [==============================] - 0s 3ms/sample - loss: 0.1984 - acc: 0.1895 - val_loss: 0.1000 - val_acc: 0.2353\n",
      "Epoch 89/500\n",
      "9/9 [==============================] - 0s 3ms/sample - loss: 0.1946 - acc: 0.1895 - val_loss: 0.1025 - val_acc: 0.2353\n",
      "Epoch 90/500\n",
      "9/9 [==============================] - 0s 3ms/sample - loss: 0.1980 - acc: 0.1765 - val_loss: 0.1039 - val_acc: 0.2353\n",
      "Epoch 91/500\n",
      "9/9 [==============================] - 0s 3ms/sample - loss: 0.1840 - acc: 0.1961 - val_loss: 0.1048 - val_acc: 0.2353\n",
      "Epoch 92/500\n",
      "9/9 [==============================] - 0s 3ms/sample - loss: 0.1783 - acc: 0.1961 - val_loss: 0.1056 - val_acc: 0.2353\n",
      "Epoch 93/500\n",
      "9/9 [==============================] - 0s 3ms/sample - loss: 0.1828 - acc: 0.1895 - val_loss: 0.1058 - val_acc: 0.2353\n",
      "Epoch 94/500\n",
      "9/9 [==============================] - 0s 3ms/sample - loss: 0.1892 - acc: 0.1961 - val_loss: 0.1072 - val_acc: 0.2353\n",
      "Epoch 95/500\n",
      "9/9 [==============================] - 0s 3ms/sample - loss: 0.1915 - acc: 0.1895 - val_loss: 0.1084 - val_acc: 0.2353\n",
      "Epoch 96/500\n",
      "9/9 [==============================] - 0s 3ms/sample - loss: 0.1924 - acc: 0.1895 - val_loss: 0.1083 - val_acc: 0.2353\n",
      "Epoch 97/500\n",
      "9/9 [==============================] - 0s 3ms/sample - loss: 0.1949 - acc: 0.1830 - val_loss: 0.1083 - val_acc: 0.2353\n",
      "Epoch 98/500\n",
      "9/9 [==============================] - 0s 3ms/sample - loss: 0.1858 - acc: 0.1961 - val_loss: 0.1091 - val_acc: 0.2353\n",
      "Epoch 99/500\n",
      "9/9 [==============================] - 0s 4ms/sample - loss: 0.1902 - acc: 0.1895 - val_loss: 0.1096 - val_acc: 0.2353\n",
      "Epoch 100/500\n",
      "9/9 [==============================] - 0s 3ms/sample - loss: 0.1912 - acc: 0.1699 - val_loss: 0.1095 - val_acc: 0.2353\n",
      "Epoch 101/500\n",
      "9/9 [==============================] - 0s 3ms/sample - loss: 0.1958 - acc: 0.1895 - val_loss: 0.1105 - val_acc: 0.2353\n",
      "Epoch 102/500\n",
      "9/9 [==============================] - 0s 3ms/sample - loss: 0.1838 - acc: 0.1961 - val_loss: 0.1136 - val_acc: 0.2353\n",
      "Epoch 103/500\n",
      "9/9 [==============================] - 0s 3ms/sample - loss: 0.1903 - acc: 0.1895 - val_loss: 0.1162 - val_acc: 0.2353\n",
      "Epoch 104/500\n",
      "9/9 [==============================] - 0s 3ms/sample - loss: 0.1816 - acc: 0.1895 - val_loss: 0.1205 - val_acc: 0.2353\n",
      "Epoch 105/500\n",
      "9/9 [==============================] - 0s 3ms/sample - loss: 0.1747 - acc: 0.1961 - val_loss: 0.1252 - val_acc: 0.2353\n",
      "Epoch 106/500\n",
      "9/9 [==============================] - 0s 4ms/sample - loss: 0.1875 - acc: 0.1895 - val_loss: 0.1261 - val_acc: 0.2353\n",
      "Epoch 107/500\n",
      "9/9 [==============================] - 0s 3ms/sample - loss: 0.1930 - acc: 0.1830 - val_loss: 0.1237 - val_acc: 0.2353\n",
      "Epoch 108/500\n",
      "9/9 [==============================] - 0s 4ms/sample - loss: 0.1852 - acc: 0.1895 - val_loss: 0.1220 - val_acc: 0.2353\n",
      "Epoch 109/500\n",
      "9/9 [==============================] - 0s 3ms/sample - loss: 0.1875 - acc: 0.1895 - val_loss: 0.1182 - val_acc: 0.2353\n",
      "Epoch 110/500\n",
      "9/9 [==============================] - 0s 4ms/sample - loss: 0.1833 - acc: 0.1895 - val_loss: 0.1139 - val_acc: 0.2353\n",
      "Epoch 111/500\n",
      "9/9 [==============================] - 0s 3ms/sample - loss: 0.1915 - acc: 0.1699 - val_loss: 0.1112 - val_acc: 0.2353\n",
      "Epoch 112/500\n",
      "9/9 [==============================] - 0s 3ms/sample - loss: 0.1930 - acc: 0.1830 - val_loss: 0.1117 - val_acc: 0.2353\n",
      "Epoch 113/500\n",
      "9/9 [==============================] - 0s 3ms/sample - loss: 0.1853 - acc: 0.1830 - val_loss: 0.1133 - val_acc: 0.2353\n",
      "Epoch 114/500\n",
      "9/9 [==============================] - 0s 4ms/sample - loss: 0.1838 - acc: 0.1895 - val_loss: 0.1149 - val_acc: 0.2353\n",
      "Epoch 115/500\n",
      "9/9 [==============================] - 0s 3ms/sample - loss: 0.1916 - acc: 0.1895 - val_loss: 0.1164 - val_acc: 0.2353\n",
      "Epoch 116/500\n",
      "9/9 [==============================] - 0s 4ms/sample - loss: 0.1811 - acc: 0.1961 - val_loss: 0.1199 - val_acc: 0.2353\n",
      "Epoch 117/500\n",
      "9/9 [==============================] - 0s 3ms/sample - loss: 0.1734 - acc: 0.1830 - val_loss: 0.1253 - val_acc: 0.2353\n",
      "Epoch 118/500\n",
      "9/9 [==============================] - 0s 4ms/sample - loss: 0.1891 - acc: 0.1961 - val_loss: 0.1327 - val_acc: 0.2353\n",
      "Epoch 119/500\n",
      "9/9 [==============================] - 0s 3ms/sample - loss: 0.1849 - acc: 0.1895 - val_loss: 0.1384 - val_acc: 0.2353\n",
      "Epoch 120/500\n",
      "9/9 [==============================] - 0s 4ms/sample - loss: 0.1915 - acc: 0.1895 - val_loss: 0.1451 - val_acc: 0.2353\n",
      "Epoch 121/500\n",
      "9/9 [==============================] - 0s 3ms/sample - loss: 0.1848 - acc: 0.1961 - val_loss: 0.1476 - val_acc: 0.2353\n",
      "Epoch 122/500\n",
      "9/9 [==============================] - 0s 4ms/sample - loss: 0.1821 - acc: 0.1961 - val_loss: 0.1465 - val_acc: 0.2353\n",
      "Epoch 123/500\n",
      "9/9 [==============================] - 0s 3ms/sample - loss: 0.1773 - acc: 0.1895 - val_loss: 0.1394 - val_acc: 0.2353\n",
      "Epoch 124/500\n",
      "9/9 [==============================] - 0s 3ms/sample - loss: 0.1739 - acc: 0.1961 - val_loss: 0.1323 - val_acc: 0.2353\n"
     ]
    },
    {
     "name": "stdout",
     "output_type": "stream",
     "text": [
      "Epoch 125/500\n",
      "9/9 [==============================] - 0s 3ms/sample - loss: 0.1717 - acc: 0.1830 - val_loss: 0.1273 - val_acc: 0.2353\n",
      "Epoch 126/500\n",
      "9/9 [==============================] - 0s 3ms/sample - loss: 0.1776 - acc: 0.1699 - val_loss: 0.1247 - val_acc: 0.2353\n",
      "Epoch 127/500\n",
      "9/9 [==============================] - 0s 3ms/sample - loss: 0.1863 - acc: 0.1569 - val_loss: 0.1235 - val_acc: 0.2353\n",
      "Epoch 128/500\n",
      "9/9 [==============================] - 0s 3ms/sample - loss: 0.1876 - acc: 0.1765 - val_loss: 0.1232 - val_acc: 0.2353\n",
      "Epoch 129/500\n",
      "9/9 [==============================] - 0s 3ms/sample - loss: 0.1823 - acc: 0.1830 - val_loss: 0.1247 - val_acc: 0.2353\n",
      "Epoch 130/500\n",
      "9/9 [==============================] - 0s 3ms/sample - loss: 0.1742 - acc: 0.1961 - val_loss: 0.1279 - val_acc: 0.2353\n",
      "Epoch 131/500\n",
      "9/9 [==============================] - 0s 3ms/sample - loss: 0.1604 - acc: 0.1961 - val_loss: 0.1332 - val_acc: 0.2353\n",
      "Epoch 132/500\n",
      "9/9 [==============================] - 0s 3ms/sample - loss: 0.1822 - acc: 0.1895 - val_loss: 0.1418 - val_acc: 0.2353\n",
      "Epoch 133/500\n",
      "9/9 [==============================] - 0s 3ms/sample - loss: 0.1754 - acc: 0.1895 - val_loss: 0.1487 - val_acc: 0.2353\n",
      "Epoch 134/500\n",
      "9/9 [==============================] - 0s 3ms/sample - loss: 0.1904 - acc: 0.1895 - val_loss: 0.1533 - val_acc: 0.2353\n",
      "Epoch 135/500\n",
      "9/9 [==============================] - 0s 3ms/sample - loss: 0.1771 - acc: 0.1961 - val_loss: 0.1584 - val_acc: 0.2353\n",
      "Epoch 136/500\n",
      "9/9 [==============================] - 0s 3ms/sample - loss: 0.1700 - acc: 0.1961 - val_loss: 0.1600 - val_acc: 0.2353\n",
      "Epoch 137/500\n",
      "9/9 [==============================] - 0s 3ms/sample - loss: 0.1787 - acc: 0.1961 - val_loss: 0.1552 - val_acc: 0.2353\n",
      "Epoch 138/500\n",
      "9/9 [==============================] - 0s 4ms/sample - loss: 0.1871 - acc: 0.1830 - val_loss: 0.1438 - val_acc: 0.2353\n",
      "Epoch 139/500\n",
      "9/9 [==============================] - 0s 3ms/sample - loss: 0.1821 - acc: 0.1895 - val_loss: 0.1370 - val_acc: 0.2353\n",
      "Epoch 140/500\n",
      "9/9 [==============================] - 0s 4ms/sample - loss: 0.1773 - acc: 0.1961 - val_loss: 0.1335 - val_acc: 0.2353\n",
      "Epoch 141/500\n",
      "9/9 [==============================] - 0s 3ms/sample - loss: 0.1685 - acc: 0.1830 - val_loss: 0.1336 - val_acc: 0.2353\n",
      "Epoch 142/500\n",
      "9/9 [==============================] - 0s 4ms/sample - loss: 0.1884 - acc: 0.1895 - val_loss: 0.1356 - val_acc: 0.2353\n",
      "Epoch 143/500\n",
      "9/9 [==============================] - 0s 4ms/sample - loss: 0.1706 - acc: 0.1961 - val_loss: 0.1393 - val_acc: 0.2353\n",
      "Epoch 144/500\n",
      "9/9 [==============================] - 0s 4ms/sample - loss: 0.1767 - acc: 0.1895 - val_loss: 0.1445 - val_acc: 0.2353\n",
      "Epoch 145/500\n",
      "9/9 [==============================] - 0s 3ms/sample - loss: 0.1919 - acc: 0.1830 - val_loss: 0.1514 - val_acc: 0.2353\n",
      "Epoch 146/500\n",
      "9/9 [==============================] - 0s 4ms/sample - loss: 0.1715 - acc: 0.1765 - val_loss: 0.1590 - val_acc: 0.2353\n",
      "Epoch 147/500\n",
      "9/9 [==============================] - 0s 3ms/sample - loss: 0.1766 - acc: 0.1569 - val_loss: 0.1638 - val_acc: 0.2353\n",
      "Epoch 148/500\n",
      "9/9 [==============================] - 0s 3ms/sample - loss: 0.1860 - acc: 0.1895 - val_loss: 0.1637 - val_acc: 0.2353\n",
      "Epoch 149/500\n",
      "9/9 [==============================] - 0s 3ms/sample - loss: 0.1712 - acc: 0.1961 - val_loss: 0.1599 - val_acc: 0.2353\n",
      "Epoch 150/500\n",
      "9/9 [==============================] - 0s 4ms/sample - loss: 0.1696 - acc: 0.1895 - val_loss: 0.1550 - val_acc: 0.2353\n",
      "Epoch 151/500\n",
      "9/9 [==============================] - 0s 4ms/sample - loss: 0.1678 - acc: 0.1895 - val_loss: 0.1523 - val_acc: 0.2353\n",
      "Epoch 152/500\n",
      "9/9 [==============================] - 0s 4ms/sample - loss: 0.1734 - acc: 0.1830 - val_loss: 0.1488 - val_acc: 0.2353\n",
      "Epoch 153/500\n",
      "9/9 [==============================] - 0s 3ms/sample - loss: 0.1816 - acc: 0.1895 - val_loss: 0.1464 - val_acc: 0.2353\n",
      "Epoch 154/500\n",
      "9/9 [==============================] - 0s 4ms/sample - loss: 0.1702 - acc: 0.1961 - val_loss: 0.1427 - val_acc: 0.2353\n",
      "Epoch 155/500\n",
      "9/9 [==============================] - 0s 3ms/sample - loss: 0.1664 - acc: 0.1961 - val_loss: 0.1399 - val_acc: 0.2353\n",
      "Epoch 156/500\n",
      "9/9 [==============================] - 0s 3ms/sample - loss: 0.1760 - acc: 0.1961 - val_loss: 0.1391 - val_acc: 0.2353\n",
      "Epoch 157/500\n",
      "9/9 [==============================] - 0s 3ms/sample - loss: 0.1498 - acc: 0.1961 - val_loss: 0.1410 - val_acc: 0.2353\n",
      "Epoch 158/500\n",
      "9/9 [==============================] - 0s 3ms/sample - loss: 0.1743 - acc: 0.1765 - val_loss: 0.1439 - val_acc: 0.2353\n",
      "Epoch 159/500\n",
      "9/9 [==============================] - 0s 3ms/sample - loss: 0.1772 - acc: 0.1830 - val_loss: 0.1489 - val_acc: 0.2353\n",
      "Epoch 160/500\n",
      "9/9 [==============================] - 0s 3ms/sample - loss: 0.1741 - acc: 0.1895 - val_loss: 0.1500 - val_acc: 0.2353\n",
      "Epoch 161/500\n",
      "9/9 [==============================] - 0s 3ms/sample - loss: 0.1601 - acc: 0.1961 - val_loss: 0.1529 - val_acc: 0.2353\n",
      "Epoch 162/500\n",
      "9/9 [==============================] - 0s 3ms/sample - loss: 0.1657 - acc: 0.1830 - val_loss: 0.1555 - val_acc: 0.2353\n",
      "Epoch 163/500\n",
      "9/9 [==============================] - 0s 3ms/sample - loss: 0.1673 - acc: 0.1895 - val_loss: 0.1564 - val_acc: 0.2353\n",
      "Epoch 164/500\n",
      "9/9 [==============================] - 0s 3ms/sample - loss: 0.1805 - acc: 0.1895 - val_loss: 0.1550 - val_acc: 0.2353\n",
      "Epoch 165/500\n",
      "9/9 [==============================] - 0s 3ms/sample - loss: 0.1700 - acc: 0.1765 - val_loss: 0.1560 - val_acc: 0.2353\n",
      "Epoch 166/500\n",
      "9/9 [==============================] - 0s 3ms/sample - loss: 0.1663 - acc: 0.1961 - val_loss: 0.1564 - val_acc: 0.2353\n",
      "Epoch 167/500\n",
      "9/9 [==============================] - 0s 3ms/sample - loss: 0.1537 - acc: 0.1895 - val_loss: 0.1608 - val_acc: 0.2353\n",
      "Epoch 168/500\n",
      "9/9 [==============================] - 0s 3ms/sample - loss: 0.1596 - acc: 0.2026 - val_loss: 0.1643 - val_acc: 0.2353\n",
      "Epoch 169/500\n",
      "9/9 [==============================] - 0s 3ms/sample - loss: 0.1553 - acc: 0.2026 - val_loss: 0.1662 - val_acc: 0.2353\n",
      "Epoch 170/500\n",
      "9/9 [==============================] - 0s 3ms/sample - loss: 0.1759 - acc: 0.1830 - val_loss: 0.1702 - val_acc: 0.2353\n",
      "Epoch 171/500\n",
      "9/9 [==============================] - 0s 3ms/sample - loss: 0.1682 - acc: 0.1895 - val_loss: 0.1765 - val_acc: 0.2353\n",
      "Epoch 172/500\n",
      "9/9 [==============================] - 0s 3ms/sample - loss: 0.1683 - acc: 0.1961 - val_loss: 0.1822 - val_acc: 0.2353\n",
      "Epoch 173/500\n",
      "9/9 [==============================] - 0s 3ms/sample - loss: 0.1714 - acc: 0.1895 - val_loss: 0.1789 - val_acc: 0.2353\n",
      "Epoch 174/500\n",
      "9/9 [==============================] - 0s 3ms/sample - loss: 0.1676 - acc: 0.1895 - val_loss: 0.1750 - val_acc: 0.2353\n",
      "Epoch 175/500\n",
      "9/9 [==============================] - 0s 3ms/sample - loss: 0.1626 - acc: 0.1961 - val_loss: 0.1718 - val_acc: 0.2353\n",
      "Epoch 176/500\n",
      "9/9 [==============================] - 0s 4ms/sample - loss: 0.1659 - acc: 0.1961 - val_loss: 0.1710 - val_acc: 0.2353\n",
      "Epoch 177/500\n",
      "9/9 [==============================] - 0s 4ms/sample - loss: 0.1672 - acc: 0.1830 - val_loss: 0.1734 - val_acc: 0.2353\n",
      "Epoch 178/500\n",
      "9/9 [==============================] - 0s 4ms/sample - loss: 0.1592 - acc: 0.1895 - val_loss: 0.1767 - val_acc: 0.2353\n",
      "Epoch 179/500\n",
      "9/9 [==============================] - 0s 3ms/sample - loss: 0.1597 - acc: 0.1895 - val_loss: 0.1792 - val_acc: 0.2353\n",
      "Epoch 180/500\n",
      "9/9 [==============================] - 0s 3ms/sample - loss: 0.1497 - acc: 0.1895 - val_loss: 0.1823 - val_acc: 0.2353\n",
      "Epoch 181/500\n",
      "9/9 [==============================] - 0s 3ms/sample - loss: 0.1654 - acc: 0.1895 - val_loss: 0.1862 - val_acc: 0.2353\n",
      "Epoch 182/500\n",
      "9/9 [==============================] - 0s 4ms/sample - loss: 0.1563 - acc: 0.1895 - val_loss: 0.1843 - val_acc: 0.2353\n",
      "Epoch 183/500\n",
      "9/9 [==============================] - 0s 4ms/sample - loss: 0.1492 - acc: 0.1961 - val_loss: 0.1816 - val_acc: 0.2353\n",
      "Epoch 184/500\n",
      "9/9 [==============================] - 0s 4ms/sample - loss: 0.1658 - acc: 0.1830 - val_loss: 0.1810 - val_acc: 0.2353\n",
      "Epoch 185/500\n",
      "9/9 [==============================] - 0s 4ms/sample - loss: 0.1629 - acc: 0.2026 - val_loss: 0.1840 - val_acc: 0.2353\n",
      "Epoch 186/500\n",
      "9/9 [==============================] - 0s 3ms/sample - loss: 0.1712 - acc: 0.1765 - val_loss: 0.1890 - val_acc: 0.2353\n"
     ]
    },
    {
     "name": "stdout",
     "output_type": "stream",
     "text": [
      "Epoch 187/500\n",
      "9/9 [==============================] - 0s 4ms/sample - loss: 0.1588 - acc: 0.1895 - val_loss: 0.1951 - val_acc: 0.2353\n",
      "Epoch 188/500\n",
      "9/9 [==============================] - 0s 4ms/sample - loss: 0.1623 - acc: 0.1961 - val_loss: 0.2012 - val_acc: 0.2353\n",
      "Epoch 189/500\n",
      "9/9 [==============================] - 0s 3ms/sample - loss: 0.1743 - acc: 0.1830 - val_loss: 0.2042 - val_acc: 0.2353\n",
      "Epoch 190/500\n",
      "9/9 [==============================] - 0s 3ms/sample - loss: 0.1530 - acc: 0.1765 - val_loss: 0.2070 - val_acc: 0.2353\n",
      "Epoch 191/500\n",
      "9/9 [==============================] - 0s 4ms/sample - loss: 0.1470 - acc: 0.2026 - val_loss: 0.2083 - val_acc: 0.2353\n",
      "Epoch 192/500\n",
      "9/9 [==============================] - 0s 4ms/sample - loss: 0.1555 - acc: 0.1895 - val_loss: 0.2075 - val_acc: 0.2353\n",
      "Epoch 193/500\n",
      "9/9 [==============================] - 0s 3ms/sample - loss: 0.1554 - acc: 0.1895 - val_loss: 0.2039 - val_acc: 0.2353\n",
      "Epoch 194/500\n",
      "9/9 [==============================] - 0s 4ms/sample - loss: 0.1591 - acc: 0.1895 - val_loss: 0.2012 - val_acc: 0.2353\n",
      "Epoch 195/500\n",
      "9/9 [==============================] - 0s 4ms/sample - loss: 0.1572 - acc: 0.1895 - val_loss: 0.2008 - val_acc: 0.2353\n",
      "Epoch 196/500\n",
      "9/9 [==============================] - 0s 4ms/sample - loss: 0.1466 - acc: 0.1961 - val_loss: 0.2019 - val_acc: 0.2353\n",
      "Epoch 197/500\n",
      "9/9 [==============================] - 0s 3ms/sample - loss: 0.1499 - acc: 0.1961 - val_loss: 0.2025 - val_acc: 0.2353\n",
      "Epoch 198/500\n",
      "9/9 [==============================] - 0s 4ms/sample - loss: 0.1528 - acc: 0.1961 - val_loss: 0.1999 - val_acc: 0.2353\n",
      "Epoch 199/500\n",
      "9/9 [==============================] - 0s 4ms/sample - loss: 0.1471 - acc: 0.1895 - val_loss: 0.1975 - val_acc: 0.2353\n",
      "Epoch 200/500\n",
      "9/9 [==============================] - 0s 3ms/sample - loss: 0.1508 - acc: 0.1961 - val_loss: 0.1958 - val_acc: 0.2353\n",
      "Epoch 201/500\n",
      "9/9 [==============================] - 0s 4ms/sample - loss: 0.1552 - acc: 0.1830 - val_loss: 0.1948 - val_acc: 0.2353\n",
      "Epoch 202/500\n",
      "9/9 [==============================] - 0s 4ms/sample - loss: 0.1664 - acc: 0.1895 - val_loss: 0.1942 - val_acc: 0.2353\n",
      "Epoch 203/500\n",
      "9/9 [==============================] - 0s 3ms/sample - loss: 0.1429 - acc: 0.1895 - val_loss: 0.1945 - val_acc: 0.2353\n",
      "Epoch 204/500\n",
      "9/9 [==============================] - 0s 3ms/sample - loss: 0.1478 - acc: 0.1895 - val_loss: 0.1972 - val_acc: 0.2353\n",
      "Epoch 205/500\n",
      "9/9 [==============================] - 0s 4ms/sample - loss: 0.1507 - acc: 0.1961 - val_loss: 0.1992 - val_acc: 0.2353\n",
      "Epoch 206/500\n",
      "9/9 [==============================] - 0s 4ms/sample - loss: 0.1546 - acc: 0.1961 - val_loss: 0.2004 - val_acc: 0.2353\n",
      "Epoch 207/500\n",
      "9/9 [==============================] - 0s 3ms/sample - loss: 0.1504 - acc: 0.1830 - val_loss: 0.1999 - val_acc: 0.2353\n",
      "Epoch 208/500\n",
      "9/9 [==============================] - 0s 3ms/sample - loss: 0.1592 - acc: 0.1895 - val_loss: 0.1987 - val_acc: 0.2353\n",
      "Epoch 209/500\n",
      "9/9 [==============================] - 0s 3ms/sample - loss: 0.1317 - acc: 0.1830 - val_loss: 0.1993 - val_acc: 0.2353\n",
      "Epoch 210/500\n",
      "9/9 [==============================] - 0s 3ms/sample - loss: 0.1558 - acc: 0.1961 - val_loss: 0.1994 - val_acc: 0.2353\n",
      "Epoch 211/500\n",
      "9/9 [==============================] - 0s 3ms/sample - loss: 0.1514 - acc: 0.1895 - val_loss: 0.1991 - val_acc: 0.2353\n",
      "Epoch 212/500\n",
      "9/9 [==============================] - 0s 3ms/sample - loss: 0.1396 - acc: 0.1830 - val_loss: 0.1999 - val_acc: 0.2353\n",
      "Epoch 213/500\n",
      "9/9 [==============================] - 0s 3ms/sample - loss: 0.1487 - acc: 0.1961 - val_loss: 0.2004 - val_acc: 0.2353\n",
      "Epoch 214/500\n",
      "9/9 [==============================] - 0s 3ms/sample - loss: 0.1358 - acc: 0.1895 - val_loss: 0.1986 - val_acc: 0.2353\n",
      "Epoch 215/500\n",
      "9/9 [==============================] - 0s 3ms/sample - loss: 0.1381 - acc: 0.1961 - val_loss: 0.1983 - val_acc: 0.2353\n",
      "Epoch 216/500\n",
      "9/9 [==============================] - 0s 3ms/sample - loss: 0.1412 - acc: 0.1830 - val_loss: 0.1984 - val_acc: 0.2353\n",
      "Epoch 217/500\n",
      "9/9 [==============================] - 0s 4ms/sample - loss: 0.1326 - acc: 0.2026 - val_loss: 0.2014 - val_acc: 0.2353\n",
      "Epoch 218/500\n",
      "9/9 [==============================] - 0s 4ms/sample - loss: 0.1427 - acc: 0.1830 - val_loss: 0.2060 - val_acc: 0.2353\n",
      "Epoch 219/500\n",
      "9/9 [==============================] - 0s 3ms/sample - loss: 0.1334 - acc: 0.1961 - val_loss: 0.2102 - val_acc: 0.2353\n",
      "Epoch 220/500\n",
      "9/9 [==============================] - 0s 3ms/sample - loss: 0.1509 - acc: 0.1765 - val_loss: 0.2155 - val_acc: 0.2353\n",
      "Epoch 221/500\n",
      "9/9 [==============================] - 0s 3ms/sample - loss: 0.1312 - acc: 0.1961 - val_loss: 0.2190 - val_acc: 0.2353\n",
      "Epoch 222/500\n",
      "9/9 [==============================] - 0s 4ms/sample - loss: 0.1508 - acc: 0.1765 - val_loss: 0.2217 - val_acc: 0.2353\n",
      "Epoch 223/500\n",
      "9/9 [==============================] - 0s 4ms/sample - loss: 0.1342 - acc: 0.1895 - val_loss: 0.2222 - val_acc: 0.2353\n",
      "Epoch 224/500\n",
      "9/9 [==============================] - 0s 3ms/sample - loss: 0.1440 - acc: 0.1830 - val_loss: 0.2230 - val_acc: 0.2353\n",
      "Epoch 225/500\n",
      "9/9 [==============================] - 0s 3ms/sample - loss: 0.1318 - acc: 0.1961 - val_loss: 0.2244 - val_acc: 0.2353\n",
      "Epoch 226/500\n",
      "9/9 [==============================] - 0s 4ms/sample - loss: 0.1357 - acc: 0.1895 - val_loss: 0.2194 - val_acc: 0.2353\n",
      "Epoch 227/500\n",
      "9/9 [==============================] - 0s 4ms/sample - loss: 0.1413 - acc: 0.1830 - val_loss: 0.2087 - val_acc: 0.2353\n",
      "Epoch 228/500\n",
      "9/9 [==============================] - 0s 4ms/sample - loss: 0.1331 - acc: 0.1895 - val_loss: 0.1974 - val_acc: 0.2353\n",
      "Epoch 229/500\n",
      "9/9 [==============================] - 0s 4ms/sample - loss: 0.1419 - acc: 0.1830 - val_loss: 0.1892 - val_acc: 0.2353\n",
      "Epoch 230/500\n",
      "9/9 [==============================] - 0s 4ms/sample - loss: 0.1423 - acc: 0.1830 - val_loss: 0.1864 - val_acc: 0.2353\n",
      "Epoch 231/500\n",
      "9/9 [==============================] - 0s 3ms/sample - loss: 0.1342 - acc: 0.1961 - val_loss: 0.1866 - val_acc: 0.2353\n",
      "Epoch 232/500\n",
      "9/9 [==============================] - 0s 4ms/sample - loss: 0.1390 - acc: 0.1961 - val_loss: 0.1878 - val_acc: 0.2353\n",
      "Epoch 233/500\n",
      "9/9 [==============================] - 0s 3ms/sample - loss: 0.1346 - acc: 0.1961 - val_loss: 0.1913 - val_acc: 0.2353\n",
      "Epoch 234/500\n",
      "9/9 [==============================] - 0s 4ms/sample - loss: 0.1304 - acc: 0.1895 - val_loss: 0.1932 - val_acc: 0.2353\n",
      "Epoch 235/500\n",
      "9/9 [==============================] - 0s 3ms/sample - loss: 0.1382 - acc: 0.1961 - val_loss: 0.1934 - val_acc: 0.2353\n",
      "Epoch 236/500\n",
      "9/9 [==============================] - 0s 4ms/sample - loss: 0.1504 - acc: 0.1895 - val_loss: 0.1919 - val_acc: 0.2353\n",
      "Epoch 237/500\n",
      "9/9 [==============================] - 0s 4ms/sample - loss: 0.1321 - acc: 0.1895 - val_loss: 0.1910 - val_acc: 0.2353\n",
      "Epoch 238/500\n",
      "9/9 [==============================] - 0s 3ms/sample - loss: 0.1304 - acc: 0.1961 - val_loss: 0.1918 - val_acc: 0.2353\n",
      "Epoch 239/500\n",
      "9/9 [==============================] - 0s 3ms/sample - loss: 0.1284 - acc: 0.1961 - val_loss: 0.1899 - val_acc: 0.2353\n",
      "Epoch 240/500\n",
      "9/9 [==============================] - 0s 4ms/sample - loss: 0.1404 - acc: 0.1895 - val_loss: 0.1912 - val_acc: 0.2353\n",
      "Epoch 241/500\n",
      "9/9 [==============================] - 0s 4ms/sample - loss: 0.1308 - acc: 0.1961 - val_loss: 0.1903 - val_acc: 0.2353\n",
      "Epoch 242/500\n",
      "9/9 [==============================] - 0s 3ms/sample - loss: 0.1468 - acc: 0.1699 - val_loss: 0.1965 - val_acc: 0.2353\n",
      "Epoch 243/500\n",
      "9/9 [==============================] - 0s 4ms/sample - loss: 0.1136 - acc: 0.1895 - val_loss: 0.2038 - val_acc: 0.2353\n",
      "Epoch 244/500\n",
      "9/9 [==============================] - 0s 3ms/sample - loss: 0.1342 - acc: 0.1765 - val_loss: 0.2100 - val_acc: 0.2353\n",
      "Epoch 245/500\n",
      "9/9 [==============================] - 0s 4ms/sample - loss: 0.1318 - acc: 0.1895 - val_loss: 0.2113 - val_acc: 0.2353\n",
      "Epoch 246/500\n",
      "9/9 [==============================] - 0s 4ms/sample - loss: 0.1310 - acc: 0.1895 - val_loss: 0.2123 - val_acc: 0.2353\n",
      "Epoch 247/500\n",
      "9/9 [==============================] - 0s 4ms/sample - loss: 0.1301 - acc: 0.1830 - val_loss: 0.2084 - val_acc: 0.2353\n",
      "Epoch 248/500\n",
      "9/9 [==============================] - 0s 4ms/sample - loss: 0.1262 - acc: 0.2026 - val_loss: 0.2065 - val_acc: 0.2353\n"
     ]
    },
    {
     "name": "stdout",
     "output_type": "stream",
     "text": [
      "Epoch 249/500\n",
      "9/9 [==============================] - 0s 3ms/sample - loss: 0.1286 - acc: 0.1830 - val_loss: 0.2067 - val_acc: 0.2353\n",
      "Epoch 250/500\n",
      "9/9 [==============================] - 0s 4ms/sample - loss: 0.1370 - acc: 0.1895 - val_loss: 0.2042 - val_acc: 0.2353\n",
      "Epoch 251/500\n",
      "9/9 [==============================] - 0s 4ms/sample - loss: 0.1392 - acc: 0.1895 - val_loss: 0.2015 - val_acc: 0.2353\n",
      "Epoch 252/500\n",
      "9/9 [==============================] - 0s 4ms/sample - loss: 0.1237 - acc: 0.2026 - val_loss: 0.2044 - val_acc: 0.2353\n",
      "Epoch 253/500\n",
      "9/9 [==============================] - 0s 4ms/sample - loss: 0.1192 - acc: 0.2026 - val_loss: 0.2091 - val_acc: 0.2353\n",
      "Epoch 254/500\n",
      "9/9 [==============================] - 0s 4ms/sample - loss: 0.1260 - acc: 0.1961 - val_loss: 0.2044 - val_acc: 0.2353\n",
      "Epoch 255/500\n",
      "9/9 [==============================] - 0s 3ms/sample - loss: 0.1342 - acc: 0.1895 - val_loss: 0.1975 - val_acc: 0.2353\n",
      "Epoch 256/500\n",
      "9/9 [==============================] - 0s 4ms/sample - loss: 0.1352 - acc: 0.1830 - val_loss: 0.1954 - val_acc: 0.2353\n",
      "Epoch 257/500\n",
      "9/9 [==============================] - 0s 4ms/sample - loss: 0.1247 - acc: 0.1961 - val_loss: 0.1980 - val_acc: 0.2353\n",
      "Epoch 258/500\n",
      "9/9 [==============================] - 0s 3ms/sample - loss: 0.1355 - acc: 0.1830 - val_loss: 0.2037 - val_acc: 0.2353\n",
      "Epoch 259/500\n",
      "9/9 [==============================] - 0s 3ms/sample - loss: 0.1363 - acc: 0.1961 - val_loss: 0.2170 - val_acc: 0.2353\n",
      "Epoch 260/500\n",
      "9/9 [==============================] - 0s 4ms/sample - loss: 0.1178 - acc: 0.1961 - val_loss: 0.2333 - val_acc: 0.2353\n",
      "Epoch 261/500\n",
      "9/9 [==============================] - 0s 4ms/sample - loss: 0.1238 - acc: 0.1830 - val_loss: 0.2559 - val_acc: 0.2353\n",
      "Epoch 262/500\n",
      "9/9 [==============================] - 0s 3ms/sample - loss: 0.1264 - acc: 0.2026 - val_loss: 0.2697 - val_acc: 0.2353\n",
      "Epoch 263/500\n",
      "9/9 [==============================] - 0s 4ms/sample - loss: 0.1470 - acc: 0.1961 - val_loss: 0.2731 - val_acc: 0.2353\n",
      "Epoch 264/500\n",
      "9/9 [==============================] - 0s 4ms/sample - loss: 0.1178 - acc: 0.2026 - val_loss: 0.2695 - val_acc: 0.2353\n",
      "Epoch 265/500\n",
      "9/9 [==============================] - 0s 4ms/sample - loss: 0.1387 - acc: 0.2026 - val_loss: 0.2541 - val_acc: 0.2353\n",
      "Epoch 266/500\n",
      "9/9 [==============================] - 0s 3ms/sample - loss: 0.1284 - acc: 0.1895 - val_loss: 0.2436 - val_acc: 0.2353\n",
      "Epoch 267/500\n",
      "9/9 [==============================] - 0s 3ms/sample - loss: 0.1360 - acc: 0.1830 - val_loss: 0.2365 - val_acc: 0.2353\n",
      "Epoch 268/500\n",
      "9/9 [==============================] - 0s 3ms/sample - loss: 0.1493 - acc: 0.1895 - val_loss: 0.2264 - val_acc: 0.2353\n",
      "Epoch 269/500\n",
      "9/9 [==============================] - 0s 4ms/sample - loss: 0.1309 - acc: 0.1961 - val_loss: 0.2166 - val_acc: 0.2353\n",
      "Epoch 270/500\n",
      "9/9 [==============================] - 0s 4ms/sample - loss: 0.1463 - acc: 0.1961 - val_loss: 0.2151 - val_acc: 0.2353\n",
      "Epoch 271/500\n",
      "9/9 [==============================] - 0s 4ms/sample - loss: 0.1339 - acc: 0.1961 - val_loss: 0.2169 - val_acc: 0.2353\n",
      "Epoch 272/500\n",
      "9/9 [==============================] - 0s 3ms/sample - loss: 0.1159 - acc: 0.2026 - val_loss: 0.2119 - val_acc: 0.2353\n",
      "Epoch 273/500\n",
      "9/9 [==============================] - 0s 4ms/sample - loss: 0.1283 - acc: 0.1895 - val_loss: 0.2027 - val_acc: 0.2353\n",
      "Epoch 274/500\n",
      "9/9 [==============================] - 0s 3ms/sample - loss: 0.1181 - acc: 0.2092 - val_loss: 0.1913 - val_acc: 0.2353\n",
      "Epoch 275/500\n",
      "9/9 [==============================] - 0s 4ms/sample - loss: 0.1248 - acc: 0.1961 - val_loss: 0.1870 - val_acc: 0.2353\n",
      "Epoch 276/500\n",
      "9/9 [==============================] - 0s 3ms/sample - loss: 0.1220 - acc: 0.2026 - val_loss: 0.1847 - val_acc: 0.2353\n",
      "Epoch 277/500\n",
      "9/9 [==============================] - 0s 3ms/sample - loss: 0.1234 - acc: 0.1961 - val_loss: 0.1872 - val_acc: 0.2353\n",
      "Epoch 278/500\n",
      "9/9 [==============================] - 0s 4ms/sample - loss: 0.1234 - acc: 0.1895 - val_loss: 0.1888 - val_acc: 0.2353\n",
      "Epoch 279/500\n",
      "9/9 [==============================] - 0s 3ms/sample - loss: 0.1287 - acc: 0.1765 - val_loss: 0.1872 - val_acc: 0.2353\n",
      "Epoch 280/500\n",
      "9/9 [==============================] - 0s 4ms/sample - loss: 0.1148 - acc: 0.2026 - val_loss: 0.1857 - val_acc: 0.2353\n",
      "Epoch 281/500\n",
      "9/9 [==============================] - 0s 4ms/sample - loss: 0.1198 - acc: 0.1961 - val_loss: 0.1876 - val_acc: 0.2353\n",
      "Epoch 282/500\n",
      "9/9 [==============================] - 0s 4ms/sample - loss: 0.1174 - acc: 0.2026 - val_loss: 0.1910 - val_acc: 0.2353\n",
      "Epoch 283/500\n",
      "9/9 [==============================] - 0s 3ms/sample - loss: 0.1125 - acc: 0.2026 - val_loss: 0.1956 - val_acc: 0.2353\n",
      "Epoch 284/500\n",
      "9/9 [==============================] - 0s 3ms/sample - loss: 0.1163 - acc: 0.1961 - val_loss: 0.2015 - val_acc: 0.2353\n",
      "Epoch 285/500\n",
      "9/9 [==============================] - 0s 3ms/sample - loss: 0.1236 - acc: 0.1895 - val_loss: 0.2087 - val_acc: 0.2353\n",
      "Epoch 286/500\n",
      "9/9 [==============================] - 0s 3ms/sample - loss: 0.1115 - acc: 0.1961 - val_loss: 0.2132 - val_acc: 0.2353\n",
      "Epoch 287/500\n",
      "9/9 [==============================] - 0s 3ms/sample - loss: 0.1143 - acc: 0.1895 - val_loss: 0.2228 - val_acc: 0.2353\n",
      "Epoch 288/500\n",
      "9/9 [==============================] - 0s 3ms/sample - loss: 0.1197 - acc: 0.1895 - val_loss: 0.2381 - val_acc: 0.2353\n",
      "Epoch 289/500\n",
      "9/9 [==============================] - 0s 3ms/sample - loss: 0.1286 - acc: 0.1830 - val_loss: 0.2496 - val_acc: 0.2353\n",
      "Epoch 290/500\n",
      "9/9 [==============================] - 0s 3ms/sample - loss: 0.1129 - acc: 0.2092 - val_loss: 0.2545 - val_acc: 0.2353\n",
      "Epoch 291/500\n",
      "9/9 [==============================] - 0s 4ms/sample - loss: 0.1173 - acc: 0.1961 - val_loss: 0.2470 - val_acc: 0.2353\n",
      "Epoch 292/500\n",
      "9/9 [==============================] - 0s 3ms/sample - loss: 0.1284 - acc: 0.1895 - val_loss: 0.2373 - val_acc: 0.2353\n",
      "Epoch 293/500\n",
      "9/9 [==============================] - 0s 4ms/sample - loss: 0.1161 - acc: 0.1961 - val_loss: 0.2263 - val_acc: 0.2353\n",
      "Epoch 294/500\n",
      "9/9 [==============================] - 0s 4ms/sample - loss: 0.1366 - acc: 0.1895 - val_loss: 0.2242 - val_acc: 0.2353\n",
      "Epoch 295/500\n",
      "9/9 [==============================] - 0s 3ms/sample - loss: 0.1103 - acc: 0.1895 - val_loss: 0.2240 - val_acc: 0.2353\n",
      "Epoch 296/500\n",
      "9/9 [==============================] - 0s 3ms/sample - loss: 0.1168 - acc: 0.1961 - val_loss: 0.2320 - val_acc: 0.2353\n",
      "Epoch 297/500\n",
      "9/9 [==============================] - 0s 3ms/sample - loss: 0.1366 - acc: 0.1830 - val_loss: 0.2325 - val_acc: 0.2353\n",
      "Epoch 298/500\n",
      "9/9 [==============================] - 0s 3ms/sample - loss: 0.1168 - acc: 0.2157 - val_loss: 0.2252 - val_acc: 0.2353\n",
      "Epoch 299/500\n",
      "9/9 [==============================] - 0s 4ms/sample - loss: 0.1230 - acc: 0.1895 - val_loss: 0.2189 - val_acc: 0.2353\n",
      "Epoch 300/500\n",
      "9/9 [==============================] - 0s 4ms/sample - loss: 0.1322 - acc: 0.2026 - val_loss: 0.2131 - val_acc: 0.2353\n",
      "Epoch 301/500\n",
      "9/9 [==============================] - 0s 3ms/sample - loss: 0.1341 - acc: 0.1895 - val_loss: 0.2108 - val_acc: 0.2353\n",
      "Epoch 302/500\n",
      "9/9 [==============================] - 0s 3ms/sample - loss: 0.1257 - acc: 0.1830 - val_loss: 0.2094 - val_acc: 0.2353\n",
      "Epoch 303/500\n",
      "9/9 [==============================] - 0s 3ms/sample - loss: 0.1101 - acc: 0.1830 - val_loss: 0.2149 - val_acc: 0.2353\n",
      "Epoch 304/500\n",
      "9/9 [==============================] - 0s 3ms/sample - loss: 0.1252 - acc: 0.1961 - val_loss: 0.2283 - val_acc: 0.2353\n",
      "Epoch 305/500\n",
      "9/9 [==============================] - 0s 3ms/sample - loss: 0.1247 - acc: 0.1961 - val_loss: 0.2446 - val_acc: 0.2353\n",
      "Epoch 306/500\n",
      "9/9 [==============================] - 0s 3ms/sample - loss: 0.1041 - acc: 0.2092 - val_loss: 0.2568 - val_acc: 0.2353\n",
      "Epoch 307/500\n",
      "9/9 [==============================] - 0s 4ms/sample - loss: 0.1190 - acc: 0.1895 - val_loss: 0.2666 - val_acc: 0.2353\n",
      "Epoch 308/500\n",
      "9/9 [==============================] - 0s 3ms/sample - loss: 0.1210 - acc: 0.2026 - val_loss: 0.2693 - val_acc: 0.2353\n",
      "Epoch 309/500\n",
      "9/9 [==============================] - 0s 3ms/sample - loss: 0.1215 - acc: 0.1830 - val_loss: 0.2806 - val_acc: 0.2353\n",
      "Epoch 310/500\n",
      "9/9 [==============================] - 0s 4ms/sample - loss: 0.1077 - acc: 0.1961 - val_loss: 0.2907 - val_acc: 0.2353\n"
     ]
    },
    {
     "name": "stdout",
     "output_type": "stream",
     "text": [
      "Epoch 311/500\n",
      "9/9 [==============================] - 0s 4ms/sample - loss: 0.1116 - acc: 0.1961 - val_loss: 0.2902 - val_acc: 0.2353\n",
      "Epoch 312/500\n",
      "9/9 [==============================] - 0s 4ms/sample - loss: 0.1058 - acc: 0.2026 - val_loss: 0.2913 - val_acc: 0.2353\n",
      "Epoch 313/500\n",
      "9/9 [==============================] - 0s 3ms/sample - loss: 0.1226 - acc: 0.1961 - val_loss: 0.2913 - val_acc: 0.2353\n",
      "Epoch 314/500\n",
      "9/9 [==============================] - 0s 3ms/sample - loss: 0.1228 - acc: 0.1961 - val_loss: 0.2850 - val_acc: 0.2353\n",
      "Epoch 315/500\n",
      "9/9 [==============================] - 0s 3ms/sample - loss: 0.1129 - acc: 0.2026 - val_loss: 0.2805 - val_acc: 0.2353\n",
      "Epoch 316/500\n",
      "9/9 [==============================] - 0s 3ms/sample - loss: 0.1158 - acc: 0.1895 - val_loss: 0.2762 - val_acc: 0.2353\n",
      "Epoch 317/500\n",
      "9/9 [==============================] - 0s 3ms/sample - loss: 0.1290 - acc: 0.1961 - val_loss: 0.2753 - val_acc: 0.2353\n",
      "Epoch 318/500\n",
      "9/9 [==============================] - 0s 3ms/sample - loss: 0.1128 - acc: 0.2026 - val_loss: 0.2729 - val_acc: 0.2353\n",
      "Epoch 319/500\n",
      "9/9 [==============================] - 0s 3ms/sample - loss: 0.1255 - acc: 0.1895 - val_loss: 0.2688 - val_acc: 0.2353\n",
      "Epoch 320/500\n",
      "9/9 [==============================] - 0s 3ms/sample - loss: 0.1260 - acc: 0.1961 - val_loss: 0.2669 - val_acc: 0.2353\n",
      "Epoch 321/500\n",
      "9/9 [==============================] - 0s 3ms/sample - loss: 0.1134 - acc: 0.2026 - val_loss: 0.2639 - val_acc: 0.2353\n",
      "Epoch 322/500\n",
      "9/9 [==============================] - 0s 3ms/sample - loss: 0.1047 - acc: 0.2157 - val_loss: 0.2602 - val_acc: 0.2353\n",
      "Epoch 323/500\n",
      "9/9 [==============================] - 0s 3ms/sample - loss: 0.0997 - acc: 0.2026 - val_loss: 0.2618 - val_acc: 0.2353\n",
      "Epoch 324/500\n",
      "9/9 [==============================] - 0s 3ms/sample - loss: 0.1029 - acc: 0.1961 - val_loss: 0.2685 - val_acc: 0.2353\n",
      "Epoch 325/500\n",
      "9/9 [==============================] - 0s 3ms/sample - loss: 0.1128 - acc: 0.1830 - val_loss: 0.2775 - val_acc: 0.2353\n",
      "Epoch 326/500\n",
      "9/9 [==============================] - 0s 3ms/sample - loss: 0.1159 - acc: 0.1895 - val_loss: 0.2928 - val_acc: 0.2353\n",
      "Epoch 327/500\n",
      "9/9 [==============================] - 0s 3ms/sample - loss: 0.1174 - acc: 0.2026 - val_loss: 0.2924 - val_acc: 0.2353\n",
      "Epoch 328/500\n",
      "9/9 [==============================] - 0s 3ms/sample - loss: 0.1328 - acc: 0.1830 - val_loss: 0.2964 - val_acc: 0.2353\n",
      "Epoch 329/500\n",
      "9/9 [==============================] - 0s 3ms/sample - loss: 0.1149 - acc: 0.1961 - val_loss: 0.3013 - val_acc: 0.2353\n",
      "Epoch 330/500\n",
      "9/9 [==============================] - 0s 3ms/sample - loss: 0.0952 - acc: 0.1961 - val_loss: 0.3049 - val_acc: 0.2353\n",
      "Epoch 331/500\n",
      "9/9 [==============================] - 0s 4ms/sample - loss: 0.1173 - acc: 0.1961 - val_loss: 0.2991 - val_acc: 0.2353\n",
      "Epoch 332/500\n",
      "9/9 [==============================] - 0s 3ms/sample - loss: 0.1111 - acc: 0.2157 - val_loss: 0.2779 - val_acc: 0.2353\n",
      "Epoch 333/500\n",
      "9/9 [==============================] - 0s 3ms/sample - loss: 0.1083 - acc: 0.2026 - val_loss: 0.2612 - val_acc: 0.2353\n",
      "Epoch 334/500\n",
      "9/9 [==============================] - 0s 4ms/sample - loss: 0.1130 - acc: 0.1961 - val_loss: 0.2468 - val_acc: 0.2353\n",
      "Epoch 335/500\n",
      "9/9 [==============================] - 0s 4ms/sample - loss: 0.1064 - acc: 0.1895 - val_loss: 0.2339 - val_acc: 0.2353\n",
      "Epoch 336/500\n",
      "9/9 [==============================] - 0s 3ms/sample - loss: 0.1117 - acc: 0.1961 - val_loss: 0.2254 - val_acc: 0.2353\n",
      "Epoch 337/500\n",
      "9/9 [==============================] - 0s 4ms/sample - loss: 0.1194 - acc: 0.1895 - val_loss: 0.2197 - val_acc: 0.2353\n",
      "Epoch 338/500\n",
      "9/9 [==============================] - 0s 3ms/sample - loss: 0.1169 - acc: 0.1895 - val_loss: 0.2168 - val_acc: 0.2353\n",
      "Epoch 339/500\n",
      "9/9 [==============================] - 0s 4ms/sample - loss: 0.1254 - acc: 0.1961 - val_loss: 0.2194 - val_acc: 0.2353\n",
      "Epoch 340/500\n",
      "9/9 [==============================] - 0s 3ms/sample - loss: 0.1046 - acc: 0.2026 - val_loss: 0.2257 - val_acc: 0.2353\n",
      "Epoch 341/500\n",
      "9/9 [==============================] - 0s 4ms/sample - loss: 0.1183 - acc: 0.1961 - val_loss: 0.2325 - val_acc: 0.2353\n",
      "Epoch 342/500\n",
      "9/9 [==============================] - 0s 4ms/sample - loss: 0.1136 - acc: 0.1961 - val_loss: 0.2430 - val_acc: 0.2353\n",
      "Epoch 343/500\n",
      "9/9 [==============================] - 0s 4ms/sample - loss: 0.1025 - acc: 0.2026 - val_loss: 0.2550 - val_acc: 0.2353\n",
      "Epoch 344/500\n",
      "9/9 [==============================] - 0s 4ms/sample - loss: 0.1028 - acc: 0.2026 - val_loss: 0.2698 - val_acc: 0.2353\n",
      "Epoch 345/500\n",
      "9/9 [==============================] - 0s 3ms/sample - loss: 0.0962 - acc: 0.1961 - val_loss: 0.2806 - val_acc: 0.2353\n",
      "Epoch 346/500\n",
      "9/9 [==============================] - 0s 3ms/sample - loss: 0.0995 - acc: 0.2092 - val_loss: 0.2861 - val_acc: 0.2353\n",
      "Epoch 347/500\n",
      "9/9 [==============================] - 0s 4ms/sample - loss: 0.1108 - acc: 0.2092 - val_loss: 0.2813 - val_acc: 0.2353\n",
      "Epoch 348/500\n",
      "9/9 [==============================] - 0s 4ms/sample - loss: 0.1236 - acc: 0.1895 - val_loss: 0.2755 - val_acc: 0.2353\n",
      "Epoch 349/500\n",
      "9/9 [==============================] - 0s 3ms/sample - loss: 0.1001 - acc: 0.2092 - val_loss: 0.2780 - val_acc: 0.2353\n",
      "Epoch 350/500\n",
      "9/9 [==============================] - 0s 4ms/sample - loss: 0.1172 - acc: 0.1765 - val_loss: 0.2837 - val_acc: 0.2353\n",
      "Epoch 351/500\n",
      "9/9 [==============================] - 0s 4ms/sample - loss: 0.1163 - acc: 0.1830 - val_loss: 0.2908 - val_acc: 0.2353\n",
      "Epoch 352/500\n",
      "9/9 [==============================] - 0s 4ms/sample - loss: 0.1102 - acc: 0.1961 - val_loss: 0.2952 - val_acc: 0.2353\n",
      "Epoch 353/500\n",
      "9/9 [==============================] - 0s 4ms/sample - loss: 0.1050 - acc: 0.1961 - val_loss: 0.2925 - val_acc: 0.2353\n",
      "Epoch 354/500\n",
      "9/9 [==============================] - 0s 4ms/sample - loss: 0.1048 - acc: 0.1830 - val_loss: 0.2902 - val_acc: 0.2353\n",
      "Epoch 355/500\n",
      "9/9 [==============================] - 0s 4ms/sample - loss: 0.1188 - acc: 0.2092 - val_loss: 0.2794 - val_acc: 0.2353\n",
      "Epoch 356/500\n",
      "9/9 [==============================] - 0s 4ms/sample - loss: 0.1057 - acc: 0.1961 - val_loss: 0.2660 - val_acc: 0.2353\n",
      "Epoch 357/500\n",
      "9/9 [==============================] - 0s 4ms/sample - loss: 0.1054 - acc: 0.2026 - val_loss: 0.2476 - val_acc: 0.2353\n",
      "Epoch 358/500\n",
      "9/9 [==============================] - 0s 4ms/sample - loss: 0.1060 - acc: 0.2026 - val_loss: 0.2364 - val_acc: 0.2353\n",
      "Epoch 359/500\n",
      "9/9 [==============================] - 0s 4ms/sample - loss: 0.1131 - acc: 0.2026 - val_loss: 0.2294 - val_acc: 0.2353\n",
      "Epoch 360/500\n",
      "9/9 [==============================] - 0s 3ms/sample - loss: 0.1151 - acc: 0.2026 - val_loss: 0.2236 - val_acc: 0.2353\n",
      "Epoch 361/500\n",
      "9/9 [==============================] - 0s 4ms/sample - loss: 0.1154 - acc: 0.1895 - val_loss: 0.2264 - val_acc: 0.2353\n",
      "Epoch 362/500\n",
      "9/9 [==============================] - 0s 4ms/sample - loss: 0.1031 - acc: 0.2092 - val_loss: 0.2323 - val_acc: 0.2353\n",
      "Epoch 363/500\n",
      "9/9 [==============================] - 0s 4ms/sample - loss: 0.1072 - acc: 0.2026 - val_loss: 0.2354 - val_acc: 0.2353\n",
      "Epoch 364/500\n",
      "9/9 [==============================] - 0s 3ms/sample - loss: 0.1181 - acc: 0.1895 - val_loss: 0.2467 - val_acc: 0.2353\n",
      "Epoch 365/500\n",
      "9/9 [==============================] - 0s 3ms/sample - loss: 0.1020 - acc: 0.2092 - val_loss: 0.2526 - val_acc: 0.2353\n",
      "Epoch 366/500\n",
      "9/9 [==============================] - 0s 3ms/sample - loss: 0.1002 - acc: 0.2026 - val_loss: 0.2626 - val_acc: 0.2353\n",
      "Epoch 367/500\n",
      "9/9 [==============================] - 0s 3ms/sample - loss: 0.1100 - acc: 0.1830 - val_loss: 0.2723 - val_acc: 0.2353\n",
      "Epoch 368/500\n",
      "9/9 [==============================] - 0s 3ms/sample - loss: 0.0930 - acc: 0.2026 - val_loss: 0.2794 - val_acc: 0.2353\n",
      "Epoch 369/500\n",
      "9/9 [==============================] - 0s 4ms/sample - loss: 0.1033 - acc: 0.2092 - val_loss: 0.2817 - val_acc: 0.2353\n",
      "Epoch 370/500\n",
      "9/9 [==============================] - 0s 4ms/sample - loss: 0.1043 - acc: 0.2026 - val_loss: 0.2805 - val_acc: 0.2353\n",
      "Epoch 371/500\n",
      "9/9 [==============================] - 0s 4ms/sample - loss: 0.0939 - acc: 0.2026 - val_loss: 0.2697 - val_acc: 0.2353\n",
      "Epoch 372/500\n",
      "9/9 [==============================] - 0s 3ms/sample - loss: 0.1059 - acc: 0.1895 - val_loss: 0.2626 - val_acc: 0.2353\n"
     ]
    },
    {
     "name": "stdout",
     "output_type": "stream",
     "text": [
      "Epoch 373/500\n",
      "9/9 [==============================] - 0s 3ms/sample - loss: 0.1263 - acc: 0.1830 - val_loss: 0.2659 - val_acc: 0.2353\n",
      "Epoch 374/500\n",
      "9/9 [==============================] - 0s 3ms/sample - loss: 0.1092 - acc: 0.2092 - val_loss: 0.2615 - val_acc: 0.2353\n",
      "Epoch 375/500\n",
      "9/9 [==============================] - 0s 3ms/sample - loss: 0.1091 - acc: 0.2026 - val_loss: 0.2473 - val_acc: 0.2353\n",
      "Epoch 376/500\n",
      "9/9 [==============================] - 0s 3ms/sample - loss: 0.0994 - acc: 0.2092 - val_loss: 0.2355 - val_acc: 0.2353\n",
      "Epoch 377/500\n",
      "9/9 [==============================] - 0s 3ms/sample - loss: 0.0906 - acc: 0.2026 - val_loss: 0.2323 - val_acc: 0.2353\n",
      "Epoch 378/500\n",
      "9/9 [==============================] - 0s 3ms/sample - loss: 0.0897 - acc: 0.2026 - val_loss: 0.2293 - val_acc: 0.2353\n",
      "Epoch 379/500\n",
      "9/9 [==============================] - 0s 3ms/sample - loss: 0.1144 - acc: 0.1830 - val_loss: 0.2149 - val_acc: 0.2353\n",
      "Epoch 380/500\n",
      "9/9 [==============================] - 0s 3ms/sample - loss: 0.1140 - acc: 0.1961 - val_loss: 0.1992 - val_acc: 0.2353\n",
      "Epoch 381/500\n",
      "9/9 [==============================] - 0s 3ms/sample - loss: 0.0961 - acc: 0.1961 - val_loss: 0.1865 - val_acc: 0.2353\n",
      "Epoch 382/500\n",
      "9/9 [==============================] - 0s 3ms/sample - loss: 0.0930 - acc: 0.2092 - val_loss: 0.1802 - val_acc: 0.2353\n",
      "Epoch 383/500\n",
      "9/9 [==============================] - 0s 3ms/sample - loss: 0.1020 - acc: 0.2092 - val_loss: 0.1785 - val_acc: 0.2353\n",
      "Epoch 384/500\n",
      "9/9 [==============================] - 0s 3ms/sample - loss: 0.0945 - acc: 0.1961 - val_loss: 0.1804 - val_acc: 0.2353\n",
      "Epoch 385/500\n",
      "9/9 [==============================] - 0s 3ms/sample - loss: 0.1217 - acc: 0.1895 - val_loss: 0.1806 - val_acc: 0.2353\n",
      "Epoch 386/500\n",
      "9/9 [==============================] - 0s 3ms/sample - loss: 0.1023 - acc: 0.1961 - val_loss: 0.1820 - val_acc: 0.2353\n",
      "Epoch 387/500\n",
      "9/9 [==============================] - 0s 4ms/sample - loss: 0.1268 - acc: 0.1830 - val_loss: 0.1873 - val_acc: 0.2353\n",
      "Epoch 388/500\n",
      "9/9 [==============================] - 0s 4ms/sample - loss: 0.1083 - acc: 0.2026 - val_loss: 0.1935 - val_acc: 0.2353\n",
      "Epoch 389/500\n",
      "9/9 [==============================] - 0s 4ms/sample - loss: 0.1158 - acc: 0.1699 - val_loss: 0.2008 - val_acc: 0.2353\n",
      "Epoch 390/500\n",
      "9/9 [==============================] - 0s 3ms/sample - loss: 0.0888 - acc: 0.1961 - val_loss: 0.2092 - val_acc: 0.2353\n",
      "Epoch 391/500\n",
      "9/9 [==============================] - 0s 4ms/sample - loss: 0.1014 - acc: 0.2157 - val_loss: 0.2134 - val_acc: 0.2353\n",
      "Epoch 392/500\n",
      "9/9 [==============================] - 0s 4ms/sample - loss: 0.1223 - acc: 0.2026 - val_loss: 0.2123 - val_acc: 0.2353\n",
      "Epoch 393/500\n",
      "9/9 [==============================] - 0s 4ms/sample - loss: 0.1021 - acc: 0.2026 - val_loss: 0.2104 - val_acc: 0.2353\n",
      "Epoch 394/500\n",
      "9/9 [==============================] - 0s 3ms/sample - loss: 0.1173 - acc: 0.1895 - val_loss: 0.2117 - val_acc: 0.2353\n",
      "Epoch 395/500\n",
      "9/9 [==============================] - 0s 3ms/sample - loss: 0.1272 - acc: 0.1895 - val_loss: 0.2101 - val_acc: 0.2353\n",
      "Epoch 396/500\n",
      "9/9 [==============================] - 0s 4ms/sample - loss: 0.1104 - acc: 0.2026 - val_loss: 0.2060 - val_acc: 0.2353\n",
      "Epoch 397/500\n",
      "9/9 [==============================] - 0s 4ms/sample - loss: 0.0894 - acc: 0.2092 - val_loss: 0.2030 - val_acc: 0.2353\n",
      "Epoch 398/500\n",
      "9/9 [==============================] - 0s 4ms/sample - loss: 0.1042 - acc: 0.2026 - val_loss: 0.2001 - val_acc: 0.2353\n",
      "Epoch 399/500\n",
      "9/9 [==============================] - 0s 3ms/sample - loss: 0.0985 - acc: 0.2026 - val_loss: 0.1992 - val_acc: 0.2353\n",
      "Epoch 400/500\n",
      "9/9 [==============================] - 0s 3ms/sample - loss: 0.0953 - acc: 0.1895 - val_loss: 0.1988 - val_acc: 0.2353\n",
      "Epoch 401/500\n",
      "9/9 [==============================] - 0s 3ms/sample - loss: 0.0938 - acc: 0.1961 - val_loss: 0.1992 - val_acc: 0.2353\n",
      "Epoch 402/500\n",
      "9/9 [==============================] - 0s 3ms/sample - loss: 0.0971 - acc: 0.1961 - val_loss: 0.2011 - val_acc: 0.2353\n",
      "Epoch 403/500\n",
      "9/9 [==============================] - 0s 3ms/sample - loss: 0.0951 - acc: 0.2026 - val_loss: 0.2009 - val_acc: 0.2353\n",
      "Epoch 404/500\n",
      "9/9 [==============================] - 0s 3ms/sample - loss: 0.0904 - acc: 0.2026 - val_loss: 0.2013 - val_acc: 0.2353\n",
      "Epoch 405/500\n",
      "9/9 [==============================] - 0s 3ms/sample - loss: 0.0884 - acc: 0.2157 - val_loss: 0.2048 - val_acc: 0.2353\n",
      "Epoch 406/500\n",
      "9/9 [==============================] - 0s 3ms/sample - loss: 0.0945 - acc: 0.1895 - val_loss: 0.2087 - val_acc: 0.2353\n",
      "Epoch 407/500\n",
      "9/9 [==============================] - 0s 3ms/sample - loss: 0.0965 - acc: 0.1961 - val_loss: 0.2080 - val_acc: 0.2353\n",
      "Epoch 408/500\n",
      "9/9 [==============================] - 0s 3ms/sample - loss: 0.0954 - acc: 0.2026 - val_loss: 0.2038 - val_acc: 0.2353\n",
      "Epoch 409/500\n",
      "9/9 [==============================] - 0s 4ms/sample - loss: 0.0995 - acc: 0.2026 - val_loss: 0.2008 - val_acc: 0.2353\n",
      "Epoch 410/500\n",
      "9/9 [==============================] - 0s 4ms/sample - loss: 0.0883 - acc: 0.2092 - val_loss: 0.1945 - val_acc: 0.2353\n",
      "Epoch 411/500\n",
      "9/9 [==============================] - 0s 3ms/sample - loss: 0.0970 - acc: 0.1961 - val_loss: 0.1902 - val_acc: 0.2353\n",
      "Epoch 412/500\n",
      "9/9 [==============================] - 0s 3ms/sample - loss: 0.0964 - acc: 0.2026 - val_loss: 0.1903 - val_acc: 0.2353\n",
      "Epoch 413/500\n",
      "9/9 [==============================] - 0s 3ms/sample - loss: 0.0951 - acc: 0.2026 - val_loss: 0.1899 - val_acc: 0.2353\n",
      "Epoch 414/500\n",
      "9/9 [==============================] - 0s 4ms/sample - loss: 0.1052 - acc: 0.1830 - val_loss: 0.1942 - val_acc: 0.2353\n",
      "Epoch 415/500\n",
      "9/9 [==============================] - 0s 4ms/sample - loss: 0.0936 - acc: 0.1895 - val_loss: 0.1991 - val_acc: 0.2353\n",
      "Epoch 416/500\n",
      "9/9 [==============================] - 0s 4ms/sample - loss: 0.0959 - acc: 0.2092 - val_loss: 0.1946 - val_acc: 0.2353\n",
      "Epoch 417/500\n",
      "9/9 [==============================] - 0s 3ms/sample - loss: 0.0960 - acc: 0.2026 - val_loss: 0.1908 - val_acc: 0.2353\n",
      "Epoch 418/500\n",
      "9/9 [==============================] - 0s 3ms/sample - loss: 0.0925 - acc: 0.2157 - val_loss: 0.1870 - val_acc: 0.2353\n",
      "Epoch 419/500\n",
      "9/9 [==============================] - 0s 3ms/sample - loss: 0.1052 - acc: 0.1961 - val_loss: 0.1814 - val_acc: 0.2353\n",
      "Epoch 420/500\n",
      "9/9 [==============================] - 0s 3ms/sample - loss: 0.1010 - acc: 0.2157 - val_loss: 0.1772 - val_acc: 0.2353\n",
      "Epoch 421/500\n",
      "9/9 [==============================] - 0s 3ms/sample - loss: 0.0914 - acc: 0.2157 - val_loss: 0.1776 - val_acc: 0.2353\n",
      "Epoch 422/500\n",
      "9/9 [==============================] - 0s 4ms/sample - loss: 0.0964 - acc: 0.2157 - val_loss: 0.1810 - val_acc: 0.2353\n",
      "Epoch 423/500\n",
      "9/9 [==============================] - 0s 4ms/sample - loss: 0.1008 - acc: 0.1830 - val_loss: 0.1881 - val_acc: 0.2353\n",
      "Epoch 424/500\n",
      "9/9 [==============================] - 0s 3ms/sample - loss: 0.1020 - acc: 0.2026 - val_loss: 0.1960 - val_acc: 0.2353\n",
      "Epoch 425/500\n",
      "9/9 [==============================] - 0s 4ms/sample - loss: 0.0890 - acc: 0.1961 - val_loss: 0.2030 - val_acc: 0.2353\n",
      "Epoch 426/500\n",
      "9/9 [==============================] - 0s 3ms/sample - loss: 0.0971 - acc: 0.2092 - val_loss: 0.2102 - val_acc: 0.2353\n",
      "Epoch 427/500\n",
      "9/9 [==============================] - 0s 3ms/sample - loss: 0.0898 - acc: 0.2092 - val_loss: 0.2156 - val_acc: 0.2353\n",
      "Epoch 428/500\n",
      "9/9 [==============================] - 0s 4ms/sample - loss: 0.1048 - acc: 0.2026 - val_loss: 0.2149 - val_acc: 0.2353\n",
      "Epoch 429/500\n",
      "9/9 [==============================] - 0s 3ms/sample - loss: 0.1011 - acc: 0.1961 - val_loss: 0.2134 - val_acc: 0.2353\n",
      "Epoch 430/500\n",
      "9/9 [==============================] - 0s 3ms/sample - loss: 0.0962 - acc: 0.2092 - val_loss: 0.2097 - val_acc: 0.2353\n",
      "Epoch 431/500\n",
      "9/9 [==============================] - 0s 3ms/sample - loss: 0.1043 - acc: 0.1895 - val_loss: 0.2074 - val_acc: 0.2353\n",
      "Epoch 432/500\n",
      "9/9 [==============================] - 0s 4ms/sample - loss: 0.0960 - acc: 0.1961 - val_loss: 0.2051 - val_acc: 0.2353\n",
      "Epoch 433/500\n",
      "9/9 [==============================] - 0s 4ms/sample - loss: 0.0998 - acc: 0.1895 - val_loss: 0.2011 - val_acc: 0.2353\n",
      "Epoch 434/500\n",
      "9/9 [==============================] - 0s 3ms/sample - loss: 0.1034 - acc: 0.1895 - val_loss: 0.1990 - val_acc: 0.2353\n"
     ]
    },
    {
     "name": "stdout",
     "output_type": "stream",
     "text": [
      "Epoch 435/500\n",
      "9/9 [==============================] - 0s 4ms/sample - loss: 0.0790 - acc: 0.2026 - val_loss: 0.1983 - val_acc: 0.2353\n",
      "Epoch 436/500\n",
      "9/9 [==============================] - 0s 3ms/sample - loss: 0.1009 - acc: 0.2092 - val_loss: 0.1913 - val_acc: 0.2353\n",
      "Epoch 437/500\n",
      "9/9 [==============================] - 0s 4ms/sample - loss: 0.1091 - acc: 0.1961 - val_loss: 0.1854 - val_acc: 0.2353\n",
      "Epoch 438/500\n",
      "9/9 [==============================] - 0s 4ms/sample - loss: 0.0959 - acc: 0.2026 - val_loss: 0.1805 - val_acc: 0.2353\n",
      "Epoch 439/500\n",
      "9/9 [==============================] - 0s 4ms/sample - loss: 0.1029 - acc: 0.1961 - val_loss: 0.1804 - val_acc: 0.2353\n",
      "Epoch 440/500\n",
      "9/9 [==============================] - 0s 4ms/sample - loss: 0.0974 - acc: 0.1961 - val_loss: 0.1825 - val_acc: 0.2353\n",
      "Epoch 441/500\n",
      "9/9 [==============================] - 0s 4ms/sample - loss: 0.0894 - acc: 0.2092 - val_loss: 0.1860 - val_acc: 0.2353\n",
      "Epoch 442/500\n",
      "9/9 [==============================] - 0s 4ms/sample - loss: 0.0947 - acc: 0.2026 - val_loss: 0.1895 - val_acc: 0.2353\n",
      "Epoch 443/500\n",
      "9/9 [==============================] - 0s 4ms/sample - loss: 0.0881 - acc: 0.2092 - val_loss: 0.1893 - val_acc: 0.2353\n",
      "Epoch 444/500\n",
      "9/9 [==============================] - 0s 3ms/sample - loss: 0.0979 - acc: 0.1961 - val_loss: 0.1938 - val_acc: 0.2353\n",
      "Epoch 445/500\n",
      "9/9 [==============================] - 0s 3ms/sample - loss: 0.0970 - acc: 0.2092 - val_loss: 0.1915 - val_acc: 0.2353\n",
      "Epoch 446/500\n",
      "9/9 [==============================] - 0s 4ms/sample - loss: 0.0890 - acc: 0.2157 - val_loss: 0.1867 - val_acc: 0.2353\n",
      "Epoch 447/500\n",
      "9/9 [==============================] - 0s 4ms/sample - loss: 0.1093 - acc: 0.2026 - val_loss: 0.1789 - val_acc: 0.2353\n",
      "Epoch 448/500\n",
      "9/9 [==============================] - 0s 3ms/sample - loss: 0.0871 - acc: 0.2026 - val_loss: 0.1706 - val_acc: 0.2353\n",
      "Epoch 449/500\n",
      "9/9 [==============================] - 0s 4ms/sample - loss: 0.0914 - acc: 0.2026 - val_loss: 0.1605 - val_acc: 0.2353\n",
      "Epoch 450/500\n",
      "9/9 [==============================] - 0s 4ms/sample - loss: 0.0903 - acc: 0.1961 - val_loss: 0.1481 - val_acc: 0.2353\n",
      "Epoch 451/500\n",
      "9/9 [==============================] - 0s 4ms/sample - loss: 0.0911 - acc: 0.1961 - val_loss: 0.1403 - val_acc: 0.2353\n",
      "Epoch 452/500\n",
      "9/9 [==============================] - 0s 4ms/sample - loss: 0.0948 - acc: 0.1895 - val_loss: 0.1380 - val_acc: 0.2353\n",
      "Epoch 453/500\n",
      "9/9 [==============================] - 0s 4ms/sample - loss: 0.0943 - acc: 0.2092 - val_loss: 0.1382 - val_acc: 0.2353\n",
      "Epoch 454/500\n",
      "9/9 [==============================] - 0s 4ms/sample - loss: 0.0762 - acc: 0.2026 - val_loss: 0.1403 - val_acc: 0.2353\n",
      "Epoch 455/500\n",
      "9/9 [==============================] - 0s 4ms/sample - loss: 0.1025 - acc: 0.1961 - val_loss: 0.1467 - val_acc: 0.2353\n",
      "Epoch 456/500\n",
      "9/9 [==============================] - 0s 4ms/sample - loss: 0.0988 - acc: 0.1961 - val_loss: 0.1559 - val_acc: 0.2353\n",
      "Epoch 457/500\n",
      "9/9 [==============================] - 0s 4ms/sample - loss: 0.0824 - acc: 0.2157 - val_loss: 0.1644 - val_acc: 0.2353\n",
      "Epoch 458/500\n",
      "9/9 [==============================] - 0s 4ms/sample - loss: 0.0833 - acc: 0.2157 - val_loss: 0.1723 - val_acc: 0.2353\n",
      "Epoch 459/500\n",
      "9/9 [==============================] - 0s 4ms/sample - loss: 0.0904 - acc: 0.2092 - val_loss: 0.1799 - val_acc: 0.2353\n",
      "Epoch 460/500\n",
      "9/9 [==============================] - 0s 4ms/sample - loss: 0.0837 - acc: 0.2026 - val_loss: 0.1882 - val_acc: 0.2353\n",
      "Epoch 461/500\n",
      "9/9 [==============================] - 0s 4ms/sample - loss: 0.0963 - acc: 0.2026 - val_loss: 0.1871 - val_acc: 0.2353\n",
      "Epoch 462/500\n",
      "9/9 [==============================] - 0s 4ms/sample - loss: 0.1042 - acc: 0.1895 - val_loss: 0.1744 - val_acc: 0.2353\n",
      "Epoch 463/500\n",
      "9/9 [==============================] - 0s 3ms/sample - loss: 0.1116 - acc: 0.2026 - val_loss: 0.1594 - val_acc: 0.2353\n",
      "Epoch 464/500\n",
      "9/9 [==============================] - 0s 3ms/sample - loss: 0.0945 - acc: 0.1961 - val_loss: 0.1507 - val_acc: 0.2353\n",
      "Epoch 465/500\n",
      "9/9 [==============================] - 0s 4ms/sample - loss: 0.0922 - acc: 0.2026 - val_loss: 0.1473 - val_acc: 0.2353\n",
      "Epoch 466/500\n",
      "9/9 [==============================] - 0s 3ms/sample - loss: 0.0877 - acc: 0.2157 - val_loss: 0.1446 - val_acc: 0.2353\n",
      "Epoch 467/500\n",
      "9/9 [==============================] - 0s 3ms/sample - loss: 0.1087 - acc: 0.1895 - val_loss: 0.1442 - val_acc: 0.2353\n",
      "Epoch 468/500\n",
      "9/9 [==============================] - 0s 3ms/sample - loss: 0.1028 - acc: 0.2026 - val_loss: 0.1404 - val_acc: 0.2353\n",
      "Epoch 469/500\n",
      "9/9 [==============================] - 0s 3ms/sample - loss: 0.0939 - acc: 0.1895 - val_loss: 0.1393 - val_acc: 0.2353\n",
      "Epoch 470/500\n",
      "9/9 [==============================] - 0s 4ms/sample - loss: 0.0927 - acc: 0.1961 - val_loss: 0.1423 - val_acc: 0.2353\n",
      "Epoch 471/500\n",
      "9/9 [==============================] - 0s 3ms/sample - loss: 0.0753 - acc: 0.2092 - val_loss: 0.1477 - val_acc: 0.2353\n",
      "Epoch 472/500\n",
      "9/9 [==============================] - 0s 4ms/sample - loss: 0.0783 - acc: 0.2026 - val_loss: 0.1505 - val_acc: 0.2353\n",
      "Epoch 473/500\n",
      "9/9 [==============================] - 0s 4ms/sample - loss: 0.0753 - acc: 0.2092 - val_loss: 0.1515 - val_acc: 0.2353\n",
      "Epoch 474/500\n",
      "9/9 [==============================] - 0s 4ms/sample - loss: 0.0975 - acc: 0.1895 - val_loss: 0.1497 - val_acc: 0.2353\n",
      "Epoch 475/500\n",
      "9/9 [==============================] - 0s 4ms/sample - loss: 0.0934 - acc: 0.1961 - val_loss: 0.1472 - val_acc: 0.2353\n",
      "Epoch 476/500\n",
      "9/9 [==============================] - 0s 3ms/sample - loss: 0.0863 - acc: 0.2026 - val_loss: 0.1442 - val_acc: 0.2353\n",
      "Epoch 477/500\n",
      "9/9 [==============================] - 0s 3ms/sample - loss: 0.0788 - acc: 0.2157 - val_loss: 0.1418 - val_acc: 0.2353\n",
      "Epoch 478/500\n",
      "9/9 [==============================] - 0s 4ms/sample - loss: 0.0968 - acc: 0.1961 - val_loss: 0.1407 - val_acc: 0.2353\n",
      "Epoch 479/500\n",
      "9/9 [==============================] - 0s 4ms/sample - loss: 0.0846 - acc: 0.2026 - val_loss: 0.1378 - val_acc: 0.2353\n",
      "Epoch 480/500\n",
      "9/9 [==============================] - 0s 4ms/sample - loss: 0.0785 - acc: 0.2092 - val_loss: 0.1360 - val_acc: 0.2353\n",
      "Epoch 481/500\n",
      "9/9 [==============================] - 0s 4ms/sample - loss: 0.0861 - acc: 0.1895 - val_loss: 0.1357 - val_acc: 0.2353\n",
      "Epoch 482/500\n",
      "9/9 [==============================] - 0s 4ms/sample - loss: 0.0878 - acc: 0.2092 - val_loss: 0.1369 - val_acc: 0.2353\n",
      "Epoch 483/500\n",
      "9/9 [==============================] - 0s 3ms/sample - loss: 0.0961 - acc: 0.1961 - val_loss: 0.1404 - val_acc: 0.2353\n",
      "Epoch 484/500\n",
      "9/9 [==============================] - 0s 3ms/sample - loss: 0.0905 - acc: 0.2092 - val_loss: 0.1404 - val_acc: 0.2353\n",
      "Epoch 485/500\n",
      "9/9 [==============================] - 0s 4ms/sample - loss: 0.0997 - acc: 0.2026 - val_loss: 0.1396 - val_acc: 0.2353\n",
      "Epoch 486/500\n",
      "9/9 [==============================] - 0s 3ms/sample - loss: 0.0854 - acc: 0.2026 - val_loss: 0.1382 - val_acc: 0.2353\n",
      "Epoch 487/500\n",
      "9/9 [==============================] - 0s 3ms/sample - loss: 0.0980 - acc: 0.1961 - val_loss: 0.1361 - val_acc: 0.2353\n",
      "Epoch 488/500\n",
      "9/9 [==============================] - 0s 4ms/sample - loss: 0.0804 - acc: 0.2092 - val_loss: 0.1331 - val_acc: 0.2353\n",
      "Epoch 489/500\n",
      "9/9 [==============================] - 0s 4ms/sample - loss: 0.0730 - acc: 0.2092 - val_loss: 0.1303 - val_acc: 0.2353\n",
      "Epoch 490/500\n",
      "9/9 [==============================] - 0s 4ms/sample - loss: 0.0890 - acc: 0.1830 - val_loss: 0.1286 - val_acc: 0.2353\n",
      "Epoch 491/500\n",
      "9/9 [==============================] - 0s 4ms/sample - loss: 0.0781 - acc: 0.2092 - val_loss: 0.1281 - val_acc: 0.2353\n",
      "Epoch 492/500\n",
      "9/9 [==============================] - 0s 4ms/sample - loss: 0.0874 - acc: 0.2026 - val_loss: 0.1279 - val_acc: 0.2353\n",
      "Epoch 493/500\n",
      "9/9 [==============================] - 0s 4ms/sample - loss: 0.0930 - acc: 0.1961 - val_loss: 0.1288 - val_acc: 0.2353\n",
      "Epoch 494/500\n",
      "9/9 [==============================] - 0s 3ms/sample - loss: 0.0962 - acc: 0.2092 - val_loss: 0.1288 - val_acc: 0.2353\n",
      "Epoch 495/500\n",
      "9/9 [==============================] - 0s 3ms/sample - loss: 0.0685 - acc: 0.2092 - val_loss: 0.1307 - val_acc: 0.2353\n",
      "Epoch 496/500\n",
      "9/9 [==============================] - 0s 4ms/sample - loss: 0.0892 - acc: 0.1895 - val_loss: 0.1341 - val_acc: 0.2353\n"
     ]
    },
    {
     "name": "stdout",
     "output_type": "stream",
     "text": [
      "Epoch 497/500\n",
      "9/9 [==============================] - 0s 4ms/sample - loss: 0.0794 - acc: 0.2026 - val_loss: 0.1389 - val_acc: 0.2353\n",
      "Epoch 498/500\n",
      "9/9 [==============================] - 0s 4ms/sample - loss: 0.0781 - acc: 0.2157 - val_loss: 0.1437 - val_acc: 0.2353\n",
      "Epoch 499/500\n",
      "9/9 [==============================] - 0s 3ms/sample - loss: 0.0922 - acc: 0.2026 - val_loss: 0.1447 - val_acc: 0.2353\n",
      "Epoch 500/500\n",
      "9/9 [==============================] - 0s 3ms/sample - loss: 0.0802 - acc: 0.2092 - val_loss: 0.1452 - val_acc: 0.2353\n"
     ]
    }
   ],
   "source": [
    "model = tf.keras.models.Sequential()\n",
    "\n",
    "model.add(tf.keras.layers.LSTM(64, input_shape=(17, 4),\n",
    "               return_sequences=True,\n",
    "               activation='relu'))\n",
    "model.add(tf.keras.layers.Dropout(0.2))\n",
    "\n",
    "model.add(tf.keras.layers.Dense(64))\n",
    "\n",
    "model.add(tf.keras.layers.Dropout(0.2))\n",
    "\n",
    "model.add(tf.keras.layers.LSTM(32, input_shape=(17, 4),\n",
    "               return_sequences=True,\n",
    "               activation='relu'))\n",
    "model.add(tf.keras.layers.Dropout(0.2))\n",
    "\n",
    "model.add(tf.keras.layers.Dense(32))\n",
    "\n",
    "model.add(tf.keras.layers.Dropout(0.2))\n",
    "\n",
    "model.add(tf.keras.layers.Dense(1))\n",
    "\n",
    "model.compile(optimizer='adam', \n",
    "              loss='mse',\n",
    "              metrics=['acc'])\n",
    "\n",
    "history = model.fit(train_X, train_Y, \n",
    "                    epochs=500, batch_size=16,\n",
    "                    validation_split=0.2,)\n",
    "                    #callbacks=[tensorboard_callback])"
   ]
  },
  {
   "cell_type": "code",
   "execution_count": 198,
   "metadata": {},
   "outputs": [
    {
     "name": "stderr",
     "output_type": "stream",
     "text": [
      "UsageError: Line magic function `%tensorboard` not found.\n"
     ]
    }
   ],
   "source": [
    "%tensorboard --logdir logs/fit"
   ]
  },
  {
   "cell_type": "code",
   "execution_count": 75,
   "metadata": {},
   "outputs": [
    {
     "data": {
      "text/plain": [
       "0.07709226633367716"
      ]
     },
     "execution_count": 75,
     "metadata": {},
     "output_type": "execute_result"
    }
   ],
   "source": [
    "train_predictions = model.predict(train_X)\n",
    "\n",
    "# Train RMSE\n",
    "metrics.mean_squared_error(train_Y.reshape(train_Y.shape[0], train_Y.shape[1] * train_Y.shape[2]),\n",
    "                           train_predictions.reshape(train_predictions.shape[0], train_predictions.shape[1] * train_predictions.shape[2]))"
   ]
  },
  {
   "cell_type": "code",
   "execution_count": 76,
   "metadata": {},
   "outputs": [
    {
     "data": {
      "text/plain": [
       "0.6603589110705618"
      ]
     },
     "execution_count": 76,
     "metadata": {},
     "output_type": "execute_result"
    }
   ],
   "source": [
    "test_predictions = model.predict(test_X)\n",
    "\n",
    "# Test RMSE\n",
    "metrics.mean_squared_error(test_Y.reshape(test_Y.shape[0], test_Y.shape[1] * test_Y.shape[2]),\n",
    "                           test_predictions.reshape(test_predictions.shape[0], test_predictions.shape[1] * train_predictions.shape[2]))"
   ]
  },
  {
   "cell_type": "code",
   "execution_count": 84,
   "metadata": {
    "scrolled": true
   },
   "outputs": [
    {
     "data": {
      "text/plain": [
       "[<matplotlib.lines.Line2D at 0x1a3ece2ac8>]"
      ]
     },
     "execution_count": 84,
     "metadata": {},
     "output_type": "execute_result"
    },
    {
     "data": {
      "image/png": "[encoded data removed]",
      "text/plain": [
       "<Figure size 432x288 with 1 Axes>"
      ]
     },
     "metadata": {},
     "output_type": "display_data"
    }
   ],
   "source": [
    "plt.plot(train_Y[2])"
   ]
  },
  {
   "cell_type": "code",
   "execution_count": 85,
   "metadata": {},
   "outputs": [
    {
     "data": {
      "text/plain": [
       "[<matplotlib.lines.Line2D at 0x1a3ed45b70>]"
      ]
     },
     "execution_count": 85,
     "metadata": {},
     "output_type": "execute_result"
    },
    {
     "data": {
      "image/png": "[encoded data removed]",
      "text/plain": [
       "<Figure size 432x288 with 1 Axes>"
      ]
     },
     "metadata": {},
     "output_type": "display_data"
    }
   ],
   "source": [
    "plt.plot(train_predictions[2])"
   ]
  },
  {
   "cell_type": "code",
   "execution_count": null,
   "metadata": {},
   "outputs": [],
   "source": []
  },
  {
   "cell_type": "markdown",
   "metadata": {},
   "source": [
    "## Parametric"
   ]
  },
  {
   "cell_type": "markdown",
   "metadata": {},
   "source": [
    "### ARIMA"
   ]
  },
  {
   "cell_type": "code",
   "execution_count": null,
   "metadata": {},
   "outputs": [],
   "source": []
  },
  {
   "cell_type": "code",
   "execution_count": null,
   "metadata": {},
   "outputs": [],
   "source": []
  },
  {
   "cell_type": "code",
   "execution_count": null,
   "metadata": {},
   "outputs": [],
   "source": []
  }
 ],
 "metadata": {
  "kernelspec": {
   "display_name": "EEB498",
   "language": "python",
   "name": "eeb498"
  },
  "language_info": {
   "codemirror_mode": {
    "name": "ipython",
    "version": 3
   },
   "file_extension": ".py",
   "mimetype": "text/x-python",
   "name": "python",
   "nbconvert_exporter": "python",
   "pygments_lexer": "ipython3",
   "version": "3.6.9"
  },
  "toc": {
   "base_numbering": 1,
   "nav_menu": {},
   "number_sections": true,
   "sideBar": true,
   "skip_h1_title": false,
   "title_cell": "Table of Contents",
   "title_sidebar": "Contents",
   "toc_cell": false,
   "toc_position": {},
   "toc_section_display": true,
   "toc_window_display": true
  }
 },
 "nbformat": 4,
 "nbformat_minor": 2
}
