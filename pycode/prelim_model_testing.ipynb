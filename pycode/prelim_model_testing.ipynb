{
 "cells": [
  {
   "cell_type": "markdown",
   "metadata": {},
   "source": [
    "# Top-level imports"
   ]
  },
  {
   "cell_type": "code",
   "execution_count": 1,
   "metadata": {
    "scrolled": true
   },
   "outputs": [
    {
     "name": "stdout",
     "output_type": "stream",
     "text": [
      "The tensorboard module is not an IPython extension.\n"
     ]
    }
   ],
   "source": [
    "%load_ext autoreload\n",
    "%autoreload 2\n",
    "%load_ext tensorboard"
   ]
  },
  {
   "cell_type": "markdown",
   "metadata": {},
   "source": [
    "#### import packages - setup"
   ]
  },
  {
   "cell_type": "code",
   "execution_count": 2,
   "metadata": {},
   "outputs": [
    {
     "name": "stderr",
     "output_type": "stream",
     "text": [
      "/opt/anaconda3/envs/EEB498/lib/python3.6/site-packages/tensorflow/python/framework/dtypes.py:526: FutureWarning: Passing (type, 1) or '1type' as a synonym of type is deprecated; in a future version of numpy, it will be understood as (type, (1,)) / '(1,)type'.\n",
      "  _np_qint8 = np.dtype([(\"qint8\", np.int8, 1)])\n",
      "/opt/anaconda3/envs/EEB498/lib/python3.6/site-packages/tensorflow/python/framework/dtypes.py:527: FutureWarning: Passing (type, 1) or '1type' as a synonym of type is deprecated; in a future version of numpy, it will be understood as (type, (1,)) / '(1,)type'.\n",
      "  _np_quint8 = np.dtype([(\"quint8\", np.uint8, 1)])\n",
      "/opt/anaconda3/envs/EEB498/lib/python3.6/site-packages/tensorflow/python/framework/dtypes.py:528: FutureWarning: Passing (type, 1) or '1type' as a synonym of type is deprecated; in a future version of numpy, it will be understood as (type, (1,)) / '(1,)type'.\n",
      "  _np_qint16 = np.dtype([(\"qint16\", np.int16, 1)])\n",
      "/opt/anaconda3/envs/EEB498/lib/python3.6/site-packages/tensorflow/python/framework/dtypes.py:529: FutureWarning: Passing (type, 1) or '1type' as a synonym of type is deprecated; in a future version of numpy, it will be understood as (type, (1,)) / '(1,)type'.\n",
      "  _np_quint16 = np.dtype([(\"quint16\", np.uint16, 1)])\n",
      "/opt/anaconda3/envs/EEB498/lib/python3.6/site-packages/tensorflow/python/framework/dtypes.py:530: FutureWarning: Passing (type, 1) or '1type' as a synonym of type is deprecated; in a future version of numpy, it will be understood as (type, (1,)) / '(1,)type'.\n",
      "  _np_qint32 = np.dtype([(\"qint32\", np.int32, 1)])\n",
      "/opt/anaconda3/envs/EEB498/lib/python3.6/site-packages/tensorflow/python/framework/dtypes.py:535: FutureWarning: Passing (type, 1) or '1type' as a synonym of type is deprecated; in a future version of numpy, it will be understood as (type, (1,)) / '(1,)type'.\n",
      "  np_resource = np.dtype([(\"resource\", np.ubyte, 1)])\n"
     ]
    }
   ],
   "source": [
    "import os \n",
    "import pandas as pd\n",
    "import numpy as np\n",
    "import matplotlib.pyplot as plt\n",
    "import datetime\n",
    "from scipy import stats\n",
    "from sklearn import metrics\n",
    "import datetime\n",
    "import tensorflow as tf"
   ]
  },
  {
   "cell_type": "code",
   "execution_count": 3,
   "metadata": {},
   "outputs": [],
   "source": [
    "plt.style.use('fivethirtyeight')"
   ]
  },
  {
   "cell_type": "code",
   "execution_count": 4,
   "metadata": {},
   "outputs": [],
   "source": [
    "data_dir = '../data/'"
   ]
  },
  {
   "cell_type": "code",
   "execution_count": 5,
   "metadata": {},
   "outputs": [
    {
     "data": {
      "text/plain": [
       "['BroughtonSeaLice_fishData.csv',\n",
       " 'BroughtonSeaLice_fishInfo.csv',\n",
       " 'BroughtonSeaLice_siteData.csv',\n",
       " 'BroughtonSeaLice_siteInfo.csv',\n",
       " 'DFOSeaLice_Data.csv',\n",
       " 'DFOSeaLice_Info.csv',\n",
       " 'IndustrySeaLice_Data.csv',\n",
       " 'IndustrySeaLice_Info.csv',\n",
       " 'README.md']"
      ]
     },
     "execution_count": 5,
     "metadata": {},
     "output_type": "execute_result"
    }
   ],
   "source": [
    "data_files = os.listdir(data_dir)\n",
    "data_files.sort()\n",
    "data_files"
   ]
  },
  {
   "cell_type": "markdown",
   "metadata": {},
   "source": [
    "#### Wild data"
   ]
  },
  {
   "cell_type": "code",
   "execution_count": 6,
   "metadata": {},
   "outputs": [
    {
     "name": "stderr",
     "output_type": "stream",
     "text": [
      "/opt/anaconda3/envs/EEB498/lib/python3.6/site-packages/IPython/core/interactiveshell.py:3058: DtypeWarning: Columns (31,32) have mixed types. Specify dtype option on import or set low_memory=False.\n",
      "  interactivity=interactivity, compiler=compiler, result=result)\n"
     ]
    }
   ],
   "source": [
    "fish_data = pd.read_csv(f'{data_dir}BroughtonSeaLice_fishData.csv', encoding='ISO-8859-1')\n",
    "site_data = pd.read_csv(f'{data_dir}BroughtonSeaLice_siteData.csv', encoding='ISO-8859-1')"
   ]
  },
  {
   "cell_type": "code",
   "execution_count": 7,
   "metadata": {},
   "outputs": [],
   "source": [
    "fish_info = pd.read_csv(f'{data_dir}BroughtonSeaLice_fishInfo.csv', encoding='ISO-8859-1')\n",
    "site_info = pd.read_csv(f'{data_dir}BroughtonSeaLice_siteInfo.csv', encoding='ISO-8859-1')"
   ]
  },
  {
   "cell_type": "markdown",
   "metadata": {},
   "source": [
    "#### Farm data"
   ]
  },
  {
   "cell_type": "code",
   "execution_count": 8,
   "metadata": {},
   "outputs": [],
   "source": [
    "dfo_data = pd.read_csv(f'{data_dir}DFOSeaLice_Data.csv')\n",
    "dfo_info = pd.read_csv(f'{data_dir}DFOSeaLice_Info.csv')"
   ]
  },
  {
   "cell_type": "code",
   "execution_count": 9,
   "metadata": {},
   "outputs": [],
   "source": [
    "industry_data = pd.read_csv(f'{data_dir}IndustrySeaLice_Data.csv', encoding='ISO-8859-1', low_memory=False)\n",
    "industry_info = pd.read_csv(f'{data_dir}IndustrySeaLice_Info.csv', encoding='ISO-8859-1', low_memory=False)"
   ]
  },
  {
   "cell_type": "markdown",
   "metadata": {},
   "source": [
    "##### Data/Feature Engineering"
   ]
  },
  {
   "cell_type": "markdown",
   "metadata": {},
   "source": [
    "Possible input scenarios\n",
    "- 2001-2018: We have to trust that the model can work with the large amounts of NaN values in earlier years, both in wild data and no farmed data until 2011 \n",
    "- 2003-2018: 2003 is the first year we have data starting in March\n"
   ]
  },
  {
   "cell_type": "markdown",
   "metadata": {},
   "source": [
    "## Setting overall constants"
   ]
  },
  {
   "cell_type": "markdown",
   "metadata": {},
   "source": [
    "Things to set here \n",
    "- Years to analyse\n",
    "- Within-season date range\n",
    "- Accepted ranges\n",
    "- Resampling dates"
   ]
  },
  {
   "cell_type": "code",
   "execution_count": 10,
   "metadata": {},
   "outputs": [],
   "source": [
    "analysis_years = list(range(2003, 2018))"
   ]
  },
  {
   "cell_type": "code",
   "execution_count": 11,
   "metadata": {},
   "outputs": [],
   "source": [
    "analysis_months = list(range(3, 7))"
   ]
  },
  {
   "cell_type": "code",
   "execution_count": 12,
   "metadata": {},
   "outputs": [],
   "source": [
    "dow_dict = {\n",
    "    1: 'MON',\n",
    "    2: 'TUE',\n",
    "    3: 'WED',\n",
    "    4: 'THU', \n",
    "    5: 'FRI', \n",
    "    6: 'SAT', \n",
    "    7: 'SUN'\n",
    "}\n",
    "\n",
    "def get_dow(dt_obj):\n",
    "    dow_text = dt_obj.isoweekday()\n",
    "    return(dow_dict[dow_text])"
   ]
  },
  {
   "cell_type": "code",
   "execution_count": 13,
   "metadata": {},
   "outputs": [],
   "source": [
    "wild_locations = site_data['location'].unique()"
   ]
  },
  {
   "cell_type": "markdown",
   "metadata": {},
   "source": [
    "## Setting up response"
   ]
  },
  {
   "cell_type": "markdown",
   "metadata": {},
   "source": [
    "### Unified adult count\n",
    "This is one possible response"
   ]
  },
  {
   "cell_type": "code",
   "execution_count": 14,
   "metadata": {},
   "outputs": [],
   "source": [
    "adult = fish_data[['Lep_PAmale', 'Lep_PAfemale', \n",
    "                   'Lep_male', 'Lep_gravid',\n",
    "                   'Lep_nongravid', 'unid_PA',\n",
    "                   'unid_adult']].sum(axis=1)"
   ]
  },
  {
   "cell_type": "code",
   "execution_count": 15,
   "metadata": {},
   "outputs": [],
   "source": [
    "fish_data_date = pd.to_datetime(fish_data[['year', 'day', 'month']])"
   ]
  },
  {
   "cell_type": "code",
   "execution_count": 16,
   "metadata": {},
   "outputs": [],
   "source": [
    "response = pd.DataFrame({'count':adult.values, \n",
    "                         'location':fish_data['location'].values,\n",
    "                         'datetime': fish_data_date})"
   ]
  },
  {
   "cell_type": "code",
   "execution_count": 17,
   "metadata": {},
   "outputs": [],
   "source": [
    "response_glacier = response[response['location'] == 'Glacier']"
   ]
  },
  {
   "cell_type": "code",
   "execution_count": null,
   "metadata": {},
   "outputs": [],
   "source": []
  },
  {
   "cell_type": "code",
   "execution_count": 18,
   "metadata": {},
   "outputs": [
    {
     "name": "stderr",
     "output_type": "stream",
     "text": [
      "/opt/anaconda3/envs/EEB498/lib/python3.6/site-packages/pandas/core/indexing.py:205: SettingWithCopyWarning: \n",
      "A value is trying to be set on a copy of a slice from a DataFrame\n",
      "\n",
      "See the caveats in the documentation: http://pandas.pydata.org/pandas-docs/stable/user_guide/indexing.html#returning-a-view-versus-a-copy\n",
      "  self._setitem_with_indexer(indexer, value)\n",
      "/opt/anaconda3/envs/EEB498/lib/python3.6/site-packages/pandas/core/indexing.py:494: SettingWithCopyWarning: \n",
      "A value is trying to be set on a copy of a slice from a DataFrame.\n",
      "Try using .loc[row_indexer,col_indexer] = value instead\n",
      "\n",
      "See the caveats in the documentation: http://pandas.pydata.org/pandas-docs/stable/user_guide/indexing.html#returning-a-view-versus-a-copy\n",
      "  self.obj[item] = s\n",
      "/opt/anaconda3/envs/EEB498/lib/python3.6/site-packages/ipykernel_launcher.py:8: SettingWithCopyWarning: \n",
      "A value is trying to be set on a copy of a slice from a DataFrame\n",
      "\n",
      "See the caveats in the documentation: http://pandas.pydata.org/pandas-docs/stable/user_guide/indexing.html#returning-a-view-versus-a-copy\n",
      "  \n"
     ]
    }
   ],
   "source": [
    "year_df_list = []\n",
    "for year in analysis_years:\n",
    "    subset = response_glacier[response_glacier['datetime'].dt.year == year]\n",
    "    subset.loc[0] = np.nan\n",
    "    subset.loc[0, 'datetime'] = datetime.datetime(year, 1, 1)\n",
    "    subset.loc[1] = np.nan\n",
    "    subset.loc[1, 'datetime'] = datetime.datetime(year, 12, 31)\n",
    "    subset.sort_values('datetime', inplace=True)\n",
    "    subset_resampled = subset.resample(f'W-{get_dow(datetime.datetime(year, 1, 1))}',\n",
    "                                       on='datetime', label='left').apply(np.nanmean).interpolate(methods='linear')\n",
    "    year_df_list.append(subset_resampled)\n",
    "Y_glacier = pd.concat(year_df_list)"
   ]
  },
  {
   "cell_type": "code",
   "execution_count": 19,
   "metadata": {},
   "outputs": [
    {
     "data": {
      "text/html": [
       "<div>\n",
       "<style scoped>\n",
       "    .dataframe tbody tr th:only-of-type {\n",
       "        vertical-align: middle;\n",
       "    }\n",
       "\n",
       "    .dataframe tbody tr th {\n",
       "        vertical-align: top;\n",
       "    }\n",
       "\n",
       "    .dataframe thead th {\n",
       "        text-align: right;\n",
       "    }\n",
       "</style>\n",
       "<table border=\"1\" class=\"dataframe\">\n",
       "  <thead>\n",
       "    <tr style=\"text-align: right;\">\n",
       "      <th></th>\n",
       "      <th>count</th>\n",
       "    </tr>\n",
       "    <tr>\n",
       "      <th>datetime</th>\n",
       "      <th></th>\n",
       "    </tr>\n",
       "  </thead>\n",
       "  <tbody>\n",
       "    <tr>\n",
       "      <th>2002-12-25</th>\n",
       "      <td>NaN</td>\n",
       "    </tr>\n",
       "    <tr>\n",
       "      <th>2003-01-01</th>\n",
       "      <td>NaN</td>\n",
       "    </tr>\n",
       "    <tr>\n",
       "      <th>2003-01-08</th>\n",
       "      <td>NaN</td>\n",
       "    </tr>\n",
       "    <tr>\n",
       "      <th>2003-01-15</th>\n",
       "      <td>NaN</td>\n",
       "    </tr>\n",
       "    <tr>\n",
       "      <th>2003-01-22</th>\n",
       "      <td>NaN</td>\n",
       "    </tr>\n",
       "    <tr>\n",
       "      <th>...</th>\n",
       "      <td>...</td>\n",
       "    </tr>\n",
       "    <tr>\n",
       "      <th>2017-11-26</th>\n",
       "      <td>0.0</td>\n",
       "    </tr>\n",
       "    <tr>\n",
       "      <th>2017-12-03</th>\n",
       "      <td>0.0</td>\n",
       "    </tr>\n",
       "    <tr>\n",
       "      <th>2017-12-10</th>\n",
       "      <td>0.0</td>\n",
       "    </tr>\n",
       "    <tr>\n",
       "      <th>2017-12-17</th>\n",
       "      <td>0.0</td>\n",
       "    </tr>\n",
       "    <tr>\n",
       "      <th>2017-12-24</th>\n",
       "      <td>0.0</td>\n",
       "    </tr>\n",
       "  </tbody>\n",
       "</table>\n",
       "<p>799 rows × 1 columns</p>\n",
       "</div>"
      ],
      "text/plain": [
       "            count\n",
       "datetime         \n",
       "2002-12-25    NaN\n",
       "2003-01-01    NaN\n",
       "2003-01-08    NaN\n",
       "2003-01-15    NaN\n",
       "2003-01-22    NaN\n",
       "...           ...\n",
       "2017-11-26    0.0\n",
       "2017-12-03    0.0\n",
       "2017-12-10    0.0\n",
       "2017-12-17    0.0\n",
       "2017-12-24    0.0\n",
       "\n",
       "[799 rows x 1 columns]"
      ]
     },
     "execution_count": 19,
     "metadata": {},
     "output_type": "execute_result"
    }
   ],
   "source": [
    "Y_glacier"
   ]
  },
  {
   "cell_type": "markdown",
   "metadata": {},
   "source": [
    "resample by week for average\n",
    "\n",
    "This is the code I was formerly using for the resampling, it's pretty inconsistent\n",
    "\n",
    "Y_glacier = response_glacier.resample('W', on='datetime', label='left').apply(np.nanmean)\n",
    "\n",
    "## Setting up inputs - wild data"
   ]
  },
  {
   "cell_type": "markdown",
   "metadata": {},
   "source": [
    "## Setting up inputs - wild data"
   ]
  },
  {
   "cell_type": "code",
   "execution_count": 20,
   "metadata": {},
   "outputs": [],
   "source": [
    "# non-motile lice\n",
    "juvenile = pd.DataFrame(fish_data[['Lep_cope', 'chalA',\n",
    "                      'chalB', 'Caligus_cope',\n",
    "                      'unid_cope', 'chal_unid']].sum(axis=1)).rename({0: 'count'}, axis=1)\n",
    "juvenile['datetime'] = fish_data_date\n",
    "juvenile['location'] = fish_data['location']"
   ]
  },
  {
   "cell_type": "code",
   "execution_count": 21,
   "metadata": {},
   "outputs": [],
   "source": [
    "year_juv_list = []\n",
    "for year in analysis_years:\n",
    "    subset = juvenile[juvenile['datetime'].dt.year == year]\n",
    "    for loc in wild_locations:\n",
    "        subset = subset.append({\n",
    "            'datetime': datetime.datetime(year, 1 , 1),\n",
    "            'location': loc,\n",
    "            'count': np.nan\n",
    "        }, ignore_index=True)\n",
    "        subset = subset.append({\n",
    "            'datetime': datetime.datetime(year, 12 , 31),\n",
    "            'location': loc,\n",
    "            'count': np.nan\n",
    "        }, ignore_index=True)\n",
    "    subset.sort_values('datetime', inplace=True)\n",
    "    subset_resample = subset.groupby('location').resample(f'W-{get_dow(datetime.datetime(year, 1, 1))}',\n",
    "                                                          on='datetime', label='left').apply(np.nanmean).interpolate(methods='linear')\n",
    "    year_juv_list.append(subset_resample)\n",
    "X_wild_juv = pd.concat(year_juv_list)"
   ]
  },
  {
   "cell_type": "markdown",
   "metadata": {},
   "source": [
    "This is the code I was previously using to resample the juvenile counts, now outdated\n",
    "\n",
    "X_wild_juv = juvenile.groupby('location').resample('W', on='datetime', label='left').apply(np.nanmean)"
   ]
  },
  {
   "cell_type": "markdown",
   "metadata": {},
   "source": [
    "Reducing dimensionality - averaging is probably okay"
   ]
  },
  {
   "cell_type": "code",
   "execution_count": null,
   "metadata": {},
   "outputs": [],
   "source": []
  },
  {
   "cell_type": "code",
   "execution_count": 22,
   "metadata": {},
   "outputs": [],
   "source": [
    "site_data['datetime'] = pd.to_datetime(site_data[['year', 'month', 'day']])"
   ]
  },
  {
   "cell_type": "code",
   "execution_count": 23,
   "metadata": {},
   "outputs": [],
   "source": [
    "year_temp_list = []\n",
    "for year in analysis_years:\n",
    "    subset = site_data.loc[(site_data['datetime'].dt.year == year), ['datetime', 'temp', 'location']]\n",
    "    for loc in wild_locations:\n",
    "        subset = subset.append({\n",
    "            'datetime': datetime.datetime(year, 1 , 1),\n",
    "            'location': loc,\n",
    "            'temp': np.nan\n",
    "        }, ignore_index=True)\n",
    "        subset = subset.append({\n",
    "            'datetime': datetime.datetime(year, 12 , 31),\n",
    "            'location': loc,\n",
    "            'temp': np.nan\n",
    "        }, ignore_index=True)\n",
    "    subset.sort_values('datetime', inplace=True)\n",
    "    subset.sort_values('datetime', inplace=True)\n",
    "    subset_resample = subset.groupby('location').resample(f'W-{get_dow(datetime.datetime(year, 1, 1))}',\n",
    "                                                          on='datetime', label='left').apply(np.nanmean).interpolate(methods='linear')\n",
    "    year_temp_list.append(subset_resample)\n",
    "X_wild_temp = pd.concat(year_temp_list)"
   ]
  },
  {
   "cell_type": "code",
   "execution_count": null,
   "metadata": {},
   "outputs": [],
   "source": []
  },
  {
   "cell_type": "code",
   "execution_count": null,
   "metadata": {},
   "outputs": [],
   "source": []
  },
  {
   "cell_type": "markdown",
   "metadata": {},
   "source": [
    "This is how I used to get these inputs, now outdated\n",
    "\n",
    "X_wild_temp = site_data[['datetime', 'temp', 'location']]\n",
    "X_wild_temp = X_wild_temp.groupby('location').resample('w', on='datetime', label='left').apply(np.nanmean)"
   ]
  },
  {
   "cell_type": "code",
   "execution_count": null,
   "metadata": {},
   "outputs": [],
   "source": []
  },
  {
   "cell_type": "code",
   "execution_count": 24,
   "metadata": {},
   "outputs": [],
   "source": [
    "year_sal_list = []\n",
    "for year in analysis_years:\n",
    "    subset = site_data.loc[(site_data['datetime'].dt.year == year), ['datetime', 'salt', 'location']]\n",
    "    for loc in wild_locations:\n",
    "        subset = subset.append({\n",
    "            'datetime': datetime.datetime(year, 1 , 1),\n",
    "            'location': loc,\n",
    "            'salt': np.nan\n",
    "        }, ignore_index=True)\n",
    "        subset = subset.append({\n",
    "            'datetime': datetime.datetime(year, 12 , 31),\n",
    "            'location': loc,\n",
    "            'salt': np.nan\n",
    "        }, ignore_index=True)\n",
    "    subset.sort_values('datetime', inplace=True)\n",
    "    subset_resample = subset.groupby('location').resample(f'W-{get_dow(datetime.datetime(year, 1, 1))}',\n",
    "                                                          on='datetime', label='left').apply(np.nanmean).interpolate(method='linear')\n",
    "    year_sal_list.append(subset_resample)\n",
    "X_wild_sal = pd.concat(year_sal_list)"
   ]
  },
  {
   "cell_type": "markdown",
   "metadata": {},
   "source": [
    "How I used to get these inputs, now outdated\n",
    "\n",
    "X_wild_sal = site_data[['datetime', 'salt', 'location']]\n",
    "X_wild_sal = X_wild_sal.groupby('location').resample('w', on='datetime', label='left').apply(np.nanmean)"
   ]
  },
  {
   "cell_type": "markdown",
   "metadata": {},
   "source": [
    "## Setting up inputs - farm data"
   ]
  },
  {
   "cell_type": "markdown",
   "metadata": {},
   "source": [
    "- There are of course concerns with using the industry counts as they *may* be of very low quality (I need to look much more extensively into this data)\n",
    "    - Should look into what kind of predictive differences including/excluding these has "
   ]
  },
  {
   "cell_type": "markdown",
   "metadata": {},
   "source": [
    "Inputs that we want\n",
    "\n",
    "44 - Sargeunts Pass\n",
    "\n",
    "41 - Doctor Islet\n",
    "\n",
    "45 - Humphrey Rock\n",
    "\n",
    "56 - Glacier Falls\n",
    "\n",
    "54 - Simoom Sound\n",
    "\n",
    "50 - Burdwood Islands\n",
    "\n",
    "53 - Sir Edmond Bay\n",
    "\n",
    "49 - Wicklow Point "
   ]
  },
  {
   "cell_type": "code",
   "execution_count": 25,
   "metadata": {
    "scrolled": false
   },
   "outputs": [
    {
     "data": {
      "text/plain": [
       "array(['Sir Edmund Bay'], dtype=object)"
      ]
     },
     "execution_count": 25,
     "metadata": {},
     "output_type": "execute_result"
    }
   ],
   "source": [
    "industry_data[industry_data['Site Common Name'].str.contains('Sir')]['Site Common Name'].unique()\n",
    "# Can't find Simoom Sound??"
   ]
  },
  {
   "cell_type": "code",
   "execution_count": null,
   "metadata": {},
   "outputs": [],
   "source": []
  },
  {
   "cell_type": "markdown",
   "metadata": {},
   "source": [
    "To reduce dimensionality:\n",
    "\n",
    "Sum farm data, implementing # of fish for some sort of area infection indicator"
   ]
  },
  {
   "cell_type": "code",
   "execution_count": null,
   "metadata": {},
   "outputs": [],
   "source": []
  },
  {
   "cell_type": "code",
   "execution_count": 26,
   "metadata": {},
   "outputs": [],
   "source": [
    "relevant_farms = ['Sargeaunt Pass',\n",
    "                  'Doctor Islets',\n",
    "                  'Humphrey Rock',\n",
    "                  'Simoom Sound*',\n",
    "                  'Burdwood',\n",
    "                  'Glacier Falls',\n",
    "                  'Sir Edmund Bay',\n",
    "                  'Wicklow Point'\n",
    "                 ]\n",
    "relevant_farms_iterable = ['Sargeaunt Pass',\n",
    "                           'Doctor Islets',\n",
    "                           'Humphrey Rock',\n",
    "                           'Burdwood',\n",
    "                           'Glacier Falls',\n",
    "                           'Sir Edmund Bay',\n",
    "                           'Wicklow Point'\n",
    "                          ]\n"
   ]
  },
  {
   "cell_type": "code",
   "execution_count": 27,
   "metadata": {
    "scrolled": true
   },
   "outputs": [
    {
     "data": {
      "text/plain": [
       "array(['Burdwood', 'Sir Edmund Bay', 'Doctor Islets', 'Glacier Falls',\n",
       "       'Wicklow Point', 'Sargeaunt Pass', 'Humphrey Rock',\n",
       "       'Wicklow Point - post treatment', 'Wicklow Point - pre treatment',\n",
       "       'Wicklow Point - post-treatment', 'Wicklow Point - pre-treatment'],\n",
       "      dtype=object)"
      ]
     },
     "execution_count": 27,
     "metadata": {},
     "output_type": "execute_result"
    }
   ],
   "source": [
    "industry_data[industry_data['Site Common Name'].str.contains('|'.join(relevant_farms))]['Site Common Name'].unique()"
   ]
  },
  {
   "cell_type": "markdown",
   "metadata": {},
   "source": [
    "From what I can tell - most of these farms don't actually have a treatment indicator\n",
    "\n",
    "Wondering if this is significant? \n",
    "\n",
    "I also can't find Simoom Sound, maybe it's here under a different name? "
   ]
  },
  {
   "cell_type": "code",
   "execution_count": 28,
   "metadata": {},
   "outputs": [],
   "source": [
    "comments_examples = industry_data[industry_data['Site Common Name'] == 'Burdwood']['Comments'].unique()"
   ]
  },
  {
   "cell_type": "markdown",
   "metadata": {},
   "source": [
    "This is how I was resampling the industry data before\n",
    "\n",
    "X_industry = relevant_farm_data[['datetime',\n",
    "                            'Site Common Name',\n",
    "                            'Average L. salmonis motiles per fish',\n",
    "                            'Average chalimus per fish']]\n",
    "X_industry = X_industry.groupby('Site Common Name').resample('W', on='datetime', label='left').mean()"
   ]
  },
  {
   "cell_type": "code",
   "execution_count": null,
   "metadata": {},
   "outputs": [],
   "source": []
  },
  {
   "cell_type": "markdown",
   "metadata": {},
   "source": [
    "The \"Recent failure to control sea louse...\" paper should have all the data I need until 2015"
   ]
  },
  {
   "cell_type": "code",
   "execution_count": null,
   "metadata": {},
   "outputs": [],
   "source": []
  },
  {
   "cell_type": "code",
   "execution_count": 29,
   "metadata": {
    "scrolled": true
   },
   "outputs": [
    {
     "name": "stderr",
     "output_type": "stream",
     "text": [
      "/opt/anaconda3/envs/EEB498/lib/python3.6/site-packages/ipykernel_launcher.py:3: SettingWithCopyWarning: \n",
      "A value is trying to be set on a copy of a slice from a DataFrame.\n",
      "Try using .loc[row_indexer,col_indexer] = value instead\n",
      "\n",
      "See the caveats in the documentation: http://pandas.pydata.org/pandas-docs/stable/user_guide/indexing.html#returning-a-view-versus-a-copy\n",
      "  This is separate from the ipykernel package so we can avoid doing imports until\n",
      "/opt/anaconda3/envs/EEB498/lib/python3.6/site-packages/ipykernel_launcher.py:18: SettingWithCopyWarning: \n",
      "A value is trying to be set on a copy of a slice from a DataFrame.\n",
      "Try using .loc[row_indexer,col_indexer] = value instead\n",
      "\n",
      "See the caveats in the documentation: http://pandas.pydata.org/pandas-docs/stable/user_guide/indexing.html#returning-a-view-versus-a-copy\n",
      "/opt/anaconda3/envs/EEB498/lib/python3.6/site-packages/ipykernel_launcher.py:19: SettingWithCopyWarning: \n",
      "A value is trying to be set on a copy of a slice from a DataFrame.\n",
      "Try using .loc[row_indexer,col_indexer] = value instead\n",
      "\n",
      "See the caveats in the documentation: http://pandas.pydata.org/pandas-docs/stable/user_guide/indexing.html#returning-a-view-versus-a-copy\n"
     ]
    }
   ],
   "source": [
    "relevant_farm_data = industry_data[industry_data['Site Common Name'].str.contains('|'.join(relevant_farms))]\n",
    "\n",
    "relevant_farm_data['Day'] = 1\n",
    "month_map = {\n",
    "    'January': 1,\n",
    "    'February': 2,\n",
    "    'March': 3,\n",
    "    'April': 4,\n",
    "    'May': 5,\n",
    "    'June': 6,\n",
    "    'July': 7,\n",
    "    'August': 8,\n",
    "    'September': 9,\n",
    "    'October': 10,\n",
    "    'November': 11,\n",
    "    'December': 12\n",
    "}\n",
    "relevant_farm_data['month'] = relevant_farm_data['Month'].map(month_map)\n",
    "relevant_farm_data['datetime'] = pd.to_datetime(relevant_farm_data[['Year', 'month', 'Day']])\n",
    "\n",
    "relevant_farm_data = relevant_farm_data[relevant_farm_data['datetime'].dt.year.isin(analysis_years)]\n",
    "\n",
    "year_industry_list = []\n",
    "for year in analysis_years:\n",
    "    subset = relevant_farm_data.loc[(relevant_farm_data['datetime'].dt.year == year), \n",
    "                                   ['datetime', 'Site Common Name', 'Average L. salmonis motiles per fish']]\n",
    "    \n",
    "    for i, farm in enumerate(relevant_farms_iterable):\n",
    "        subset = subset.append({\n",
    "            'datetime': datetime.datetime(year, 1 , 1),\n",
    "            'Site Common Name': farm,\n",
    "            'Average L. salmonis motiles per fish': np.nan\n",
    "        }, ignore_index=True)\n",
    "        subset = subset.append({\n",
    "            'datetime': datetime.datetime(year, 12 , 31),\n",
    "            'Site Common Name': farm,\n",
    "            'Average L. salmonis motiles per fish': np.nan\n",
    "        }, ignore_index=True)\n",
    "            \n",
    "    subset.sort_values('datetime', inplace=True)\n",
    "    subset_resample = subset.groupby('Site Common Name').resample(f'W-{get_dow(datetime.datetime(year, 1, 1))}',\n",
    "                                                                 on='datetime', label='left').apply(np.nanmean).interpolate(methods='linear')\n",
    "    year_industry_list.append(subset_resample)\n",
    "X_industry = pd.concat(year_industry_list)\n"
   ]
  },
  {
   "cell_type": "markdown",
   "metadata": {},
   "source": [
    "### Forming array for model input"
   ]
  },
  {
   "cell_type": "code",
   "execution_count": 30,
   "metadata": {},
   "outputs": [
    {
     "name": "stderr",
     "output_type": "stream",
     "text": [
      "/opt/anaconda3/envs/EEB498/lib/python3.6/site-packages/ipykernel_launcher.py:11: RuntimeWarning: Mean of empty slice\n",
      "  # This is added back by InteractiveShellApp.init_path()\n"
     ]
    }
   ],
   "source": [
    "arrays_to_stack = []\n",
    "\n",
    "for year in analysis_years:\n",
    "    juv_sub = np.nanmean(X_wild_juv[(X_wild_juv.index.get_level_values(1).year == year) & \n",
    "                         X_wild_juv.index.get_level_values(1).month.isin(analysis_months)].unstack().T.values, axis=1)\n",
    "    temp_sub = np.nanmean(X_wild_temp[(X_wild_temp.index.get_level_values(1).year == year) & \n",
    "                           X_wild_temp.index.get_level_values(1).month.isin(analysis_months)].unstack().T.values, axis=1)\n",
    "    sal_sub = np.nanmean(X_wild_sal[(X_wild_sal.index.get_level_values(1).year == year) & \n",
    "                         X_wild_sal.index.get_level_values(1).month.isin(analysis_months)].unstack().T.values, axis=1)\n",
    "    ind_sub = np.nanmean(X_industry[(X_industry.index.get_level_values(1).year == year) & \n",
    "                         X_industry.index.get_level_values(1).month.isin(analysis_months)].unstack().T.values, axis=1)\n",
    "    \n",
    "    year_array = np.column_stack((juv_sub, temp_sub, sal_sub, ind_sub))\n",
    "    arrays_to_stack.append(year_array)\n",
    "    \n",
    "X = np.stack(arrays_to_stack, axis=0)"
   ]
  },
  {
   "cell_type": "code",
   "execution_count": 31,
   "metadata": {},
   "outputs": [
    {
     "data": {
      "text/plain": [
       "(15, 17, 4)"
      ]
     },
     "execution_count": 31,
     "metadata": {},
     "output_type": "execute_result"
    }
   ],
   "source": [
    "X.shape"
   ]
  },
  {
   "cell_type": "code",
   "execution_count": 62,
   "metadata": {},
   "outputs": [],
   "source": [
    "arrays_to_stack = []\n",
    "\n",
    "for year in analysis_years:\n",
    "    year_Y = Y_glacier[(Y_glacier.index.year == year) & \n",
    "                       Y_glacier.index.month.isin(analysis_months)].values\n",
    "    arrays_to_stack.append(year_Y)\n",
    "    \n",
    "Y = np.stack(arrays_to_stack, axis=0)"
   ]
  },
  {
   "cell_type": "code",
   "execution_count": 33,
   "metadata": {},
   "outputs": [
    {
     "data": {
      "text/plain": [
       "(15, 17, 1)"
      ]
     },
     "execution_count": 33,
     "metadata": {},
     "output_type": "execute_result"
    }
   ],
   "source": [
    "Y.shape"
   ]
  },
  {
   "cell_type": "markdown",
   "metadata": {},
   "source": [
    "Saving the data to be sent to R, this is to ensure that I'm using the same data for both analyses"
   ]
  },
  {
   "cell_type": "markdown",
   "metadata": {},
   "source": [
    "# Experimenting with models"
   ]
  },
  {
   "cell_type": "markdown",
   "metadata": {},
   "source": [
    "## Import packages and set up functions"
   ]
  },
  {
   "cell_type": "markdown",
   "metadata": {},
   "source": [
    "Write normalising functions here (let's go with MinMaxScaling for future implementations)"
   ]
  },
  {
   "cell_type": "markdown",
   "metadata": {},
   "source": [
    "## Setup Data"
   ]
  },
  {
   "cell_type": "markdown",
   "metadata": {},
   "source": [
    "### Normalise and fill NAs"
   ]
  },
  {
   "cell_type": "code",
   "execution_count": 34,
   "metadata": {},
   "outputs": [],
   "source": [
    "from sklearn.preprocessing import MinMaxScaler"
   ]
  },
  {
   "cell_type": "code",
   "execution_count": 37,
   "metadata": {},
   "outputs": [],
   "source": [
    "X_scale = np.copy(X)\n",
    "scalers_x = {}\n",
    "for i in range(X.shape[1]):\n",
    "    scalers_x[i] = MinMaxScaler(feature_range=(-1, 1))\n",
    "    X_scale[:, i, :] = scalers_x[i].fit_transform(X[:, i, :])\n",
    "X_scale = np.nan_to_num(X_scale)\n",
    "\n",
    "Y_scale = np.copy(Y)\n",
    "scalers_y = {}\n",
    "for i in range(Y.shape[1]):\n",
    "    scalers_y[i] = MinMaxScaler(feature_range=(-1, 1))\n",
    "    Y_scale[:, i, :] = scalers_y[i].fit_transform(Y[:, i, :]) \n",
    "Y_scale = np.nan_to_num(Y_scale)"
   ]
  },
  {
   "cell_type": "markdown",
   "metadata": {},
   "source": [
    "### Split into train and test"
   ]
  },
  {
   "cell_type": "code",
   "execution_count": 38,
   "metadata": {},
   "outputs": [],
   "source": [
    "train_X = X_scale[:-3]\n",
    "train_Y = Y_scale[:-3]\n",
    "\n",
    "test_X = X_scale[-3:]\n",
    "test_Y = Y_scale[-3:]"
   ]
  },
  {
   "cell_type": "code",
   "execution_count": null,
   "metadata": {},
   "outputs": [],
   "source": []
  },
  {
   "cell_type": "markdown",
   "metadata": {},
   "source": [
    "## Baseline"
   ]
  },
  {
   "cell_type": "markdown",
   "metadata": {},
   "source": [
    "### Overall Avg"
   ]
  },
  {
   "cell_type": "code",
   "execution_count": null,
   "metadata": {},
   "outputs": [],
   "source": []
  },
  {
   "cell_type": "code",
   "execution_count": null,
   "metadata": {},
   "outputs": [],
   "source": []
  },
  {
   "cell_type": "markdown",
   "metadata": {},
   "source": [
    "### Naive seasonal"
   ]
  },
  {
   "cell_type": "code",
   "execution_count": 39,
   "metadata": {},
   "outputs": [],
   "source": [
    "def naive_seasonal(year: int, reference_data: pd.DataFrame):\n",
    "    '''\n",
    "    Naive seasonal model\n",
    "    This model takes a year to be predicted in and returns the last known year's values\n",
    "    \n",
    "    year: Year to be predicted\n",
    "    reference_data: Pandas dataframe of the test/input Y data, must have a DatetimeIndex index\n",
    "    '''\n",
    "    \n",
    "    \n",
    "    pred_subset = reference_data[reference_data.index.year == year]\n",
    "    preds = pred_subset[pred_subset.index.month.isin(analysis_months)]\n",
    "    \n",
    "    return(np.array(preds))"
   ]
  },
  {
   "cell_type": "code",
   "execution_count": null,
   "metadata": {},
   "outputs": [],
   "source": []
  },
  {
   "cell_type": "markdown",
   "metadata": {},
   "source": [
    "### ARIMA"
   ]
  },
  {
   "cell_type": "code",
   "execution_count": null,
   "metadata": {},
   "outputs": [],
   "source": []
  },
  {
   "cell_type": "code",
   "execution_count": null,
   "metadata": {},
   "outputs": [],
   "source": []
  },
  {
   "cell_type": "markdown",
   "metadata": {},
   "source": [
    "## Non-parametric"
   ]
  },
  {
   "cell_type": "code",
   "execution_count": null,
   "metadata": {},
   "outputs": [],
   "source": []
  },
  {
   "cell_type": "markdown",
   "metadata": {},
   "source": [
    "Some high level notes\n",
    "- This analysis is very rough and is in no way final!!!\n",
    "- The normalising, feature engineering, etc. is probably the roughest part of all of this. I don't expect it to have an effect on model choice but by no means should the input/output data be taken verbatim as what I intend to use\n",
    "- Optimizers: some reading has shown that RMSprop is the suggested optimiser for RNNs, this also coincides with François Chollet's use of optimisers so for now I am going with this one for RNNs and ADAM as the default for all others. This requires further research!\n",
    "- Reference points: \n",
    "     - ARIMA\n",
    "     - Mean & SD"
   ]
  },
  {
   "cell_type": "code",
   "execution_count": null,
   "metadata": {},
   "outputs": [],
   "source": []
  },
  {
   "cell_type": "markdown",
   "metadata": {},
   "source": [
    "### Setting up tensorboard logs"
   ]
  },
  {
   "cell_type": "code",
   "execution_count": null,
   "metadata": {},
   "outputs": [],
   "source": []
  },
  {
   "cell_type": "markdown",
   "metadata": {},
   "source": [
    "### LSTM"
   ]
  },
  {
   "cell_type": "markdown",
   "metadata": {},
   "source": [
    "Notes on LSTM"
   ]
  },
  {
   "cell_type": "code",
   "execution_count": 40,
   "metadata": {},
   "outputs": [],
   "source": [
    "!rm -rf ./logs/ \n",
    "log_dir=\"logs/fit/\" + datetime.datetime.now().strftime(\"%Y%m%d-%H%M%S\")\n",
    "tensorboard_callback = tf.keras.callbacks.TensorBoard(log_dir=log_dir, histogram_freq=1)"
   ]
  },
  {
   "cell_type": "code",
   "execution_count": 43,
   "metadata": {},
   "outputs": [
    {
     "name": "stdout",
     "output_type": "stream",
     "text": [
      "Train on 9 samples, validate on 3 samples\n",
      "Epoch 1/500\n",
      "9/9 [==============================] - 2s 173ms/sample - loss: 0.7675 - acc: 0.1307 - val_loss: 0.6748 - val_acc: 0.2353\n",
      "Epoch 2/500\n",
      "9/9 [==============================] - 0s 3ms/sample - loss: 0.7144 - acc: 0.1307 - val_loss: 0.6176 - val_acc: 0.2353\n",
      "Epoch 3/500\n",
      "9/9 [==============================] - 0s 4ms/sample - loss: 0.6795 - acc: 0.1307 - val_loss: 0.5673 - val_acc: 0.2353\n",
      "Epoch 4/500\n",
      "9/9 [==============================] - 0s 4ms/sample - loss: 0.6470 - acc: 0.1307 - val_loss: 0.5215 - val_acc: 0.2353\n",
      "Epoch 5/500\n",
      "9/9 [==============================] - 0s 4ms/sample - loss: 0.6103 - acc: 0.1307 - val_loss: 0.4787 - val_acc: 0.2353\n",
      "Epoch 6/500\n",
      "9/9 [==============================] - 0s 4ms/sample - loss: 0.5882 - acc: 0.1307 - val_loss: 0.4364 - val_acc: 0.2353\n",
      "Epoch 7/500\n",
      "9/9 [==============================] - 0s 4ms/sample - loss: 0.5566 - acc: 0.1307 - val_loss: 0.3929 - val_acc: 0.2353\n",
      "Epoch 8/500\n",
      "9/9 [==============================] - 0s 4ms/sample - loss: 0.5310 - acc: 0.1307 - val_loss: 0.3481 - val_acc: 0.2353\n",
      "Epoch 9/500\n",
      "9/9 [==============================] - 0s 4ms/sample - loss: 0.4962 - acc: 0.1307 - val_loss: 0.3017 - val_acc: 0.2353\n",
      "Epoch 10/500\n",
      "9/9 [==============================] - 0s 4ms/sample - loss: 0.4738 - acc: 0.1307 - val_loss: 0.2544 - val_acc: 0.2353\n",
      "Epoch 11/500\n",
      "9/9 [==============================] - 0s 4ms/sample - loss: 0.4322 - acc: 0.1307 - val_loss: 0.2074 - val_acc: 0.2353\n",
      "Epoch 12/500\n",
      "9/9 [==============================] - 0s 4ms/sample - loss: 0.4221 - acc: 0.1307 - val_loss: 0.1625 - val_acc: 0.2353\n",
      "Epoch 13/500\n",
      "9/9 [==============================] - 0s 4ms/sample - loss: 0.3894 - acc: 0.1307 - val_loss: 0.1225 - val_acc: 0.2353\n",
      "Epoch 14/500\n",
      "9/9 [==============================] - 0s 4ms/sample - loss: 0.3759 - acc: 0.1307 - val_loss: 0.0921 - val_acc: 0.2353\n",
      "Epoch 15/500\n",
      "9/9 [==============================] - 0s 4ms/sample - loss: 0.3570 - acc: 0.1307 - val_loss: 0.0775 - val_acc: 0.2353\n",
      "Epoch 16/500\n",
      "9/9 [==============================] - 0s 3ms/sample - loss: 0.3674 - acc: 0.1307 - val_loss: 0.0813 - val_acc: 0.2353\n",
      "Epoch 17/500\n",
      "9/9 [==============================] - 0s 4ms/sample - loss: 0.3594 - acc: 0.1307 - val_loss: 0.0917 - val_acc: 0.2353\n",
      "Epoch 18/500\n",
      "9/9 [==============================] - 0s 3ms/sample - loss: 0.3413 - acc: 0.1307 - val_loss: 0.0988 - val_acc: 0.2353\n",
      "Epoch 19/500\n",
      "9/9 [==============================] - 0s 3ms/sample - loss: 0.3641 - acc: 0.1307 - val_loss: 0.0941 - val_acc: 0.2353\n",
      "Epoch 20/500\n",
      "9/9 [==============================] - 0s 4ms/sample - loss: 0.3590 - acc: 0.1307 - val_loss: 0.0836 - val_acc: 0.2353\n",
      "Epoch 21/500\n",
      "9/9 [==============================] - 0s 4ms/sample - loss: 0.3219 - acc: 0.1307 - val_loss: 0.0742 - val_acc: 0.2353\n",
      "Epoch 22/500\n",
      "9/9 [==============================] - 0s 4ms/sample - loss: 0.3104 - acc: 0.1307 - val_loss: 0.0687 - val_acc: 0.2353\n",
      "Epoch 23/500\n",
      "9/9 [==============================] - 0s 4ms/sample - loss: 0.3032 - acc: 0.1307 - val_loss: 0.0672 - val_acc: 0.2353\n",
      "Epoch 24/500\n",
      "9/9 [==============================] - 0s 4ms/sample - loss: 0.3104 - acc: 0.1307 - val_loss: 0.0687 - val_acc: 0.2353\n",
      "Epoch 25/500\n",
      "9/9 [==============================] - 0s 4ms/sample - loss: 0.3028 - acc: 0.1307 - val_loss: 0.0724 - val_acc: 0.2353\n",
      "Epoch 26/500\n",
      "9/9 [==============================] - 0s 3ms/sample - loss: 0.2933 - acc: 0.1307 - val_loss: 0.0762 - val_acc: 0.2353\n",
      "Epoch 27/500\n",
      "9/9 [==============================] - 0s 4ms/sample - loss: 0.2952 - acc: 0.1307 - val_loss: 0.0789 - val_acc: 0.2353\n",
      "Epoch 28/500\n",
      "9/9 [==============================] - 0s 4ms/sample - loss: 0.2956 - acc: 0.1307 - val_loss: 0.0795 - val_acc: 0.2353\n",
      "Epoch 29/500\n",
      "9/9 [==============================] - 0s 3ms/sample - loss: 0.3065 - acc: 0.1307 - val_loss: 0.0783 - val_acc: 0.2353\n",
      "Epoch 30/500\n",
      "9/9 [==============================] - 0s 4ms/sample - loss: 0.3062 - acc: 0.1307 - val_loss: 0.0756 - val_acc: 0.2353\n",
      "Epoch 31/500\n",
      "9/9 [==============================] - 0s 4ms/sample - loss: 0.2795 - acc: 0.1307 - val_loss: 0.0721 - val_acc: 0.2353\n",
      "Epoch 32/500\n",
      "9/9 [==============================] - 0s 4ms/sample - loss: 0.2859 - acc: 0.1569 - val_loss: 0.0686 - val_acc: 0.2353\n",
      "Epoch 33/500\n",
      "9/9 [==============================] - 0s 4ms/sample - loss: 0.2572 - acc: 0.1569 - val_loss: 0.0657 - val_acc: 0.2353\n",
      "Epoch 34/500\n",
      "9/9 [==============================] - 0s 4ms/sample - loss: 0.2554 - acc: 0.1699 - val_loss: 0.0644 - val_acc: 0.2353\n",
      "Epoch 35/500\n",
      "9/9 [==============================] - 0s 3ms/sample - loss: 0.2638 - acc: 0.1569 - val_loss: 0.0652 - val_acc: 0.2353\n",
      "Epoch 36/500\n",
      "9/9 [==============================] - 0s 3ms/sample - loss: 0.2656 - acc: 0.1503 - val_loss: 0.0672 - val_acc: 0.2353\n",
      "Epoch 37/500\n",
      "9/9 [==============================] - 0s 3ms/sample - loss: 0.2646 - acc: 0.1569 - val_loss: 0.0700 - val_acc: 0.2353\n",
      "Epoch 38/500\n",
      "9/9 [==============================] - 0s 3ms/sample - loss: 0.2580 - acc: 0.1765 - val_loss: 0.0715 - val_acc: 0.2353\n",
      "Epoch 39/500\n",
      "9/9 [==============================] - 0s 3ms/sample - loss: 0.2427 - acc: 0.1765 - val_loss: 0.0726 - val_acc: 0.2353\n",
      "Epoch 40/500\n",
      "9/9 [==============================] - 0s 3ms/sample - loss: 0.2611 - acc: 0.1765 - val_loss: 0.0723 - val_acc: 0.2353\n",
      "Epoch 41/500\n",
      "9/9 [==============================] - 0s 3ms/sample - loss: 0.2458 - acc: 0.1830 - val_loss: 0.0712 - val_acc: 0.2353\n",
      "Epoch 42/500\n",
      "9/9 [==============================] - 0s 3ms/sample - loss: 0.2451 - acc: 0.1699 - val_loss: 0.0699 - val_acc: 0.2353\n",
      "Epoch 43/500\n",
      "9/9 [==============================] - 0s 3ms/sample - loss: 0.2352 - acc: 0.1765 - val_loss: 0.0690 - val_acc: 0.2353\n",
      "Epoch 44/500\n",
      "9/9 [==============================] - 0s 3ms/sample - loss: 0.2318 - acc: 0.1699 - val_loss: 0.0686 - val_acc: 0.2353\n",
      "Epoch 45/500\n",
      "9/9 [==============================] - 0s 3ms/sample - loss: 0.2398 - acc: 0.1634 - val_loss: 0.0686 - val_acc: 0.2353\n",
      "Epoch 46/500\n",
      "9/9 [==============================] - 0s 3ms/sample - loss: 0.2332 - acc: 0.1699 - val_loss: 0.0692 - val_acc: 0.2353\n",
      "Epoch 47/500\n",
      "9/9 [==============================] - 0s 3ms/sample - loss: 0.2359 - acc: 0.1634 - val_loss: 0.0704 - val_acc: 0.2353\n",
      "Epoch 48/500\n",
      "9/9 [==============================] - 0s 3ms/sample - loss: 0.2326 - acc: 0.1699 - val_loss: 0.0716 - val_acc: 0.2353\n",
      "Epoch 49/500\n",
      "9/9 [==============================] - 0s 3ms/sample - loss: 0.2424 - acc: 0.1569 - val_loss: 0.0728 - val_acc: 0.2353\n",
      "Epoch 50/500\n",
      "9/9 [==============================] - 0s 3ms/sample - loss: 0.2360 - acc: 0.1634 - val_loss: 0.0735 - val_acc: 0.2353\n",
      "Epoch 51/500\n",
      "9/9 [==============================] - 0s 3ms/sample - loss: 0.2312 - acc: 0.1765 - val_loss: 0.0736 - val_acc: 0.2353\n",
      "Epoch 52/500\n",
      "9/9 [==============================] - 0s 4ms/sample - loss: 0.2147 - acc: 0.1765 - val_loss: 0.0736 - val_acc: 0.2353\n",
      "Epoch 53/500\n",
      "9/9 [==============================] - 0s 4ms/sample - loss: 0.2354 - acc: 0.1634 - val_loss: 0.0733 - val_acc: 0.2353\n",
      "Epoch 54/500\n",
      "9/9 [==============================] - 0s 4ms/sample - loss: 0.2324 - acc: 0.1765 - val_loss: 0.0730 - val_acc: 0.2353\n",
      "Epoch 55/500\n",
      "9/9 [==============================] - 0s 4ms/sample - loss: 0.2287 - acc: 0.1765 - val_loss: 0.0732 - val_acc: 0.2353\n",
      "Epoch 56/500\n",
      "9/9 [==============================] - 0s 4ms/sample - loss: 0.2250 - acc: 0.1699 - val_loss: 0.0741 - val_acc: 0.2353\n",
      "Epoch 57/500\n",
      "9/9 [==============================] - 0s 4ms/sample - loss: 0.2422 - acc: 0.1569 - val_loss: 0.0754 - val_acc: 0.2353\n",
      "Epoch 58/500\n",
      "9/9 [==============================] - 0s 3ms/sample - loss: 0.2293 - acc: 0.1765 - val_loss: 0.0770 - val_acc: 0.2353\n",
      "Epoch 59/500\n",
      "9/9 [==============================] - 0s 5ms/sample - loss: 0.2245 - acc: 0.1765 - val_loss: 0.0790 - val_acc: 0.2353\n",
      "Epoch 60/500\n",
      "9/9 [==============================] - 0s 4ms/sample - loss: 0.2052 - acc: 0.1765 - val_loss: 0.0808 - val_acc: 0.2353\n",
      "Epoch 61/500\n",
      "9/9 [==============================] - 0s 4ms/sample - loss: 0.2338 - acc: 0.1765 - val_loss: 0.0814 - val_acc: 0.2353\n",
      "Epoch 62/500\n",
      "9/9 [==============================] - 0s 4ms/sample - loss: 0.2031 - acc: 0.1830 - val_loss: 0.0817 - val_acc: 0.2353\n"
     ]
    },
    {
     "name": "stdout",
     "output_type": "stream",
     "text": [
      "Epoch 63/500\n",
      "9/9 [==============================] - 0s 4ms/sample - loss: 0.2175 - acc: 0.1699 - val_loss: 0.0821 - val_acc: 0.2353\n",
      "Epoch 64/500\n",
      "9/9 [==============================] - 0s 4ms/sample - loss: 0.2211 - acc: 0.1765 - val_loss: 0.0822 - val_acc: 0.2353\n",
      "Epoch 65/500\n",
      "9/9 [==============================] - 0s 4ms/sample - loss: 0.2162 - acc: 0.1895 - val_loss: 0.0829 - val_acc: 0.2353\n",
      "Epoch 66/500\n",
      "9/9 [==============================] - 0s 4ms/sample - loss: 0.2069 - acc: 0.1699 - val_loss: 0.0842 - val_acc: 0.2353\n",
      "Epoch 67/500\n",
      "9/9 [==============================] - 0s 4ms/sample - loss: 0.1997 - acc: 0.1765 - val_loss: 0.0861 - val_acc: 0.2353\n",
      "Epoch 68/500\n",
      "9/9 [==============================] - 0s 3ms/sample - loss: 0.2020 - acc: 0.1895 - val_loss: 0.0886 - val_acc: 0.2353\n",
      "Epoch 69/500\n",
      "9/9 [==============================] - 0s 3ms/sample - loss: 0.2114 - acc: 0.1830 - val_loss: 0.0912 - val_acc: 0.2353\n",
      "Epoch 70/500\n",
      "9/9 [==============================] - 0s 3ms/sample - loss: 0.1930 - acc: 0.1961 - val_loss: 0.0931 - val_acc: 0.2353\n",
      "Epoch 71/500\n",
      "9/9 [==============================] - 0s 4ms/sample - loss: 0.2118 - acc: 0.1634 - val_loss: 0.0945 - val_acc: 0.2353\n",
      "Epoch 72/500\n",
      "9/9 [==============================] - 0s 3ms/sample - loss: 0.2000 - acc: 0.1699 - val_loss: 0.0961 - val_acc: 0.2353\n",
      "Epoch 73/500\n",
      "9/9 [==============================] - 0s 3ms/sample - loss: 0.2078 - acc: 0.1830 - val_loss: 0.0970 - val_acc: 0.2353\n",
      "Epoch 74/500\n",
      "9/9 [==============================] - 0s 3ms/sample - loss: 0.2008 - acc: 0.1895 - val_loss: 0.0983 - val_acc: 0.2353\n",
      "Epoch 75/500\n",
      "9/9 [==============================] - 0s 3ms/sample - loss: 0.1875 - acc: 0.1765 - val_loss: 0.0983 - val_acc: 0.2353\n",
      "Epoch 76/500\n",
      "9/9 [==============================] - 0s 4ms/sample - loss: 0.1944 - acc: 0.1830 - val_loss: 0.0992 - val_acc: 0.2353\n",
      "Epoch 77/500\n",
      "9/9 [==============================] - 0s 3ms/sample - loss: 0.1969 - acc: 0.1895 - val_loss: 0.1012 - val_acc: 0.2353\n",
      "Epoch 78/500\n",
      "9/9 [==============================] - 0s 3ms/sample - loss: 0.1982 - acc: 0.1961 - val_loss: 0.1041 - val_acc: 0.2353\n",
      "Epoch 79/500\n",
      "9/9 [==============================] - 0s 4ms/sample - loss: 0.2030 - acc: 0.1699 - val_loss: 0.1082 - val_acc: 0.2353\n",
      "Epoch 80/500\n",
      "9/9 [==============================] - 0s 3ms/sample - loss: 0.2017 - acc: 0.1961 - val_loss: 0.1149 - val_acc: 0.2353\n",
      "Epoch 81/500\n",
      "9/9 [==============================] - 0s 3ms/sample - loss: 0.1875 - acc: 0.1895 - val_loss: 0.1229 - val_acc: 0.2353\n",
      "Epoch 82/500\n",
      "9/9 [==============================] - 0s 4ms/sample - loss: 0.1922 - acc: 0.1830 - val_loss: 0.1309 - val_acc: 0.2353\n",
      "Epoch 83/500\n",
      "9/9 [==============================] - 0s 3ms/sample - loss: 0.1924 - acc: 0.1895 - val_loss: 0.1374 - val_acc: 0.2353\n",
      "Epoch 84/500\n",
      "9/9 [==============================] - 0s 3ms/sample - loss: 0.1761 - acc: 0.1961 - val_loss: 0.1422 - val_acc: 0.2353\n",
      "Epoch 85/500\n",
      "9/9 [==============================] - 0s 3ms/sample - loss: 0.1815 - acc: 0.1961 - val_loss: 0.1449 - val_acc: 0.2353\n",
      "Epoch 86/500\n",
      "9/9 [==============================] - 0s 3ms/sample - loss: 0.1917 - acc: 0.1830 - val_loss: 0.1457 - val_acc: 0.2353\n",
      "Epoch 87/500\n",
      "9/9 [==============================] - 0s 3ms/sample - loss: 0.1889 - acc: 0.1830 - val_loss: 0.1390 - val_acc: 0.2353\n",
      "Epoch 88/500\n",
      "9/9 [==============================] - 0s 3ms/sample - loss: 0.1982 - acc: 0.1765 - val_loss: 0.1341 - val_acc: 0.2353\n",
      "Epoch 89/500\n",
      "9/9 [==============================] - 0s 3ms/sample - loss: 0.2123 - acc: 0.1830 - val_loss: 0.1304 - val_acc: 0.2353\n",
      "Epoch 90/500\n",
      "9/9 [==============================] - 0s 3ms/sample - loss: 0.1908 - acc: 0.1961 - val_loss: 0.1296 - val_acc: 0.2353\n",
      "Epoch 91/500\n",
      "9/9 [==============================] - 0s 3ms/sample - loss: 0.1841 - acc: 0.1961 - val_loss: 0.1335 - val_acc: 0.2353\n",
      "Epoch 92/500\n",
      "9/9 [==============================] - 0s 3ms/sample - loss: 0.1788 - acc: 0.1895 - val_loss: 0.1429 - val_acc: 0.2353\n",
      "Epoch 93/500\n",
      "9/9 [==============================] - 0s 3ms/sample - loss: 0.1964 - acc: 0.1830 - val_loss: 0.1490 - val_acc: 0.2353\n",
      "Epoch 94/500\n",
      "9/9 [==============================] - 0s 3ms/sample - loss: 0.1848 - acc: 0.1765 - val_loss: 0.1560 - val_acc: 0.2353\n",
      "Epoch 95/500\n",
      "9/9 [==============================] - 0s 3ms/sample - loss: 0.2075 - acc: 0.1569 - val_loss: 0.1644 - val_acc: 0.2353\n",
      "Epoch 96/500\n",
      "9/9 [==============================] - 0s 3ms/sample - loss: 0.1925 - acc: 0.1765 - val_loss: 0.1662 - val_acc: 0.2353\n",
      "Epoch 97/500\n",
      "9/9 [==============================] - 0s 3ms/sample - loss: 0.1891 - acc: 0.1961 - val_loss: 0.1651 - val_acc: 0.2353\n",
      "Epoch 98/500\n",
      "9/9 [==============================] - 0s 3ms/sample - loss: 0.1831 - acc: 0.1961 - val_loss: 0.1622 - val_acc: 0.2353\n",
      "Epoch 99/500\n",
      "9/9 [==============================] - 0s 3ms/sample - loss: 0.1816 - acc: 0.1830 - val_loss: 0.1611 - val_acc: 0.2353\n",
      "Epoch 100/500\n",
      "9/9 [==============================] - 0s 3ms/sample - loss: 0.1826 - acc: 0.1830 - val_loss: 0.1581 - val_acc: 0.2353\n",
      "Epoch 101/500\n",
      "9/9 [==============================] - 0s 3ms/sample - loss: 0.1904 - acc: 0.1895 - val_loss: 0.1549 - val_acc: 0.2353\n",
      "Epoch 102/500\n",
      "9/9 [==============================] - 0s 3ms/sample - loss: 0.1872 - acc: 0.1830 - val_loss: 0.1500 - val_acc: 0.2353\n",
      "Epoch 103/500\n",
      "9/9 [==============================] - 0s 5ms/sample - loss: 0.1866 - acc: 0.2026 - val_loss: 0.1468 - val_acc: 0.2353\n",
      "Epoch 104/500\n",
      "9/9 [==============================] - 0s 5ms/sample - loss: 0.1908 - acc: 0.1961 - val_loss: 0.1447 - val_acc: 0.2353\n",
      "Epoch 105/500\n",
      "9/9 [==============================] - 0s 4ms/sample - loss: 0.1833 - acc: 0.1961 - val_loss: 0.1434 - val_acc: 0.2353\n",
      "Epoch 106/500\n",
      "9/9 [==============================] - 0s 4ms/sample - loss: 0.1830 - acc: 0.1961 - val_loss: 0.1447 - val_acc: 0.2353\n",
      "Epoch 107/500\n",
      "9/9 [==============================] - 0s 4ms/sample - loss: 0.1835 - acc: 0.1895 - val_loss: 0.1448 - val_acc: 0.2353\n",
      "Epoch 108/500\n",
      "9/9 [==============================] - 0s 4ms/sample - loss: 0.1824 - acc: 0.1765 - val_loss: 0.1460 - val_acc: 0.2353\n",
      "Epoch 109/500\n",
      "9/9 [==============================] - 0s 4ms/sample - loss: 0.1895 - acc: 0.1830 - val_loss: 0.1466 - val_acc: 0.2353\n",
      "Epoch 110/500\n",
      "9/9 [==============================] - 0s 4ms/sample - loss: 0.1912 - acc: 0.1765 - val_loss: 0.1478 - val_acc: 0.2353\n",
      "Epoch 111/500\n",
      "9/9 [==============================] - 0s 4ms/sample - loss: 0.1770 - acc: 0.1895 - val_loss: 0.1474 - val_acc: 0.2353\n",
      "Epoch 112/500\n",
      "9/9 [==============================] - 0s 4ms/sample - loss: 0.1792 - acc: 0.1895 - val_loss: 0.1463 - val_acc: 0.2353\n",
      "Epoch 113/500\n",
      "9/9 [==============================] - 0s 4ms/sample - loss: 0.1841 - acc: 0.1765 - val_loss: 0.1440 - val_acc: 0.2353\n",
      "Epoch 114/500\n",
      "9/9 [==============================] - 0s 4ms/sample - loss: 0.1731 - acc: 0.1830 - val_loss: 0.1436 - val_acc: 0.2353\n",
      "Epoch 115/500\n",
      "9/9 [==============================] - 0s 4ms/sample - loss: 0.1720 - acc: 0.1961 - val_loss: 0.1447 - val_acc: 0.2353\n",
      "Epoch 116/500\n",
      "9/9 [==============================] - 0s 4ms/sample - loss: 0.1874 - acc: 0.1895 - val_loss: 0.1457 - val_acc: 0.2353\n",
      "Epoch 117/500\n",
      "9/9 [==============================] - 0s 4ms/sample - loss: 0.1882 - acc: 0.1699 - val_loss: 0.1429 - val_acc: 0.2353\n",
      "Epoch 118/500\n",
      "9/9 [==============================] - 0s 4ms/sample - loss: 0.1669 - acc: 0.1961 - val_loss: 0.1414 - val_acc: 0.2353\n",
      "Epoch 119/500\n",
      "9/9 [==============================] - 0s 4ms/sample - loss: 0.1673 - acc: 0.1895 - val_loss: 0.1406 - val_acc: 0.2353\n",
      "Epoch 120/500\n",
      "9/9 [==============================] - 0s 3ms/sample - loss: 0.1851 - acc: 0.1895 - val_loss: 0.1364 - val_acc: 0.2353\n",
      "Epoch 121/500\n",
      "9/9 [==============================] - 0s 4ms/sample - loss: 0.1865 - acc: 0.1830 - val_loss: 0.1316 - val_acc: 0.2353\n",
      "Epoch 122/500\n",
      "9/9 [==============================] - 0s 4ms/sample - loss: 0.1909 - acc: 0.1895 - val_loss: 0.1260 - val_acc: 0.2353\n",
      "Epoch 123/500\n",
      "9/9 [==============================] - 0s 4ms/sample - loss: 0.1911 - acc: 0.1765 - val_loss: 0.1206 - val_acc: 0.2353\n",
      "Epoch 124/500\n",
      "9/9 [==============================] - 0s 4ms/sample - loss: 0.1738 - acc: 0.1961 - val_loss: 0.1168 - val_acc: 0.2353\n"
     ]
    },
    {
     "name": "stdout",
     "output_type": "stream",
     "text": [
      "Epoch 125/500\n",
      "9/9 [==============================] - 0s 4ms/sample - loss: 0.1731 - acc: 0.1895 - val_loss: 0.1142 - val_acc: 0.2353\n",
      "Epoch 126/500\n",
      "9/9 [==============================] - 0s 4ms/sample - loss: 0.1825 - acc: 0.1961 - val_loss: 0.1131 - val_acc: 0.2353\n",
      "Epoch 127/500\n",
      "9/9 [==============================] - 0s 4ms/sample - loss: 0.1781 - acc: 0.1895 - val_loss: 0.1141 - val_acc: 0.2353\n",
      "Epoch 128/500\n",
      "9/9 [==============================] - 0s 4ms/sample - loss: 0.1852 - acc: 0.1765 - val_loss: 0.1174 - val_acc: 0.2353\n",
      "Epoch 129/500\n",
      "9/9 [==============================] - 0s 4ms/sample - loss: 0.1756 - acc: 0.1961 - val_loss: 0.1232 - val_acc: 0.2353\n",
      "Epoch 130/500\n",
      "9/9 [==============================] - 0s 4ms/sample - loss: 0.1777 - acc: 0.1961 - val_loss: 0.1300 - val_acc: 0.2353\n",
      "Epoch 131/500\n",
      "9/9 [==============================] - 0s 3ms/sample - loss: 0.1761 - acc: 0.1830 - val_loss: 0.1370 - val_acc: 0.2353\n",
      "Epoch 132/500\n",
      "9/9 [==============================] - 0s 4ms/sample - loss: 0.1798 - acc: 0.1895 - val_loss: 0.1389 - val_acc: 0.2353\n",
      "Epoch 133/500\n",
      "9/9 [==============================] - 0s 3ms/sample - loss: 0.1767 - acc: 0.1961 - val_loss: 0.1339 - val_acc: 0.2353\n",
      "Epoch 134/500\n",
      "9/9 [==============================] - 0s 4ms/sample - loss: 0.1909 - acc: 0.1895 - val_loss: 0.1250 - val_acc: 0.2353\n",
      "Epoch 135/500\n",
      "9/9 [==============================] - 0s 4ms/sample - loss: 0.1806 - acc: 0.1961 - val_loss: 0.1164 - val_acc: 0.2353\n",
      "Epoch 136/500\n",
      "9/9 [==============================] - 0s 4ms/sample - loss: 0.1683 - acc: 0.2026 - val_loss: 0.1110 - val_acc: 0.2353\n",
      "Epoch 137/500\n",
      "9/9 [==============================] - 0s 4ms/sample - loss: 0.1621 - acc: 0.1961 - val_loss: 0.1081 - val_acc: 0.2353\n",
      "Epoch 138/500\n",
      "9/9 [==============================] - 0s 3ms/sample - loss: 0.1707 - acc: 0.2026 - val_loss: 0.1073 - val_acc: 0.2353\n",
      "Epoch 139/500\n",
      "9/9 [==============================] - 0s 4ms/sample - loss: 0.1698 - acc: 0.1830 - val_loss: 0.1079 - val_acc: 0.2353\n",
      "Epoch 140/500\n",
      "9/9 [==============================] - 0s 4ms/sample - loss: 0.1713 - acc: 0.1895 - val_loss: 0.1094 - val_acc: 0.2353\n",
      "Epoch 141/500\n",
      "9/9 [==============================] - 0s 4ms/sample - loss: 0.1829 - acc: 0.1765 - val_loss: 0.1119 - val_acc: 0.2353\n",
      "Epoch 142/500\n",
      "9/9 [==============================] - 0s 4ms/sample - loss: 0.1748 - acc: 0.1765 - val_loss: 0.1143 - val_acc: 0.2353\n",
      "Epoch 143/500\n",
      "9/9 [==============================] - 0s 4ms/sample - loss: 0.1824 - acc: 0.1634 - val_loss: 0.1157 - val_acc: 0.2353\n",
      "Epoch 144/500\n",
      "9/9 [==============================] - 0s 4ms/sample - loss: 0.1687 - acc: 0.1895 - val_loss: 0.1166 - val_acc: 0.2353\n",
      "Epoch 145/500\n",
      "9/9 [==============================] - 0s 4ms/sample - loss: 0.1758 - acc: 0.1830 - val_loss: 0.1162 - val_acc: 0.2353\n",
      "Epoch 146/500\n",
      "9/9 [==============================] - 0s 4ms/sample - loss: 0.1815 - acc: 0.1895 - val_loss: 0.1161 - val_acc: 0.2353\n",
      "Epoch 147/500\n",
      "9/9 [==============================] - 0s 4ms/sample - loss: 0.1664 - acc: 0.1895 - val_loss: 0.1155 - val_acc: 0.2353\n",
      "Epoch 148/500\n",
      "9/9 [==============================] - 0s 4ms/sample - loss: 0.1642 - acc: 0.1961 - val_loss: 0.1144 - val_acc: 0.2353\n",
      "Epoch 149/500\n",
      "9/9 [==============================] - 0s 3ms/sample - loss: 0.1793 - acc: 0.1830 - val_loss: 0.1133 - val_acc: 0.2353\n",
      "Epoch 150/500\n",
      "9/9 [==============================] - 0s 3ms/sample - loss: 0.1606 - acc: 0.1830 - val_loss: 0.1139 - val_acc: 0.2353\n",
      "Epoch 151/500\n",
      "9/9 [==============================] - 0s 4ms/sample - loss: 0.1604 - acc: 0.1961 - val_loss: 0.1136 - val_acc: 0.2353\n",
      "Epoch 152/500\n",
      "9/9 [==============================] - 0s 4ms/sample - loss: 0.1695 - acc: 0.1895 - val_loss: 0.1137 - val_acc: 0.2353\n",
      "Epoch 153/500\n",
      "9/9 [==============================] - 0s 4ms/sample - loss: 0.1734 - acc: 0.1699 - val_loss: 0.1152 - val_acc: 0.2353\n",
      "Epoch 154/500\n",
      "9/9 [==============================] - 0s 4ms/sample - loss: 0.1640 - acc: 0.1961 - val_loss: 0.1183 - val_acc: 0.2353\n",
      "Epoch 155/500\n",
      "9/9 [==============================] - 0s 3ms/sample - loss: 0.1772 - acc: 0.1895 - val_loss: 0.1205 - val_acc: 0.2353\n",
      "Epoch 156/500\n",
      "9/9 [==============================] - 0s 3ms/sample - loss: 0.1721 - acc: 0.1895 - val_loss: 0.1235 - val_acc: 0.2353\n",
      "Epoch 157/500\n",
      "9/9 [==============================] - 0s 3ms/sample - loss: 0.1735 - acc: 0.1830 - val_loss: 0.1266 - val_acc: 0.2353\n",
      "Epoch 158/500\n",
      "9/9 [==============================] - 0s 4ms/sample - loss: 0.1620 - acc: 0.1961 - val_loss: 0.1289 - val_acc: 0.2353\n",
      "Epoch 159/500\n",
      "9/9 [==============================] - 0s 4ms/sample - loss: 0.1610 - acc: 0.1961 - val_loss: 0.1295 - val_acc: 0.2353\n",
      "Epoch 160/500\n",
      "9/9 [==============================] - 0s 4ms/sample - loss: 0.1635 - acc: 0.1895 - val_loss: 0.1291 - val_acc: 0.2353\n",
      "Epoch 161/500\n",
      "9/9 [==============================] - 0s 3ms/sample - loss: 0.1767 - acc: 0.1765 - val_loss: 0.1271 - val_acc: 0.2353\n",
      "Epoch 162/500\n",
      "9/9 [==============================] - 0s 3ms/sample - loss: 0.1560 - acc: 0.1895 - val_loss: 0.1280 - val_acc: 0.2353\n",
      "Epoch 163/500\n",
      "9/9 [==============================] - 0s 3ms/sample - loss: 0.1568 - acc: 0.1895 - val_loss: 0.1307 - val_acc: 0.2353\n",
      "Epoch 164/500\n",
      "9/9 [==============================] - 0s 4ms/sample - loss: 0.1590 - acc: 0.2026 - val_loss: 0.1331 - val_acc: 0.2353\n",
      "Epoch 165/500\n",
      "9/9 [==============================] - 0s 3ms/sample - loss: 0.1571 - acc: 0.1961 - val_loss: 0.1379 - val_acc: 0.2353\n",
      "Epoch 166/500\n",
      "9/9 [==============================] - 0s 3ms/sample - loss: 0.1752 - acc: 0.1961 - val_loss: 0.1451 - val_acc: 0.2353\n",
      "Epoch 167/500\n",
      "9/9 [==============================] - 0s 4ms/sample - loss: 0.1630 - acc: 0.1961 - val_loss: 0.1498 - val_acc: 0.2353\n",
      "Epoch 168/500\n",
      "9/9 [==============================] - 0s 4ms/sample - loss: 0.1644 - acc: 0.1895 - val_loss: 0.1483 - val_acc: 0.2353\n",
      "Epoch 169/500\n",
      "9/9 [==============================] - 0s 4ms/sample - loss: 0.1616 - acc: 0.1895 - val_loss: 0.1430 - val_acc: 0.2353\n",
      "Epoch 170/500\n",
      "9/9 [==============================] - 0s 4ms/sample - loss: 0.1533 - acc: 0.1895 - val_loss: 0.1393 - val_acc: 0.2353\n",
      "Epoch 171/500\n",
      "9/9 [==============================] - 0s 4ms/sample - loss: 0.1572 - acc: 0.1895 - val_loss: 0.1371 - val_acc: 0.2353\n",
      "Epoch 172/500\n",
      "9/9 [==============================] - 0s 4ms/sample - loss: 0.1667 - acc: 0.1895 - val_loss: 0.1368 - val_acc: 0.2353\n",
      "Epoch 173/500\n",
      "9/9 [==============================] - 0s 4ms/sample - loss: 0.1588 - acc: 0.1961 - val_loss: 0.1379 - val_acc: 0.2353\n",
      "Epoch 174/500\n",
      "9/9 [==============================] - 0s 4ms/sample - loss: 0.1543 - acc: 0.1765 - val_loss: 0.1385 - val_acc: 0.2353\n",
      "Epoch 175/500\n",
      "9/9 [==============================] - 0s 3ms/sample - loss: 0.1629 - acc: 0.1830 - val_loss: 0.1408 - val_acc: 0.2353\n",
      "Epoch 176/500\n",
      "9/9 [==============================] - 0s 4ms/sample - loss: 0.1626 - acc: 0.1830 - val_loss: 0.1437 - val_acc: 0.2353\n",
      "Epoch 177/500\n",
      "9/9 [==============================] - 0s 4ms/sample - loss: 0.1603 - acc: 0.1895 - val_loss: 0.1472 - val_acc: 0.2353\n",
      "Epoch 178/500\n",
      "9/9 [==============================] - 0s 3ms/sample - loss: 0.1484 - acc: 0.1895 - val_loss: 0.1506 - val_acc: 0.2353\n",
      "Epoch 179/500\n",
      "9/9 [==============================] - 0s 3ms/sample - loss: 0.1484 - acc: 0.1895 - val_loss: 0.1542 - val_acc: 0.2353\n",
      "Epoch 180/500\n",
      "9/9 [==============================] - 0s 3ms/sample - loss: 0.1619 - acc: 0.1830 - val_loss: 0.1557 - val_acc: 0.2353\n",
      "Epoch 181/500\n",
      "9/9 [==============================] - 0s 4ms/sample - loss: 0.1532 - acc: 0.1961 - val_loss: 0.1555 - val_acc: 0.2353\n",
      "Epoch 182/500\n",
      "9/9 [==============================] - 0s 4ms/sample - loss: 0.1533 - acc: 0.1830 - val_loss: 0.1546 - val_acc: 0.2353\n",
      "Epoch 183/500\n",
      "9/9 [==============================] - 0s 3ms/sample - loss: 0.1520 - acc: 0.1830 - val_loss: 0.1562 - val_acc: 0.2353\n",
      "Epoch 184/500\n",
      "9/9 [==============================] - 0s 3ms/sample - loss: 0.1565 - acc: 0.2026 - val_loss: 0.1546 - val_acc: 0.2353\n",
      "Epoch 185/500\n",
      "9/9 [==============================] - 0s 3ms/sample - loss: 0.1632 - acc: 0.1961 - val_loss: 0.1554 - val_acc: 0.2353\n",
      "Epoch 186/500\n",
      "9/9 [==============================] - 0s 3ms/sample - loss: 0.1579 - acc: 0.1895 - val_loss: 0.1571 - val_acc: 0.2353\n"
     ]
    },
    {
     "name": "stdout",
     "output_type": "stream",
     "text": [
      "Epoch 187/500\n",
      "9/9 [==============================] - 0s 3ms/sample - loss: 0.1607 - acc: 0.1961 - val_loss: 0.1622 - val_acc: 0.2353\n",
      "Epoch 188/500\n",
      "9/9 [==============================] - 0s 4ms/sample - loss: 0.1400 - acc: 0.2026 - val_loss: 0.1642 - val_acc: 0.2353\n",
      "Epoch 189/500\n",
      "9/9 [==============================] - 0s 3ms/sample - loss: 0.1326 - acc: 0.2026 - val_loss: 0.1652 - val_acc: 0.2353\n",
      "Epoch 190/500\n",
      "9/9 [==============================] - 0s 3ms/sample - loss: 0.1449 - acc: 0.1895 - val_loss: 0.1636 - val_acc: 0.2353\n",
      "Epoch 191/500\n",
      "9/9 [==============================] - 0s 3ms/sample - loss: 0.1603 - acc: 0.1830 - val_loss: 0.1536 - val_acc: 0.2353\n",
      "Epoch 192/500\n",
      "9/9 [==============================] - 0s 3ms/sample - loss: 0.1456 - acc: 0.1961 - val_loss: 0.1466 - val_acc: 0.2353\n",
      "Epoch 193/500\n",
      "9/9 [==============================] - 0s 3ms/sample - loss: 0.1441 - acc: 0.1830 - val_loss: 0.1431 - val_acc: 0.2353\n",
      "Epoch 194/500\n",
      "9/9 [==============================] - 0s 3ms/sample - loss: 0.1466 - acc: 0.1961 - val_loss: 0.1416 - val_acc: 0.2353\n",
      "Epoch 195/500\n",
      "9/9 [==============================] - 0s 3ms/sample - loss: 0.1559 - acc: 0.1699 - val_loss: 0.1414 - val_acc: 0.2353\n",
      "Epoch 196/500\n",
      "9/9 [==============================] - 0s 3ms/sample - loss: 0.1647 - acc: 0.1765 - val_loss: 0.1434 - val_acc: 0.2353\n",
      "Epoch 197/500\n",
      "9/9 [==============================] - 0s 3ms/sample - loss: 0.1506 - acc: 0.1961 - val_loss: 0.1472 - val_acc: 0.2353\n",
      "Epoch 198/500\n",
      "9/9 [==============================] - 0s 4ms/sample - loss: 0.1373 - acc: 0.1961 - val_loss: 0.1518 - val_acc: 0.2353\n",
      "Epoch 199/500\n",
      "9/9 [==============================] - 0s 4ms/sample - loss: 0.1444 - acc: 0.1895 - val_loss: 0.1601 - val_acc: 0.2353\n",
      "Epoch 200/500\n",
      "9/9 [==============================] - 0s 3ms/sample - loss: 0.1464 - acc: 0.1895 - val_loss: 0.1706 - val_acc: 0.2353\n",
      "Epoch 201/500\n",
      "9/9 [==============================] - 0s 3ms/sample - loss: 0.1526 - acc: 0.1961 - val_loss: 0.1763 - val_acc: 0.2353\n",
      "Epoch 202/500\n",
      "9/9 [==============================] - 0s 4ms/sample - loss: 0.1527 - acc: 0.1895 - val_loss: 0.1725 - val_acc: 0.2353\n",
      "Epoch 203/500\n",
      "9/9 [==============================] - 0s 4ms/sample - loss: 0.1364 - acc: 0.1961 - val_loss: 0.1640 - val_acc: 0.2353\n",
      "Epoch 204/500\n",
      "9/9 [==============================] - 0s 3ms/sample - loss: 0.1394 - acc: 0.2026 - val_loss: 0.1586 - val_acc: 0.2353\n",
      "Epoch 205/500\n",
      "9/9 [==============================] - 0s 3ms/sample - loss: 0.1400 - acc: 0.1895 - val_loss: 0.1550 - val_acc: 0.2353\n",
      "Epoch 206/500\n",
      "9/9 [==============================] - 0s 4ms/sample - loss: 0.1481 - acc: 0.1895 - val_loss: 0.1549 - val_acc: 0.2353\n",
      "Epoch 207/500\n",
      "9/9 [==============================] - 0s 3ms/sample - loss: 0.1503 - acc: 0.1830 - val_loss: 0.1559 - val_acc: 0.2353\n",
      "Epoch 208/500\n",
      "9/9 [==============================] - 0s 3ms/sample - loss: 0.1422 - acc: 0.1961 - val_loss: 0.1586 - val_acc: 0.2353\n",
      "Epoch 209/500\n",
      "9/9 [==============================] - 0s 3ms/sample - loss: 0.1392 - acc: 0.1961 - val_loss: 0.1652 - val_acc: 0.2353\n",
      "Epoch 210/500\n",
      "9/9 [==============================] - 0s 3ms/sample - loss: 0.1319 - acc: 0.1895 - val_loss: 0.1690 - val_acc: 0.2353\n",
      "Epoch 211/500\n",
      "9/9 [==============================] - 0s 3ms/sample - loss: 0.1231 - acc: 0.1895 - val_loss: 0.1701 - val_acc: 0.2353\n",
      "Epoch 212/500\n",
      "9/9 [==============================] - 0s 4ms/sample - loss: 0.1301 - acc: 0.1895 - val_loss: 0.1682 - val_acc: 0.2353\n",
      "Epoch 213/500\n",
      "9/9 [==============================] - 0s 3ms/sample - loss: 0.1442 - acc: 0.1895 - val_loss: 0.1646 - val_acc: 0.2353\n",
      "Epoch 214/500\n",
      "9/9 [==============================] - 0s 4ms/sample - loss: 0.1358 - acc: 0.1765 - val_loss: 0.1620 - val_acc: 0.2353\n",
      "Epoch 215/500\n",
      "9/9 [==============================] - 0s 3ms/sample - loss: 0.1340 - acc: 0.1830 - val_loss: 0.1604 - val_acc: 0.2353\n",
      "Epoch 216/500\n",
      "9/9 [==============================] - 0s 4ms/sample - loss: 0.1408 - acc: 0.1830 - val_loss: 0.1589 - val_acc: 0.2353\n",
      "Epoch 217/500\n",
      "9/9 [==============================] - 0s 3ms/sample - loss: 0.1189 - acc: 0.1961 - val_loss: 0.1589 - val_acc: 0.2353\n",
      "Epoch 218/500\n",
      "9/9 [==============================] - 0s 3ms/sample - loss: 0.1454 - acc: 0.1961 - val_loss: 0.1596 - val_acc: 0.2353\n",
      "Epoch 219/500\n",
      "9/9 [==============================] - 0s 3ms/sample - loss: 0.1321 - acc: 0.1961 - val_loss: 0.1631 - val_acc: 0.2353\n",
      "Epoch 220/500\n",
      "9/9 [==============================] - 0s 4ms/sample - loss: 0.1391 - acc: 0.1961 - val_loss: 0.1684 - val_acc: 0.2353\n",
      "Epoch 221/500\n",
      "9/9 [==============================] - 0s 3ms/sample - loss: 0.1504 - acc: 0.1961 - val_loss: 0.1741 - val_acc: 0.2353\n",
      "Epoch 222/500\n",
      "9/9 [==============================] - 0s 4ms/sample - loss: 0.1380 - acc: 0.1961 - val_loss: 0.1792 - val_acc: 0.2353\n",
      "Epoch 223/500\n",
      "9/9 [==============================] - 0s 3ms/sample - loss: 0.1306 - acc: 0.1961 - val_loss: 0.1782 - val_acc: 0.2353\n",
      "Epoch 224/500\n",
      "9/9 [==============================] - 0s 4ms/sample - loss: 0.1293 - acc: 0.1830 - val_loss: 0.1709 - val_acc: 0.2353\n",
      "Epoch 225/500\n",
      "9/9 [==============================] - 0s 3ms/sample - loss: 0.1301 - acc: 0.1895 - val_loss: 0.1653 - val_acc: 0.2353\n",
      "Epoch 226/500\n",
      "9/9 [==============================] - 0s 4ms/sample - loss: 0.1287 - acc: 0.1961 - val_loss: 0.1621 - val_acc: 0.2353\n",
      "Epoch 227/500\n",
      "9/9 [==============================] - 0s 3ms/sample - loss: 0.1251 - acc: 0.2092 - val_loss: 0.1607 - val_acc: 0.2353\n",
      "Epoch 228/500\n",
      "9/9 [==============================] - 0s 4ms/sample - loss: 0.1337 - acc: 0.1961 - val_loss: 0.1606 - val_acc: 0.2353\n",
      "Epoch 229/500\n",
      "9/9 [==============================] - 0s 3ms/sample - loss: 0.1373 - acc: 0.1830 - val_loss: 0.1617 - val_acc: 0.2353\n",
      "Epoch 230/500\n",
      "9/9 [==============================] - 0s 3ms/sample - loss: 0.1235 - acc: 0.1895 - val_loss: 0.1643 - val_acc: 0.2353\n",
      "Epoch 231/500\n",
      "9/9 [==============================] - 0s 3ms/sample - loss: 0.1166 - acc: 0.1895 - val_loss: 0.1686 - val_acc: 0.2353\n",
      "Epoch 232/500\n",
      "9/9 [==============================] - 0s 3ms/sample - loss: 0.1333 - acc: 0.1961 - val_loss: 0.1719 - val_acc: 0.2353\n",
      "Epoch 233/500\n",
      "9/9 [==============================] - 0s 4ms/sample - loss: 0.1249 - acc: 0.1961 - val_loss: 0.1734 - val_acc: 0.2353\n",
      "Epoch 234/500\n",
      "9/9 [==============================] - 0s 3ms/sample - loss: 0.1194 - acc: 0.1830 - val_loss: 0.1711 - val_acc: 0.2353\n",
      "Epoch 235/500\n",
      "9/9 [==============================] - 0s 3ms/sample - loss: 0.1308 - acc: 0.1830 - val_loss: 0.1696 - val_acc: 0.2353\n",
      "Epoch 236/500\n",
      "9/9 [==============================] - 0s 4ms/sample - loss: 0.1304 - acc: 0.1961 - val_loss: 0.1678 - val_acc: 0.2353\n",
      "Epoch 237/500\n",
      "9/9 [==============================] - 0s 4ms/sample - loss: 0.1295 - acc: 0.2026 - val_loss: 0.1662 - val_acc: 0.2353\n",
      "Epoch 238/500\n",
      "9/9 [==============================] - 0s 4ms/sample - loss: 0.1305 - acc: 0.1961 - val_loss: 0.1659 - val_acc: 0.2353\n",
      "Epoch 239/500\n",
      "9/9 [==============================] - 0s 3ms/sample - loss: 0.1282 - acc: 0.1961 - val_loss: 0.1692 - val_acc: 0.2353\n",
      "Epoch 240/500\n",
      "9/9 [==============================] - 0s 4ms/sample - loss: 0.1295 - acc: 0.2026 - val_loss: 0.1740 - val_acc: 0.2353\n",
      "Epoch 241/500\n",
      "9/9 [==============================] - 0s 3ms/sample - loss: 0.1307 - acc: 0.1961 - val_loss: 0.1743 - val_acc: 0.2353\n",
      "Epoch 242/500\n",
      "9/9 [==============================] - 0s 3ms/sample - loss: 0.1422 - acc: 0.1895 - val_loss: 0.1702 - val_acc: 0.2353\n",
      "Epoch 243/500\n",
      "9/9 [==============================] - 0s 4ms/sample - loss: 0.1220 - acc: 0.2092 - val_loss: 0.1669 - val_acc: 0.2353\n",
      "Epoch 244/500\n",
      "9/9 [==============================] - 0s 3ms/sample - loss: 0.1129 - acc: 0.1961 - val_loss: 0.1635 - val_acc: 0.2353\n",
      "Epoch 245/500\n",
      "9/9 [==============================] - 0s 3ms/sample - loss: 0.1314 - acc: 0.1895 - val_loss: 0.1628 - val_acc: 0.2353\n",
      "Epoch 246/500\n",
      "9/9 [==============================] - 0s 4ms/sample - loss: 0.1224 - acc: 0.1961 - val_loss: 0.1648 - val_acc: 0.2353\n",
      "Epoch 247/500\n",
      "9/9 [==============================] - 0s 4ms/sample - loss: 0.1222 - acc: 0.1895 - val_loss: 0.1686 - val_acc: 0.2353\n",
      "Epoch 248/500\n",
      "9/9 [==============================] - 0s 4ms/sample - loss: 0.1216 - acc: 0.1895 - val_loss: 0.1745 - val_acc: 0.2353\n"
     ]
    },
    {
     "name": "stdout",
     "output_type": "stream",
     "text": [
      "Epoch 249/500\n",
      "9/9 [==============================] - 0s 3ms/sample - loss: 0.1186 - acc: 0.1961 - val_loss: 0.1845 - val_acc: 0.2353\n",
      "Epoch 250/500\n",
      "9/9 [==============================] - 0s 3ms/sample - loss: 0.1227 - acc: 0.1699 - val_loss: 0.1916 - val_acc: 0.2353\n",
      "Epoch 251/500\n",
      "9/9 [==============================] - 0s 4ms/sample - loss: 0.1140 - acc: 0.2026 - val_loss: 0.2000 - val_acc: 0.2353\n",
      "Epoch 252/500\n",
      "9/9 [==============================] - 0s 3ms/sample - loss: 0.1260 - acc: 0.1895 - val_loss: 0.2046 - val_acc: 0.2353\n",
      "Epoch 253/500\n",
      "9/9 [==============================] - 0s 4ms/sample - loss: 0.1354 - acc: 0.1961 - val_loss: 0.2021 - val_acc: 0.2353\n",
      "Epoch 254/500\n",
      "9/9 [==============================] - 0s 3ms/sample - loss: 0.1182 - acc: 0.2026 - val_loss: 0.1962 - val_acc: 0.2353\n",
      "Epoch 255/500\n",
      "9/9 [==============================] - 0s 4ms/sample - loss: 0.1094 - acc: 0.2092 - val_loss: 0.1927 - val_acc: 0.2353\n",
      "Epoch 256/500\n",
      "9/9 [==============================] - 0s 3ms/sample - loss: 0.1362 - acc: 0.1961 - val_loss: 0.1862 - val_acc: 0.2353\n",
      "Epoch 257/500\n",
      "9/9 [==============================] - 0s 4ms/sample - loss: 0.1321 - acc: 0.1895 - val_loss: 0.1817 - val_acc: 0.2353\n",
      "Epoch 258/500\n",
      "9/9 [==============================] - 0s 4ms/sample - loss: 0.1327 - acc: 0.1830 - val_loss: 0.1806 - val_acc: 0.2353\n",
      "Epoch 259/500\n",
      "9/9 [==============================] - 0s 4ms/sample - loss: 0.1383 - acc: 0.1895 - val_loss: 0.1807 - val_acc: 0.2353\n",
      "Epoch 260/500\n",
      "9/9 [==============================] - 0s 4ms/sample - loss: 0.1226 - acc: 0.1961 - val_loss: 0.1824 - val_acc: 0.2353\n",
      "Epoch 261/500\n",
      "9/9 [==============================] - 0s 3ms/sample - loss: 0.1111 - acc: 0.1961 - val_loss: 0.1848 - val_acc: 0.2353\n",
      "Epoch 262/500\n",
      "9/9 [==============================] - 0s 3ms/sample - loss: 0.1185 - acc: 0.2026 - val_loss: 0.1878 - val_acc: 0.2353\n",
      "Epoch 263/500\n",
      "9/9 [==============================] - 0s 3ms/sample - loss: 0.1221 - acc: 0.1895 - val_loss: 0.1872 - val_acc: 0.2353\n",
      "Epoch 264/500\n",
      "9/9 [==============================] - 0s 3ms/sample - loss: 0.1118 - acc: 0.2026 - val_loss: 0.1868 - val_acc: 0.2353\n",
      "Epoch 265/500\n",
      "9/9 [==============================] - 0s 4ms/sample - loss: 0.1175 - acc: 0.1895 - val_loss: 0.1874 - val_acc: 0.2353\n",
      "Epoch 266/500\n",
      "9/9 [==============================] - 0s 3ms/sample - loss: 0.1169 - acc: 0.1895 - val_loss: 0.1883 - val_acc: 0.2353\n",
      "Epoch 267/500\n",
      "9/9 [==============================] - 0s 3ms/sample - loss: 0.1106 - acc: 0.1961 - val_loss: 0.1878 - val_acc: 0.2353\n",
      "Epoch 268/500\n",
      "9/9 [==============================] - 0s 3ms/sample - loss: 0.1084 - acc: 0.1961 - val_loss: 0.1882 - val_acc: 0.2353\n",
      "Epoch 269/500\n",
      "9/9 [==============================] - 0s 3ms/sample - loss: 0.1110 - acc: 0.1961 - val_loss: 0.1901 - val_acc: 0.2353\n",
      "Epoch 270/500\n",
      "9/9 [==============================] - 0s 3ms/sample - loss: 0.1233 - acc: 0.1830 - val_loss: 0.1941 - val_acc: 0.2353\n",
      "Epoch 271/500\n",
      "9/9 [==============================] - 0s 3ms/sample - loss: 0.1249 - acc: 0.2026 - val_loss: 0.1987 - val_acc: 0.2353\n",
      "Epoch 272/500\n",
      "9/9 [==============================] - 0s 3ms/sample - loss: 0.1185 - acc: 0.1961 - val_loss: 0.2044 - val_acc: 0.2353\n",
      "Epoch 273/500\n",
      "9/9 [==============================] - 0s 4ms/sample - loss: 0.1139 - acc: 0.1961 - val_loss: 0.2097 - val_acc: 0.2353\n",
      "Epoch 274/500\n",
      "9/9 [==============================] - 0s 3ms/sample - loss: 0.1340 - acc: 0.1830 - val_loss: 0.2080 - val_acc: 0.2353\n",
      "Epoch 275/500\n",
      "9/9 [==============================] - 0s 3ms/sample - loss: 0.1109 - acc: 0.2026 - val_loss: 0.2023 - val_acc: 0.2353\n",
      "Epoch 276/500\n",
      "9/9 [==============================] - 0s 3ms/sample - loss: 0.1123 - acc: 0.1961 - val_loss: 0.1971 - val_acc: 0.2353\n",
      "Epoch 277/500\n",
      "9/9 [==============================] - 0s 4ms/sample - loss: 0.1077 - acc: 0.2026 - val_loss: 0.1934 - val_acc: 0.2353\n",
      "Epoch 278/500\n",
      "9/9 [==============================] - 0s 3ms/sample - loss: 0.1150 - acc: 0.1961 - val_loss: 0.1930 - val_acc: 0.2353\n",
      "Epoch 279/500\n",
      "9/9 [==============================] - 0s 4ms/sample - loss: 0.1084 - acc: 0.1961 - val_loss: 0.1950 - val_acc: 0.2353\n",
      "Epoch 280/500\n",
      "9/9 [==============================] - 0s 3ms/sample - loss: 0.1209 - acc: 0.1961 - val_loss: 0.2013 - val_acc: 0.2353\n",
      "Epoch 281/500\n",
      "9/9 [==============================] - 0s 3ms/sample - loss: 0.1189 - acc: 0.1961 - val_loss: 0.2109 - val_acc: 0.2353\n",
      "Epoch 282/500\n",
      "9/9 [==============================] - 0s 4ms/sample - loss: 0.0972 - acc: 0.2092 - val_loss: 0.2211 - val_acc: 0.2353\n",
      "Epoch 283/500\n",
      "9/9 [==============================] - 0s 3ms/sample - loss: 0.1116 - acc: 0.1961 - val_loss: 0.2274 - val_acc: 0.2353\n",
      "Epoch 284/500\n",
      "9/9 [==============================] - 0s 3ms/sample - loss: 0.1143 - acc: 0.1895 - val_loss: 0.2215 - val_acc: 0.2353\n",
      "Epoch 285/500\n",
      "9/9 [==============================] - 0s 3ms/sample - loss: 0.1186 - acc: 0.1830 - val_loss: 0.2094 - val_acc: 0.2353\n",
      "Epoch 286/500\n",
      "9/9 [==============================] - 0s 3ms/sample - loss: 0.1201 - acc: 0.1961 - val_loss: 0.1979 - val_acc: 0.2353\n",
      "Epoch 287/500\n",
      "9/9 [==============================] - 0s 3ms/sample - loss: 0.1304 - acc: 0.1961 - val_loss: 0.1877 - val_acc: 0.2353\n",
      "Epoch 288/500\n",
      "9/9 [==============================] - 0s 3ms/sample - loss: 0.1018 - acc: 0.2092 - val_loss: 0.1825 - val_acc: 0.2353\n",
      "Epoch 289/500\n",
      "9/9 [==============================] - 0s 3ms/sample - loss: 0.1134 - acc: 0.1961 - val_loss: 0.1820 - val_acc: 0.2353\n",
      "Epoch 290/500\n",
      "9/9 [==============================] - 0s 3ms/sample - loss: 0.1188 - acc: 0.1961 - val_loss: 0.1836 - val_acc: 0.2353\n",
      "Epoch 291/500\n",
      "9/9 [==============================] - 0s 3ms/sample - loss: 0.1192 - acc: 0.1961 - val_loss: 0.1903 - val_acc: 0.2353\n",
      "Epoch 292/500\n",
      "9/9 [==============================] - 0s 3ms/sample - loss: 0.1250 - acc: 0.1961 - val_loss: 0.1996 - val_acc: 0.2353\n",
      "Epoch 293/500\n",
      "9/9 [==============================] - 0s 3ms/sample - loss: 0.1018 - acc: 0.2026 - val_loss: 0.2073 - val_acc: 0.2353\n",
      "Epoch 294/500\n",
      "9/9 [==============================] - 0s 3ms/sample - loss: 0.1145 - acc: 0.1961 - val_loss: 0.2077 - val_acc: 0.2353\n",
      "Epoch 295/500\n",
      "9/9 [==============================] - 0s 3ms/sample - loss: 0.1065 - acc: 0.2092 - val_loss: 0.2058 - val_acc: 0.2353\n",
      "Epoch 296/500\n",
      "9/9 [==============================] - 0s 3ms/sample - loss: 0.1172 - acc: 0.2026 - val_loss: 0.1974 - val_acc: 0.2353\n",
      "Epoch 297/500\n",
      "9/9 [==============================] - 0s 3ms/sample - loss: 0.1136 - acc: 0.2092 - val_loss: 0.1906 - val_acc: 0.2353\n",
      "Epoch 298/500\n",
      "9/9 [==============================] - 0s 3ms/sample - loss: 0.1031 - acc: 0.2026 - val_loss: 0.1860 - val_acc: 0.2353\n",
      "Epoch 299/500\n",
      "9/9 [==============================] - 0s 3ms/sample - loss: 0.1149 - acc: 0.2092 - val_loss: 0.1845 - val_acc: 0.2353\n",
      "Epoch 300/500\n",
      "9/9 [==============================] - 0s 3ms/sample - loss: 0.1097 - acc: 0.2092 - val_loss: 0.1837 - val_acc: 0.2353\n",
      "Epoch 301/500\n",
      "9/9 [==============================] - 0s 3ms/sample - loss: 0.1167 - acc: 0.1961 - val_loss: 0.1861 - val_acc: 0.2353\n",
      "Epoch 302/500\n",
      "9/9 [==============================] - 0s 3ms/sample - loss: 0.1260 - acc: 0.1961 - val_loss: 0.1888 - val_acc: 0.2353\n",
      "Epoch 303/500\n",
      "9/9 [==============================] - 0s 3ms/sample - loss: 0.1143 - acc: 0.1830 - val_loss: 0.1890 - val_acc: 0.2353\n",
      "Epoch 304/500\n",
      "9/9 [==============================] - 0s 3ms/sample - loss: 0.1156 - acc: 0.1961 - val_loss: 0.1852 - val_acc: 0.2353\n",
      "Epoch 305/500\n",
      "9/9 [==============================] - 0s 3ms/sample - loss: 0.1155 - acc: 0.1830 - val_loss: 0.1803 - val_acc: 0.2353\n",
      "Epoch 306/500\n",
      "9/9 [==============================] - 0s 4ms/sample - loss: 0.1147 - acc: 0.1961 - val_loss: 0.1775 - val_acc: 0.2353\n",
      "Epoch 307/500\n",
      "9/9 [==============================] - 0s 3ms/sample - loss: 0.1125 - acc: 0.1961 - val_loss: 0.1777 - val_acc: 0.2353\n",
      "Epoch 308/500\n",
      "9/9 [==============================] - 0s 3ms/sample - loss: 0.1135 - acc: 0.1961 - val_loss: 0.1814 - val_acc: 0.2353\n",
      "Epoch 309/500\n",
      "9/9 [==============================] - 0s 3ms/sample - loss: 0.1066 - acc: 0.1895 - val_loss: 0.1862 - val_acc: 0.2353\n",
      "Epoch 310/500\n",
      "9/9 [==============================] - 0s 4ms/sample - loss: 0.1087 - acc: 0.1895 - val_loss: 0.1941 - val_acc: 0.2353\n"
     ]
    },
    {
     "name": "stdout",
     "output_type": "stream",
     "text": [
      "Epoch 311/500\n",
      "9/9 [==============================] - 0s 3ms/sample - loss: 0.1040 - acc: 0.2026 - val_loss: 0.2041 - val_acc: 0.2353\n",
      "Epoch 312/500\n",
      "9/9 [==============================] - 0s 3ms/sample - loss: 0.1148 - acc: 0.2026 - val_loss: 0.2161 - val_acc: 0.2353\n",
      "Epoch 313/500\n",
      "9/9 [==============================] - 0s 3ms/sample - loss: 0.1011 - acc: 0.2092 - val_loss: 0.2267 - val_acc: 0.2353\n",
      "Epoch 314/500\n",
      "9/9 [==============================] - 0s 4ms/sample - loss: 0.1109 - acc: 0.2092 - val_loss: 0.2236 - val_acc: 0.2353\n",
      "Epoch 315/500\n",
      "9/9 [==============================] - 0s 3ms/sample - loss: 0.0987 - acc: 0.1895 - val_loss: 0.2197 - val_acc: 0.2353\n",
      "Epoch 316/500\n",
      "9/9 [==============================] - 0s 4ms/sample - loss: 0.1063 - acc: 0.1895 - val_loss: 0.2169 - val_acc: 0.2353\n",
      "Epoch 317/500\n",
      "9/9 [==============================] - 0s 3ms/sample - loss: 0.1169 - acc: 0.1961 - val_loss: 0.2183 - val_acc: 0.2353\n",
      "Epoch 318/500\n",
      "9/9 [==============================] - 0s 3ms/sample - loss: 0.1025 - acc: 0.1895 - val_loss: 0.2220 - val_acc: 0.2353\n",
      "Epoch 319/500\n",
      "9/9 [==============================] - 0s 4ms/sample - loss: 0.1008 - acc: 0.2026 - val_loss: 0.2233 - val_acc: 0.2353\n",
      "Epoch 320/500\n",
      "9/9 [==============================] - 0s 3ms/sample - loss: 0.1088 - acc: 0.1961 - val_loss: 0.2270 - val_acc: 0.2353\n",
      "Epoch 321/500\n",
      "9/9 [==============================] - 0s 4ms/sample - loss: 0.0991 - acc: 0.2026 - val_loss: 0.2354 - val_acc: 0.2353\n",
      "Epoch 322/500\n",
      "9/9 [==============================] - 0s 3ms/sample - loss: 0.1008 - acc: 0.1895 - val_loss: 0.2419 - val_acc: 0.2353\n",
      "Epoch 323/500\n",
      "9/9 [==============================] - 0s 4ms/sample - loss: 0.1044 - acc: 0.2026 - val_loss: 0.2375 - val_acc: 0.2353\n",
      "Epoch 324/500\n",
      "9/9 [==============================] - 0s 3ms/sample - loss: 0.1080 - acc: 0.1961 - val_loss: 0.2278 - val_acc: 0.2353\n",
      "Epoch 325/500\n",
      "9/9 [==============================] - 0s 3ms/sample - loss: 0.1127 - acc: 0.1961 - val_loss: 0.2140 - val_acc: 0.2353\n",
      "Epoch 326/500\n",
      "9/9 [==============================] - 0s 3ms/sample - loss: 0.1057 - acc: 0.2026 - val_loss: 0.2049 - val_acc: 0.2353\n",
      "Epoch 327/500\n",
      "9/9 [==============================] - 0s 3ms/sample - loss: 0.1218 - acc: 0.2026 - val_loss: 0.1976 - val_acc: 0.2353\n",
      "Epoch 328/500\n",
      "9/9 [==============================] - 0s 3ms/sample - loss: 0.0996 - acc: 0.1895 - val_loss: 0.1932 - val_acc: 0.2353\n",
      "Epoch 329/500\n",
      "9/9 [==============================] - 0s 4ms/sample - loss: 0.1048 - acc: 0.2092 - val_loss: 0.1909 - val_acc: 0.2353\n",
      "Epoch 330/500\n",
      "9/9 [==============================] - 0s 3ms/sample - loss: 0.0943 - acc: 0.2092 - val_loss: 0.1928 - val_acc: 0.2353\n",
      "Epoch 331/500\n",
      "9/9 [==============================] - 0s 3ms/sample - loss: 0.0975 - acc: 0.1961 - val_loss: 0.1958 - val_acc: 0.2353\n",
      "Epoch 332/500\n",
      "9/9 [==============================] - 0s 3ms/sample - loss: 0.1042 - acc: 0.1961 - val_loss: 0.1971 - val_acc: 0.2353\n",
      "Epoch 333/500\n",
      "9/9 [==============================] - 0s 3ms/sample - loss: 0.1052 - acc: 0.2026 - val_loss: 0.1963 - val_acc: 0.2353\n",
      "Epoch 334/500\n",
      "9/9 [==============================] - 0s 3ms/sample - loss: 0.1156 - acc: 0.1961 - val_loss: 0.1955 - val_acc: 0.2353\n",
      "Epoch 335/500\n",
      "9/9 [==============================] - 0s 3ms/sample - loss: 0.1164 - acc: 0.1895 - val_loss: 0.1977 - val_acc: 0.2353\n",
      "Epoch 336/500\n",
      "9/9 [==============================] - 0s 3ms/sample - loss: 0.1129 - acc: 0.1961 - val_loss: 0.2021 - val_acc: 0.2353\n",
      "Epoch 337/500\n",
      "9/9 [==============================] - 0s 4ms/sample - loss: 0.0998 - acc: 0.2026 - val_loss: 0.2080 - val_acc: 0.2353\n",
      "Epoch 338/500\n",
      "9/9 [==============================] - 0s 3ms/sample - loss: 0.1036 - acc: 0.1895 - val_loss: 0.2127 - val_acc: 0.2353\n",
      "Epoch 339/500\n",
      "9/9 [==============================] - 0s 4ms/sample - loss: 0.1053 - acc: 0.1961 - val_loss: 0.2197 - val_acc: 0.2353\n",
      "Epoch 340/500\n",
      "9/9 [==============================] - 0s 4ms/sample - loss: 0.1076 - acc: 0.2026 - val_loss: 0.2267 - val_acc: 0.2353\n",
      "Epoch 341/500\n",
      "9/9 [==============================] - 0s 3ms/sample - loss: 0.0955 - acc: 0.2026 - val_loss: 0.2322 - val_acc: 0.2353\n",
      "Epoch 342/500\n",
      "9/9 [==============================] - 0s 4ms/sample - loss: 0.1006 - acc: 0.2026 - val_loss: 0.2330 - val_acc: 0.2353\n",
      "Epoch 343/500\n",
      "9/9 [==============================] - 0s 3ms/sample - loss: 0.1031 - acc: 0.1961 - val_loss: 0.2273 - val_acc: 0.2353\n",
      "Epoch 344/500\n",
      "9/9 [==============================] - 0s 4ms/sample - loss: 0.1005 - acc: 0.1961 - val_loss: 0.2225 - val_acc: 0.2353\n",
      "Epoch 345/500\n",
      "9/9 [==============================] - 0s 3ms/sample - loss: 0.1101 - acc: 0.1961 - val_loss: 0.2186 - val_acc: 0.2353\n",
      "Epoch 346/500\n",
      "9/9 [==============================] - 0s 4ms/sample - loss: 0.1014 - acc: 0.2092 - val_loss: 0.2138 - val_acc: 0.2353\n",
      "Epoch 347/500\n",
      "9/9 [==============================] - 0s 3ms/sample - loss: 0.0999 - acc: 0.2026 - val_loss: 0.2117 - val_acc: 0.2353\n",
      "Epoch 348/500\n",
      "9/9 [==============================] - 0s 4ms/sample - loss: 0.0976 - acc: 0.1961 - val_loss: 0.2122 - val_acc: 0.2353\n",
      "Epoch 349/500\n",
      "9/9 [==============================] - 0s 4ms/sample - loss: 0.1134 - acc: 0.2026 - val_loss: 0.2158 - val_acc: 0.2353\n",
      "Epoch 350/500\n",
      "9/9 [==============================] - 0s 4ms/sample - loss: 0.1127 - acc: 0.1895 - val_loss: 0.2188 - val_acc: 0.2353\n",
      "Epoch 351/500\n",
      "9/9 [==============================] - 0s 4ms/sample - loss: 0.1011 - acc: 0.2026 - val_loss: 0.2151 - val_acc: 0.2353\n",
      "Epoch 352/500\n",
      "9/9 [==============================] - 0s 3ms/sample - loss: 0.1082 - acc: 0.1895 - val_loss: 0.2098 - val_acc: 0.2353\n",
      "Epoch 353/500\n",
      "9/9 [==============================] - 0s 3ms/sample - loss: 0.0931 - acc: 0.2092 - val_loss: 0.2062 - val_acc: 0.2353\n",
      "Epoch 354/500\n",
      "9/9 [==============================] - 0s 3ms/sample - loss: 0.1084 - acc: 0.2092 - val_loss: 0.2038 - val_acc: 0.2353\n",
      "Epoch 355/500\n",
      "9/9 [==============================] - 0s 3ms/sample - loss: 0.1052 - acc: 0.2026 - val_loss: 0.2012 - val_acc: 0.2353\n",
      "Epoch 356/500\n",
      "9/9 [==============================] - 0s 4ms/sample - loss: 0.1020 - acc: 0.2092 - val_loss: 0.1998 - val_acc: 0.2353\n",
      "Epoch 357/500\n",
      "9/9 [==============================] - 0s 3ms/sample - loss: 0.1100 - acc: 0.1961 - val_loss: 0.1993 - val_acc: 0.2353\n",
      "Epoch 358/500\n",
      "9/9 [==============================] - 0s 3ms/sample - loss: 0.0917 - acc: 0.2026 - val_loss: 0.2002 - val_acc: 0.2353\n",
      "Epoch 359/500\n",
      "9/9 [==============================] - 0s 3ms/sample - loss: 0.1054 - acc: 0.1961 - val_loss: 0.1993 - val_acc: 0.2353\n",
      "Epoch 360/500\n",
      "9/9 [==============================] - 0s 3ms/sample - loss: 0.1128 - acc: 0.1765 - val_loss: 0.1962 - val_acc: 0.2353\n",
      "Epoch 361/500\n",
      "9/9 [==============================] - 0s 3ms/sample - loss: 0.1091 - acc: 0.1895 - val_loss: 0.1924 - val_acc: 0.2353\n",
      "Epoch 362/500\n",
      "9/9 [==============================] - 0s 3ms/sample - loss: 0.1009 - acc: 0.2026 - val_loss: 0.1899 - val_acc: 0.2353\n",
      "Epoch 363/500\n",
      "9/9 [==============================] - 0s 4ms/sample - loss: 0.0893 - acc: 0.1895 - val_loss: 0.1887 - val_acc: 0.2353\n",
      "Epoch 364/500\n",
      "9/9 [==============================] - 0s 4ms/sample - loss: 0.0996 - acc: 0.1895 - val_loss: 0.1905 - val_acc: 0.2353\n",
      "Epoch 365/500\n",
      "9/9 [==============================] - 0s 4ms/sample - loss: 0.0926 - acc: 0.1895 - val_loss: 0.1936 - val_acc: 0.2353\n",
      "Epoch 366/500\n",
      "9/9 [==============================] - 0s 4ms/sample - loss: 0.1076 - acc: 0.1895 - val_loss: 0.1974 - val_acc: 0.2353\n",
      "Epoch 367/500\n",
      "9/9 [==============================] - 0s 4ms/sample - loss: 0.0909 - acc: 0.1961 - val_loss: 0.2033 - val_acc: 0.2353\n",
      "Epoch 368/500\n",
      "9/9 [==============================] - 0s 3ms/sample - loss: 0.0948 - acc: 0.1961 - val_loss: 0.2103 - val_acc: 0.2353\n",
      "Epoch 369/500\n",
      "9/9 [==============================] - 0s 4ms/sample - loss: 0.0960 - acc: 0.1961 - val_loss: 0.2155 - val_acc: 0.2353\n",
      "Epoch 370/500\n",
      "9/9 [==============================] - 0s 3ms/sample - loss: 0.1017 - acc: 0.2026 - val_loss: 0.2196 - val_acc: 0.2353\n",
      "Epoch 371/500\n",
      "9/9 [==============================] - 0s 4ms/sample - loss: 0.0968 - acc: 0.1961 - val_loss: 0.2221 - val_acc: 0.2353\n",
      "Epoch 372/500\n",
      "9/9 [==============================] - 0s 3ms/sample - loss: 0.0857 - acc: 0.2026 - val_loss: 0.2222 - val_acc: 0.2353\n"
     ]
    },
    {
     "name": "stdout",
     "output_type": "stream",
     "text": [
      "Epoch 373/500\n",
      "9/9 [==============================] - 0s 4ms/sample - loss: 0.0972 - acc: 0.2092 - val_loss: 0.2199 - val_acc: 0.2353\n",
      "Epoch 374/500\n",
      "9/9 [==============================] - 0s 4ms/sample - loss: 0.0903 - acc: 0.2092 - val_loss: 0.2156 - val_acc: 0.2353\n",
      "Epoch 375/500\n",
      "9/9 [==============================] - 0s 3ms/sample - loss: 0.1109 - acc: 0.1961 - val_loss: 0.2070 - val_acc: 0.2353\n",
      "Epoch 376/500\n",
      "9/9 [==============================] - 0s 4ms/sample - loss: 0.1043 - acc: 0.1895 - val_loss: 0.1990 - val_acc: 0.2353\n",
      "Epoch 377/500\n",
      "9/9 [==============================] - 0s 4ms/sample - loss: 0.0966 - acc: 0.2092 - val_loss: 0.1935 - val_acc: 0.2353\n",
      "Epoch 378/500\n",
      "9/9 [==============================] - 0s 3ms/sample - loss: 0.1046 - acc: 0.2092 - val_loss: 0.1889 - val_acc: 0.2353\n",
      "Epoch 379/500\n",
      "9/9 [==============================] - 0s 4ms/sample - loss: 0.0832 - acc: 0.2157 - val_loss: 0.1879 - val_acc: 0.2353\n",
      "Epoch 380/500\n",
      "9/9 [==============================] - 0s 4ms/sample - loss: 0.1071 - acc: 0.1895 - val_loss: 0.1900 - val_acc: 0.2353\n",
      "Epoch 381/500\n",
      "9/9 [==============================] - 0s 4ms/sample - loss: 0.1023 - acc: 0.1961 - val_loss: 0.1932 - val_acc: 0.2353\n",
      "Epoch 382/500\n",
      "9/9 [==============================] - 0s 4ms/sample - loss: 0.1022 - acc: 0.2026 - val_loss: 0.1971 - val_acc: 0.2353\n",
      "Epoch 383/500\n",
      "9/9 [==============================] - 0s 4ms/sample - loss: 0.0954 - acc: 0.1895 - val_loss: 0.1940 - val_acc: 0.2353\n",
      "Epoch 384/500\n",
      "9/9 [==============================] - 0s 3ms/sample - loss: 0.0890 - acc: 0.2092 - val_loss: 0.1873 - val_acc: 0.2353\n",
      "Epoch 385/500\n",
      "9/9 [==============================] - 0s 3ms/sample - loss: 0.1022 - acc: 0.1961 - val_loss: 0.1781 - val_acc: 0.2353\n",
      "Epoch 386/500\n",
      "9/9 [==============================] - 0s 3ms/sample - loss: 0.0901 - acc: 0.2026 - val_loss: 0.1698 - val_acc: 0.2353\n",
      "Epoch 387/500\n",
      "9/9 [==============================] - 0s 3ms/sample - loss: 0.0876 - acc: 0.2026 - val_loss: 0.1657 - val_acc: 0.2353\n",
      "Epoch 388/500\n",
      "9/9 [==============================] - 0s 3ms/sample - loss: 0.0947 - acc: 0.1895 - val_loss: 0.1644 - val_acc: 0.2353\n",
      "Epoch 389/500\n",
      "9/9 [==============================] - 0s 4ms/sample - loss: 0.0974 - acc: 0.2026 - val_loss: 0.1659 - val_acc: 0.2353\n",
      "Epoch 390/500\n",
      "9/9 [==============================] - 0s 3ms/sample - loss: 0.0872 - acc: 0.1961 - val_loss: 0.1707 - val_acc: 0.2353\n",
      "Epoch 391/500\n",
      "9/9 [==============================] - 0s 4ms/sample - loss: 0.1023 - acc: 0.1961 - val_loss: 0.1755 - val_acc: 0.2353\n",
      "Epoch 392/500\n",
      "9/9 [==============================] - 0s 3ms/sample - loss: 0.0949 - acc: 0.1895 - val_loss: 0.1767 - val_acc: 0.2353\n",
      "Epoch 393/500\n",
      "9/9 [==============================] - 0s 3ms/sample - loss: 0.0897 - acc: 0.1895 - val_loss: 0.1765 - val_acc: 0.2353\n",
      "Epoch 394/500\n",
      "9/9 [==============================] - 0s 3ms/sample - loss: 0.0929 - acc: 0.1961 - val_loss: 0.1763 - val_acc: 0.2353\n",
      "Epoch 395/500\n",
      "9/9 [==============================] - 0s 3ms/sample - loss: 0.0946 - acc: 0.1961 - val_loss: 0.1739 - val_acc: 0.2353\n",
      "Epoch 396/500\n",
      "9/9 [==============================] - 0s 3ms/sample - loss: 0.1056 - acc: 0.1895 - val_loss: 0.1717 - val_acc: 0.2353\n",
      "Epoch 397/500\n",
      "9/9 [==============================] - 0s 3ms/sample - loss: 0.1004 - acc: 0.2092 - val_loss: 0.1695 - val_acc: 0.2353\n",
      "Epoch 398/500\n",
      "9/9 [==============================] - 0s 4ms/sample - loss: 0.0933 - acc: 0.1895 - val_loss: 0.1690 - val_acc: 0.2353\n",
      "Epoch 399/500\n",
      "9/9 [==============================] - 0s 3ms/sample - loss: 0.0804 - acc: 0.2026 - val_loss: 0.1706 - val_acc: 0.2353\n",
      "Epoch 400/500\n",
      "9/9 [==============================] - 0s 3ms/sample - loss: 0.1000 - acc: 0.2092 - val_loss: 0.1704 - val_acc: 0.2353\n",
      "Epoch 401/500\n",
      "9/9 [==============================] - 0s 3ms/sample - loss: 0.0829 - acc: 0.1961 - val_loss: 0.1746 - val_acc: 0.2353\n",
      "Epoch 402/500\n",
      "9/9 [==============================] - 0s 3ms/sample - loss: 0.0912 - acc: 0.1961 - val_loss: 0.1811 - val_acc: 0.2353\n",
      "Epoch 403/500\n",
      "9/9 [==============================] - 0s 3ms/sample - loss: 0.0998 - acc: 0.2026 - val_loss: 0.1763 - val_acc: 0.2353\n",
      "Epoch 404/500\n",
      "9/9 [==============================] - 0s 4ms/sample - loss: 0.0867 - acc: 0.1895 - val_loss: 0.1723 - val_acc: 0.2353\n",
      "Epoch 405/500\n",
      "9/9 [==============================] - 0s 4ms/sample - loss: 0.0974 - acc: 0.2026 - val_loss: 0.1688 - val_acc: 0.2353\n",
      "Epoch 406/500\n",
      "9/9 [==============================] - 0s 4ms/sample - loss: 0.0907 - acc: 0.2092 - val_loss: 0.1660 - val_acc: 0.2353\n",
      "Epoch 407/500\n",
      "9/9 [==============================] - 0s 3ms/sample - loss: 0.0873 - acc: 0.1961 - val_loss: 0.1642 - val_acc: 0.2353\n",
      "Epoch 408/500\n",
      "9/9 [==============================] - 0s 3ms/sample - loss: 0.0952 - acc: 0.2157 - val_loss: 0.1626 - val_acc: 0.2353\n",
      "Epoch 409/500\n",
      "9/9 [==============================] - 0s 4ms/sample - loss: 0.0911 - acc: 0.2026 - val_loss: 0.1627 - val_acc: 0.2353\n",
      "Epoch 410/500\n",
      "9/9 [==============================] - 0s 3ms/sample - loss: 0.0850 - acc: 0.2157 - val_loss: 0.1642 - val_acc: 0.2353\n",
      "Epoch 411/500\n",
      "9/9 [==============================] - 0s 4ms/sample - loss: 0.0973 - acc: 0.1961 - val_loss: 0.1667 - val_acc: 0.2353\n",
      "Epoch 412/500\n",
      "9/9 [==============================] - 0s 3ms/sample - loss: 0.0722 - acc: 0.2157 - val_loss: 0.1676 - val_acc: 0.2353\n",
      "Epoch 413/500\n",
      "9/9 [==============================] - 0s 3ms/sample - loss: 0.1014 - acc: 0.2026 - val_loss: 0.1585 - val_acc: 0.2353\n",
      "Epoch 414/500\n",
      "9/9 [==============================] - 0s 3ms/sample - loss: 0.0942 - acc: 0.2092 - val_loss: 0.1444 - val_acc: 0.2353\n",
      "Epoch 415/500\n",
      "9/9 [==============================] - 0s 3ms/sample - loss: 0.0862 - acc: 0.1961 - val_loss: 0.1363 - val_acc: 0.2353\n",
      "Epoch 416/500\n",
      "9/9 [==============================] - 0s 4ms/sample - loss: 0.0865 - acc: 0.2026 - val_loss: 0.1330 - val_acc: 0.2353\n",
      "Epoch 417/500\n",
      "9/9 [==============================] - 0s 4ms/sample - loss: 0.0842 - acc: 0.2157 - val_loss: 0.1325 - val_acc: 0.2353\n",
      "Epoch 418/500\n",
      "9/9 [==============================] - 0s 4ms/sample - loss: 0.0953 - acc: 0.2026 - val_loss: 0.1333 - val_acc: 0.2353\n",
      "Epoch 419/500\n",
      "9/9 [==============================] - 0s 3ms/sample - loss: 0.0781 - acc: 0.2026 - val_loss: 0.1337 - val_acc: 0.2353\n",
      "Epoch 420/500\n",
      "9/9 [==============================] - 0s 3ms/sample - loss: 0.0865 - acc: 0.2092 - val_loss: 0.1357 - val_acc: 0.2353\n",
      "Epoch 421/500\n",
      "9/9 [==============================] - 0s 3ms/sample - loss: 0.0851 - acc: 0.2092 - val_loss: 0.1410 - val_acc: 0.2353\n",
      "Epoch 422/500\n",
      "9/9 [==============================] - 0s 4ms/sample - loss: 0.0932 - acc: 0.1961 - val_loss: 0.1485 - val_acc: 0.2353\n",
      "Epoch 423/500\n",
      "9/9 [==============================] - 0s 3ms/sample - loss: 0.0816 - acc: 0.2026 - val_loss: 0.1544 - val_acc: 0.2353\n",
      "Epoch 424/500\n",
      "9/9 [==============================] - 0s 3ms/sample - loss: 0.0848 - acc: 0.1961 - val_loss: 0.1594 - val_acc: 0.2353\n",
      "Epoch 425/500\n",
      "9/9 [==============================] - 0s 3ms/sample - loss: 0.0878 - acc: 0.2026 - val_loss: 0.1638 - val_acc: 0.2353\n",
      "Epoch 426/500\n",
      "9/9 [==============================] - 0s 3ms/sample - loss: 0.0872 - acc: 0.2157 - val_loss: 0.1667 - val_acc: 0.2353\n",
      "Epoch 427/500\n",
      "9/9 [==============================] - 0s 3ms/sample - loss: 0.0974 - acc: 0.2026 - val_loss: 0.1662 - val_acc: 0.2353\n",
      "Epoch 428/500\n",
      "9/9 [==============================] - 0s 3ms/sample - loss: 0.0828 - acc: 0.1961 - val_loss: 0.1665 - val_acc: 0.2353\n",
      "Epoch 429/500\n",
      "9/9 [==============================] - 0s 3ms/sample - loss: 0.0923 - acc: 0.2026 - val_loss: 0.1659 - val_acc: 0.2353\n",
      "Epoch 430/500\n",
      "9/9 [==============================] - 0s 3ms/sample - loss: 0.0826 - acc: 0.2026 - val_loss: 0.1647 - val_acc: 0.2353\n",
      "Epoch 431/500\n",
      "9/9 [==============================] - 0s 3ms/sample - loss: 0.0873 - acc: 0.1961 - val_loss: 0.1634 - val_acc: 0.2353\n",
      "Epoch 432/500\n",
      "9/9 [==============================] - 0s 4ms/sample - loss: 0.0875 - acc: 0.2092 - val_loss: 0.1609 - val_acc: 0.2353\n",
      "Epoch 433/500\n",
      "9/9 [==============================] - 0s 3ms/sample - loss: 0.0865 - acc: 0.2092 - val_loss: 0.1583 - val_acc: 0.2353\n",
      "Epoch 434/500\n",
      "9/9 [==============================] - 0s 3ms/sample - loss: 0.0957 - acc: 0.2157 - val_loss: 0.1551 - val_acc: 0.2353\n"
     ]
    },
    {
     "name": "stdout",
     "output_type": "stream",
     "text": [
      "Epoch 435/500\n",
      "9/9 [==============================] - 0s 4ms/sample - loss: 0.0776 - acc: 0.2092 - val_loss: 0.1516 - val_acc: 0.2353\n",
      "Epoch 436/500\n",
      "9/9 [==============================] - 0s 3ms/sample - loss: 0.0874 - acc: 0.2157 - val_loss: 0.1478 - val_acc: 0.2353\n",
      "Epoch 437/500\n",
      "9/9 [==============================] - 0s 4ms/sample - loss: 0.0910 - acc: 0.1895 - val_loss: 0.1442 - val_acc: 0.2353\n",
      "Epoch 438/500\n",
      "9/9 [==============================] - 0s 3ms/sample - loss: 0.0935 - acc: 0.1961 - val_loss: 0.1407 - val_acc: 0.2353\n",
      "Epoch 439/500\n",
      "9/9 [==============================] - 0s 3ms/sample - loss: 0.0887 - acc: 0.1961 - val_loss: 0.1388 - val_acc: 0.2353\n",
      "Epoch 440/500\n",
      "9/9 [==============================] - 0s 3ms/sample - loss: 0.0895 - acc: 0.1961 - val_loss: 0.1386 - val_acc: 0.2353\n",
      "Epoch 441/500\n",
      "9/9 [==============================] - 0s 3ms/sample - loss: 0.0914 - acc: 0.2026 - val_loss: 0.1395 - val_acc: 0.2353\n",
      "Epoch 442/500\n",
      "9/9 [==============================] - 0s 4ms/sample - loss: 0.0790 - acc: 0.1961 - val_loss: 0.1415 - val_acc: 0.2353\n",
      "Epoch 443/500\n",
      "9/9 [==============================] - 0s 3ms/sample - loss: 0.0871 - acc: 0.2092 - val_loss: 0.1448 - val_acc: 0.2353\n",
      "Epoch 444/500\n",
      "9/9 [==============================] - 0s 3ms/sample - loss: 0.0767 - acc: 0.2157 - val_loss: 0.1493 - val_acc: 0.2353\n",
      "Epoch 445/500\n",
      "9/9 [==============================] - 0s 3ms/sample - loss: 0.0927 - acc: 0.2092 - val_loss: 0.1522 - val_acc: 0.2353\n",
      "Epoch 446/500\n",
      "9/9 [==============================] - 0s 3ms/sample - loss: 0.0883 - acc: 0.1961 - val_loss: 0.1529 - val_acc: 0.2353\n",
      "Epoch 447/500\n",
      "9/9 [==============================] - 0s 3ms/sample - loss: 0.0764 - acc: 0.2092 - val_loss: 0.1533 - val_acc: 0.2353\n",
      "Epoch 448/500\n",
      "9/9 [==============================] - 0s 4ms/sample - loss: 0.0723 - acc: 0.2092 - val_loss: 0.1513 - val_acc: 0.2353\n",
      "Epoch 449/500\n",
      "9/9 [==============================] - 0s 3ms/sample - loss: 0.0698 - acc: 0.2092 - val_loss: 0.1505 - val_acc: 0.2353\n",
      "Epoch 450/500\n",
      "9/9 [==============================] - 0s 3ms/sample - loss: 0.0885 - acc: 0.2092 - val_loss: 0.1494 - val_acc: 0.2353\n",
      "Epoch 451/500\n",
      "9/9 [==============================] - 0s 3ms/sample - loss: 0.0872 - acc: 0.2026 - val_loss: 0.1482 - val_acc: 0.2353\n",
      "Epoch 452/500\n",
      "9/9 [==============================] - 0s 3ms/sample - loss: 0.0827 - acc: 0.1961 - val_loss: 0.1466 - val_acc: 0.2353\n",
      "Epoch 453/500\n",
      "9/9 [==============================] - 0s 3ms/sample - loss: 0.0826 - acc: 0.2092 - val_loss: 0.1448 - val_acc: 0.2353\n",
      "Epoch 454/500\n",
      "9/9 [==============================] - 0s 3ms/sample - loss: 0.0913 - acc: 0.1961 - val_loss: 0.1410 - val_acc: 0.2353\n",
      "Epoch 455/500\n",
      "9/9 [==============================] - 0s 3ms/sample - loss: 0.0875 - acc: 0.1895 - val_loss: 0.1379 - val_acc: 0.2353\n",
      "Epoch 456/500\n",
      "9/9 [==============================] - 0s 4ms/sample - loss: 0.0766 - acc: 0.1961 - val_loss: 0.1357 - val_acc: 0.2353\n",
      "Epoch 457/500\n",
      "9/9 [==============================] - 0s 4ms/sample - loss: 0.0842 - acc: 0.1961 - val_loss: 0.1344 - val_acc: 0.2353\n",
      "Epoch 458/500\n",
      "9/9 [==============================] - 0s 4ms/sample - loss: 0.0835 - acc: 0.2092 - val_loss: 0.1342 - val_acc: 0.2353\n",
      "Epoch 459/500\n",
      "9/9 [==============================] - 0s 3ms/sample - loss: 0.0941 - acc: 0.1961 - val_loss: 0.1361 - val_acc: 0.2353\n",
      "Epoch 460/500\n",
      "9/9 [==============================] - 0s 3ms/sample - loss: 0.0840 - acc: 0.2092 - val_loss: 0.1373 - val_acc: 0.2353\n",
      "Epoch 461/500\n",
      "9/9 [==============================] - 0s 3ms/sample - loss: 0.0848 - acc: 0.2092 - val_loss: 0.1370 - val_acc: 0.2353\n",
      "Epoch 462/500\n",
      "9/9 [==============================] - 0s 3ms/sample - loss: 0.0807 - acc: 0.2026 - val_loss: 0.1372 - val_acc: 0.2353\n",
      "Epoch 463/500\n",
      "9/9 [==============================] - 0s 3ms/sample - loss: 0.1005 - acc: 0.1895 - val_loss: 0.1385 - val_acc: 0.2353\n",
      "Epoch 464/500\n",
      "9/9 [==============================] - 0s 3ms/sample - loss: 0.0763 - acc: 0.2092 - val_loss: 0.1393 - val_acc: 0.2353\n",
      "Epoch 465/500\n",
      "9/9 [==============================] - 0s 3ms/sample - loss: 0.0788 - acc: 0.2092 - val_loss: 0.1410 - val_acc: 0.2353\n",
      "Epoch 466/500\n",
      "9/9 [==============================] - 0s 3ms/sample - loss: 0.0910 - acc: 0.1961 - val_loss: 0.1436 - val_acc: 0.2353\n",
      "Epoch 467/500\n",
      "9/9 [==============================] - 0s 3ms/sample - loss: 0.0772 - acc: 0.2092 - val_loss: 0.1466 - val_acc: 0.2353\n",
      "Epoch 468/500\n",
      "9/9 [==============================] - 0s 3ms/sample - loss: 0.0749 - acc: 0.2092 - val_loss: 0.1493 - val_acc: 0.2353\n",
      "Epoch 469/500\n",
      "9/9 [==============================] - 0s 3ms/sample - loss: 0.0804 - acc: 0.2157 - val_loss: 0.1498 - val_acc: 0.2353\n",
      "Epoch 470/500\n",
      "9/9 [==============================] - 0s 4ms/sample - loss: 0.0800 - acc: 0.1961 - val_loss: 0.1501 - val_acc: 0.2353\n",
      "Epoch 471/500\n",
      "9/9 [==============================] - 0s 4ms/sample - loss: 0.0875 - acc: 0.2026 - val_loss: 0.1500 - val_acc: 0.2353\n",
      "Epoch 472/500\n",
      "9/9 [==============================] - 0s 4ms/sample - loss: 0.0810 - acc: 0.2026 - val_loss: 0.1498 - val_acc: 0.2353\n",
      "Epoch 473/500\n",
      "9/9 [==============================] - 0s 4ms/sample - loss: 0.0842 - acc: 0.1961 - val_loss: 0.1486 - val_acc: 0.2353\n",
      "Epoch 474/500\n",
      "9/9 [==============================] - 0s 4ms/sample - loss: 0.0737 - acc: 0.2092 - val_loss: 0.1471 - val_acc: 0.2353\n",
      "Epoch 475/500\n",
      "9/9 [==============================] - 0s 4ms/sample - loss: 0.0816 - acc: 0.1961 - val_loss: 0.1462 - val_acc: 0.2353\n",
      "Epoch 476/500\n",
      "9/9 [==============================] - 0s 4ms/sample - loss: 0.0771 - acc: 0.2026 - val_loss: 0.1455 - val_acc: 0.2353\n",
      "Epoch 477/500\n",
      "9/9 [==============================] - 0s 4ms/sample - loss: 0.0637 - acc: 0.2222 - val_loss: 0.1457 - val_acc: 0.2353\n",
      "Epoch 478/500\n",
      "9/9 [==============================] - 0s 4ms/sample - loss: 0.0662 - acc: 0.2092 - val_loss: 0.1465 - val_acc: 0.2353\n",
      "Epoch 479/500\n",
      "9/9 [==============================] - 0s 4ms/sample - loss: 0.0738 - acc: 0.2092 - val_loss: 0.1470 - val_acc: 0.2353\n",
      "Epoch 480/500\n",
      "9/9 [==============================] - 0s 4ms/sample - loss: 0.0826 - acc: 0.2092 - val_loss: 0.1471 - val_acc: 0.2353\n",
      "Epoch 481/500\n",
      "9/9 [==============================] - 0s 4ms/sample - loss: 0.0829 - acc: 0.2157 - val_loss: 0.1460 - val_acc: 0.2353\n",
      "Epoch 482/500\n",
      "9/9 [==============================] - 0s 3ms/sample - loss: 0.0612 - acc: 0.2157 - val_loss: 0.1427 - val_acc: 0.2353\n",
      "Epoch 483/500\n",
      "9/9 [==============================] - 0s 3ms/sample - loss: 0.0669 - acc: 0.2092 - val_loss: 0.1392 - val_acc: 0.2353\n",
      "Epoch 484/500\n",
      "9/9 [==============================] - 0s 3ms/sample - loss: 0.0781 - acc: 0.2092 - val_loss: 0.1363 - val_acc: 0.2353\n",
      "Epoch 485/500\n",
      "9/9 [==============================] - 0s 3ms/sample - loss: 0.0688 - acc: 0.1961 - val_loss: 0.1360 - val_acc: 0.2353\n",
      "Epoch 486/500\n",
      "9/9 [==============================] - 0s 3ms/sample - loss: 0.0809 - acc: 0.1961 - val_loss: 0.1368 - val_acc: 0.2353\n",
      "Epoch 487/500\n",
      "9/9 [==============================] - 0s 3ms/sample - loss: 0.0897 - acc: 0.2026 - val_loss: 0.1383 - val_acc: 0.2353\n",
      "Epoch 488/500\n",
      "9/9 [==============================] - 0s 3ms/sample - loss: 0.0725 - acc: 0.2092 - val_loss: 0.1388 - val_acc: 0.2353\n",
      "Epoch 489/500\n",
      "9/9 [==============================] - 0s 3ms/sample - loss: 0.0813 - acc: 0.2026 - val_loss: 0.1395 - val_acc: 0.2353\n",
      "Epoch 490/500\n",
      "9/9 [==============================] - 0s 3ms/sample - loss: 0.0747 - acc: 0.1961 - val_loss: 0.1411 - val_acc: 0.2353\n",
      "Epoch 491/500\n",
      "9/9 [==============================] - 0s 3ms/sample - loss: 0.0702 - acc: 0.2026 - val_loss: 0.1432 - val_acc: 0.2353\n",
      "Epoch 492/500\n",
      "9/9 [==============================] - 0s 4ms/sample - loss: 0.0680 - acc: 0.2157 - val_loss: 0.1449 - val_acc: 0.2353\n",
      "Epoch 493/500\n",
      "9/9 [==============================] - 0s 4ms/sample - loss: 0.0626 - acc: 0.2222 - val_loss: 0.1462 - val_acc: 0.2353\n",
      "Epoch 494/500\n",
      "9/9 [==============================] - 0s 4ms/sample - loss: 0.0740 - acc: 0.2157 - val_loss: 0.1449 - val_acc: 0.2353\n",
      "Epoch 495/500\n",
      "9/9 [==============================] - 0s 4ms/sample - loss: 0.0719 - acc: 0.2222 - val_loss: 0.1416 - val_acc: 0.2353\n",
      "Epoch 496/500\n",
      "9/9 [==============================] - 0s 4ms/sample - loss: 0.0741 - acc: 0.2026 - val_loss: 0.1394 - val_acc: 0.2353\n"
     ]
    },
    {
     "name": "stdout",
     "output_type": "stream",
     "text": [
      "Epoch 497/500\n",
      "9/9 [==============================] - 0s 3ms/sample - loss: 0.0787 - acc: 0.2092 - val_loss: 0.1364 - val_acc: 0.2353\n",
      "Epoch 498/500\n",
      "9/9 [==============================] - 0s 4ms/sample - loss: 0.0900 - acc: 0.2026 - val_loss: 0.1327 - val_acc: 0.2353\n",
      "Epoch 499/500\n",
      "9/9 [==============================] - 0s 4ms/sample - loss: 0.0705 - acc: 0.2092 - val_loss: 0.1295 - val_acc: 0.2353\n",
      "Epoch 500/500\n",
      "9/9 [==============================] - 0s 4ms/sample - loss: 0.0801 - acc: 0.2157 - val_loss: 0.1255 - val_acc: 0.2353\n"
     ]
    }
   ],
   "source": [
    "model = tf.keras.models.Sequential()\n",
    "\n",
    "model.add(tf.keras.layers.LSTM(64, input_shape=(17, 4),\n",
    "               return_sequences=True,\n",
    "               activation='relu'))\n",
    "model.add(tf.keras.layers.Dropout(0.2))\n",
    "\n",
    "model.add(tf.keras.layers.Dense(64))\n",
    "\n",
    "model.add(tf.keras.layers.Dropout(rate=0.2))\n",
    "\n",
    "model.add(tf.keras.layers.LSTM(32, input_shape=(17, 4),\n",
    "               return_sequences=True,\n",
    "               activation='relu'))\n",
    "model.add(tf.keras.layers.Dropout(0.2))\n",
    "\n",
    "model.add(tf.keras.layers.Dense(32))\n",
    "\n",
    "model.add(tf.keras.layers.Dropout(rate=0.2))\n",
    "\n",
    "model.add(tf.keras.layers.Dense(1))\n",
    "\n",
    "model.compile(optimizer='adam', \n",
    "              loss='mse',\n",
    "              metrics=['acc'])\n",
    "\n",
    "history = model.fit(train_X, train_Y, \n",
    "                    epochs=500, batch_size=16,\n",
    "                    validation_split=0.2,)\n",
    "                    #callbacks=[tensorboard_callback])"
   ]
  },
  {
   "cell_type": "code",
   "execution_count": 42,
   "metadata": {},
   "outputs": [
    {
     "name": "stderr",
     "output_type": "stream",
     "text": [
      "UsageError: Line magic function `%tensorboard` not found.\n"
     ]
    }
   ],
   "source": [
    "%tensorboard --logdir logs/fit"
   ]
  },
  {
   "cell_type": "code",
   "execution_count": 44,
   "metadata": {},
   "outputs": [
    {
     "data": {
      "text/plain": [
       "0.06931084512304374"
      ]
     },
     "execution_count": 44,
     "metadata": {},
     "output_type": "execute_result"
    }
   ],
   "source": [
    "train_predictions = model.predict(train_X)\n",
    "\n",
    "# Train RMSE\n",
    "metrics.mean_squared_error(train_Y.reshape(train_Y.shape[0], train_Y.shape[1] * train_Y.shape[2]),\n",
    "                           train_predictions.reshape(train_predictions.shape[0], train_predictions.shape[1] * train_predictions.shape[2]))"
   ]
  },
  {
   "cell_type": "code",
   "execution_count": 45,
   "metadata": {},
   "outputs": [
    {
     "data": {
      "text/plain": [
       "0.3719095387381358"
      ]
     },
     "execution_count": 45,
     "metadata": {},
     "output_type": "execute_result"
    }
   ],
   "source": [
    "test_predictions = model.predict(test_X)\n",
    "\n",
    "# Test RMSE\n",
    "metrics.mean_squared_error(test_Y.reshape(test_Y.shape[0], test_Y.shape[1] * test_Y.shape[2]),\n",
    "                           test_predictions.reshape(test_predictions.shape[0], test_predictions.shape[1] * train_predictions.shape[2]))"
   ]
  },
  {
   "cell_type": "code",
   "execution_count": 54,
   "metadata": {
    "scrolled": true
   },
   "outputs": [
    {
     "data": {
      "text/plain": [
       "[<matplotlib.lines.Line2D at 0x1a3061aba8>]"
      ]
     },
     "execution_count": 54,
     "metadata": {},
     "output_type": "execute_result"
    },
    {
     "data": {
      "image/png": "[encoded data removed]",
      "text/plain": [
       "<Figure size 432x288 with 1 Axes>"
      ]
     },
     "metadata": {},
     "output_type": "display_data"
    }
   ],
   "source": [
    "plt.plot(train_Y[2])"
   ]
  },
  {
   "cell_type": "code",
   "execution_count": 55,
   "metadata": {},
   "outputs": [
    {
     "data": {
      "text/plain": [
       "[<matplotlib.lines.Line2D at 0x1a30761c50>]"
      ]
     },
     "execution_count": 55,
     "metadata": {},
     "output_type": "execute_result"
    },
    {
     "data": {
      "image/png": "[encoded data removed]",
      "text/plain": [
       "<Figure size 432x288 with 1 Axes>"
      ]
     },
     "metadata": {},
     "output_type": "display_data"
    }
   ],
   "source": [
    "plt.plot(train_predictions[2])"
   ]
  },
  {
   "cell_type": "code",
   "execution_count": null,
   "metadata": {},
   "outputs": [],
   "source": []
  },
  {
   "cell_type": "markdown",
   "metadata": {},
   "source": [
    "## Parametric"
   ]
  },
  {
   "cell_type": "markdown",
   "metadata": {},
   "source": [
    "### ARIMA"
   ]
  },
  {
   "cell_type": "code",
   "execution_count": null,
   "metadata": {},
   "outputs": [],
   "source": []
  },
  {
   "cell_type": "code",
   "execution_count": null,
   "metadata": {},
   "outputs": [],
   "source": []
  },
  {
   "cell_type": "code",
   "execution_count": null,
   "metadata": {},
   "outputs": [],
   "source": []
  }
 ],
 "metadata": {
  "kernelspec": {
   "display_name": "EEB498",
   "language": "python",
   "name": "eeb498"
  },
  "language_info": {
   "codemirror_mode": {
    "name": "ipython",
    "version": 3
   },
   "file_extension": ".py",
   "mimetype": "text/x-python",
   "name": "python",
   "nbconvert_exporter": "python",
   "pygments_lexer": "ipython3",
   "version": "3.6.9"
  },
  "toc": {
   "base_numbering": 1,
   "nav_menu": {},
   "number_sections": true,
   "sideBar": true,
   "skip_h1_title": false,
   "title_cell": "Table of Contents",
   "title_sidebar": "Contents",
   "toc_cell": false,
   "toc_position": {},
   "toc_section_display": true,
   "toc_window_display": true
  }
 },
 "nbformat": 4,
 "nbformat_minor": 2
}
