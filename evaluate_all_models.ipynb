{
 "cells": [
  {
   "cell_type": "markdown",
   "metadata": {},
   "source": [
    "Please remember that in order to run the code in this notebook you must have either already fit your own LSTM and AutoML models and gotten diagnostic statistics or imported the ones from my GitHub"
   ]
  },
  {
   "cell_type": "code",
   "execution_count": 30,
   "metadata": {},
   "outputs": [
    {
     "name": "stdout",
     "output_type": "stream",
     "text": [
      "The autoreload extension is already loaded. To reload it, use:\n",
      "  %reload_ext autoreload\n"
     ]
    }
   ],
   "source": [
    "%load_ext autoreload\n",
    "%autoreload 2"
   ]
  },
  {
   "cell_type": "code",
   "execution_count": 31,
   "metadata": {},
   "outputs": [],
   "source": [
    "import json\n",
    "import matplotlib.pyplot as plt\n",
    "import seaborn as sns\n",
    "import pandas as pd"
   ]
  },
  {
   "cell_type": "code",
   "execution_count": 32,
   "metadata": {},
   "outputs": [],
   "source": [
    "analysis_years = list(range(2003, 2018))"
   ]
  },
  {
   "cell_type": "code",
   "execution_count": null,
   "metadata": {},
   "outputs": [],
   "source": []
  },
  {
   "cell_type": "markdown",
   "metadata": {},
   "source": [
    "# Load models"
   ]
  },
  {
   "cell_type": "markdown",
   "metadata": {},
   "source": [
    "## LSTM"
   ]
  },
  {
   "cell_type": "code",
   "execution_count": 33,
   "metadata": {},
   "outputs": [],
   "source": [
    "with open('lstm/sufficient_info.json') as json_file:\n",
    "    lstm_info = json.load(json_file)"
   ]
  },
  {
   "cell_type": "markdown",
   "metadata": {},
   "source": [
    "## AutoML"
   ]
  },
  {
   "cell_type": "code",
   "execution_count": 34,
   "metadata": {},
   "outputs": [],
   "source": [
    "with open('automl/sufficient_info.json') as json_file:\n",
    "    automl_info = json.load(json_file)"
   ]
  },
  {
   "cell_type": "markdown",
   "metadata": {},
   "source": [
    "## Bayes"
   ]
  },
  {
   "cell_type": "code",
   "execution_count": 35,
   "metadata": {},
   "outputs": [],
   "source": [
    "with open('bayes/sufficient_info.json') as json_file:\n",
    "    bayes_info = json.load(json_file)"
   ]
  },
  {
   "cell_type": "markdown",
   "metadata": {},
   "source": [
    "# Plot residuals"
   ]
  },
  {
   "cell_type": "code",
   "execution_count": 78,
   "metadata": {},
   "outputs": [],
   "source": [
    "xmin = 0\n",
    "xmax = 0.8"
   ]
  },
  {
   "cell_type": "code",
   "execution_count": 140,
   "metadata": {},
   "outputs": [],
   "source": [
    "sns.set_style('whitegrid',\n",
    "       {'axes.facecolor': (0, 0, 0, 0),\n",
    "        'figure.facecolor': (0, 0, 0, 0)})\n",
    "sns.set_context('talk')"
   ]
  },
  {
   "cell_type": "code",
   "execution_count": 141,
   "metadata": {},
   "outputs": [
    {
     "data": {
      "text/plain": [
       "['test',\n",
       " 'test',\n",
       " 'test',\n",
       " 'test',\n",
       " 'test',\n",
       " 'test',\n",
       " 'test',\n",
       " 'test',\n",
       " 'test',\n",
       " 'test']"
      ]
     },
     "execution_count": 141,
     "metadata": {},
     "output_type": "execute_result"
    }
   ],
   "source": [
    "['test'] * 10"
   ]
  },
  {
   "cell_type": "code",
   "execution_count": 167,
   "metadata": {},
   "outputs": [],
   "source": [
    "# prep data\n",
    "lstm_train_mae = [lstm_info[key]['train_mae'] for key in lstm_info.keys()]\n",
    "automl_train_mae = [automl_info[key]['train_mae'] for key in automl_info.keys()]\n",
    "bayes_train_mae = [bayes_info[key]['train_mae'] for key in bayes_info.keys()]\n",
    "\n",
    "lstm_test_mae = [lstm_info[key]['test_mae'] for key in lstm_info.keys()]\n",
    "automl_test_mae = [automl_info[key]['mae'] for key in automl_info.keys()]\n",
    "bayes_test_mae = [bayes_info[key]['test_mae'] for key in bayes_info.keys()]\n",
    "\n",
    "train_test = ['train'] * 15 + ['test'] * 15\n",
    "\n",
    "train = pd.DataFrame({\n",
    "    'Long Short\\nTerm Memory': lstm_train_mae + lstm_test_mae,\n",
    "    'AutoML': automl_train_mae + automl_test_mae,\n",
    "    'Naive Bayes': bayes_train_mae + bayes_test_mae,\n",
    "    'train_test': train_test\n",
    "})\n",
    "plotdata = pd.melt(train, id_vars=['train_test'], value_vars=['Long Short\\nTerm Memory', 'AutoML', 'Naive Bayes'])\n",
    "# value_vars=['lstm', 'automl', 'bayes'])"
   ]
  },
  {
   "cell_type": "code",
   "execution_count": 168,
   "metadata": {},
   "outputs": [
    {
     "data": {
      "text/html": [
       "<div>\n",
       "<style scoped>\n",
       "    .dataframe tbody tr th:only-of-type {\n",
       "        vertical-align: middle;\n",
       "    }\n",
       "\n",
       "    .dataframe tbody tr th {\n",
       "        vertical-align: top;\n",
       "    }\n",
       "\n",
       "    .dataframe thead th {\n",
       "        text-align: right;\n",
       "    }\n",
       "</style>\n",
       "<table border=\"1\" class=\"dataframe\">\n",
       "  <thead>\n",
       "    <tr style=\"text-align: right;\">\n",
       "      <th></th>\n",
       "      <th>train_test</th>\n",
       "      <th>variable</th>\n",
       "      <th>value</th>\n",
       "    </tr>\n",
       "  </thead>\n",
       "  <tbody>\n",
       "    <tr>\n",
       "      <th>0</th>\n",
       "      <td>train</td>\n",
       "      <td>Long Short\\nTerm Memory</td>\n",
       "      <td>0.198292</td>\n",
       "    </tr>\n",
       "    <tr>\n",
       "      <th>1</th>\n",
       "      <td>train</td>\n",
       "      <td>Long Short\\nTerm Memory</td>\n",
       "      <td>0.115388</td>\n",
       "    </tr>\n",
       "    <tr>\n",
       "      <th>2</th>\n",
       "      <td>train</td>\n",
       "      <td>Long Short\\nTerm Memory</td>\n",
       "      <td>0.181155</td>\n",
       "    </tr>\n",
       "    <tr>\n",
       "      <th>3</th>\n",
       "      <td>train</td>\n",
       "      <td>Long Short\\nTerm Memory</td>\n",
       "      <td>0.124783</td>\n",
       "    </tr>\n",
       "    <tr>\n",
       "      <th>4</th>\n",
       "      <td>train</td>\n",
       "      <td>Long Short\\nTerm Memory</td>\n",
       "      <td>0.128992</td>\n",
       "    </tr>\n",
       "  </tbody>\n",
       "</table>\n",
       "</div>"
      ],
      "text/plain": [
       "  train_test                 variable     value\n",
       "0      train  Long Short\\nTerm Memory  0.198292\n",
       "1      train  Long Short\\nTerm Memory  0.115388\n",
       "2      train  Long Short\\nTerm Memory  0.181155\n",
       "3      train  Long Short\\nTerm Memory  0.124783\n",
       "4      train  Long Short\\nTerm Memory  0.128992"
      ]
     },
     "execution_count": 168,
     "metadata": {},
     "output_type": "execute_result"
    }
   ],
   "source": [
    "plotdata.head()"
   ]
  },
  {
   "cell_type": "code",
   "execution_count": 173,
   "metadata": {},
   "outputs": [
    {
     "data": {
      "image/png": "[encoded data removed]",
      "text/plain": [
       "<Figure size 720x288 with 1 Axes>"
      ]
     },
     "metadata": {
      "needs_background": "light"
     },
     "output_type": "display_data"
    }
   ],
   "source": [
    "# plot\n",
    "fig, ax = plt.subplots()\n",
    "\n",
    "# base plot\n",
    "ax = sns.boxplot(x=\"value\", y=\"variable\",\n",
    "                 hue='train_test', data=plotdata,\n",
    "                linewidth=2.2)\n",
    "# sns.stripplot(x='value', y='variable', \n",
    "#               hue='train_test', data=plotdata,\n",
    "#               ax=ax, orient='h', color=\".5\", dodge=True)\n",
    "\n",
    "# set aesthetics\n",
    "ax.set_xlim((xmin, xmax))\n",
    "ax.set_ylabel('')\n",
    "ax.set_xlabel('Mean Absolute Error')\n",
    "plt.box(False)\n",
    "ax.set_alpha(0)\n",
    "ax.set_xticks([0, 0.2, 0.4, 0.6], minor=False)\n",
    "ax.set_xticks([0.1, 0.3, 0.5, 0.7], minor=True)\n",
    "ax.tick_params(axis='x', which='major', color='b')\n",
    "ax.tick_params(axis='x', which='minor', color='w')\n",
    "\n",
    "# legend\n",
    "handles, labels = ax.get_legend_handles_labels()\n",
    "ax.legend(handles, labels, title='', frameon=True, ncol=1, loc='lower right', facecolor='white', edgecolor='white')\n",
    "\n",
    "plt.tight_layout()\n",
    "fig.set_figwidth(10)\n",
    "fig.savefig('residuals.png', dpi=300, transparent=True)"
   ]
  },
  {
   "cell_type": "code",
   "execution_count": 149,
   "metadata": {},
   "outputs": [
    {
     "data": {
      "image/png": "[encoded data removed]",
      "text/plain": [
       "<Figure size 432x288 with 1 Axes>"
      ]
     },
     "metadata": {
      "needs_background": "light"
     },
     "output_type": "display_data"
    }
   ],
   "source": [
    "# plot\n",
    "fig, ax = plt.subplots()\n",
    "\n",
    "# base plot\n",
    "sns.stripplot(x='value', y='variable', \n",
    "              hue='train_test', data=plotdata,\n",
    "              ax=ax, orient='h', alpha=0.7, dodge=True,\n",
    "              palette='deep')\n",
    "\n",
    "# set aesthetics\n",
    "ax.set_xlim((xmin, xmax))\n",
    "ax.set_ylabel('')\n",
    "ax.set_xlabel('Mean Absolute Error')\n",
    "plt.box(False)\n",
    "ax.set_alpha(0)\n",
    "ax.set_xticks([0, 0.2, 0.4, 0.6], minor=False)\n",
    "ax.set_xticks([0.1, 0.3, 0.5, 0.7], minor=True)\n",
    "ax.tick_params(axis='x', which='major', color='b')\n",
    "ax.tick_params(axis='x', which='minor', color='w')\n",
    "\n",
    "# legend\n",
    "handles, labels = ax.get_legend_handles_labels()\n",
    "ax.legend(handles, labels, title='', frameon=True, ncol=1, loc='lower right', facecolor='white', edgecolor='white')\n",
    "\n",
    "plt.tight_layout()\n",
    "fig.savefig('residuals.png', dpi=300, transparent=True)"
   ]
  },
  {
   "cell_type": "code",
   "execution_count": null,
   "metadata": {},
   "outputs": [],
   "source": []
  },
  {
   "cell_type": "code",
   "execution_count": null,
   "metadata": {},
   "outputs": [],
   "source": []
  },
  {
   "cell_type": "code",
   "execution_count": null,
   "metadata": {},
   "outputs": [],
   "source": []
  },
  {
   "cell_type": "markdown",
   "metadata": {},
   "source": [
    "# Plot forecasts"
   ]
  },
  {
   "cell_type": "code",
   "execution_count": null,
   "metadata": {},
   "outputs": [],
   "source": []
  },
  {
   "cell_type": "code",
   "execution_count": null,
   "metadata": {},
   "outputs": [],
   "source": []
  },
  {
   "cell_type": "code",
   "execution_count": null,
   "metadata": {},
   "outputs": [],
   "source": []
  }
 ],
 "metadata": {
  "kernelspec": {
   "display_name": "EEB498",
   "language": "python",
   "name": "eeb498"
  },
  "language_info": {
   "codemirror_mode": {
    "name": "ipython",
    "version": 3
   },
   "file_extension": ".py",
   "mimetype": "text/x-python",
   "name": "python",
   "nbconvert_exporter": "python",
   "pygments_lexer": "ipython3",
   "version": "3.6.9"
  },
  "toc": {
   "base_numbering": 1,
   "nav_menu": {},
   "number_sections": true,
   "sideBar": true,
   "skip_h1_title": false,
   "title_cell": "Table of Contents",
   "title_sidebar": "Contents",
   "toc_cell": false,
   "toc_position": {},
   "toc_section_display": true,
   "toc_window_display": false
  }
 },
 "nbformat": 4,
 "nbformat_minor": 4
}
