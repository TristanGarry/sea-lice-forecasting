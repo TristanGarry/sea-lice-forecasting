{
 "cells": [
  {
   "cell_type": "markdown",
   "metadata": {},
   "source": [
    "# Top-level imports"
   ]
  },
  {
   "cell_type": "code",
   "execution_count": 1,
   "metadata": {},
   "outputs": [],
   "source": [
    "%load_ext autoreload\n",
    "%autoreload 2"
   ]
  },
  {
   "cell_type": "markdown",
   "metadata": {},
   "source": [
    "#### import packages - setup"
   ]
  },
  {
   "cell_type": "code",
   "execution_count": 2,
   "metadata": {},
   "outputs": [],
   "source": [
    "import os \n",
    "import pandas as pd\n",
    "import numpy as np\n",
    "import matplotlib.pyplot as plt\n",
    "import datetime\n",
    "from scipy import stats\n",
    "from sklearn import metrics"
   ]
  },
  {
   "cell_type": "code",
   "execution_count": 1,
   "metadata": {},
   "outputs": [
    {
     "ename": "NameError",
     "evalue": "name 'plt' is not defined",
     "output_type": "error",
     "traceback": [
      "\u001b[0;31m---------------------------------------------------------------------------\u001b[0m",
      "\u001b[0;31mNameError\u001b[0m                                 Traceback (most recent call last)",
      "\u001b[0;32m<ipython-input-1-add6b8c60856>\u001b[0m in \u001b[0;36m<module>\u001b[0;34m\u001b[0m\n\u001b[0;32m----> 1\u001b[0;31m \u001b[0mplt\u001b[0m\u001b[0;34m.\u001b[0m\u001b[0mstyle\u001b[0m\u001b[0;34m.\u001b[0m\u001b[0muse\u001b[0m\u001b[0;34m(\u001b[0m\u001b[0;34m'fivethirtyeight'\u001b[0m\u001b[0;34m)\u001b[0m\u001b[0;34m\u001b[0m\u001b[0;34m\u001b[0m\u001b[0m\n\u001b[0m",
      "\u001b[0;31mNameError\u001b[0m: name 'plt' is not defined"
     ]
    }
   ],
   "source": [
    "plt.style.use('fivethirtyeight')"
   ]
  },
  {
   "cell_type": "code",
   "execution_count": null,
   "metadata": {},
   "outputs": [],
   "source": [
    "data_dir = 'data/'"
   ]
  },
  {
   "cell_type": "code",
   "execution_count": 5,
   "metadata": {},
   "outputs": [
    {
     "data": {
      "text/plain": [
       "['BroughtonSeaLice_fishData.csv',\n",
       " 'BroughtonSeaLice_fishInfo.csv',\n",
       " 'BroughtonSeaLice_siteData.csv',\n",
       " 'BroughtonSeaLice_siteInfo.csv',\n",
       " 'DFOSeaLice_Data.csv',\n",
       " 'DFOSeaLice_Info.csv',\n",
       " 'IndustrySeaLice_Data.csv',\n",
       " 'IndustrySeaLice_Info.csv']"
      ]
     },
     "execution_count": 5,
     "metadata": {},
     "output_type": "execute_result"
    }
   ],
   "source": [
    "data_files = os.listdir(data_dir)\n",
    "data_files.sort()\n",
    "data_files"
   ]
  },
  {
   "cell_type": "markdown",
   "metadata": {},
   "source": [
    "#### Wild data"
   ]
  },
  {
   "cell_type": "code",
   "execution_count": 6,
   "metadata": {},
   "outputs": [
    {
     "name": "stderr",
     "output_type": "stream",
     "text": [
      "/usr/local/Cellar/ipython/7.8.0/libexec/lib/python3.7/site-packages/IPython/core/interactiveshell.py:3058: DtypeWarning: Columns (31,32) have mixed types. Specify dtype option on import or set low_memory=False.\n",
      "  interactivity=interactivity, compiler=compiler, result=result)\n"
     ]
    }
   ],
   "source": [
    "fish_data = pd.read_csv(f'{data_dir}BroughtonSeaLice_fishData.csv', encoding='ISO-8859-1')\n",
    "site_data = pd.read_csv(f'{data_dir}BroughtonSeaLice_siteData.csv', encoding='ISO-8859-1')"
   ]
  },
  {
   "cell_type": "code",
   "execution_count": 7,
   "metadata": {},
   "outputs": [],
   "source": [
    "fish_info = pd.read_csv(f'{data_dir}BroughtonSeaLice_fishInfo.csv', encoding='ISO-8859-1')\n",
    "site_info = pd.read_csv(f'{data_dir}BroughtonSeaLice_siteInfo.csv', encoding='ISO-8859-1')"
   ]
  },
  {
   "cell_type": "markdown",
   "metadata": {},
   "source": [
    "#### Farm data"
   ]
  },
  {
   "cell_type": "code",
   "execution_count": 8,
   "metadata": {},
   "outputs": [],
   "source": [
    "dfo_data = pd.read_csv(f'{data_dir}DFOSeaLice_Data.csv')\n",
    "dfo_info = pd.read_csv(f'{data_dir}DFOSeaLice_Info.csv')"
   ]
  },
  {
   "cell_type": "code",
   "execution_count": 9,
   "metadata": {},
   "outputs": [],
   "source": [
    "industry_data = pd.read_csv(f'{data_dir}IndustrySeaLice_Data.csv', encoding='ISO-8859-1', low_memory=False)\n",
    "industry_info = pd.read_csv(f'{data_dir}IndustrySeaLice_Info.csv', encoding='ISO-8859-1', low_memory=False)"
   ]
  },
  {
   "cell_type": "markdown",
   "metadata": {},
   "source": [
    "# Data/Feature Engineering"
   ]
  },
  {
   "cell_type": "markdown",
   "metadata": {},
   "source": [
    "Possible input scenarios\n",
    "- 2001-2018: We have to trust that the model can work with the large amounts of NaN values in earlier years, both in wild data and no farmed data until 2011 \n",
    "- 2003-2018: 2003 is the first year we have data starting in March\n",
    "- 2011-2018: Least amount of missing data, we have full datasets for all years"
   ]
  },
  {
   "cell_type": "markdown",
   "metadata": {},
   "source": [
    "## Setting overall constants"
   ]
  },
  {
   "cell_type": "markdown",
   "metadata": {},
   "source": [
    "Things to set here \n",
    "- Years to analyse\n",
    "- Within-season date range\n",
    "- Linear scaling factors\n",
    "- Accepted ranges"
   ]
  },
  {
   "cell_type": "code",
   "execution_count": 10,
   "metadata": {},
   "outputs": [],
   "source": [
    "analysis_years = list(range(2003, 2018))"
   ]
  },
  {
   "cell_type": "code",
   "execution_count": 11,
   "metadata": {},
   "outputs": [],
   "source": [
    "analysis_months = list(range(3, 8))"
   ]
  },
  {
   "cell_type": "markdown",
   "metadata": {},
   "source": [
    "## Setting up response"
   ]
  },
  {
   "cell_type": "markdown",
   "metadata": {},
   "source": [
    "### Unified adult count\n",
    "This is one possible response"
   ]
  },
  {
   "cell_type": "code",
   "execution_count": 12,
   "metadata": {
    "scrolled": true
   },
   "outputs": [
    {
     "data": {
      "text/plain": [
       "Index(['fish_id', 'site_id', 'year', 'day', 'month', 'location', 'fish_num',\n",
       "       'species', 'length', 'height', 'Lep_cope', 'chalA', 'chalB',\n",
       "       'Lep_PAmale', 'Lep_PAfemale', 'Lep_male', 'Lep_nongravid', 'Lep_gravid',\n",
       "       'Caligus_cope', 'Caligus_mot', 'Caligus_gravid', 'unid_cope',\n",
       "       'chal_unid', 'unid_PA', 'unid_adult', 'chal_scar', 'pred_scar',\n",
       "       'mot_scar', 'hem', 'mateguarding', 'eroded_gill', 'white_eye',\n",
       "       'blue_blotches', 'pinched_belly', 'scales', 'comments'],\n",
       "      dtype='object')"
      ]
     },
     "execution_count": 12,
     "metadata": {},
     "output_type": "execute_result"
    }
   ],
   "source": [
    "fish_data.columns"
   ]
  },
  {
   "cell_type": "code",
   "execution_count": 13,
   "metadata": {},
   "outputs": [],
   "source": [
    "adult = fish_data[['Lep_PAmale', 'Lep_PAfemale', \n",
    "                   'Lep_male', 'Lep_gravid',\n",
    "                   'Lep_nongravid', 'unid_PA',\n",
    "                   'unid_adult']].sum(axis=1)"
   ]
  },
  {
   "cell_type": "code",
   "execution_count": 14,
   "metadata": {},
   "outputs": [],
   "source": [
    "fish_data_date = pd.to_datetime(fish_data[['year', 'day', 'month']])"
   ]
  },
  {
   "cell_type": "code",
   "execution_count": 15,
   "metadata": {},
   "outputs": [],
   "source": [
    "response = pd.DataFrame({'count':adult.values, \n",
    "                         'location':fish_data['location'].values,\n",
    "                         'datetime': fish_data_date})"
   ]
  },
  {
   "cell_type": "code",
   "execution_count": 16,
   "metadata": {},
   "outputs": [],
   "source": [
    "response_glacier = response[response['location'] == 'Glacier']"
   ]
  },
  {
   "cell_type": "code",
   "execution_count": 17,
   "metadata": {},
   "outputs": [],
   "source": [
    "# resample by week for average\n",
    "Y_glacier = response_glacier.resample('W', on='datetime', label='left').apply(np.nanmean)"
   ]
  },
  {
   "cell_type": "code",
   "execution_count": 18,
   "metadata": {},
   "outputs": [
    {
     "data": {
      "text/html": [
       "<div>\n",
       "<style scoped>\n",
       "    .dataframe tbody tr th:only-of-type {\n",
       "        vertical-align: middle;\n",
       "    }\n",
       "\n",
       "    .dataframe tbody tr th {\n",
       "        vertical-align: top;\n",
       "    }\n",
       "\n",
       "    .dataframe thead th {\n",
       "        text-align: right;\n",
       "    }\n",
       "</style>\n",
       "<table border=\"1\" class=\"dataframe\">\n",
       "  <thead>\n",
       "    <tr style=\"text-align: right;\">\n",
       "      <th></th>\n",
       "      <th>count</th>\n",
       "    </tr>\n",
       "    <tr>\n",
       "      <th>datetime</th>\n",
       "      <th></th>\n",
       "    </tr>\n",
       "  </thead>\n",
       "  <tbody>\n",
       "    <tr>\n",
       "      <th>2001-06-10</th>\n",
       "      <td>2.168831</td>\n",
       "    </tr>\n",
       "    <tr>\n",
       "      <th>2001-06-17</th>\n",
       "      <td>NaN</td>\n",
       "    </tr>\n",
       "    <tr>\n",
       "      <th>2001-06-24</th>\n",
       "      <td>4.500000</td>\n",
       "    </tr>\n",
       "    <tr>\n",
       "      <th>2001-07-01</th>\n",
       "      <td>NaN</td>\n",
       "    </tr>\n",
       "    <tr>\n",
       "      <th>2001-07-08</th>\n",
       "      <td>2.000000</td>\n",
       "    </tr>\n",
       "    <tr>\n",
       "      <th>2001-07-15</th>\n",
       "      <td>NaN</td>\n",
       "    </tr>\n",
       "    <tr>\n",
       "      <th>2001-07-22</th>\n",
       "      <td>NaN</td>\n",
       "    </tr>\n",
       "    <tr>\n",
       "      <th>2001-07-29</th>\n",
       "      <td>NaN</td>\n",
       "    </tr>\n",
       "    <tr>\n",
       "      <th>2001-08-05</th>\n",
       "      <td>NaN</td>\n",
       "    </tr>\n",
       "    <tr>\n",
       "      <th>2001-08-12</th>\n",
       "      <td>NaN</td>\n",
       "    </tr>\n",
       "    <tr>\n",
       "      <th>2001-08-19</th>\n",
       "      <td>NaN</td>\n",
       "    </tr>\n",
       "    <tr>\n",
       "      <th>2001-08-26</th>\n",
       "      <td>NaN</td>\n",
       "    </tr>\n",
       "    <tr>\n",
       "      <th>2001-09-02</th>\n",
       "      <td>NaN</td>\n",
       "    </tr>\n",
       "    <tr>\n",
       "      <th>2001-09-09</th>\n",
       "      <td>NaN</td>\n",
       "    </tr>\n",
       "    <tr>\n",
       "      <th>2001-09-16</th>\n",
       "      <td>NaN</td>\n",
       "    </tr>\n",
       "    <tr>\n",
       "      <th>2001-09-23</th>\n",
       "      <td>NaN</td>\n",
       "    </tr>\n",
       "    <tr>\n",
       "      <th>2001-09-30</th>\n",
       "      <td>NaN</td>\n",
       "    </tr>\n",
       "    <tr>\n",
       "      <th>2001-10-07</th>\n",
       "      <td>NaN</td>\n",
       "    </tr>\n",
       "    <tr>\n",
       "      <th>2001-10-14</th>\n",
       "      <td>NaN</td>\n",
       "    </tr>\n",
       "    <tr>\n",
       "      <th>2001-10-21</th>\n",
       "      <td>NaN</td>\n",
       "    </tr>\n",
       "    <tr>\n",
       "      <th>2001-10-28</th>\n",
       "      <td>NaN</td>\n",
       "    </tr>\n",
       "    <tr>\n",
       "      <th>2001-11-04</th>\n",
       "      <td>NaN</td>\n",
       "    </tr>\n",
       "    <tr>\n",
       "      <th>2001-11-11</th>\n",
       "      <td>NaN</td>\n",
       "    </tr>\n",
       "    <tr>\n",
       "      <th>2001-11-18</th>\n",
       "      <td>NaN</td>\n",
       "    </tr>\n",
       "    <tr>\n",
       "      <th>2001-11-25</th>\n",
       "      <td>NaN</td>\n",
       "    </tr>\n",
       "    <tr>\n",
       "      <th>2001-12-02</th>\n",
       "      <td>NaN</td>\n",
       "    </tr>\n",
       "    <tr>\n",
       "      <th>2001-12-09</th>\n",
       "      <td>NaN</td>\n",
       "    </tr>\n",
       "    <tr>\n",
       "      <th>2001-12-16</th>\n",
       "      <td>NaN</td>\n",
       "    </tr>\n",
       "    <tr>\n",
       "      <th>2001-12-23</th>\n",
       "      <td>NaN</td>\n",
       "    </tr>\n",
       "    <tr>\n",
       "      <th>2001-12-30</th>\n",
       "      <td>NaN</td>\n",
       "    </tr>\n",
       "    <tr>\n",
       "      <th>...</th>\n",
       "      <td>...</td>\n",
       "    </tr>\n",
       "    <tr>\n",
       "      <th>2017-11-05</th>\n",
       "      <td>NaN</td>\n",
       "    </tr>\n",
       "    <tr>\n",
       "      <th>2017-11-12</th>\n",
       "      <td>NaN</td>\n",
       "    </tr>\n",
       "    <tr>\n",
       "      <th>2017-11-19</th>\n",
       "      <td>NaN</td>\n",
       "    </tr>\n",
       "    <tr>\n",
       "      <th>2017-11-26</th>\n",
       "      <td>NaN</td>\n",
       "    </tr>\n",
       "    <tr>\n",
       "      <th>2017-12-03</th>\n",
       "      <td>NaN</td>\n",
       "    </tr>\n",
       "    <tr>\n",
       "      <th>2017-12-10</th>\n",
       "      <td>NaN</td>\n",
       "    </tr>\n",
       "    <tr>\n",
       "      <th>2017-12-17</th>\n",
       "      <td>NaN</td>\n",
       "    </tr>\n",
       "    <tr>\n",
       "      <th>2017-12-24</th>\n",
       "      <td>NaN</td>\n",
       "    </tr>\n",
       "    <tr>\n",
       "      <th>2017-12-31</th>\n",
       "      <td>NaN</td>\n",
       "    </tr>\n",
       "    <tr>\n",
       "      <th>2018-01-07</th>\n",
       "      <td>NaN</td>\n",
       "    </tr>\n",
       "    <tr>\n",
       "      <th>2018-01-14</th>\n",
       "      <td>NaN</td>\n",
       "    </tr>\n",
       "    <tr>\n",
       "      <th>2018-01-21</th>\n",
       "      <td>NaN</td>\n",
       "    </tr>\n",
       "    <tr>\n",
       "      <th>2018-01-28</th>\n",
       "      <td>NaN</td>\n",
       "    </tr>\n",
       "    <tr>\n",
       "      <th>2018-02-04</th>\n",
       "      <td>NaN</td>\n",
       "    </tr>\n",
       "    <tr>\n",
       "      <th>2018-02-11</th>\n",
       "      <td>NaN</td>\n",
       "    </tr>\n",
       "    <tr>\n",
       "      <th>2018-02-18</th>\n",
       "      <td>NaN</td>\n",
       "    </tr>\n",
       "    <tr>\n",
       "      <th>2018-02-25</th>\n",
       "      <td>NaN</td>\n",
       "    </tr>\n",
       "    <tr>\n",
       "      <th>2018-03-04</th>\n",
       "      <td>NaN</td>\n",
       "    </tr>\n",
       "    <tr>\n",
       "      <th>2018-03-11</th>\n",
       "      <td>NaN</td>\n",
       "    </tr>\n",
       "    <tr>\n",
       "      <th>2018-03-18</th>\n",
       "      <td>NaN</td>\n",
       "    </tr>\n",
       "    <tr>\n",
       "      <th>2018-03-25</th>\n",
       "      <td>NaN</td>\n",
       "    </tr>\n",
       "    <tr>\n",
       "      <th>2018-04-01</th>\n",
       "      <td>NaN</td>\n",
       "    </tr>\n",
       "    <tr>\n",
       "      <th>2018-04-08</th>\n",
       "      <td>0.000000</td>\n",
       "    </tr>\n",
       "    <tr>\n",
       "      <th>2018-04-15</th>\n",
       "      <td>NaN</td>\n",
       "    </tr>\n",
       "    <tr>\n",
       "      <th>2018-04-22</th>\n",
       "      <td>NaN</td>\n",
       "    </tr>\n",
       "    <tr>\n",
       "      <th>2018-04-29</th>\n",
       "      <td>NaN</td>\n",
       "    </tr>\n",
       "    <tr>\n",
       "      <th>2018-05-06</th>\n",
       "      <td>NaN</td>\n",
       "    </tr>\n",
       "    <tr>\n",
       "      <th>2018-05-13</th>\n",
       "      <td>NaN</td>\n",
       "    </tr>\n",
       "    <tr>\n",
       "      <th>2018-05-20</th>\n",
       "      <td>NaN</td>\n",
       "    </tr>\n",
       "    <tr>\n",
       "      <th>2018-05-27</th>\n",
       "      <td>0.096774</td>\n",
       "    </tr>\n",
       "  </tbody>\n",
       "</table>\n",
       "<p>886 rows × 1 columns</p>\n",
       "</div>"
      ],
      "text/plain": [
       "               count\n",
       "datetime            \n",
       "2001-06-10  2.168831\n",
       "2001-06-17       NaN\n",
       "2001-06-24  4.500000\n",
       "2001-07-01       NaN\n",
       "2001-07-08  2.000000\n",
       "2001-07-15       NaN\n",
       "2001-07-22       NaN\n",
       "2001-07-29       NaN\n",
       "2001-08-05       NaN\n",
       "2001-08-12       NaN\n",
       "2001-08-19       NaN\n",
       "2001-08-26       NaN\n",
       "2001-09-02       NaN\n",
       "2001-09-09       NaN\n",
       "2001-09-16       NaN\n",
       "2001-09-23       NaN\n",
       "2001-09-30       NaN\n",
       "2001-10-07       NaN\n",
       "2001-10-14       NaN\n",
       "2001-10-21       NaN\n",
       "2001-10-28       NaN\n",
       "2001-11-04       NaN\n",
       "2001-11-11       NaN\n",
       "2001-11-18       NaN\n",
       "2001-11-25       NaN\n",
       "2001-12-02       NaN\n",
       "2001-12-09       NaN\n",
       "2001-12-16       NaN\n",
       "2001-12-23       NaN\n",
       "2001-12-30       NaN\n",
       "...              ...\n",
       "2017-11-05       NaN\n",
       "2017-11-12       NaN\n",
       "2017-11-19       NaN\n",
       "2017-11-26       NaN\n",
       "2017-12-03       NaN\n",
       "2017-12-10       NaN\n",
       "2017-12-17       NaN\n",
       "2017-12-24       NaN\n",
       "2017-12-31       NaN\n",
       "2018-01-07       NaN\n",
       "2018-01-14       NaN\n",
       "2018-01-21       NaN\n",
       "2018-01-28       NaN\n",
       "2018-02-04       NaN\n",
       "2018-02-11       NaN\n",
       "2018-02-18       NaN\n",
       "2018-02-25       NaN\n",
       "2018-03-04       NaN\n",
       "2018-03-11       NaN\n",
       "2018-03-18       NaN\n",
       "2018-03-25       NaN\n",
       "2018-04-01       NaN\n",
       "2018-04-08  0.000000\n",
       "2018-04-15       NaN\n",
       "2018-04-22       NaN\n",
       "2018-04-29       NaN\n",
       "2018-05-06       NaN\n",
       "2018-05-13       NaN\n",
       "2018-05-20       NaN\n",
       "2018-05-27  0.096774\n",
       "\n",
       "[886 rows x 1 columns]"
      ]
     },
     "execution_count": 18,
     "metadata": {},
     "output_type": "execute_result"
    }
   ],
   "source": [
    "Y_glacier"
   ]
  },
  {
   "cell_type": "code",
   "execution_count": 19,
   "metadata": {},
   "outputs": [
    {
     "data": {
      "text/html": [
       "<div>\n",
       "<style scoped>\n",
       "    .dataframe tbody tr th:only-of-type {\n",
       "        vertical-align: middle;\n",
       "    }\n",
       "\n",
       "    .dataframe tbody tr th {\n",
       "        vertical-align: top;\n",
       "    }\n",
       "\n",
       "    .dataframe thead th {\n",
       "        text-align: right;\n",
       "    }\n",
       "</style>\n",
       "<table border=\"1\" class=\"dataframe\">\n",
       "  <thead>\n",
       "    <tr style=\"text-align: right;\">\n",
       "      <th></th>\n",
       "      <th>count</th>\n",
       "    </tr>\n",
       "    <tr>\n",
       "      <th>datetime</th>\n",
       "      <th></th>\n",
       "    </tr>\n",
       "  </thead>\n",
       "  <tbody>\n",
       "    <tr>\n",
       "      <th>2001-06-10</th>\n",
       "      <td>2.168831</td>\n",
       "    </tr>\n",
       "    <tr>\n",
       "      <th>2001-06-17</th>\n",
       "      <td>NaN</td>\n",
       "    </tr>\n",
       "    <tr>\n",
       "      <th>2001-06-24</th>\n",
       "      <td>4.500000</td>\n",
       "    </tr>\n",
       "    <tr>\n",
       "      <th>2001-07-01</th>\n",
       "      <td>NaN</td>\n",
       "    </tr>\n",
       "    <tr>\n",
       "      <th>2001-07-08</th>\n",
       "      <td>2.000000</td>\n",
       "    </tr>\n",
       "    <tr>\n",
       "      <th>2001-07-15</th>\n",
       "      <td>NaN</td>\n",
       "    </tr>\n",
       "    <tr>\n",
       "      <th>2001-07-22</th>\n",
       "      <td>NaN</td>\n",
       "    </tr>\n",
       "    <tr>\n",
       "      <th>2001-07-29</th>\n",
       "      <td>NaN</td>\n",
       "    </tr>\n",
       "    <tr>\n",
       "      <th>2001-08-05</th>\n",
       "      <td>NaN</td>\n",
       "    </tr>\n",
       "    <tr>\n",
       "      <th>2001-08-12</th>\n",
       "      <td>NaN</td>\n",
       "    </tr>\n",
       "    <tr>\n",
       "      <th>2001-08-19</th>\n",
       "      <td>NaN</td>\n",
       "    </tr>\n",
       "    <tr>\n",
       "      <th>2001-08-26</th>\n",
       "      <td>NaN</td>\n",
       "    </tr>\n",
       "    <tr>\n",
       "      <th>2001-09-02</th>\n",
       "      <td>NaN</td>\n",
       "    </tr>\n",
       "    <tr>\n",
       "      <th>2001-09-09</th>\n",
       "      <td>NaN</td>\n",
       "    </tr>\n",
       "    <tr>\n",
       "      <th>2001-09-16</th>\n",
       "      <td>NaN</td>\n",
       "    </tr>\n",
       "    <tr>\n",
       "      <th>2001-09-23</th>\n",
       "      <td>NaN</td>\n",
       "    </tr>\n",
       "    <tr>\n",
       "      <th>2001-09-30</th>\n",
       "      <td>NaN</td>\n",
       "    </tr>\n",
       "    <tr>\n",
       "      <th>2001-10-07</th>\n",
       "      <td>NaN</td>\n",
       "    </tr>\n",
       "    <tr>\n",
       "      <th>2001-10-14</th>\n",
       "      <td>NaN</td>\n",
       "    </tr>\n",
       "    <tr>\n",
       "      <th>2001-10-21</th>\n",
       "      <td>NaN</td>\n",
       "    </tr>\n",
       "    <tr>\n",
       "      <th>2001-10-28</th>\n",
       "      <td>NaN</td>\n",
       "    </tr>\n",
       "    <tr>\n",
       "      <th>2001-11-04</th>\n",
       "      <td>NaN</td>\n",
       "    </tr>\n",
       "    <tr>\n",
       "      <th>2001-11-11</th>\n",
       "      <td>NaN</td>\n",
       "    </tr>\n",
       "    <tr>\n",
       "      <th>2001-11-18</th>\n",
       "      <td>NaN</td>\n",
       "    </tr>\n",
       "    <tr>\n",
       "      <th>2001-11-25</th>\n",
       "      <td>NaN</td>\n",
       "    </tr>\n",
       "    <tr>\n",
       "      <th>2001-12-02</th>\n",
       "      <td>NaN</td>\n",
       "    </tr>\n",
       "    <tr>\n",
       "      <th>2001-12-09</th>\n",
       "      <td>NaN</td>\n",
       "    </tr>\n",
       "    <tr>\n",
       "      <th>2001-12-16</th>\n",
       "      <td>NaN</td>\n",
       "    </tr>\n",
       "    <tr>\n",
       "      <th>2001-12-23</th>\n",
       "      <td>NaN</td>\n",
       "    </tr>\n",
       "    <tr>\n",
       "      <th>2001-12-30</th>\n",
       "      <td>NaN</td>\n",
       "    </tr>\n",
       "    <tr>\n",
       "      <th>...</th>\n",
       "      <td>...</td>\n",
       "    </tr>\n",
       "    <tr>\n",
       "      <th>2017-11-05</th>\n",
       "      <td>NaN</td>\n",
       "    </tr>\n",
       "    <tr>\n",
       "      <th>2017-11-12</th>\n",
       "      <td>NaN</td>\n",
       "    </tr>\n",
       "    <tr>\n",
       "      <th>2017-11-19</th>\n",
       "      <td>NaN</td>\n",
       "    </tr>\n",
       "    <tr>\n",
       "      <th>2017-11-26</th>\n",
       "      <td>NaN</td>\n",
       "    </tr>\n",
       "    <tr>\n",
       "      <th>2017-12-03</th>\n",
       "      <td>NaN</td>\n",
       "    </tr>\n",
       "    <tr>\n",
       "      <th>2017-12-10</th>\n",
       "      <td>NaN</td>\n",
       "    </tr>\n",
       "    <tr>\n",
       "      <th>2017-12-17</th>\n",
       "      <td>NaN</td>\n",
       "    </tr>\n",
       "    <tr>\n",
       "      <th>2017-12-24</th>\n",
       "      <td>NaN</td>\n",
       "    </tr>\n",
       "    <tr>\n",
       "      <th>2017-12-31</th>\n",
       "      <td>NaN</td>\n",
       "    </tr>\n",
       "    <tr>\n",
       "      <th>2018-01-07</th>\n",
       "      <td>NaN</td>\n",
       "    </tr>\n",
       "    <tr>\n",
       "      <th>2018-01-14</th>\n",
       "      <td>NaN</td>\n",
       "    </tr>\n",
       "    <tr>\n",
       "      <th>2018-01-21</th>\n",
       "      <td>NaN</td>\n",
       "    </tr>\n",
       "    <tr>\n",
       "      <th>2018-01-28</th>\n",
       "      <td>NaN</td>\n",
       "    </tr>\n",
       "    <tr>\n",
       "      <th>2018-02-04</th>\n",
       "      <td>NaN</td>\n",
       "    </tr>\n",
       "    <tr>\n",
       "      <th>2018-02-11</th>\n",
       "      <td>NaN</td>\n",
       "    </tr>\n",
       "    <tr>\n",
       "      <th>2018-02-18</th>\n",
       "      <td>NaN</td>\n",
       "    </tr>\n",
       "    <tr>\n",
       "      <th>2018-02-25</th>\n",
       "      <td>NaN</td>\n",
       "    </tr>\n",
       "    <tr>\n",
       "      <th>2018-03-04</th>\n",
       "      <td>NaN</td>\n",
       "    </tr>\n",
       "    <tr>\n",
       "      <th>2018-03-11</th>\n",
       "      <td>NaN</td>\n",
       "    </tr>\n",
       "    <tr>\n",
       "      <th>2018-03-18</th>\n",
       "      <td>NaN</td>\n",
       "    </tr>\n",
       "    <tr>\n",
       "      <th>2018-03-25</th>\n",
       "      <td>NaN</td>\n",
       "    </tr>\n",
       "    <tr>\n",
       "      <th>2018-04-01</th>\n",
       "      <td>NaN</td>\n",
       "    </tr>\n",
       "    <tr>\n",
       "      <th>2018-04-08</th>\n",
       "      <td>0.000000</td>\n",
       "    </tr>\n",
       "    <tr>\n",
       "      <th>2018-04-15</th>\n",
       "      <td>NaN</td>\n",
       "    </tr>\n",
       "    <tr>\n",
       "      <th>2018-04-22</th>\n",
       "      <td>NaN</td>\n",
       "    </tr>\n",
       "    <tr>\n",
       "      <th>2018-04-29</th>\n",
       "      <td>NaN</td>\n",
       "    </tr>\n",
       "    <tr>\n",
       "      <th>2018-05-06</th>\n",
       "      <td>NaN</td>\n",
       "    </tr>\n",
       "    <tr>\n",
       "      <th>2018-05-13</th>\n",
       "      <td>NaN</td>\n",
       "    </tr>\n",
       "    <tr>\n",
       "      <th>2018-05-20</th>\n",
       "      <td>NaN</td>\n",
       "    </tr>\n",
       "    <tr>\n",
       "      <th>2018-05-27</th>\n",
       "      <td>0.096774</td>\n",
       "    </tr>\n",
       "  </tbody>\n",
       "</table>\n",
       "<p>886 rows × 1 columns</p>\n",
       "</div>"
      ],
      "text/plain": [
       "               count\n",
       "datetime            \n",
       "2001-06-10  2.168831\n",
       "2001-06-17       NaN\n",
       "2001-06-24  4.500000\n",
       "2001-07-01       NaN\n",
       "2001-07-08  2.000000\n",
       "2001-07-15       NaN\n",
       "2001-07-22       NaN\n",
       "2001-07-29       NaN\n",
       "2001-08-05       NaN\n",
       "2001-08-12       NaN\n",
       "2001-08-19       NaN\n",
       "2001-08-26       NaN\n",
       "2001-09-02       NaN\n",
       "2001-09-09       NaN\n",
       "2001-09-16       NaN\n",
       "2001-09-23       NaN\n",
       "2001-09-30       NaN\n",
       "2001-10-07       NaN\n",
       "2001-10-14       NaN\n",
       "2001-10-21       NaN\n",
       "2001-10-28       NaN\n",
       "2001-11-04       NaN\n",
       "2001-11-11       NaN\n",
       "2001-11-18       NaN\n",
       "2001-11-25       NaN\n",
       "2001-12-02       NaN\n",
       "2001-12-09       NaN\n",
       "2001-12-16       NaN\n",
       "2001-12-23       NaN\n",
       "2001-12-30       NaN\n",
       "...              ...\n",
       "2017-11-05       NaN\n",
       "2017-11-12       NaN\n",
       "2017-11-19       NaN\n",
       "2017-11-26       NaN\n",
       "2017-12-03       NaN\n",
       "2017-12-10       NaN\n",
       "2017-12-17       NaN\n",
       "2017-12-24       NaN\n",
       "2017-12-31       NaN\n",
       "2018-01-07       NaN\n",
       "2018-01-14       NaN\n",
       "2018-01-21       NaN\n",
       "2018-01-28       NaN\n",
       "2018-02-04       NaN\n",
       "2018-02-11       NaN\n",
       "2018-02-18       NaN\n",
       "2018-02-25       NaN\n",
       "2018-03-04       NaN\n",
       "2018-03-11       NaN\n",
       "2018-03-18       NaN\n",
       "2018-03-25       NaN\n",
       "2018-04-01       NaN\n",
       "2018-04-08  0.000000\n",
       "2018-04-15       NaN\n",
       "2018-04-22       NaN\n",
       "2018-04-29       NaN\n",
       "2018-05-06       NaN\n",
       "2018-05-13       NaN\n",
       "2018-05-20       NaN\n",
       "2018-05-27  0.096774\n",
       "\n",
       "[886 rows x 1 columns]"
      ]
     },
     "execution_count": 19,
     "metadata": {},
     "output_type": "execute_result"
    }
   ],
   "source": [
    "Y_glacier"
   ]
  },
  {
   "cell_type": "markdown",
   "metadata": {},
   "source": [
    "## Setting up inputs - wild data"
   ]
  },
  {
   "cell_type": "code",
   "execution_count": 20,
   "metadata": {},
   "outputs": [],
   "source": [
    "# non-motile lice\n",
    "juvenile = pd.DataFrame(fish_data[['Lep_cope', 'chalA',\n",
    "                      'chalB', 'Caligus_cope',\n",
    "                      'unid_cope', 'chal_unid']].sum(axis=1)).rename({0: 'count'}, axis=1)\n",
    "juvenile['datetime'] = fish_data_date\n",
    "juvenile['location'] = fish_data['location']"
   ]
  },
  {
   "cell_type": "code",
   "execution_count": 21,
   "metadata": {},
   "outputs": [],
   "source": [
    "X_wild_juv = juvenile.groupby('location').resample('W', on='datetime', label='left').apply(np.nanmean)"
   ]
  },
  {
   "cell_type": "code",
   "execution_count": null,
   "metadata": {},
   "outputs": [],
   "source": []
  },
  {
   "cell_type": "code",
   "execution_count": 22,
   "metadata": {},
   "outputs": [],
   "source": [
    "# temperature\n",
    "site_data['datetime'] = pd.to_datetime(site_data[['year', 'month', 'day']])"
   ]
  },
  {
   "cell_type": "code",
   "execution_count": 23,
   "metadata": {},
   "outputs": [],
   "source": [
    "X_wild_temp = site_data[['datetime', 'temp', 'location']]\n",
    "X_wild_temp = X_wild_temp.groupby('location').resample('w', on='datetime', label='left').apply(np.nanmean)"
   ]
  },
  {
   "cell_type": "markdown",
   "metadata": {},
   "source": [
    "## Setting up inputs - farm data"
   ]
  },
  {
   "cell_type": "markdown",
   "metadata": {},
   "source": [
    "Implementing treatments *may* not be a priority - I'll have to do some extensive testing on this"
   ]
  },
  {
   "cell_type": "code",
   "execution_count": 24,
   "metadata": {},
   "outputs": [],
   "source": [
    "industry_data['Day'] = 1\n",
    "month_map = {\n",
    "    'January': 1,\n",
    "    'February': 2,\n",
    "    'March': 3,\n",
    "    'April': 4,\n",
    "    'May': 5,\n",
    "    'June': 6,\n",
    "    'July': 7,\n",
    "    'August': 8,\n",
    "    'September': 9,\n",
    "    'October': 10,\n",
    "    'November': 11,\n",
    "    'December': 12\n",
    "}\n",
    "industry_data['month'] = industry_data['Month'].map(month_map)\n",
    "industry_data['datetime'] = pd.to_datetime(industry_data[['Year', 'month', 'Day']])\n",
    "\n",
    "X_industry = industry_data[['datetime',\n",
    "                            'Site Common Name',\n",
    "                            'Average L. salmonis motiles per fish',\n",
    "                            'Average chalimus per fish']]\n",
    "X_industry = X_industry.groupby('Site Common Name').resample('W', on='datetime', label='left').mean()"
   ]
  },
  {
   "cell_type": "code",
   "execution_count": null,
   "metadata": {},
   "outputs": [],
   "source": []
  },
  {
   "cell_type": "markdown",
   "metadata": {},
   "source": [
    "### Forming array for model input"
   ]
  },
  {
   "cell_type": "code",
   "execution_count": 25,
   "metadata": {},
   "outputs": [],
   "source": [
    "arrays_to_stack = []\n",
    "\n",
    "for year in analysis_years:\n",
    "    juv_sub = X_wild_juv[(X_wild_juv.index.get_level_values(1).year == year) & \n",
    "                         X_wild_juv.index.get_level_values(1).month.isin(analysis_months)].unstack().T.values\n",
    "    temp_sub = X_wild_temp[(X_wild_temp.index.get_level_values(1).year == year) & \n",
    "                           X_wild_temp.index.get_level_values(1).month.isin(analysis_months)].unstack().T.values\n",
    "    \n",
    "    year_array = np.concatenate((juv_sub, temp_sub), axis=1)\n",
    "    if year_array.shape[0] == 21:\n",
    "        year_array = np.append(year_array, np.full(6, np.nan).reshape(1, 6), axis=0)\n",
    "    arrays_to_stack.append(year_array)\n",
    "    \n",
    "test_X = np.stack(arrays_to_stack, axis=0)"
   ]
  },
  {
   "cell_type": "code",
   "execution_count": 26,
   "metadata": {},
   "outputs": [
    {
     "data": {
      "text/plain": [
       "(15, 22, 6)"
      ]
     },
     "execution_count": 26,
     "metadata": {},
     "output_type": "execute_result"
    }
   ],
   "source": [
    "test_X.shape"
   ]
  },
  {
   "cell_type": "code",
   "execution_count": 27,
   "metadata": {},
   "outputs": [],
   "source": [
    "arrays_to_stack = []\n",
    "\n",
    "for year in analysis_years:\n",
    "    year_Y = Y_glacier[(Y_glacier.index.year == year) & \n",
    "                       Y_glacier.index.month.isin(analysis_months)].values\n",
    "    if year_Y.shape[0] == 21:\n",
    "        year_Y = np.append(year_Y, np.nan)\n",
    "        year_Y = year_Y.reshape(22, 1)\n",
    "    arrays_to_stack.append(year_Y)\n",
    "    \n",
    "test_Y = np.stack(arrays_to_stack, axis=0)\n",
    "test_Y = test_Y"
   ]
  },
  {
   "cell_type": "code",
   "execution_count": 28,
   "metadata": {},
   "outputs": [
    {
     "data": {
      "text/plain": [
       "(15, 22, 1)"
      ]
     },
     "execution_count": 28,
     "metadata": {},
     "output_type": "execute_result"
    }
   ],
   "source": [
    "test_Y.shape"
   ]
  },
  {
   "cell_type": "markdown",
   "metadata": {},
   "source": [
    "# Experimenting with models"
   ]
  },
  {
   "cell_type": "markdown",
   "metadata": {},
   "source": [
    "## Import packages and set up functions"
   ]
  },
  {
   "cell_type": "markdown",
   "metadata": {},
   "source": [
    "## Setup Data"
   ]
  },
  {
   "cell_type": "markdown",
   "metadata": {},
   "source": [
    "### Normalise and fill NAs"
   ]
  },
  {
   "cell_type": "code",
   "execution_count": 29,
   "metadata": {},
   "outputs": [],
   "source": [
    "X_mean = np.nanmean(test_X, axis=1)\n",
    "for i in range(0, X_mean.shape[0]):\n",
    "    test_X[[i]] = test_X[[i]] - X_mean[[i]]\n",
    "X_std = np.nanstd(test_X, axis=1)\n",
    "for i in range(0, X_std.shape[0]):\n",
    "    test_X[[i]] = test_X[[i]] - X_std[[i]]\n",
    "test_X = np.nan_to_num(test_X)"
   ]
  },
  {
   "cell_type": "code",
   "execution_count": 30,
   "metadata": {},
   "outputs": [],
   "source": [
    "Y_mean = np.nanmean(test_Y, axis=1)\n",
    "for i in range(0, Y_mean.shape[0]):\n",
    "    test_Y[[i]] = test_Y[[i]] - Y_mean[[i]]\n",
    "Y_std = np.nanstd(test_Y, axis=1)\n",
    "for i in range(0, Y_std.shape[0]):\n",
    "    test_Y[[i]] = test_Y[[i]] - Y_std[[i]]\n",
    "test_Y = np.nan_to_num(test_Y)"
   ]
  },
  {
   "cell_type": "markdown",
   "metadata": {},
   "source": [
    "### Split into train and test"
   ]
  },
  {
   "cell_type": "code",
   "execution_count": 31,
   "metadata": {},
   "outputs": [],
   "source": [
    "train_X = test_X[:-3]\n",
    "train_Y = test_Y[:-3]\n",
    "\n",
    "eval_X = test_X[-3:]\n",
    "eval_Y = test_Y[-3:]"
   ]
  },
  {
   "cell_type": "markdown",
   "metadata": {},
   "source": [
    "## Non-parametric"
   ]
  },
  {
   "cell_type": "markdown",
   "metadata": {},
   "source": [
    "Some high level notes\n",
    "- This analysis is very rough and is in no way final!!!\n",
    "- The normalising, feature engineering, etc. is probably the roughest part of all of this. I don't expect it to have an effect on model choice but by no means should the input/output data be taken verbatim as what I intend to use\n",
    "- Optimizers: some reading has shown that RMSprop is the suggested optimiser for RNNs, this also coincides with François Chollet's use of optimisers so for now I am going with this one for RNNs and ADAM as the default for all others. This requires further research!\n",
    "- Reference points: \n",
    "     - ARIMA\n",
    "     - Mean & SD"
   ]
  },
  {
   "cell_type": "markdown",
   "metadata": {},
   "source": [
    "### LSTM"
   ]
  },
  {
   "cell_type": "markdown",
   "metadata": {},
   "source": [
    "Long short-term memory (LSTM)\n",
    "\n",
    "This model is the most advanced RNN for sequential data, so the highest potential upside in gaining value from features but may also be overkill so make sure to compare it to some other RNN baselines"
   ]
  },
  {
   "cell_type": "code",
   "execution_count": 32,
   "metadata": {},
   "outputs": [],
   "source": [
    "# evaluation function\n",
    "def evaluate_my_fit(his):\n",
    "    acc = his.history['acc']\n",
    "    val_acc = his.history['val_acc']\n",
    "    loss = his.history['loss']\n",
    "    val_loss = his.history['val_loss']\n",
    "    \n",
    "    epochs = range(1, len(acc) + 1)\n",
    "    \n",
    "    plt.plot(epochs, acc, 'bo', label='Training acc')\n",
    "    plt.plot(epochs, val_acc, 'b', label='Validation acc')\n",
    "    plt.title('Training and validation accuracy')\n",
    "    plt.legend()\n",
    "    \n",
    "    plt.figure()\n",
    "    \n",
    "    plt.plot(epochs, loss, 'bo', label='Training loss')\n",
    "    plt.plot(epochs, val_loss, 'b', label='Validation loss')\n",
    "    plt.title('Training and validation loss')\n",
    "    plt.legend()\n",
    "    \n",
    "    plt.show()"
   ]
  },
  {
   "cell_type": "code",
   "execution_count": 33,
   "metadata": {},
   "outputs": [
    {
     "name": "stderr",
     "output_type": "stream",
     "text": [
      "Using TensorFlow backend.\n"
     ]
    }
   ],
   "source": [
    "from keras.models import Sequential\n",
    "from keras.layers import Dense\n",
    "from keras.layers import LSTM\n",
    "from keras.layers import Dropout"
   ]
  },
  {
   "cell_type": "code",
   "execution_count": 34,
   "metadata": {},
   "outputs": [
    {
     "name": "stdout",
     "output_type": "stream",
     "text": [
      "Train on 9 samples, validate on 3 samples\n",
      "Epoch 1/100\n",
      "9/9 [==============================] - 1s 147ms/step - loss: 0.5366 - acc: 0.4848 - val_loss: 0.0116 - val_acc: 0.4394\n",
      "Epoch 2/100\n",
      "9/9 [==============================] - 0s 7ms/step - loss: 0.4919 - acc: 0.4697 - val_loss: 0.0040 - val_acc: 0.4394\n",
      "Epoch 3/100\n",
      "9/9 [==============================] - 0s 7ms/step - loss: 0.4485 - acc: 0.4848 - val_loss: 0.0063 - val_acc: 0.4394\n",
      "Epoch 4/100\n",
      "9/9 [==============================] - 0s 7ms/step - loss: 0.4241 - acc: 0.4747 - val_loss: 0.0033 - val_acc: 0.4394\n",
      "Epoch 5/100\n",
      "9/9 [==============================] - 0s 6ms/step - loss: 0.3687 - acc: 0.4848 - val_loss: 0.0087 - val_acc: 0.4394\n",
      "Epoch 6/100\n",
      "9/9 [==============================] - 0s 7ms/step - loss: 0.2838 - acc: 0.4848 - val_loss: 0.0041 - val_acc: 0.4394\n",
      "Epoch 7/100\n",
      "9/9 [==============================] - 0s 6ms/step - loss: 0.4605 - acc: 0.4495 - val_loss: 0.0073 - val_acc: 0.4394\n",
      "Epoch 8/100\n",
      "9/9 [==============================] - 0s 6ms/step - loss: 0.3417 - acc: 0.4848 - val_loss: 0.0071 - val_acc: 0.4394\n",
      "Epoch 9/100\n",
      "9/9 [==============================] - 0s 7ms/step - loss: 0.2994 - acc: 0.4848 - val_loss: 0.0059 - val_acc: 0.4394\n",
      "Epoch 10/100\n",
      "9/9 [==============================] - 0s 6ms/step - loss: 0.2793 - acc: 0.4848 - val_loss: 0.0057 - val_acc: 0.4394\n",
      "Epoch 11/100\n",
      "9/9 [==============================] - 0s 7ms/step - loss: 0.2713 - acc: 0.4848 - val_loss: 0.0029 - val_acc: 0.4394\n",
      "Epoch 12/100\n",
      "9/9 [==============================] - 0s 7ms/step - loss: 0.2663 - acc: 0.4848 - val_loss: 0.0052 - val_acc: 0.4394\n",
      "Epoch 13/100\n",
      "9/9 [==============================] - 0s 6ms/step - loss: 0.2420 - acc: 0.4848 - val_loss: 0.0031 - val_acc: 0.4394\n",
      "Epoch 14/100\n",
      "9/9 [==============================] - 0s 6ms/step - loss: 0.2180 - acc: 0.4848 - val_loss: 0.0040 - val_acc: 0.4394\n",
      "Epoch 15/100\n",
      "9/9 [==============================] - 0s 6ms/step - loss: 0.1813 - acc: 0.4848 - val_loss: 0.0040 - val_acc: 0.4394\n",
      "Epoch 16/100\n",
      "9/9 [==============================] - 0s 5ms/step - loss: 0.2085 - acc: 0.4697 - val_loss: 0.0045 - val_acc: 0.4394\n",
      "Epoch 17/100\n",
      "9/9 [==============================] - 0s 6ms/step - loss: 0.1720 - acc: 0.4495 - val_loss: 0.0038 - val_acc: 0.4394\n",
      "Epoch 18/100\n",
      "9/9 [==============================] - 0s 5ms/step - loss: 0.1926 - acc: 0.4697 - val_loss: 0.0060 - val_acc: 0.4394\n",
      "Epoch 19/100\n",
      "9/9 [==============================] - 0s 6ms/step - loss: 0.2407 - acc: 0.4747 - val_loss: 0.0050 - val_acc: 0.4394\n",
      "Epoch 20/100\n",
      "9/9 [==============================] - 0s 5ms/step - loss: 0.2601 - acc: 0.4848 - val_loss: 0.0033 - val_acc: 0.4394\n",
      "Epoch 21/100\n",
      "9/9 [==============================] - 0s 6ms/step - loss: 0.1881 - acc: 0.4848 - val_loss: 0.0040 - val_acc: 0.4394\n",
      "Epoch 22/100\n",
      "9/9 [==============================] - 0s 6ms/step - loss: 0.1682 - acc: 0.4848 - val_loss: 0.0037 - val_acc: 0.4394\n",
      "Epoch 23/100\n",
      "9/9 [==============================] - 0s 5ms/step - loss: 0.1833 - acc: 0.4747 - val_loss: 0.0036 - val_acc: 0.4394\n",
      "Epoch 24/100\n",
      "9/9 [==============================] - 0s 6ms/step - loss: 0.1537 - acc: 0.4848 - val_loss: 0.0040 - val_acc: 0.4394\n",
      "Epoch 25/100\n",
      "9/9 [==============================] - 0s 6ms/step - loss: 0.1743 - acc: 0.4798 - val_loss: 0.0047 - val_acc: 0.4394\n",
      "Epoch 26/100\n",
      "9/9 [==============================] - 0s 6ms/step - loss: 0.1612 - acc: 0.4697 - val_loss: 0.0040 - val_acc: 0.4394\n",
      "Epoch 27/100\n",
      "9/9 [==============================] - 0s 6ms/step - loss: 0.1445 - acc: 0.4848 - val_loss: 0.0044 - val_acc: 0.4394\n",
      "Epoch 28/100\n",
      "9/9 [==============================] - 0s 6ms/step - loss: 0.1923 - acc: 0.4697 - val_loss: 0.0038 - val_acc: 0.4394\n",
      "Epoch 29/100\n",
      "9/9 [==============================] - 0s 6ms/step - loss: 0.1879 - acc: 0.4848 - val_loss: 0.0034 - val_acc: 0.4394\n",
      "Epoch 30/100\n",
      "9/9 [==============================] - 0s 6ms/step - loss: 0.1588 - acc: 0.4848 - val_loss: 0.0039 - val_acc: 0.4394\n",
      "Epoch 31/100\n",
      "9/9 [==============================] - 0s 6ms/step - loss: 0.1422 - acc: 0.4848 - val_loss: 0.0044 - val_acc: 0.4394\n",
      "Epoch 32/100\n",
      "9/9 [==============================] - 0s 6ms/step - loss: 0.1401 - acc: 0.4798 - val_loss: 0.0062 - val_acc: 0.4394\n",
      "Epoch 33/100\n",
      "9/9 [==============================] - 0s 5ms/step - loss: 0.1513 - acc: 0.4747 - val_loss: 0.0036 - val_acc: 0.4394\n",
      "Epoch 34/100\n",
      "9/9 [==============================] - 0s 5ms/step - loss: 0.1253 - acc: 0.4848 - val_loss: 0.0062 - val_acc: 0.4394\n",
      "Epoch 35/100\n",
      "9/9 [==============================] - 0s 6ms/step - loss: 0.1355 - acc: 0.4747 - val_loss: 0.0045 - val_acc: 0.4394\n",
      "Epoch 36/100\n",
      "9/9 [==============================] - 0s 6ms/step - loss: 0.1350 - acc: 0.4747 - val_loss: 0.0052 - val_acc: 0.4394\n",
      "Epoch 37/100\n",
      "9/9 [==============================] - 0s 5ms/step - loss: 0.1139 - acc: 0.4798 - val_loss: 0.0052 - val_acc: 0.4394\n",
      "Epoch 38/100\n",
      "9/9 [==============================] - 0s 6ms/step - loss: 0.1477 - acc: 0.4747 - val_loss: 0.0053 - val_acc: 0.4394\n",
      "Epoch 39/100\n",
      "9/9 [==============================] - 0s 5ms/step - loss: 0.2166 - acc: 0.4848 - val_loss: 0.0137 - val_acc: 0.4394\n",
      "Epoch 40/100\n",
      "9/9 [==============================] - 0s 5ms/step - loss: 0.1984 - acc: 0.4697 - val_loss: 0.0040 - val_acc: 0.4394\n",
      "Epoch 41/100\n",
      "9/9 [==============================] - 0s 5ms/step - loss: 0.1349 - acc: 0.4848 - val_loss: 0.0047 - val_acc: 0.4394\n",
      "Epoch 42/100\n",
      "9/9 [==============================] - 0s 6ms/step - loss: 0.1128 - acc: 0.4747 - val_loss: 0.0049 - val_acc: 0.4394\n",
      "Epoch 43/100\n",
      "9/9 [==============================] - 0s 5ms/step - loss: 0.0969 - acc: 0.4848 - val_loss: 0.0060 - val_acc: 0.4394\n",
      "Epoch 44/100\n",
      "9/9 [==============================] - 0s 5ms/step - loss: 0.1044 - acc: 0.4747 - val_loss: 0.0047 - val_acc: 0.4394\n",
      "Epoch 45/100\n",
      "9/9 [==============================] - 0s 5ms/step - loss: 0.0969 - acc: 0.4798 - val_loss: 0.0060 - val_acc: 0.4394\n",
      "Epoch 46/100\n",
      "9/9 [==============================] - 0s 5ms/step - loss: 0.0923 - acc: 0.4747 - val_loss: 0.0052 - val_acc: 0.4394\n",
      "Epoch 47/100\n",
      "9/9 [==============================] - 0s 6ms/step - loss: 0.1327 - acc: 0.4848 - val_loss: 0.0064 - val_acc: 0.4394\n",
      "Epoch 48/100\n",
      "9/9 [==============================] - 0s 5ms/step - loss: 0.1126 - acc: 0.4747 - val_loss: 0.0052 - val_acc: 0.4394\n",
      "Epoch 49/100\n",
      "9/9 [==============================] - 0s 6ms/step - loss: 0.1207 - acc: 0.4848 - val_loss: 0.0052 - val_acc: 0.4394\n",
      "Epoch 50/100\n",
      "9/9 [==============================] - 0s 6ms/step - loss: 0.0984 - acc: 0.4798 - val_loss: 0.0086 - val_acc: 0.4394\n",
      "Epoch 51/100\n",
      "9/9 [==============================] - 0s 6ms/step - loss: 0.1079 - acc: 0.4798 - val_loss: 0.0048 - val_acc: 0.4394\n",
      "Epoch 52/100\n",
      "9/9 [==============================] - 0s 5ms/step - loss: 0.0965 - acc: 0.4747 - val_loss: 0.0040 - val_acc: 0.4394\n",
      "Epoch 53/100\n",
      "9/9 [==============================] - 0s 6ms/step - loss: 0.1381 - acc: 0.4848 - val_loss: 0.0079 - val_acc: 0.4394\n",
      "Epoch 54/100\n",
      "9/9 [==============================] - 0s 5ms/step - loss: 0.0881 - acc: 0.4798 - val_loss: 0.0049 - val_acc: 0.4394\n",
      "Epoch 55/100\n",
      "9/9 [==============================] - 0s 5ms/step - loss: 0.0864 - acc: 0.4848 - val_loss: 0.0071 - val_acc: 0.4394\n",
      "Epoch 56/100\n",
      "9/9 [==============================] - 0s 5ms/step - loss: 0.0819 - acc: 0.4798 - val_loss: 0.0049 - val_acc: 0.4394\n",
      "Epoch 57/100\n",
      "9/9 [==============================] - 0s 5ms/step - loss: 0.0675 - acc: 0.4848 - val_loss: 0.0093 - val_acc: 0.4394\n",
      "Epoch 58/100\n",
      "9/9 [==============================] - 0s 5ms/step - loss: 0.0941 - acc: 0.4747 - val_loss: 0.0042 - val_acc: 0.4394\n",
      "Epoch 59/100\n",
      "9/9 [==============================] - 0s 5ms/step - loss: 0.0831 - acc: 0.4848 - val_loss: 0.0049 - val_acc: 0.4394\n",
      "Epoch 60/100\n",
      "9/9 [==============================] - 0s 5ms/step - loss: 0.0818 - acc: 0.4848 - val_loss: 0.0066 - val_acc: 0.4394\n",
      "Epoch 61/100\n",
      "9/9 [==============================] - 0s 5ms/step - loss: 0.0599 - acc: 0.4798 - val_loss: 0.0047 - val_acc: 0.4394\n",
      "Epoch 62/100\n",
      "9/9 [==============================] - 0s 5ms/step - loss: 0.0754 - acc: 0.4848 - val_loss: 0.0111 - val_acc: 0.4394\n",
      "Epoch 63/100\n",
      "9/9 [==============================] - 0s 5ms/step - loss: 0.0935 - acc: 0.4798 - val_loss: 0.0058 - val_acc: 0.4394\n"
     ]
    },
    {
     "name": "stdout",
     "output_type": "stream",
     "text": [
      "Epoch 64/100\n",
      "9/9 [==============================] - 0s 5ms/step - loss: 0.1205 - acc: 0.4798 - val_loss: 0.0085 - val_acc: 0.4394\n",
      "Epoch 65/100\n",
      "9/9 [==============================] - 0s 4ms/step - loss: 0.1095 - acc: 0.4798 - val_loss: 0.0050 - val_acc: 0.4394\n",
      "Epoch 66/100\n",
      "9/9 [==============================] - 0s 5ms/step - loss: 0.0643 - acc: 0.4848 - val_loss: 0.0061 - val_acc: 0.4394\n",
      "Epoch 67/100\n",
      "9/9 [==============================] - 0s 4ms/step - loss: 0.0692 - acc: 0.4798 - val_loss: 0.0073 - val_acc: 0.4394\n",
      "Epoch 68/100\n",
      "9/9 [==============================] - 0s 5ms/step - loss: 0.0710 - acc: 0.4798 - val_loss: 0.0053 - val_acc: 0.4394\n",
      "Epoch 69/100\n",
      "9/9 [==============================] - 0s 5ms/step - loss: 0.0667 - acc: 0.4848 - val_loss: 0.0051 - val_acc: 0.4394\n",
      "Epoch 70/100\n",
      "9/9 [==============================] - 0s 5ms/step - loss: 0.0829 - acc: 0.4848 - val_loss: 0.0062 - val_acc: 0.4394\n",
      "Epoch 71/100\n",
      "9/9 [==============================] - 0s 5ms/step - loss: 0.0519 - acc: 0.4798 - val_loss: 0.0049 - val_acc: 0.4394\n",
      "Epoch 72/100\n",
      "9/9 [==============================] - 0s 5ms/step - loss: 0.0579 - acc: 0.4798 - val_loss: 0.0061 - val_acc: 0.4394\n",
      "Epoch 73/100\n",
      "9/9 [==============================] - 0s 5ms/step - loss: 0.0449 - acc: 0.4848 - val_loss: 0.0049 - val_acc: 0.4394\n",
      "Epoch 74/100\n",
      "9/9 [==============================] - 0s 5ms/step - loss: 0.0657 - acc: 0.4848 - val_loss: 0.0045 - val_acc: 0.4394\n",
      "Epoch 75/100\n",
      "9/9 [==============================] - 0s 6ms/step - loss: 0.0796 - acc: 0.4848 - val_loss: 0.0061 - val_acc: 0.4394\n",
      "Epoch 76/100\n",
      "9/9 [==============================] - 0s 6ms/step - loss: 0.0341 - acc: 0.4848 - val_loss: 0.0044 - val_acc: 0.4394\n",
      "Epoch 77/100\n",
      "9/9 [==============================] - 0s 6ms/step - loss: 0.0474 - acc: 0.4848 - val_loss: 0.0052 - val_acc: 0.4394\n",
      "Epoch 78/100\n",
      "9/9 [==============================] - 0s 6ms/step - loss: 0.0505 - acc: 0.4798 - val_loss: 0.0045 - val_acc: 0.4394\n",
      "Epoch 79/100\n",
      "9/9 [==============================] - 0s 5ms/step - loss: 0.0446 - acc: 0.4798 - val_loss: 0.0040 - val_acc: 0.4394\n",
      "Epoch 80/100\n",
      "9/9 [==============================] - 0s 5ms/step - loss: 0.0614 - acc: 0.4848 - val_loss: 0.0056 - val_acc: 0.4394\n",
      "Epoch 81/100\n",
      "9/9 [==============================] - 0s 5ms/step - loss: 0.0453 - acc: 0.4848 - val_loss: 0.0043 - val_acc: 0.4394\n",
      "Epoch 82/100\n",
      "9/9 [==============================] - 0s 5ms/step - loss: 0.0432 - acc: 0.4848 - val_loss: 0.0061 - val_acc: 0.4394\n",
      "Epoch 83/100\n",
      "9/9 [==============================] - 0s 5ms/step - loss: 0.0494 - acc: 0.4848 - val_loss: 0.0074 - val_acc: 0.4394\n",
      "Epoch 84/100\n",
      "9/9 [==============================] - 0s 5ms/step - loss: 0.0965 - acc: 0.4747 - val_loss: 0.0068 - val_acc: 0.4394\n",
      "Epoch 85/100\n",
      "9/9 [==============================] - 0s 5ms/step - loss: 0.0837 - acc: 0.4798 - val_loss: 0.0051 - val_acc: 0.4394\n",
      "Epoch 86/100\n",
      "9/9 [==============================] - 0s 5ms/step - loss: 0.0520 - acc: 0.4848 - val_loss: 0.0041 - val_acc: 0.4394\n",
      "Epoch 87/100\n",
      "9/9 [==============================] - 0s 5ms/step - loss: 0.0274 - acc: 0.4848 - val_loss: 0.0039 - val_acc: 0.4394\n",
      "Epoch 88/100\n",
      "9/9 [==============================] - 0s 5ms/step - loss: 0.0801 - acc: 0.4798 - val_loss: 0.0064 - val_acc: 0.4394\n",
      "Epoch 89/100\n",
      "9/9 [==============================] - 0s 5ms/step - loss: 0.0766 - acc: 0.4848 - val_loss: 0.0039 - val_acc: 0.4394\n",
      "Epoch 90/100\n",
      "9/9 [==============================] - 0s 6ms/step - loss: 0.0312 - acc: 0.4798 - val_loss: 0.0039 - val_acc: 0.4394\n",
      "Epoch 91/100\n",
      "9/9 [==============================] - 0s 6ms/step - loss: 0.0338 - acc: 0.4848 - val_loss: 0.0039 - val_acc: 0.4394\n",
      "Epoch 92/100\n",
      "9/9 [==============================] - 0s 7ms/step - loss: 0.0615 - acc: 0.4848 - val_loss: 0.0044 - val_acc: 0.4394\n",
      "Epoch 93/100\n",
      "9/9 [==============================] - 0s 6ms/step - loss: 0.0395 - acc: 0.4798 - val_loss: 0.0043 - val_acc: 0.4394\n",
      "Epoch 94/100\n",
      "9/9 [==============================] - 0s 5ms/step - loss: 0.0356 - acc: 0.4848 - val_loss: 0.0044 - val_acc: 0.4394\n",
      "Epoch 95/100\n",
      "9/9 [==============================] - 0s 5ms/step - loss: 0.0588 - acc: 0.4798 - val_loss: 0.0038 - val_acc: 0.4394\n",
      "Epoch 96/100\n",
      "9/9 [==============================] - 0s 4ms/step - loss: 0.0317 - acc: 0.4798 - val_loss: 0.0044 - val_acc: 0.4394\n",
      "Epoch 97/100\n",
      "9/9 [==============================] - 0s 5ms/step - loss: 0.0314 - acc: 0.4848 - val_loss: 0.0045 - val_acc: 0.4394\n",
      "Epoch 98/100\n",
      "9/9 [==============================] - 0s 5ms/step - loss: 0.0289 - acc: 0.4798 - val_loss: 0.0039 - val_acc: 0.4394\n",
      "Epoch 99/100\n",
      "9/9 [==============================] - 0s 5ms/step - loss: 0.0437 - acc: 0.4848 - val_loss: 0.0035 - val_acc: 0.4394\n",
      "Epoch 100/100\n",
      "9/9 [==============================] - 0s 5ms/step - loss: 0.0315 - acc: 0.4848 - val_loss: 0.0044 - val_acc: 0.4394\n"
     ]
    }
   ],
   "source": [
    "model = Sequential()\n",
    "\n",
    "model.add(LSTM(100, input_shape=(22, 6),\n",
    "               return_sequences=True,\n",
    "               activation='relu'))\n",
    "model.add(Dropout(0.2))\n",
    "\n",
    "model.add(LSTM(100, input_shape=(22, 6), \n",
    "               return_sequences=True,\n",
    "               activation='relu'))\n",
    "model.add(Dropout(0.2))\n",
    "\n",
    "model.add(LSTM(100, input_shape=(22, 6),\n",
    "               return_sequences=True,\n",
    "               activation='relu'))\n",
    "model.add(Dropout(0.2))\n",
    "\n",
    "model.add(Dense(1))\n",
    "\n",
    "model.compile(optimizer='rmsprop', \n",
    "              loss='mse',\n",
    "              metrics=['acc'])\n",
    "\n",
    "history = model.fit(train_X, train_Y, \n",
    "                    epochs=100, batch_size=16,\n",
    "                    validation_split=0.2)"
   ]
  },
  {
   "cell_type": "code",
   "execution_count": 35,
   "metadata": {},
   "outputs": [
    {
     "data": {
      "image/png": "[encoded data removed]",
      "text/plain": [
       "<Figure size 432x288 with 1 Axes>"
      ]
     },
     "metadata": {},
     "output_type": "display_data"
    },
    {
     "data": {
      "image/png": "[encoded data removed]",
      "text/plain": [
       "<Figure size 432x288 with 1 Axes>"
      ]
     },
     "metadata": {},
     "output_type": "display_data"
    }
   ],
   "source": [
    "evaluate_my_fit(history)"
   ]
  },
  {
   "cell_type": "code",
   "execution_count": null,
   "metadata": {},
   "outputs": [],
   "source": []
  },
  {
   "cell_type": "code",
   "execution_count": 36,
   "metadata": {},
   "outputs": [
    {
     "data": {
      "text/plain": [
       "0.01642185173360392"
      ]
     },
     "execution_count": 36,
     "metadata": {},
     "output_type": "execute_result"
    }
   ],
   "source": [
    "train_predictions = model.predict(train_X)\n",
    "\n",
    "# Train RMSE\n",
    "metrics.mean_squared_error(train_Y.reshape(train_Y.shape[0], train_Y.shape[1] * train_Y.shape[2]),\n",
    "                           train_predictions.reshape(train_predictions.shape[0], train_predictions.shape[1] * train_predictions.shape[2]))"
   ]
  },
  {
   "cell_type": "code",
   "execution_count": 37,
   "metadata": {},
   "outputs": [
    {
     "data": {
      "text/plain": [
       "0.037497376409155486"
      ]
     },
     "execution_count": 37,
     "metadata": {},
     "output_type": "execute_result"
    }
   ],
   "source": [
    "test_predictions = model.predict(eval_X)\n",
    "\n",
    "# Test RMSE\n",
    "metrics.mean_squared_error(eval_Y.reshape(eval_Y.shape[0], eval_Y.shape[1] * eval_Y.shape[2]),\n",
    "                           test_predictions.reshape(test_predictions.shape[0], test_predictions.shape[1] * train_predictions.shape[2]))"
   ]
  },
  {
   "cell_type": "markdown",
   "metadata": {},
   "source": [
    "### Naïve RNN"
   ]
  },
  {
   "cell_type": "markdown",
   "metadata": {},
   "source": [
    "Naïve RNN\n",
    "\n",
    "The absolute most basic kind of RNN, these RNNs tend to forget very quickly. Probably a good baseline to have a LSTM beat"
   ]
  },
  {
   "cell_type": "code",
   "execution_count": 38,
   "metadata": {},
   "outputs": [],
   "source": [
    "from keras.models import Sequential\n",
    "from keras.layers import Dense\n",
    "from keras.layers import SimpleRNN\n",
    "from keras.layers import Dropout"
   ]
  },
  {
   "cell_type": "code",
   "execution_count": 39,
   "metadata": {},
   "outputs": [
    {
     "name": "stdout",
     "output_type": "stream",
     "text": [
      "Train on 9 samples, validate on 3 samples\n",
      "Epoch 1/100\n",
      "9/9 [==============================] - 0s 34ms/step - loss: 0.8506 - acc: 0.4040 - val_loss: 0.0919 - val_acc: 0.4091\n",
      "Epoch 2/100\n",
      "9/9 [==============================] - 0s 1ms/step - loss: 0.7288 - acc: 0.4141 - val_loss: 0.0840 - val_acc: 0.4091\n",
      "Epoch 3/100\n",
      "9/9 [==============================] - 0s 1ms/step - loss: 0.6560 - acc: 0.4343 - val_loss: 0.0802 - val_acc: 0.4091\n",
      "Epoch 4/100\n",
      "9/9 [==============================] - 0s 2ms/step - loss: 0.6013 - acc: 0.4444 - val_loss: 0.0776 - val_acc: 0.4242\n",
      "Epoch 5/100\n",
      "9/9 [==============================] - 0s 2ms/step - loss: 0.5565 - acc: 0.4495 - val_loss: 0.0758 - val_acc: 0.4242\n",
      "Epoch 6/100\n",
      "9/9 [==============================] - 0s 1ms/step - loss: 0.5183 - acc: 0.4545 - val_loss: 0.0744 - val_acc: 0.4242\n",
      "Epoch 7/100\n",
      "9/9 [==============================] - 0s 1ms/step - loss: 0.4847 - acc: 0.4545 - val_loss: 0.0733 - val_acc: 0.4394\n",
      "Epoch 8/100\n",
      "9/9 [==============================] - 0s 1ms/step - loss: 0.4547 - acc: 0.4646 - val_loss: 0.0724 - val_acc: 0.4394\n",
      "Epoch 9/100\n",
      "9/9 [==============================] - 0s 1ms/step - loss: 0.4274 - acc: 0.4697 - val_loss: 0.0716 - val_acc: 0.4394\n",
      "Epoch 10/100\n",
      "9/9 [==============================] - 0s 1ms/step - loss: 0.4025 - acc: 0.4646 - val_loss: 0.0708 - val_acc: 0.4394\n",
      "Epoch 11/100\n",
      "9/9 [==============================] - 0s 1ms/step - loss: 0.3794 - acc: 0.4697 - val_loss: 0.0700 - val_acc: 0.4394\n",
      "Epoch 12/100\n",
      "9/9 [==============================] - 0s 1ms/step - loss: 0.3580 - acc: 0.4697 - val_loss: 0.0692 - val_acc: 0.4394\n",
      "Epoch 13/100\n",
      "9/9 [==============================] - 0s 2ms/step - loss: 0.3381 - acc: 0.4697 - val_loss: 0.0683 - val_acc: 0.4394\n",
      "Epoch 14/100\n",
      "9/9 [==============================] - 0s 1ms/step - loss: 0.3195 - acc: 0.4697 - val_loss: 0.0673 - val_acc: 0.4394\n",
      "Epoch 15/100\n",
      "9/9 [==============================] - 0s 1ms/step - loss: 0.3021 - acc: 0.4747 - val_loss: 0.0663 - val_acc: 0.4242\n",
      "Epoch 16/100\n",
      "9/9 [==============================] - 0s 1ms/step - loss: 0.2857 - acc: 0.4747 - val_loss: 0.0652 - val_acc: 0.4242\n",
      "Epoch 17/100\n",
      "9/9 [==============================] - 0s 1ms/step - loss: 0.2703 - acc: 0.4798 - val_loss: 0.0641 - val_acc: 0.4242\n",
      "Epoch 18/100\n",
      "9/9 [==============================] - 0s 1ms/step - loss: 0.2558 - acc: 0.4747 - val_loss: 0.0629 - val_acc: 0.4242\n",
      "Epoch 19/100\n",
      "9/9 [==============================] - 0s 1ms/step - loss: 0.2422 - acc: 0.4747 - val_loss: 0.0616 - val_acc: 0.4242\n",
      "Epoch 20/100\n",
      "9/9 [==============================] - 0s 1ms/step - loss: 0.2293 - acc: 0.4747 - val_loss: 0.0603 - val_acc: 0.4242\n",
      "Epoch 21/100\n",
      "9/9 [==============================] - 0s 1ms/step - loss: 0.2172 - acc: 0.4747 - val_loss: 0.0590 - val_acc: 0.4242\n",
      "Epoch 22/100\n",
      "9/9 [==============================] - 0s 1ms/step - loss: 0.2058 - acc: 0.4747 - val_loss: 0.0577 - val_acc: 0.4242\n",
      "Epoch 23/100\n",
      "9/9 [==============================] - 0s 1ms/step - loss: 0.1951 - acc: 0.4747 - val_loss: 0.0563 - val_acc: 0.4242\n",
      "Epoch 24/100\n",
      "9/9 [==============================] - 0s 1ms/step - loss: 0.1850 - acc: 0.4747 - val_loss: 0.0550 - val_acc: 0.4242\n",
      "Epoch 25/100\n",
      "9/9 [==============================] - 0s 1ms/step - loss: 0.1754 - acc: 0.4747 - val_loss: 0.0537 - val_acc: 0.4242\n",
      "Epoch 26/100\n",
      "9/9 [==============================] - 0s 1ms/step - loss: 0.1665 - acc: 0.4747 - val_loss: 0.0524 - val_acc: 0.4242\n",
      "Epoch 27/100\n",
      "9/9 [==============================] - 0s 1ms/step - loss: 0.1580 - acc: 0.4747 - val_loss: 0.0512 - val_acc: 0.4242\n",
      "Epoch 28/100\n",
      "9/9 [==============================] - 0s 1ms/step - loss: 0.1501 - acc: 0.4747 - val_loss: 0.0500 - val_acc: 0.4242\n",
      "Epoch 29/100\n",
      "9/9 [==============================] - 0s 1ms/step - loss: 0.1426 - acc: 0.4747 - val_loss: 0.0489 - val_acc: 0.4242\n",
      "Epoch 30/100\n",
      "9/9 [==============================] - 0s 1ms/step - loss: 0.1356 - acc: 0.4747 - val_loss: 0.0477 - val_acc: 0.4242\n",
      "Epoch 31/100\n",
      "9/9 [==============================] - 0s 1ms/step - loss: 0.1290 - acc: 0.4747 - val_loss: 0.0467 - val_acc: 0.4242\n",
      "Epoch 32/100\n",
      "9/9 [==============================] - 0s 1ms/step - loss: 0.1227 - acc: 0.4747 - val_loss: 0.0457 - val_acc: 0.4242\n",
      "Epoch 33/100\n",
      "9/9 [==============================] - 0s 1ms/step - loss: 0.1169 - acc: 0.4747 - val_loss: 0.0447 - val_acc: 0.4242\n",
      "Epoch 34/100\n",
      "9/9 [==============================] - 0s 1ms/step - loss: 0.1114 - acc: 0.4798 - val_loss: 0.0438 - val_acc: 0.4242\n",
      "Epoch 35/100\n",
      "9/9 [==============================] - 0s 1ms/step - loss: 0.1062 - acc: 0.4798 - val_loss: 0.0429 - val_acc: 0.4242\n",
      "Epoch 36/100\n",
      "9/9 [==============================] - 0s 1ms/step - loss: 0.1013 - acc: 0.4798 - val_loss: 0.0420 - val_acc: 0.4242\n",
      "Epoch 37/100\n",
      "9/9 [==============================] - 0s 1ms/step - loss: 0.0967 - acc: 0.4798 - val_loss: 0.0412 - val_acc: 0.4242\n",
      "Epoch 38/100\n",
      "9/9 [==============================] - 0s 1ms/step - loss: 0.0924 - acc: 0.4798 - val_loss: 0.0405 - val_acc: 0.4242\n",
      "Epoch 39/100\n",
      "9/9 [==============================] - 0s 1ms/step - loss: 0.0883 - acc: 0.4798 - val_loss: 0.0397 - val_acc: 0.4242\n",
      "Epoch 40/100\n",
      "9/9 [==============================] - 0s 1ms/step - loss: 0.0844 - acc: 0.4798 - val_loss: 0.0390 - val_acc: 0.4242\n",
      "Epoch 41/100\n",
      "9/9 [==============================] - 0s 1ms/step - loss: 0.0808 - acc: 0.4798 - val_loss: 0.0383 - val_acc: 0.4242\n",
      "Epoch 42/100\n",
      "9/9 [==============================] - 0s 2ms/step - loss: 0.0773 - acc: 0.4798 - val_loss: 0.0377 - val_acc: 0.4242\n",
      "Epoch 43/100\n",
      "9/9 [==============================] - 0s 1ms/step - loss: 0.0740 - acc: 0.4798 - val_loss: 0.0370 - val_acc: 0.4242\n",
      "Epoch 44/100\n",
      "9/9 [==============================] - 0s 1ms/step - loss: 0.0709 - acc: 0.4798 - val_loss: 0.0364 - val_acc: 0.4242\n",
      "Epoch 45/100\n",
      "9/9 [==============================] - 0s 1ms/step - loss: 0.0680 - acc: 0.4798 - val_loss: 0.0358 - val_acc: 0.4242\n",
      "Epoch 46/100\n",
      "9/9 [==============================] - 0s 1ms/step - loss: 0.0652 - acc: 0.4798 - val_loss: 0.0352 - val_acc: 0.4242\n",
      "Epoch 47/100\n",
      "9/9 [==============================] - 0s 1ms/step - loss: 0.0626 - acc: 0.4798 - val_loss: 0.0346 - val_acc: 0.4242\n",
      "Epoch 48/100\n",
      "9/9 [==============================] - 0s 1ms/step - loss: 0.0601 - acc: 0.4798 - val_loss: 0.0341 - val_acc: 0.4091\n",
      "Epoch 49/100\n",
      "9/9 [==============================] - 0s 1ms/step - loss: 0.0577 - acc: 0.4798 - val_loss: 0.0335 - val_acc: 0.4091\n",
      "Epoch 50/100\n",
      "9/9 [==============================] - 0s 1ms/step - loss: 0.0554 - acc: 0.4798 - val_loss: 0.0330 - val_acc: 0.4091\n",
      "Epoch 51/100\n",
      "9/9 [==============================] - 0s 1ms/step - loss: 0.0532 - acc: 0.4798 - val_loss: 0.0321 - val_acc: 0.4091\n",
      "Epoch 52/100\n",
      "9/9 [==============================] - 0s 1ms/step - loss: 0.0511 - acc: 0.4798 - val_loss: 0.0330 - val_acc: 0.4091\n",
      "Epoch 53/100\n",
      "9/9 [==============================] - 0s 1ms/step - loss: 0.0491 - acc: 0.4798 - val_loss: 0.0292 - val_acc: 0.4242\n",
      "Epoch 54/100\n",
      "9/9 [==============================] - 0s 1ms/step - loss: 0.0478 - acc: 0.4848 - val_loss: 0.0428 - val_acc: 0.4091\n",
      "Epoch 55/100\n",
      "9/9 [==============================] - 0s 1ms/step - loss: 0.0485 - acc: 0.4798 - val_loss: 0.0283 - val_acc: 0.4394\n",
      "Epoch 56/100\n",
      "9/9 [==============================] - 0s 1ms/step - loss: 0.0477 - acc: 0.4848 - val_loss: 0.0403 - val_acc: 0.4091\n",
      "Epoch 57/100\n",
      "9/9 [==============================] - 0s 1ms/step - loss: 0.0449 - acc: 0.4848 - val_loss: 0.0276 - val_acc: 0.4394\n",
      "Epoch 58/100\n",
      "9/9 [==============================] - 0s 1ms/step - loss: 0.0422 - acc: 0.4848 - val_loss: 0.0333 - val_acc: 0.4091\n",
      "Epoch 59/100\n",
      "9/9 [==============================] - 0s 1ms/step - loss: 0.0403 - acc: 0.4848 - val_loss: 0.0280 - val_acc: 0.4091\n",
      "Epoch 60/100\n",
      "9/9 [==============================] - 0s 1ms/step - loss: 0.0388 - acc: 0.4848 - val_loss: 0.0311 - val_acc: 0.4091\n",
      "Epoch 61/100\n",
      "9/9 [==============================] - 0s 1ms/step - loss: 0.0374 - acc: 0.4848 - val_loss: 0.0278 - val_acc: 0.4091\n",
      "Epoch 62/100\n",
      "9/9 [==============================] - 0s 1ms/step - loss: 0.0362 - acc: 0.4848 - val_loss: 0.0302 - val_acc: 0.4091\n",
      "Epoch 63/100\n",
      "9/9 [==============================] - 0s 1ms/step - loss: 0.0349 - acc: 0.4848 - val_loss: 0.0272 - val_acc: 0.4091\n"
     ]
    },
    {
     "name": "stdout",
     "output_type": "stream",
     "text": [
      "Epoch 64/100\n",
      "9/9 [==============================] - 0s 1ms/step - loss: 0.0338 - acc: 0.4848 - val_loss: 0.0301 - val_acc: 0.4091\n",
      "Epoch 65/100\n",
      "9/9 [==============================] - 0s 1ms/step - loss: 0.0326 - acc: 0.4848 - val_loss: 0.0263 - val_acc: 0.4242\n",
      "Epoch 66/100\n",
      "9/9 [==============================] - 0s 1ms/step - loss: 0.0316 - acc: 0.4848 - val_loss: 0.0312 - val_acc: 0.4091\n",
      "Epoch 67/100\n",
      "9/9 [==============================] - 0s 1ms/step - loss: 0.0308 - acc: 0.4848 - val_loss: 0.0254 - val_acc: 0.4394\n",
      "Epoch 68/100\n",
      "9/9 [==============================] - 0s 1ms/step - loss: 0.0301 - acc: 0.4848 - val_loss: 0.0345 - val_acc: 0.4091\n",
      "Epoch 69/100\n",
      "9/9 [==============================] - 0s 1ms/step - loss: 0.0298 - acc: 0.4848 - val_loss: 0.0251 - val_acc: 0.4394\n",
      "Epoch 70/100\n",
      "9/9 [==============================] - 0s 1ms/step - loss: 0.0294 - acc: 0.4848 - val_loss: 0.0356 - val_acc: 0.4091\n",
      "Epoch 71/100\n",
      "9/9 [==============================] - 0s 1ms/step - loss: 0.0286 - acc: 0.4848 - val_loss: 0.0246 - val_acc: 0.4394\n",
      "Epoch 72/100\n",
      "9/9 [==============================] - 0s 1ms/step - loss: 0.0272 - acc: 0.4848 - val_loss: 0.0323 - val_acc: 0.4091\n",
      "Epoch 73/100\n",
      "9/9 [==============================] - 0s 1ms/step - loss: 0.0259 - acc: 0.4848 - val_loss: 0.0244 - val_acc: 0.4394\n",
      "Epoch 74/100\n",
      "9/9 [==============================] - 0s 1ms/step - loss: 0.0248 - acc: 0.4848 - val_loss: 0.0299 - val_acc: 0.4091\n",
      "Epoch 75/100\n",
      "9/9 [==============================] - 0s 1ms/step - loss: 0.0238 - acc: 0.4848 - val_loss: 0.0242 - val_acc: 0.4242\n",
      "Epoch 76/100\n",
      "9/9 [==============================] - 0s 1ms/step - loss: 0.0230 - acc: 0.4848 - val_loss: 0.0291 - val_acc: 0.4091\n",
      "Epoch 77/100\n",
      "9/9 [==============================] - 0s 1ms/step - loss: 0.0222 - acc: 0.4848 - val_loss: 0.0239 - val_acc: 0.4242\n",
      "Epoch 78/100\n",
      "9/9 [==============================] - 0s 1ms/step - loss: 0.0216 - acc: 0.4848 - val_loss: 0.0292 - val_acc: 0.4091\n",
      "Epoch 79/100\n",
      "9/9 [==============================] - 0s 1ms/step - loss: 0.0210 - acc: 0.4848 - val_loss: 0.0235 - val_acc: 0.4394\n",
      "Epoch 80/100\n",
      "9/9 [==============================] - 0s 1ms/step - loss: 0.0205 - acc: 0.4848 - val_loss: 0.0304 - val_acc: 0.4091\n",
      "Epoch 81/100\n",
      "9/9 [==============================] - 0s 1ms/step - loss: 0.0201 - acc: 0.4848 - val_loss: 0.0232 - val_acc: 0.4394\n",
      "Epoch 82/100\n",
      "9/9 [==============================] - 0s 1ms/step - loss: 0.0198 - acc: 0.4848 - val_loss: 0.0319 - val_acc: 0.4091\n",
      "Epoch 83/100\n",
      "9/9 [==============================] - 0s 1ms/step - loss: 0.0195 - acc: 0.4848 - val_loss: 0.0230 - val_acc: 0.4394\n",
      "Epoch 84/100\n",
      "9/9 [==============================] - 0s 1ms/step - loss: 0.0191 - acc: 0.4848 - val_loss: 0.0317 - val_acc: 0.4091\n",
      "Epoch 85/100\n",
      "9/9 [==============================] - 0s 2ms/step - loss: 0.0185 - acc: 0.4848 - val_loss: 0.0227 - val_acc: 0.4394\n",
      "Epoch 86/100\n",
      "9/9 [==============================] - 0s 1ms/step - loss: 0.0178 - acc: 0.4848 - val_loss: 0.0302 - val_acc: 0.4091\n",
      "Epoch 87/100\n",
      "9/9 [==============================] - 0s 2ms/step - loss: 0.0172 - acc: 0.4848 - val_loss: 0.0225 - val_acc: 0.4394\n",
      "Epoch 88/100\n",
      "9/9 [==============================] - 0s 1ms/step - loss: 0.0165 - acc: 0.4848 - val_loss: 0.0290 - val_acc: 0.4091\n",
      "Epoch 89/100\n",
      "9/9 [==============================] - 0s 1ms/step - loss: 0.0160 - acc: 0.4848 - val_loss: 0.0224 - val_acc: 0.4394\n",
      "Epoch 90/100\n",
      "9/9 [==============================] - 0s 1ms/step - loss: 0.0155 - acc: 0.4848 - val_loss: 0.0286 - val_acc: 0.4091\n",
      "Epoch 91/100\n",
      "9/9 [==============================] - 0s 1ms/step - loss: 0.0151 - acc: 0.4848 - val_loss: 0.0222 - val_acc: 0.4394\n",
      "Epoch 92/100\n",
      "9/9 [==============================] - 0s 1ms/step - loss: 0.0147 - acc: 0.4848 - val_loss: 0.0289 - val_acc: 0.4091\n",
      "Epoch 93/100\n",
      "9/9 [==============================] - 0s 1ms/step - loss: 0.0145 - acc: 0.4848 - val_loss: 0.0220 - val_acc: 0.4394\n",
      "Epoch 94/100\n",
      "9/9 [==============================] - 0s 1ms/step - loss: 0.0142 - acc: 0.4848 - val_loss: 0.0296 - val_acc: 0.4091\n",
      "Epoch 95/100\n",
      "9/9 [==============================] - 0s 1ms/step - loss: 0.0140 - acc: 0.4848 - val_loss: 0.0218 - val_acc: 0.4394\n",
      "Epoch 96/100\n",
      "9/9 [==============================] - 0s 1ms/step - loss: 0.0138 - acc: 0.4848 - val_loss: 0.0302 - val_acc: 0.4091\n",
      "Epoch 97/100\n",
      "9/9 [==============================] - 0s 1ms/step - loss: 0.0136 - acc: 0.4848 - val_loss: 0.0216 - val_acc: 0.4394\n",
      "Epoch 98/100\n",
      "9/9 [==============================] - 0s 987us/step - loss: 0.0132 - acc: 0.4848 - val_loss: 0.0300 - val_acc: 0.4091\n",
      "Epoch 99/100\n",
      "9/9 [==============================] - 0s 1ms/step - loss: 0.0129 - acc: 0.4848 - val_loss: 0.0215 - val_acc: 0.4394\n",
      "Epoch 100/100\n",
      "9/9 [==============================] - 0s 1ms/step - loss: 0.0125 - acc: 0.4848 - val_loss: 0.0292 - val_acc: 0.4242\n"
     ]
    }
   ],
   "source": [
    "model = Sequential()\n",
    "\n",
    "model.add(SimpleRNN(32, input_shape=(22, 6), return_sequences=True))\n",
    "model.add(Dense(1))\n",
    "\n",
    "model.compile(optimizer='rmsprop', \n",
    "              loss='mse',\n",
    "              metrics=['acc'])\n",
    "\n",
    "history = model.fit(train_X, train_Y, \n",
    "                    epochs=100, batch_size=16,\n",
    "                    validation_split=0.2)"
   ]
  },
  {
   "cell_type": "code",
   "execution_count": 40,
   "metadata": {},
   "outputs": [
    {
     "data": {
      "image/png": "[encoded data removed]",
      "text/plain": [
       "<Figure size 432x288 with 1 Axes>"
      ]
     },
     "metadata": {},
     "output_type": "display_data"
    },
    {
     "data": {
      "image/png": "[encoded data removed]",
      "text/plain": [
       "<Figure size 432x288 with 1 Axes>"
      ]
     },
     "metadata": {},
     "output_type": "display_data"
    }
   ],
   "source": [
    "evaluate_my_fit(history)"
   ]
  },
  {
   "cell_type": "code",
   "execution_count": 41,
   "metadata": {},
   "outputs": [
    {
     "data": {
      "text/plain": [
       "0.016403408748535075"
      ]
     },
     "execution_count": 41,
     "metadata": {},
     "output_type": "execute_result"
    }
   ],
   "source": [
    "train_predictions = model.predict(train_X)\n",
    "\n",
    "# Train RMSE\n",
    "metrics.mean_squared_error(train_Y.reshape(train_Y.shape[0], train_Y.shape[1] * train_Y.shape[2]),\n",
    "                           train_predictions.reshape(train_predictions.shape[0], train_predictions.shape[1] * train_predictions.shape[2]))"
   ]
  },
  {
   "cell_type": "code",
   "execution_count": 42,
   "metadata": {},
   "outputs": [
    {
     "data": {
      "text/plain": [
       "0.09831679195814175"
      ]
     },
     "execution_count": 42,
     "metadata": {},
     "output_type": "execute_result"
    }
   ],
   "source": [
    "test_predictions = model.predict(eval_X)\n",
    "\n",
    "# Test RMSE\n",
    "metrics.mean_squared_error(eval_Y.reshape(eval_Y.shape[0], eval_Y.shape[1] * eval_Y.shape[2]),\n",
    "                           test_predictions.reshape(test_predictions.shape[0], test_predictions.shape[1] * train_predictions.shape[2]))"
   ]
  },
  {
   "cell_type": "markdown",
   "metadata": {},
   "source": [
    "### GRU"
   ]
  },
  {
   "cell_type": "markdown",
   "metadata": {},
   "source": [
    "Gated recurrent unit (GRU)\n",
    "\n",
    "Basically a cheaper to run version of LSTM, but trades this for less representational power"
   ]
  },
  {
   "cell_type": "code",
   "execution_count": 43,
   "metadata": {},
   "outputs": [],
   "source": [
    "from keras.models import Sequential\n",
    "from keras import layers\n",
    "from keras.optimizers import RMSprop"
   ]
  },
  {
   "cell_type": "code",
   "execution_count": 44,
   "metadata": {},
   "outputs": [
    {
     "name": "stdout",
     "output_type": "stream",
     "text": [
      "Train on 9 samples, validate on 3 samples\n",
      "Epoch 1/100\n",
      "9/9 [==============================] - 1s 73ms/step - loss: 0.3852 - acc: 0.4444 - val_loss: 0.0496 - val_acc: 0.4394\n",
      "Epoch 2/100\n",
      "9/9 [==============================] - 0s 3ms/step - loss: 0.2973 - acc: 0.4545 - val_loss: 0.0459 - val_acc: 0.4394\n",
      "Epoch 3/100\n",
      "9/9 [==============================] - 0s 3ms/step - loss: 0.2171 - acc: 0.4747 - val_loss: 0.0389 - val_acc: 0.4394\n",
      "Epoch 4/100\n",
      "9/9 [==============================] - 0s 4ms/step - loss: 0.4160 - acc: 0.4545 - val_loss: 0.0320 - val_acc: 0.4394\n",
      "Epoch 5/100\n",
      "9/9 [==============================] - 0s 3ms/step - loss: 0.2090 - acc: 0.4596 - val_loss: 0.0293 - val_acc: 0.4394\n",
      "Epoch 6/100\n",
      "9/9 [==============================] - 0s 3ms/step - loss: 0.2494 - acc: 0.4697 - val_loss: 0.0284 - val_acc: 0.4394\n",
      "Epoch 7/100\n",
      "9/9 [==============================] - 0s 3ms/step - loss: 0.2422 - acc: 0.4495 - val_loss: 0.0268 - val_acc: 0.4394\n",
      "Epoch 8/100\n",
      "9/9 [==============================] - 0s 3ms/step - loss: 0.2321 - acc: 0.4646 - val_loss: 0.0279 - val_acc: 0.4394\n",
      "Epoch 9/100\n",
      "9/9 [==============================] - 0s 3ms/step - loss: 0.1976 - acc: 0.4646 - val_loss: 0.0249 - val_acc: 0.4394\n",
      "Epoch 10/100\n",
      "9/9 [==============================] - 0s 3ms/step - loss: 0.1501 - acc: 0.4697 - val_loss: 0.0251 - val_acc: 0.4394\n",
      "Epoch 11/100\n",
      "9/9 [==============================] - 0s 3ms/step - loss: 0.2261 - acc: 0.4798 - val_loss: 0.0254 - val_acc: 0.4394\n",
      "Epoch 12/100\n",
      "9/9 [==============================] - 0s 3ms/step - loss: 0.1625 - acc: 0.4596 - val_loss: 0.0235 - val_acc: 0.4394\n",
      "Epoch 13/100\n",
      "9/9 [==============================] - 0s 3ms/step - loss: 0.1698 - acc: 0.4596 - val_loss: 0.0226 - val_acc: 0.4394\n",
      "Epoch 14/100\n",
      "9/9 [==============================] - 0s 3ms/step - loss: 0.1953 - acc: 0.4798 - val_loss: 0.0244 - val_acc: 0.4394\n",
      "Epoch 15/100\n",
      "9/9 [==============================] - 0s 3ms/step - loss: 0.2082 - acc: 0.4596 - val_loss: 0.0228 - val_acc: 0.4394\n",
      "Epoch 16/100\n",
      "9/9 [==============================] - 0s 3ms/step - loss: 0.1578 - acc: 0.4798 - val_loss: 0.0239 - val_acc: 0.4394\n",
      "Epoch 17/100\n",
      "9/9 [==============================] - 0s 2ms/step - loss: 0.1546 - acc: 0.4848 - val_loss: 0.0253 - val_acc: 0.4394\n",
      "Epoch 18/100\n",
      "9/9 [==============================] - 0s 3ms/step - loss: 0.1779 - acc: 0.4444 - val_loss: 0.0218 - val_acc: 0.4394\n",
      "Epoch 19/100\n",
      "9/9 [==============================] - 0s 3ms/step - loss: 0.1662 - acc: 0.4646 - val_loss: 0.0224 - val_acc: 0.4394\n",
      "Epoch 20/100\n",
      "9/9 [==============================] - 0s 3ms/step - loss: 0.3363 - acc: 0.4646 - val_loss: 0.0260 - val_acc: 0.4394\n",
      "Epoch 21/100\n",
      "9/9 [==============================] - 0s 3ms/step - loss: 0.1155 - acc: 0.4848 - val_loss: 0.0284 - val_acc: 0.4394\n",
      "Epoch 22/100\n",
      "9/9 [==============================] - 0s 3ms/step - loss: 0.1612 - acc: 0.4697 - val_loss: 0.0241 - val_acc: 0.4394\n",
      "Epoch 23/100\n",
      "9/9 [==============================] - 0s 3ms/step - loss: 0.3269 - acc: 0.4646 - val_loss: 0.0380 - val_acc: 0.4394\n",
      "Epoch 24/100\n",
      "9/9 [==============================] - 0s 3ms/step - loss: 0.1091 - acc: 0.4495 - val_loss: 0.0364 - val_acc: 0.4394\n",
      "Epoch 25/100\n",
      "9/9 [==============================] - 0s 3ms/step - loss: 0.1964 - acc: 0.4495 - val_loss: 0.0315 - val_acc: 0.4394\n",
      "Epoch 26/100\n",
      "9/9 [==============================] - 0s 3ms/step - loss: 0.1405 - acc: 0.4596 - val_loss: 0.0212 - val_acc: 0.4394\n",
      "Epoch 27/100\n",
      "9/9 [==============================] - 0s 3ms/step - loss: 0.2484 - acc: 0.4798 - val_loss: 0.0308 - val_acc: 0.4394\n",
      "Epoch 28/100\n",
      "9/9 [==============================] - 0s 3ms/step - loss: 0.1343 - acc: 0.4646 - val_loss: 0.0226 - val_acc: 0.4394\n",
      "Epoch 29/100\n",
      "9/9 [==============================] - 0s 3ms/step - loss: 0.1332 - acc: 0.4596 - val_loss: 0.0187 - val_acc: 0.4394\n",
      "Epoch 30/100\n",
      "9/9 [==============================] - 0s 3ms/step - loss: 0.1228 - acc: 0.4798 - val_loss: 0.0210 - val_acc: 0.4394\n",
      "Epoch 31/100\n",
      "9/9 [==============================] - 0s 3ms/step - loss: 0.0997 - acc: 0.4697 - val_loss: 0.0168 - val_acc: 0.4394\n",
      "Epoch 32/100\n",
      "9/9 [==============================] - 0s 3ms/step - loss: 0.2691 - acc: 0.4747 - val_loss: 0.0229 - val_acc: 0.4394\n",
      "Epoch 33/100\n",
      "9/9 [==============================] - 0s 3ms/step - loss: 0.1268 - acc: 0.4545 - val_loss: 0.0206 - val_acc: 0.4394\n",
      "Epoch 34/100\n",
      "9/9 [==============================] - 0s 3ms/step - loss: 0.2568 - acc: 0.4747 - val_loss: 0.0269 - val_acc: 0.4394\n",
      "Epoch 35/100\n",
      "9/9 [==============================] - 0s 3ms/step - loss: 0.2210 - acc: 0.4747 - val_loss: 0.0366 - val_acc: 0.4394\n",
      "Epoch 36/100\n",
      "9/9 [==============================] - 0s 3ms/step - loss: 0.0999 - acc: 0.4495 - val_loss: 0.0329 - val_acc: 0.4394\n",
      "Epoch 37/100\n",
      "9/9 [==============================] - 0s 2ms/step - loss: 0.2593 - acc: 0.4646 - val_loss: 0.0338 - val_acc: 0.4394\n",
      "Epoch 38/100\n",
      "9/9 [==============================] - 0s 3ms/step - loss: 0.1146 - acc: 0.4697 - val_loss: 0.0292 - val_acc: 0.4394\n",
      "Epoch 39/100\n",
      "9/9 [==============================] - 0s 3ms/step - loss: 0.0752 - acc: 0.4747 - val_loss: 0.0299 - val_acc: 0.4394\n",
      "Epoch 40/100\n",
      "9/9 [==============================] - 0s 2ms/step - loss: 0.0831 - acc: 0.4848 - val_loss: 0.0273 - val_acc: 0.4394\n",
      "Epoch 41/100\n",
      "9/9 [==============================] - 0s 2ms/step - loss: 0.1249 - acc: 0.4596 - val_loss: 0.0165 - val_acc: 0.4394\n",
      "Epoch 42/100\n",
      "9/9 [==============================] - 0s 2ms/step - loss: 0.0871 - acc: 0.4646 - val_loss: 0.0246 - val_acc: 0.4394\n",
      "Epoch 43/100\n",
      "9/9 [==============================] - 0s 2ms/step - loss: 0.0937 - acc: 0.4646 - val_loss: 0.0209 - val_acc: 0.4394\n",
      "Epoch 44/100\n",
      "9/9 [==============================] - 0s 3ms/step - loss: 0.0994 - acc: 0.4646 - val_loss: 0.0181 - val_acc: 0.4394\n",
      "Epoch 45/100\n",
      "9/9 [==============================] - 0s 2ms/step - loss: 0.5726 - acc: 0.4697 - val_loss: 0.0266 - val_acc: 0.4394\n",
      "Epoch 46/100\n",
      "9/9 [==============================] - 0s 2ms/step - loss: 0.1288 - acc: 0.4444 - val_loss: 0.0280 - val_acc: 0.4394\n",
      "Epoch 47/100\n",
      "9/9 [==============================] - 0s 3ms/step - loss: 0.1166 - acc: 0.4798 - val_loss: 0.0243 - val_acc: 0.4394\n",
      "Epoch 48/100\n",
      "9/9 [==============================] - 0s 2ms/step - loss: 0.0861 - acc: 0.4798 - val_loss: 0.0269 - val_acc: 0.4394\n",
      "Epoch 49/100\n",
      "9/9 [==============================] - 0s 2ms/step - loss: 0.2294 - acc: 0.4848 - val_loss: 0.0349 - val_acc: 0.4394\n",
      "Epoch 50/100\n",
      "9/9 [==============================] - 0s 2ms/step - loss: 0.1469 - acc: 0.4394 - val_loss: 0.0268 - val_acc: 0.4394\n",
      "Epoch 51/100\n",
      "9/9 [==============================] - 0s 2ms/step - loss: 0.6038 - acc: 0.4697 - val_loss: 0.0456 - val_acc: 0.4394\n",
      "Epoch 52/100\n",
      "9/9 [==============================] - 0s 3ms/step - loss: 0.1482 - acc: 0.4697 - val_loss: 0.0416 - val_acc: 0.4394\n",
      "Epoch 53/100\n",
      "9/9 [==============================] - 0s 2ms/step - loss: 0.1953 - acc: 0.4798 - val_loss: 0.0549 - val_acc: 0.4394\n",
      "Epoch 54/100\n",
      "9/9 [==============================] - 0s 3ms/step - loss: 0.0729 - acc: 0.4747 - val_loss: 0.0414 - val_acc: 0.4394\n",
      "Epoch 55/100\n",
      "9/9 [==============================] - 0s 2ms/step - loss: 0.0655 - acc: 0.4747 - val_loss: 0.0307 - val_acc: 0.4394\n",
      "Epoch 56/100\n",
      "9/9 [==============================] - 0s 3ms/step - loss: 0.0879 - acc: 0.4848 - val_loss: 0.0249 - val_acc: 0.4394\n",
      "Epoch 57/100\n",
      "9/9 [==============================] - 0s 3ms/step - loss: 0.1129 - acc: 0.4646 - val_loss: 0.0276 - val_acc: 0.4394\n",
      "Epoch 58/100\n",
      "9/9 [==============================] - 0s 3ms/step - loss: 0.2453 - acc: 0.4697 - val_loss: 0.0342 - val_acc: 0.4394\n",
      "Epoch 59/100\n",
      "9/9 [==============================] - 0s 2ms/step - loss: 0.0790 - acc: 0.4495 - val_loss: 0.0361 - val_acc: 0.4394\n",
      "Epoch 60/100\n",
      "9/9 [==============================] - 0s 3ms/step - loss: 0.1005 - acc: 0.4596 - val_loss: 0.0350 - val_acc: 0.4394\n",
      "Epoch 61/100\n",
      "9/9 [==============================] - 0s 3ms/step - loss: 0.0913 - acc: 0.4798 - val_loss: 0.0290 - val_acc: 0.4394\n",
      "Epoch 62/100\n",
      "9/9 [==============================] - 0s 3ms/step - loss: 0.1071 - acc: 0.4798 - val_loss: 0.0229 - val_acc: 0.4394\n",
      "Epoch 63/100\n",
      "9/9 [==============================] - 0s 3ms/step - loss: 0.1396 - acc: 0.4495 - val_loss: 0.0241 - val_acc: 0.4394\n"
     ]
    },
    {
     "name": "stdout",
     "output_type": "stream",
     "text": [
      "Epoch 64/100\n",
      "9/9 [==============================] - 0s 3ms/step - loss: 0.2482 - acc: 0.4798 - val_loss: 0.0355 - val_acc: 0.4394\n",
      "Epoch 65/100\n",
      "9/9 [==============================] - 0s 3ms/step - loss: 0.1620 - acc: 0.4495 - val_loss: 0.0277 - val_acc: 0.4394\n",
      "Epoch 66/100\n",
      "9/9 [==============================] - 0s 3ms/step - loss: 0.0948 - acc: 0.4697 - val_loss: 0.0274 - val_acc: 0.4394\n",
      "Epoch 67/100\n",
      "9/9 [==============================] - 0s 2ms/step - loss: 0.1166 - acc: 0.4596 - val_loss: 0.0191 - val_acc: 0.4394\n",
      "Epoch 68/100\n",
      "9/9 [==============================] - 0s 2ms/step - loss: 0.0604 - acc: 0.4798 - val_loss: 0.0186 - val_acc: 0.4394\n",
      "Epoch 69/100\n",
      "9/9 [==============================] - 0s 3ms/step - loss: 0.1113 - acc: 0.4848 - val_loss: 0.0184 - val_acc: 0.4394\n",
      "Epoch 70/100\n",
      "9/9 [==============================] - 0s 2ms/step - loss: 0.0818 - acc: 0.4697 - val_loss: 0.0217 - val_acc: 0.4394\n",
      "Epoch 71/100\n",
      "9/9 [==============================] - 0s 2ms/step - loss: 0.0624 - acc: 0.4798 - val_loss: 0.0274 - val_acc: 0.4394\n",
      "Epoch 72/100\n",
      "9/9 [==============================] - 0s 3ms/step - loss: 0.0871 - acc: 0.4747 - val_loss: 0.0295 - val_acc: 0.4394\n",
      "Epoch 73/100\n",
      "9/9 [==============================] - 0s 2ms/step - loss: 0.2651 - acc: 0.4798 - val_loss: 0.0207 - val_acc: 0.4394\n",
      "Epoch 74/100\n",
      "9/9 [==============================] - 0s 2ms/step - loss: 0.0990 - acc: 0.4697 - val_loss: 0.0199 - val_acc: 0.4394\n",
      "Epoch 75/100\n",
      "9/9 [==============================] - 0s 2ms/step - loss: 0.0985 - acc: 0.4747 - val_loss: 0.0261 - val_acc: 0.4394\n",
      "Epoch 76/100\n",
      "9/9 [==============================] - 0s 2ms/step - loss: 0.0908 - acc: 0.4697 - val_loss: 0.0292 - val_acc: 0.4394\n",
      "Epoch 77/100\n",
      "9/9 [==============================] - 0s 3ms/step - loss: 0.1040 - acc: 0.4545 - val_loss: 0.0215 - val_acc: 0.4394\n",
      "Epoch 78/100\n",
      "9/9 [==============================] - 0s 2ms/step - loss: 0.0710 - acc: 0.4697 - val_loss: 0.0178 - val_acc: 0.4394\n",
      "Epoch 79/100\n",
      "9/9 [==============================] - 0s 3ms/step - loss: 0.0701 - acc: 0.4848 - val_loss: 0.0225 - val_acc: 0.4394\n",
      "Epoch 80/100\n",
      "9/9 [==============================] - 0s 2ms/step - loss: 0.2051 - acc: 0.4697 - val_loss: 0.0296 - val_acc: 0.4394\n",
      "Epoch 81/100\n",
      "9/9 [==============================] - 0s 2ms/step - loss: 0.0548 - acc: 0.4798 - val_loss: 0.0237 - val_acc: 0.4394\n",
      "Epoch 82/100\n",
      "9/9 [==============================] - 0s 2ms/step - loss: 0.0864 - acc: 0.4646 - val_loss: 0.0164 - val_acc: 0.4394\n",
      "Epoch 83/100\n",
      "9/9 [==============================] - 0s 2ms/step - loss: 0.1154 - acc: 0.4747 - val_loss: 0.0265 - val_acc: 0.4394\n",
      "Epoch 84/100\n",
      "9/9 [==============================] - 0s 2ms/step - loss: 0.0754 - acc: 0.4798 - val_loss: 0.0183 - val_acc: 0.4394\n",
      "Epoch 85/100\n",
      "9/9 [==============================] - 0s 2ms/step - loss: 0.0710 - acc: 0.4848 - val_loss: 0.0205 - val_acc: 0.4394\n",
      "Epoch 86/100\n",
      "9/9 [==============================] - 0s 2ms/step - loss: 0.0746 - acc: 0.4848 - val_loss: 0.0170 - val_acc: 0.4394\n",
      "Epoch 87/100\n",
      "9/9 [==============================] - 0s 2ms/step - loss: 0.0853 - acc: 0.4798 - val_loss: 0.0234 - val_acc: 0.4394\n",
      "Epoch 88/100\n",
      "9/9 [==============================] - 0s 2ms/step - loss: 0.0597 - acc: 0.4798 - val_loss: 0.0170 - val_acc: 0.4394\n",
      "Epoch 89/100\n",
      "9/9 [==============================] - 0s 2ms/step - loss: 0.0453 - acc: 0.4747 - val_loss: 0.0154 - val_acc: 0.4394\n",
      "Epoch 90/100\n",
      "9/9 [==============================] - 0s 3ms/step - loss: 0.0615 - acc: 0.4848 - val_loss: 0.0176 - val_acc: 0.4394\n",
      "Epoch 91/100\n",
      "9/9 [==============================] - 0s 3ms/step - loss: 0.0492 - acc: 0.4798 - val_loss: 0.0256 - val_acc: 0.4394\n",
      "Epoch 92/100\n",
      "9/9 [==============================] - 0s 2ms/step - loss: 0.0495 - acc: 0.4747 - val_loss: 0.0226 - val_acc: 0.4394\n",
      "Epoch 93/100\n",
      "9/9 [==============================] - 0s 2ms/step - loss: 0.0818 - acc: 0.4848 - val_loss: 0.0188 - val_acc: 0.4394\n",
      "Epoch 94/100\n",
      "9/9 [==============================] - 0s 2ms/step - loss: 0.0567 - acc: 0.4697 - val_loss: 0.0246 - val_acc: 0.4394\n",
      "Epoch 95/100\n",
      "9/9 [==============================] - 0s 2ms/step - loss: 0.1157 - acc: 0.4747 - val_loss: 0.0143 - val_acc: 0.4394\n",
      "Epoch 96/100\n",
      "9/9 [==============================] - 0s 3ms/step - loss: 0.0761 - acc: 0.4747 - val_loss: 0.0144 - val_acc: 0.4394\n",
      "Epoch 97/100\n",
      "9/9 [==============================] - 0s 2ms/step - loss: 0.0473 - acc: 0.4798 - val_loss: 0.0237 - val_acc: 0.4394\n",
      "Epoch 98/100\n",
      "9/9 [==============================] - 0s 2ms/step - loss: 0.0425 - acc: 0.4747 - val_loss: 0.0170 - val_acc: 0.4394\n",
      "Epoch 99/100\n",
      "9/9 [==============================] - 0s 2ms/step - loss: 0.0856 - acc: 0.4848 - val_loss: 0.0222 - val_acc: 0.4394\n",
      "Epoch 100/100\n",
      "9/9 [==============================] - 0s 3ms/step - loss: 0.0519 - acc: 0.4798 - val_loss: 0.0139 - val_acc: 0.4394\n"
     ]
    }
   ],
   "source": [
    "model = Sequential()\n",
    "model.add(layers.GRU(32, input_shape=(22,6),\n",
    "                    return_sequences=True,\n",
    "                    dropout=0.2,\n",
    "                    recurrent_dropout=0.2))\n",
    "model.add(Dense(1))\n",
    "\n",
    "model.compile(optimizer=RMSprop(),\n",
    "              loss='mse',\n",
    "              metrics=['acc'])\n",
    "history = model.fit(train_X, train_Y, \n",
    "                    epochs=100, batch_size=16,\n",
    "                    validation_split=0.2)"
   ]
  },
  {
   "cell_type": "code",
   "execution_count": 45,
   "metadata": {},
   "outputs": [
    {
     "data": {
      "image/png": "[encoded data removed]",
      "text/plain": [
       "<Figure size 432x288 with 1 Axes>"
      ]
     },
     "metadata": {},
     "output_type": "display_data"
    },
    {
     "data": {
      "image/png": "[encoded data removed]",
      "text/plain": [
       "<Figure size 432x288 with 1 Axes>"
      ]
     },
     "metadata": {},
     "output_type": "display_data"
    }
   ],
   "source": [
    "evaluate_my_fit(history)\n",
    "# Why is this all over the place?????"
   ]
  },
  {
   "cell_type": "code",
   "execution_count": 46,
   "metadata": {},
   "outputs": [
    {
     "data": {
      "text/plain": [
       "0.03995650542282472"
      ]
     },
     "execution_count": 46,
     "metadata": {},
     "output_type": "execute_result"
    }
   ],
   "source": [
    "train_predictions = model.predict(train_X)\n",
    "\n",
    "# Train RMSE\n",
    "metrics.mean_squared_error(train_Y.reshape(train_Y.shape[0], train_Y.shape[1] * train_Y.shape[2]),\n",
    "                           train_predictions.reshape(train_predictions.shape[0], train_predictions.shape[1] * train_predictions.shape[2]))"
   ]
  },
  {
   "cell_type": "code",
   "execution_count": 47,
   "metadata": {},
   "outputs": [
    {
     "data": {
      "text/plain": [
       "0.06014295091646374"
      ]
     },
     "execution_count": 47,
     "metadata": {},
     "output_type": "execute_result"
    }
   ],
   "source": [
    "test_predictions = model.predict(eval_X)\n",
    "\n",
    "# Test RMSE\n",
    "metrics.mean_squared_error(eval_Y.reshape(eval_Y.shape[0], eval_Y.shape[1] * eval_Y.shape[2]),\n",
    "                           test_predictions.reshape(test_predictions.shape[0], test_predictions.shape[1] * train_predictions.shape[2]))"
   ]
  },
  {
   "cell_type": "markdown",
   "metadata": {},
   "source": [
    "### CNN"
   ]
  },
  {
   "cell_type": "markdown",
   "metadata": {},
   "source": [
    "1D Convnet\n",
    "\n",
    "1D convnets have sometimes shown to be more efficient with data than similarly sized RNNs when dealing with small problems. Maybe that means they're a good application here? Each output timestep takes power from its neighbours, so this is assuming some sort of autoregression."
   ]
  },
  {
   "cell_type": "code",
   "execution_count": 48,
   "metadata": {},
   "outputs": [],
   "source": [
    "from keras.models import Sequential\n",
    "from keras import layers"
   ]
  },
  {
   "cell_type": "code",
   "execution_count": 49,
   "metadata": {},
   "outputs": [
    {
     "data": {
      "text/plain": [
       "(12, 22, 1)"
      ]
     },
     "execution_count": 49,
     "metadata": {},
     "output_type": "execute_result"
    }
   ],
   "source": [
    "train_Y.shape"
   ]
  },
  {
   "cell_type": "code",
   "execution_count": 50,
   "metadata": {},
   "outputs": [
    {
     "ename": "ValueError",
     "evalue": "Error when checking target: expected dense_5 to have shape (1,) but got array with shape (22,)",
     "output_type": "error",
     "traceback": [
      "\u001b[0;31m---------------------------------------------------------------------------\u001b[0m",
      "\u001b[0;31mValueError\u001b[0m                                Traceback (most recent call last)",
      "\u001b[0;32m<ipython-input-50-07a3c2d37a74>\u001b[0m in \u001b[0;36m<module>\u001b[0;34m\u001b[0m\n\u001b[1;32m     15\u001b[0m history = model.fit(train_X, train_Y.reshape(12, 22), \n\u001b[1;32m     16\u001b[0m                     \u001b[0mepochs\u001b[0m\u001b[0;34m=\u001b[0m\u001b[0;36m100\u001b[0m\u001b[0;34m,\u001b[0m \u001b[0mbatch_size\u001b[0m\u001b[0;34m=\u001b[0m\u001b[0;36m16\u001b[0m\u001b[0;34m,\u001b[0m\u001b[0;34m\u001b[0m\u001b[0;34m\u001b[0m\u001b[0m\n\u001b[0;32m---> 17\u001b[0;31m                     validation_split=0.2)\n\u001b[0m",
      "\u001b[0;32m/usr/local/lib/python3.7/site-packages/keras/engine/training.py\u001b[0m in \u001b[0;36mfit\u001b[0;34m(self, x, y, batch_size, epochs, verbose, callbacks, validation_split, validation_data, shuffle, class_weight, sample_weight, initial_epoch, steps_per_epoch, validation_steps, validation_freq, max_queue_size, workers, use_multiprocessing, **kwargs)\u001b[0m\n\u001b[1;32m   1152\u001b[0m             \u001b[0msample_weight\u001b[0m\u001b[0;34m=\u001b[0m\u001b[0msample_weight\u001b[0m\u001b[0;34m,\u001b[0m\u001b[0;34m\u001b[0m\u001b[0;34m\u001b[0m\u001b[0m\n\u001b[1;32m   1153\u001b[0m             \u001b[0mclass_weight\u001b[0m\u001b[0;34m=\u001b[0m\u001b[0mclass_weight\u001b[0m\u001b[0;34m,\u001b[0m\u001b[0;34m\u001b[0m\u001b[0;34m\u001b[0m\u001b[0m\n\u001b[0;32m-> 1154\u001b[0;31m             batch_size=batch_size)\n\u001b[0m\u001b[1;32m   1155\u001b[0m \u001b[0;34m\u001b[0m\u001b[0m\n\u001b[1;32m   1156\u001b[0m         \u001b[0;31m# Prepare validation data.\u001b[0m\u001b[0;34m\u001b[0m\u001b[0;34m\u001b[0m\u001b[0;34m\u001b[0m\u001b[0m\n",
      "\u001b[0;32m/usr/local/lib/python3.7/site-packages/keras/engine/training.py\u001b[0m in \u001b[0;36m_standardize_user_data\u001b[0;34m(self, x, y, sample_weight, class_weight, check_array_lengths, batch_size)\u001b[0m\n\u001b[1;32m    619\u001b[0m                 \u001b[0mfeed_output_shapes\u001b[0m\u001b[0;34m,\u001b[0m\u001b[0;34m\u001b[0m\u001b[0;34m\u001b[0m\u001b[0m\n\u001b[1;32m    620\u001b[0m                 \u001b[0mcheck_batch_axis\u001b[0m\u001b[0;34m=\u001b[0m\u001b[0;32mFalse\u001b[0m\u001b[0;34m,\u001b[0m  \u001b[0;31m# Don't enforce the batch size.\u001b[0m\u001b[0;34m\u001b[0m\u001b[0;34m\u001b[0m\u001b[0m\n\u001b[0;32m--> 621\u001b[0;31m                 exception_prefix='target')\n\u001b[0m\u001b[1;32m    622\u001b[0m \u001b[0;34m\u001b[0m\u001b[0m\n\u001b[1;32m    623\u001b[0m             \u001b[0;31m# Generate sample-wise weight values given the `sample_weight` and\u001b[0m\u001b[0;34m\u001b[0m\u001b[0;34m\u001b[0m\u001b[0;34m\u001b[0m\u001b[0m\n",
      "\u001b[0;32m/usr/local/lib/python3.7/site-packages/keras/engine/training_utils.py\u001b[0m in \u001b[0;36mstandardize_input_data\u001b[0;34m(data, names, shapes, check_batch_axis, exception_prefix)\u001b[0m\n\u001b[1;32m    143\u001b[0m                             \u001b[0;34m': expected '\u001b[0m \u001b[0;34m+\u001b[0m \u001b[0mnames\u001b[0m\u001b[0;34m[\u001b[0m\u001b[0mi\u001b[0m\u001b[0;34m]\u001b[0m \u001b[0;34m+\u001b[0m \u001b[0;34m' to have shape '\u001b[0m \u001b[0;34m+\u001b[0m\u001b[0;34m\u001b[0m\u001b[0;34m\u001b[0m\u001b[0m\n\u001b[1;32m    144\u001b[0m                             \u001b[0mstr\u001b[0m\u001b[0;34m(\u001b[0m\u001b[0mshape\u001b[0m\u001b[0;34m)\u001b[0m \u001b[0;34m+\u001b[0m \u001b[0;34m' but got array with shape '\u001b[0m \u001b[0;34m+\u001b[0m\u001b[0;34m\u001b[0m\u001b[0;34m\u001b[0m\u001b[0m\n\u001b[0;32m--> 145\u001b[0;31m                             str(data_shape))\n\u001b[0m\u001b[1;32m    146\u001b[0m     \u001b[0;32mreturn\u001b[0m \u001b[0mdata\u001b[0m\u001b[0;34m\u001b[0m\u001b[0;34m\u001b[0m\u001b[0m\n\u001b[1;32m    147\u001b[0m \u001b[0;34m\u001b[0m\u001b[0m\n",
      "\u001b[0;31mValueError\u001b[0m: Error when checking target: expected dense_5 to have shape (1,) but got array with shape (22,)"
     ]
    }
   ],
   "source": [
    "model = Sequential()\n",
    "model.add(layers.Conv1D(filters=32, kernel_size=2,\n",
    "                        activation='relu',\n",
    "                        input_shape=(22,6)))\n",
    "model.add(layers.MaxPooling1D(pool_size=2))\n",
    "\n",
    "model.add(layers.Flatten())\n",
    "model.add(layers.Dense(50, activation='relu'))\n",
    "model.add(layers.Dense(1))\n",
    "# 1D Convnets cannot return sequences, they converge to one value...\n",
    "model.compile(optimizer='adam', \n",
    "              loss='mse',\n",
    "              metrics=['acc'])\n",
    "\n",
    "history = model.fit(train_X, train_Y.reshape(12, 22), \n",
    "                    epochs=100, batch_size=16,\n",
    "                    validation_split=0.2)"
   ]
  },
  {
   "cell_type": "code",
   "execution_count": null,
   "metadata": {},
   "outputs": [],
   "source": []
  },
  {
   "cell_type": "markdown",
   "metadata": {},
   "source": [
    "### MLP"
   ]
  },
  {
   "cell_type": "markdown",
   "metadata": {},
   "source": [
    "Multilayer Perceptron (MLP) \n",
    "\n",
    "In this case MLP refers to a feedforward set of dense layers, that's it. This is another really simple model that could be used as a baseline. However this kind of model has no memory."
   ]
  },
  {
   "cell_type": "code",
   "execution_count": null,
   "metadata": {},
   "outputs": [],
   "source": [
    "# MLP also have the problem of requiring some more thinking to be generative..."
   ]
  },
  {
   "cell_type": "code",
   "execution_count": null,
   "metadata": {},
   "outputs": [],
   "source": []
  },
  {
   "cell_type": "code",
   "execution_count": null,
   "metadata": {},
   "outputs": [],
   "source": []
  },
  {
   "cell_type": "code",
   "execution_count": null,
   "metadata": {},
   "outputs": [],
   "source": []
  },
  {
   "cell_type": "markdown",
   "metadata": {},
   "source": [
    "## Parametric"
   ]
  },
  {
   "cell_type": "markdown",
   "metadata": {},
   "source": [
    "### ARIMA"
   ]
  },
  {
   "cell_type": "code",
   "execution_count": null,
   "metadata": {},
   "outputs": [],
   "source": []
  },
  {
   "cell_type": "code",
   "execution_count": null,
   "metadata": {},
   "outputs": [],
   "source": []
  },
  {
   "cell_type": "code",
   "execution_count": null,
   "metadata": {},
   "outputs": [],
   "source": []
  },
  {
   "cell_type": "markdown",
   "metadata": {},
   "source": [
    "## Null"
   ]
  },
  {
   "cell_type": "markdown",
   "metadata": {},
   "source": [
    "### Naïve seasonal"
   ]
  },
  {
   "cell_type": "code",
   "execution_count": null,
   "metadata": {},
   "outputs": [],
   "source": []
  },
  {
   "cell_type": "code",
   "execution_count": null,
   "metadata": {},
   "outputs": [],
   "source": []
  }
 ],
 "metadata": {
  "kernelspec": {
   "display_name": "Python 3",
   "language": "python",
   "name": "python3"
  },
  "language_info": {
   "codemirror_mode": {
    "name": "ipython",
    "version": 3
   },
   "file_extension": ".py",
   "mimetype": "text/x-python",
   "name": "python",
   "nbconvert_exporter": "python",
   "pygments_lexer": "ipython3",
   "version": "3.7.5"
  },
  "toc": {
   "base_numbering": 1,
   "nav_menu": {},
   "number_sections": true,
   "sideBar": true,
   "skip_h1_title": false,
   "title_cell": "Table of Contents",
   "title_sidebar": "Contents",
   "toc_cell": false,
   "toc_position": {},
   "toc_section_display": true,
   "toc_window_display": true
  }
 },
 "nbformat": 4,
 "nbformat_minor": 2
}
