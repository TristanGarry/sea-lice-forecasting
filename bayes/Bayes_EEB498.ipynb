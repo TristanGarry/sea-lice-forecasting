{
 "cells": [
  {
   "cell_type": "code",
   "execution_count": 1,
   "metadata": {},
   "outputs": [],
   "source": [
    "%load_ext autoreload\n",
    "%autoreload 2"
   ]
  },
  {
   "cell_type": "code",
   "execution_count": null,
   "metadata": {},
   "outputs": [],
   "source": []
  },
  {
   "cell_type": "code",
   "execution_count": 2,
   "metadata": {},
   "outputs": [],
   "source": [
    "import pandas as pd\n",
    "import numpy as np\n",
    "import matplotlib.pyplot as plt\n",
    "import datetime\n",
    "from sklearn import metrics"
   ]
  },
  {
   "cell_type": "code",
   "execution_count": 3,
   "metadata": {},
   "outputs": [],
   "source": [
    "data_dir = \"../data/\""
   ]
  },
  {
   "cell_type": "code",
   "execution_count": 4,
   "metadata": {},
   "outputs": [],
   "source": [
    "fish_data = pd.read_csv(f'{data_dir}BroughtonSeaLice_fishData.csv', encoding='ISO-8859-1', low_memory=False)"
   ]
  },
  {
   "cell_type": "code",
   "execution_count": 5,
   "metadata": {},
   "outputs": [],
   "source": [
    "## Constants and helpers\n",
    "analysis_years = list(range(2003, 2018))\n",
    "\n",
    "analysis_months = list(range(1, 7))\n",
    "\n",
    "dow_dict = {\n",
    "    1: 'MON',\n",
    "    2: 'TUE',\n",
    "    3: 'WED',\n",
    "    4: 'THU', \n",
    "    5: 'FRI', \n",
    "    6: 'SAT', \n",
    "    7: 'SUN'\n",
    "}\n",
    "\n",
    "def get_dow(dt_obj):\n",
    "    dow_text = dt_obj.isoweekday()\n",
    "    return(dow_dict[dow_text])"
   ]
  },
  {
   "cell_type": "code",
   "execution_count": 6,
   "metadata": {},
   "outputs": [
    {
     "name": "stderr",
     "output_type": "stream",
     "text": [
      "/opt/anaconda3/envs/EEB498/lib/python3.6/site-packages/pandas/core/indexing.py:205: SettingWithCopyWarning: \n",
      "A value is trying to be set on a copy of a slice from a DataFrame\n",
      "\n",
      "See the caveats in the documentation: http://pandas.pydata.org/pandas-docs/stable/user_guide/indexing.html#returning-a-view-versus-a-copy\n",
      "  self._setitem_with_indexer(indexer, value)\n",
      "/opt/anaconda3/envs/EEB498/lib/python3.6/site-packages/pandas/core/indexing.py:494: SettingWithCopyWarning: \n",
      "A value is trying to be set on a copy of a slice from a DataFrame.\n",
      "Try using .loc[row_indexer,col_indexer] = value instead\n",
      "\n",
      "See the caveats in the documentation: http://pandas.pydata.org/pandas-docs/stable/user_guide/indexing.html#returning-a-view-versus-a-copy\n",
      "  self.obj[item] = s\n",
      "/opt/anaconda3/envs/EEB498/lib/python3.6/site-packages/ipykernel_launcher.py:23: SettingWithCopyWarning: \n",
      "A value is trying to be set on a copy of a slice from a DataFrame\n",
      "\n",
      "See the caveats in the documentation: http://pandas.pydata.org/pandas-docs/stable/user_guide/indexing.html#returning-a-view-versus-a-copy\n"
     ]
    }
   ],
   "source": [
    "adult = fish_data[['Lep_PAmale', 'Lep_PAfemale', \n",
    "                   'Lep_male', 'Lep_gravid',\n",
    "                   'Lep_nongravid', 'unid_PA',\n",
    "                   'unid_adult']].sum(axis=1)\n",
    "\n",
    "fish_data_date = pd.to_datetime(fish_data[['year', 'day', 'month']])\n",
    "\n",
    "response = pd.DataFrame({'count':adult.values, \n",
    "                         'location':fish_data['location'].values,\n",
    "                         'datetime': fish_data_date})\n",
    "\n",
    "response_glacier = response[response['location'] == 'Glacier']\n",
    "\n",
    "\n",
    "\n",
    "year_df_list = []\n",
    "for year in analysis_years:\n",
    "    subset = response_glacier[response_glacier['datetime'].dt.year == year]\n",
    "    subset.loc[0] = np.nan\n",
    "    subset.loc[0, 'datetime'] = datetime.datetime(year, 1, 1)\n",
    "    subset.loc[1] = np.nan\n",
    "    subset.loc[1, 'datetime'] = datetime.datetime(year, 12, 31)\n",
    "    subset.sort_values('datetime', inplace=True)\n",
    "    subset_resampled = subset.resample(f'W-{get_dow(datetime.datetime(year, 1, 1))}',\n",
    "                                       on='datetime', label='left').mean().interpolate(methods='linear')\n",
    "    year_df_list.append(subset_resampled)\n",
    "Y_glacier = pd.concat(year_df_list).reset_index().set_index('datetime')\n",
    "Y_glacier = Y_glacier[Y_glacier.index.year != 2002]"
   ]
  },
  {
   "cell_type": "markdown",
   "metadata": {},
   "source": []
  },
  {
   "cell_type": "code",
   "execution_count": 65,
   "metadata": {},
   "outputs": [],
   "source": [
    "def seasonal_bayes_model(Y):\n",
    "    Y = Y_glacier.copy().reset_index()\n",
    "    Y['year'] = Y['datetime'].dt.year\n",
    "    Y = Y[~Y['year'].isin([2002, 2004])]\n",
    "    dummy_date_filter = (Y['datetime'].dt.month == 12) & (Y['datetime'].dt.day == 25)\n",
    "    leap_date_filter = (Y['datetime'].dt.month == 12) & (Y['datetime'].dt.day == 30)\n",
    "    Y = Y[~(dummy_date_filter | leap_date_filter)]\n",
    "\n",
    "    dummy_year_dates = Y[Y['year'] == 2003]['datetime']\n",
    "    Y['datetime'] = pd.concat([dummy_year_dates] * Y['year'].nunique(), axis=0).values\n",
    "    return(Y[(3 <= Y['datetime'].dt.month) & (7 >= Y['datetime'].dt.month)].groupby('datetime')['count'].mean().fillna(0))"
   ]
  },
  {
   "cell_type": "code",
   "execution_count": 66,
   "metadata": {},
   "outputs": [],
   "source": [
    "dummy_dates = Y_glacier[Y_glacier.index.year==2003].reset_index()['datetime'].iloc[:-1]\n",
    "\n",
    "def get_train_values(train, dummy_year_dates=dummy_dates):\n",
    "    Y = train.copy().reset_index()\n",
    "    Y['year'] = Y['datetime'].dt.year\n",
    "    Y = Y[~Y['year'].isin([2002, 2004])]\n",
    "    dummy_date_filter = (Y['datetime'].dt.month == 12) & (Y['datetime'].dt.day == 25)\n",
    "    leap_date_filter = (Y['datetime'].dt.month == 12) & (Y['datetime'].dt.day == 30)\n",
    "    Y = Y[~(dummy_date_filter | leap_date_filter)]\n",
    "    Y['datetime'] = pd.concat([dummy_year_dates] * Y['year'].nunique(), axis=0).values\n",
    "    Y = Y[(3 <= Y['datetime'].dt.month) & (7 >= Y['datetime'].dt.month)]\n",
    "    \n",
    "    list_of_years = []\n",
    "    for year in Y['year'].unique():\n",
    "        list_of_years.append(Y[Y['year'] == year]['count'].fillna(0).values)\n",
    "    return(np.array(list_of_years))"
   ]
  },
  {
   "cell_type": "code",
   "execution_count": 67,
   "metadata": {},
   "outputs": [],
   "source": [
    "def make_train_prediction_assessment_array(preds, is_04=False):\n",
    "    list_of_years = []\n",
    "    upper = 13\n",
    "    if is_04:\n",
    "        upper = 14\n",
    "    for year in range(0, upper):\n",
    "        list_of_years.append(preds.values)\n",
    "    return(np.array(list_of_years))"
   ]
  },
  {
   "cell_type": "code",
   "execution_count": 68,
   "metadata": {},
   "outputs": [],
   "source": [
    "bayes_info = {}\n",
    "\n",
    "for year in analysis_years:\n",
    "    train_data = Y_glacier[~Y_glacier.index.year.isin([year, 2004])]\n",
    "    \n",
    "    test_data = Y_glacier[(3 <= Y_glacier.index.month) & (7 >= Y_glacier.index.month) & (Y_glacier.index.year == year)]['count'].fillna(0)\n",
    "    \n",
    "    preds = seasonal_bayes_model(train_data)\n",
    "    \n",
    "    # Train MSE\n",
    "    train_values = get_train_values(train_data)\n",
    "    train_predictions = make_train_prediction_assessment_array(preds, (year==2004))\n",
    "    train_mse = metrics.mean_squared_error(train_values, train_predictions)\n",
    "    train_mae = metrics.mean_absolute_error(train_values, train_predictions)\n",
    "\n",
    "    # Test MSE\n",
    "    test_mse = metrics.mean_squared_error(test_data, preds)\n",
    "    test_mae = metrics.mean_absolute_error(test_data, preds)\n",
    "    \n",
    "    year_info = {\n",
    "        'train_mse': train_mse,\n",
    "        'test_mse': test_mse,\n",
    "        'train_mae': train_mae,\n",
    "        'test_mae': test_mae,\n",
    "        'test_predictions': preds\n",
    "    }\n",
    "    \n",
    "    bayes_info[year] = year_info\n",
    "    "
   ]
  },
  {
   "cell_type": "code",
   "execution_count": 69,
   "metadata": {},
   "outputs": [],
   "source": [
    "for key in bayes_info.keys(): \n",
    "    bayes_info[key]['test_predictions'] = bayes_info[key]['test_predictions'].values.tolist()"
   ]
  },
  {
   "cell_type": "code",
   "execution_count": 70,
   "metadata": {},
   "outputs": [],
   "source": [
    "# save to json\n",
    "import json\n",
    "\n",
    "with open('sufficient_info.json', 'w') as fp:\n",
    "    json.dump(bayes_info, fp)"
   ]
  },
  {
   "cell_type": "code",
   "execution_count": null,
   "metadata": {},
   "outputs": [],
   "source": []
  },
  {
   "cell_type": "code",
   "execution_count": 71,
   "metadata": {},
   "outputs": [],
   "source": [
    "actual_info = {}\n",
    "\n",
    "for year in analysis_years:\n",
    "    test_data = Y_glacier[(3 <= Y_glacier.index.month) & (7 >= Y_glacier.index.month) & (Y_glacier.index.year == year)]['count'].fillna(0)\n",
    "    actual_info[year] = test_data.values.tolist()"
   ]
  },
  {
   "cell_type": "code",
   "execution_count": 72,
   "metadata": {},
   "outputs": [],
   "source": [
    "with open('actual_values.json', 'w') as fp:\n",
    "    json.dump(actual_info, fp)"
   ]
  },
  {
   "cell_type": "code",
   "execution_count": null,
   "metadata": {},
   "outputs": [],
   "source": []
  },
  {
   "cell_type": "code",
   "execution_count": null,
   "metadata": {},
   "outputs": [],
   "source": []
  }
 ],
 "metadata": {
  "kernelspec": {
   "display_name": "EEB498",
   "language": "python",
   "name": "eeb498"
  },
  "language_info": {
   "codemirror_mode": {
    "name": "ipython",
    "version": 3
   },
   "file_extension": ".py",
   "mimetype": "text/x-python",
   "name": "python",
   "nbconvert_exporter": "python",
   "pygments_lexer": "ipython3",
   "version": "3.6.9"
  },
  "toc": {
   "base_numbering": 1,
   "nav_menu": {},
   "number_sections": true,
   "sideBar": true,
   "skip_h1_title": false,
   "title_cell": "Table of Contents",
   "title_sidebar": "Contents",
   "toc_cell": false,
   "toc_position": {},
   "toc_section_display": true,
   "toc_window_display": false
  }
 },
 "nbformat": 4,
 "nbformat_minor": 4
}
